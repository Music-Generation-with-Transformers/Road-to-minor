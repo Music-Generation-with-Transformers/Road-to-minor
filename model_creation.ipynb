{
 "cells": [
  {
   "cell_type": "code",
   "execution_count": 1,
   "id": "d9ca4487",
   "metadata": {},
   "outputs": [],
   "source": [
    "from music21 import *\n",
    "import random, glob"
   ]
  },
  {
   "cell_type": "code",
   "execution_count": 2,
   "id": "bc2d2c83",
   "metadata": {},
   "outputs": [],
   "source": [
    "#defining function to read MIDI files\n",
    "def read_midi(file):\n",
    "    \n",
    "    print(\"Loading Music File:\",file)\n",
    "    \n",
    "    notes=[]\n",
    "    notes_to_parse = None\n",
    "    \n",
    "    #parsing a midi file\n",
    "    midi = converter.parse(file)\n",
    "  \n",
    "    #grouping based on different instruments\n",
    "    s2 = instrument.partitionByInstrument(midi)\n",
    "\n",
    "    #Looping over all the instruments\n",
    "    for part in s2.parts:\n",
    "    \n",
    "        #select elements of only piano\n",
    "        if 'Piano' in str(part): \n",
    "        \n",
    "            notes_to_parse = part.recurse() \n",
    "      \n",
    "            #finding whether a particular element is note or a chord\n",
    "            for element in notes_to_parse:\n",
    "                \n",
    "                #note\n",
    "                if isinstance(element, note.Note):\n",
    "                    notes.append(str(element.pitch))\n",
    "                \n",
    "                #chord\n",
    "                elif isinstance(element, chord.Chord):\n",
    "                    notes.append('.'.join(str(n) for n in element.normalOrder))\n",
    "\n",
    "    return np.array(notes)"
   ]
  },
  {
   "cell_type": "code",
   "execution_count": 3,
   "id": "7ad8a4d0",
   "metadata": {},
   "outputs": [
    {
     "name": "stdout",
     "output_type": "stream",
     "text": [
      "Loading Music File: dataset/tschai\\ty_april.mid\n",
      "Loading Music File: dataset/tschai\\ty_august.mid\n",
      "Loading Music File: dataset/tschai\\ty_dezember.mid\n",
      "Loading Music File: dataset/tschai\\ty_februar.mid\n",
      "Loading Music File: dataset/tschai\\ty_januar.mid\n",
      "Loading Music File: dataset/tschai\\ty_juli.mid\n",
      "Loading Music File: dataset/tschai\\ty_juni.mid\n",
      "Loading Music File: dataset/tschai\\ty_maerz.mid\n",
      "Loading Music File: dataset/tschai\\ty_mai.mid\n",
      "Loading Music File: dataset/tschai\\ty_november.mid\n",
      "Loading Music File: dataset/tschai\\ty_oktober.mid\n",
      "Loading Music File: dataset/tschai\\ty_september.mid\n"
     ]
    },
    {
     "name": "stderr",
     "output_type": "stream",
     "text": [
      "C:\\Users\\Dell\\AppData\\Local\\Temp\\ipykernel_7052\\2431627556.py:16: VisibleDeprecationWarning: Creating an ndarray from ragged nested sequences (which is a list-or-tuple of lists-or-tuples-or ndarrays with different lengths or shapes) is deprecated. If you meant to do this, you must specify 'dtype=object' when creating the ndarray.\n",
      "  notes_array = np.array([read_midi(i) for i in files])\n"
     ]
    }
   ],
   "source": [
    "#for listing down the file names\n",
    "import os\n",
    "\n",
    "#Array Processing\n",
    "import numpy as np\n",
    "\n",
    "#specify the path\n",
    "path=\"dataset\"\n",
    "files = [a for a in glob.glob(\"dataset/*/*\")]\n",
    "files = [a for a in glob.glob(\"dataset/tschai/*\")]\n",
    "\n",
    "#read all the filenames\n",
    "#files=[i for i in os.listdir(path) if i.endswith(\".mid\")]\n",
    "\n",
    "#reading each midi file\n",
    "notes_array = np.array([read_midi(i) for i in files])"
   ]
  },
  {
   "cell_type": "code",
   "execution_count": 4,
   "id": "9e73aedf",
   "metadata": {},
   "outputs": [
    {
     "name": "stdout",
     "output_type": "stream",
     "text": [
      "243\n"
     ]
    }
   ],
   "source": [
    "#converting 2D array into 1D array\n",
    "notes_ = [element for note_ in notes_array for element in note_]\n",
    "\n",
    "#No. of unique notes\n",
    "unique_notes = list(set(notes_))\n",
    "print(len(unique_notes))"
   ]
  },
  {
   "cell_type": "code",
   "execution_count": 5,
   "id": "9e988013",
   "metadata": {},
   "outputs": [
    {
     "data": {
      "text/plain": [
       "(array([158.,  28.,  14.,  10.,   8.,   6.,   6.,   7.,   2.,   4.]),\n",
       " array([  1. ,  33.7,  66.4,  99.1, 131.8, 164.5, 197.2, 229.9, 262.6,\n",
       "        295.3, 328. ]),\n",
       " <BarContainer object of 10 artists>)"
      ]
     },
     "execution_count": 5,
     "metadata": {},
     "output_type": "execute_result"
    },
    {
     "data": {
      "image/png": "[encoded data removed]",
      "text/plain": [
       "<Figure size 360x360 with 1 Axes>"
      ]
     },
     "metadata": {
      "image/png": {
       "height": 302,
       "width": 319
      },
      "needs_background": "light"
     },
     "output_type": "display_data"
    }
   ],
   "source": [
    "#importing library\n",
    "from collections import Counter\n",
    "\n",
    "#computing frequency of each note\n",
    "freq = dict(Counter(notes_))\n",
    "\n",
    "#library for visualiation\n",
    "import matplotlib.pyplot as plt\n",
    "\n",
    "#consider only the frequencies\n",
    "no=[count for _,count in freq.items()]\n",
    "\n",
    "#set the figure size\n",
    "plt.figure(figsize=(5,5))\n",
    "\n",
    "#plot\n",
    "plt.hist(no)"
   ]
  },
  {
   "cell_type": "code",
   "execution_count": 6,
   "id": "669c2e0d",
   "metadata": {},
   "outputs": [
    {
     "name": "stdout",
     "output_type": "stream",
     "text": [
      "64\n"
     ]
    }
   ],
   "source": [
    "#keeping th higher frequncy only. more than 50 for now\n",
    "frequent_notes = [note_ for note_, count in freq.items() if count>=50]\n",
    "print(len(frequent_notes))"
   ]
  },
  {
   "cell_type": "code",
   "execution_count": 7,
   "id": "21f5441d",
   "metadata": {},
   "outputs": [
    {
     "name": "stderr",
     "output_type": "stream",
     "text": [
      "C:\\Users\\Dell\\AppData\\Local\\Temp\\ipykernel_7052\\2871568428.py:10: VisibleDeprecationWarning: Creating an ndarray from ragged nested sequences (which is a list-or-tuple of lists-or-tuples-or ndarrays with different lengths or shapes) is deprecated. If you meant to do this, you must specify 'dtype=object' when creating the ndarray.\n",
      "  new_music = np.array(new_music)\n"
     ]
    }
   ],
   "source": [
    "new_music=[]\n",
    "\n",
    "for notes in notes_array:\n",
    "    temp=[]\n",
    "    for note_ in notes:\n",
    "        if note_ in frequent_notes:\n",
    "            temp.append(note_)            \n",
    "    new_music.append(temp)\n",
    "    \n",
    "new_music = np.array(new_music)"
   ]
  },
  {
   "cell_type": "code",
   "execution_count": 8,
   "id": "c1aa01ed",
   "metadata": {},
   "outputs": [],
   "source": [
    "no_of_timesteps = 32\n",
    "x = []\n",
    "y = []\n",
    "\n",
    "for note_ in new_music:\n",
    "    for i in range(0, len(note_) - no_of_timesteps, 1):\n",
    "        \n",
    "        #preparing input and output sequences\n",
    "        input_ = note_[i:i + no_of_timesteps]\n",
    "        output = note_[i + no_of_timesteps]\n",
    "        \n",
    "        x.append(input_)\n",
    "        y.append(output)\n",
    "        \n",
    "x=np.array(x)\n",
    "y=np.array(y)"
   ]
  },
  {
   "cell_type": "code",
   "execution_count": 9,
   "id": "22619098",
   "metadata": {},
   "outputs": [],
   "source": [
    "#assigning unique integer to every notes\n",
    "unique_x = list(set(x.ravel()))\n",
    "x_note_to_int = dict((note_, number) for number, note_ in enumerate(unique_x))"
   ]
  },
  {
   "cell_type": "code",
   "execution_count": 10,
   "id": "51eaefd4",
   "metadata": {},
   "outputs": [],
   "source": [
    "#preparing input sequences\n",
    "x_seq=[]\n",
    "for i in x:\n",
    "    temp=[]\n",
    "    for j in i:\n",
    "        #assigning unique integer to every note\n",
    "        temp.append(x_note_to_int[j])\n",
    "    x_seq.append(temp)\n",
    "    \n",
    "x_seq = np.array(x_seq)"
   ]
  },
  {
   "cell_type": "code",
   "execution_count": 11,
   "id": "6b14c3d6",
   "metadata": {},
   "outputs": [],
   "source": [
    "# prepare the integer sequences for output data as well\n",
    "\n",
    "unique_y = list(set(y))\n",
    "y_note_to_int = dict((note_, number) for number, note_ in enumerate(unique_y)) \n",
    "y_seq=np.array([y_note_to_int[i] for i in y])"
   ]
  },
  {
   "cell_type": "code",
   "execution_count": 12,
   "id": "c3988fca",
   "metadata": {},
   "outputs": [],
   "source": [
    "# preserving 80% of the data for training and the rest 20% for the evaluation:\n",
    "\n",
    "from sklearn.model_selection import train_test_split\n",
    "x_tr, x_val, y_tr, y_val = train_test_split(x_seq,y_seq,test_size=0.2,random_state=0)"
   ]
  },
  {
   "cell_type": "code",
   "execution_count": 13,
   "id": "953c954b",
   "metadata": {},
   "outputs": [],
   "source": [
    "def lstm():\n",
    "  model = Sequential()\n",
    "  model.add(LSTM(128,return_sequences=True))\n",
    "  model.add(LSTM(128))\n",
    "  model.add(Dense(256))\n",
    "  model.add(Activation('relu'))\n",
    "  model.add(Dense(n_vocab))\n",
    "  model.add(Activation('softmax'))\n",
    "  model.compile(loss='sparse_categorical_crossentropy', optimizer='adam')\n",
    "  return model"
   ]
  },
  {
   "cell_type": "code",
   "execution_count": 14,
   "id": "02e882a3",
   "metadata": {},
   "outputs": [
    {
     "name": "stdout",
     "output_type": "stream",
     "text": [
      "Model: \"sequential\"\n",
      "_________________________________________________________________\n",
      " Layer (type)                Output Shape              Param #   \n",
      "=================================================================\n",
      " embedding (Embedding)       (None, 32, 100)           6400      \n",
      "                                                                 \n",
      " conv1d (Conv1D)             (None, 32, 64)            19264     \n",
      "                                                                 \n",
      " dropout (Dropout)           (None, 32, 64)            0         \n",
      "                                                                 \n",
      " max_pooling1d (MaxPooling1D  (None, 16, 64)           0         \n",
      " )                                                               \n",
      "                                                                 \n",
      " conv1d_1 (Conv1D)           (None, 16, 128)           24704     \n",
      "                                                                 \n",
      " dropout_1 (Dropout)         (None, 16, 128)           0         \n",
      "                                                                 \n",
      " max_pooling1d_1 (MaxPooling  (None, 8, 128)           0         \n",
      " 1D)                                                             \n",
      "                                                                 \n",
      " conv1d_2 (Conv1D)           (None, 8, 256)            98560     \n",
      "                                                                 \n",
      " dropout_2 (Dropout)         (None, 8, 256)            0         \n",
      "                                                                 \n",
      " max_pooling1d_2 (MaxPooling  (None, 4, 256)           0         \n",
      " 1D)                                                             \n",
      "                                                                 \n",
      " global_max_pooling1d (Globa  (None, 256)              0         \n",
      " lMaxPooling1D)                                                  \n",
      "                                                                 \n",
      " dense (Dense)               (None, 256)               65792     \n",
      "                                                                 \n",
      " dense_1 (Dense)             (None, 64)                16448     \n",
      "                                                                 \n",
      "=================================================================\n",
      "Total params: 231,168\n",
      "Trainable params: 231,168\n",
      "Non-trainable params: 0\n",
      "_________________________________________________________________\n"
     ]
    }
   ],
   "source": [
    "from keras.layers import *\n",
    "from keras.models import *\n",
    "from keras.callbacks import *\n",
    "import keras.backend as K\n",
    "\n",
    "K.clear_session()\n",
    "model = Sequential()\n",
    "    \n",
    "#embedding layer\n",
    "model.add(Embedding(len(unique_x), 100, input_length=32,trainable=True)) \n",
    "\n",
    "model.add(Conv1D(64,3, padding='causal',activation='relu'))\n",
    "model.add(Dropout(0.2))\n",
    "model.add(MaxPool1D(2))\n",
    "    \n",
    "model.add(Conv1D(128,3,activation='relu',dilation_rate=2,padding='causal'))\n",
    "model.add(Dropout(0.2))\n",
    "model.add(MaxPool1D(2))\n",
    "\n",
    "model.add(Conv1D(256,3,activation='relu',dilation_rate=4,padding='causal'))\n",
    "model.add(Dropout(0.2))\n",
    "model.add(MaxPool1D(2))\n",
    "          \n",
    "#model.add(Conv1D(256,5,activation='relu'))    \n",
    "model.add(GlobalMaxPool1D())\n",
    "    \n",
    "model.add(Dense(256, activation='relu'))\n",
    "model.add(Dense(len(unique_y), activation='softmax'))\n",
    "    \n",
    "model.compile(loss='sparse_categorical_crossentropy', optimizer='adam')\n",
    "\n",
    "model.summary()"
   ]
  },
  {
   "cell_type": "code",
   "execution_count": 15,
   "id": "1e781404",
   "metadata": {},
   "outputs": [
    {
     "name": "stdout",
     "output_type": "stream",
     "text": [
      "Requirement already satisfied: h5py in c:\\users\\dell\\anaconda3\\lib\\site-packages (3.8.0)\n",
      "Requirement already satisfied: numpy>=1.14.5 in c:\\users\\dell\\anaconda3\\lib\\site-packages (from h5py) (1.21.5)\n"
     ]
    }
   ],
   "source": [
    "!pip install h5py\n"
   ]
  },
  {
   "cell_type": "code",
   "execution_count": 16,
   "id": "584b7176",
   "metadata": {},
   "outputs": [],
   "source": [
    "import h5py"
   ]
  },
  {
   "cell_type": "code",
   "execution_count": 17,
   "id": "51366871",
   "metadata": {},
   "outputs": [],
   "source": [
    "#defining call back to save the best model during training>\n",
    "mc=ModelCheckpoint('best_model.h5', monitor='val_loss', mode='min', save_best_only=True,verbose=1)"
   ]
  },
  {
   "cell_type": "code",
   "execution_count": 18,
   "id": "e916b486",
   "metadata": {},
   "outputs": [
    {
     "name": "stdout",
     "output_type": "stream",
     "text": [
      "Epoch 1/50\n",
      "59/59 [==============================] - ETA: 0s - loss: 4.0477\n",
      "Epoch 00001: val_loss improved from inf to 3.99623, saving model to best_model.h5\n",
      "59/59 [==============================] - 4s 53ms/step - loss: 4.0477 - val_loss: 3.9962\n",
      "Epoch 2/50\n",
      "58/59 [============================>.] - ETA: 0s - loss: 3.9070\n",
      "Epoch 00002: val_loss improved from 3.99623 to 3.86979, saving model to best_model.h5\n",
      "59/59 [==============================] - 3s 52ms/step - loss: 3.9064 - val_loss: 3.8698\n",
      "Epoch 3/50\n",
      "58/59 [============================>.] - ETA: 0s - loss: 3.6763\n",
      "Epoch 00003: val_loss improved from 3.86979 to 3.63825, saving model to best_model.h5\n",
      "59/59 [==============================] - 3s 50ms/step - loss: 3.6778 - val_loss: 3.6383\n",
      "Epoch 4/50\n",
      "58/59 [============================>.] - ETA: 0s - loss: 3.5066\n",
      "Epoch 00004: val_loss improved from 3.63825 to 3.55562, saving model to best_model.h5\n",
      "59/59 [==============================] - 3s 52ms/step - loss: 3.5069 - val_loss: 3.5556\n",
      "Epoch 5/50\n",
      "58/59 [============================>.] - ETA: 0s - loss: 3.4096\n",
      "Epoch 00005: val_loss improved from 3.55562 to 3.50082, saving model to best_model.h5\n",
      "59/59 [==============================] - 3s 51ms/step - loss: 3.4072 - val_loss: 3.5008\n",
      "Epoch 6/50\n",
      "58/59 [============================>.] - ETA: 0s - loss: 3.3321\n",
      "Epoch 00006: val_loss improved from 3.50082 to 3.41194, saving model to best_model.h5\n",
      "59/59 [==============================] - 3s 50ms/step - loss: 3.3321 - val_loss: 3.4119\n",
      "Epoch 7/50\n",
      "59/59 [==============================] - ETA: 0s - loss: 3.2455\n",
      "Epoch 00007: val_loss improved from 3.41194 to 3.36289, saving model to best_model.h5\n",
      "59/59 [==============================] - 3s 52ms/step - loss: 3.2455 - val_loss: 3.3629\n",
      "Epoch 8/50\n",
      "59/59 [==============================] - ETA: 0s - loss: 3.1690\n",
      "Epoch 00008: val_loss improved from 3.36289 to 3.30383, saving model to best_model.h5\n",
      "59/59 [==============================] - 3s 50ms/step - loss: 3.1690 - val_loss: 3.3038\n",
      "Epoch 9/50\n",
      "58/59 [============================>.] - ETA: 0s - loss: 3.1028\n",
      "Epoch 00009: val_loss improved from 3.30383 to 3.29895, saving model to best_model.h5\n",
      "59/59 [==============================] - 3s 49ms/step - loss: 3.1026 - val_loss: 3.2989\n",
      "Epoch 10/50\n",
      "58/59 [============================>.] - ETA: 0s - loss: 3.0347\n",
      "Epoch 00010: val_loss improved from 3.29895 to 3.24251, saving model to best_model.h5\n",
      "59/59 [==============================] - 3s 54ms/step - loss: 3.0349 - val_loss: 3.2425\n",
      "Epoch 11/50\n",
      "59/59 [==============================] - ETA: 0s - loss: 2.9776\n",
      "Epoch 00011: val_loss improved from 3.24251 to 3.21018, saving model to best_model.h5\n",
      "59/59 [==============================] - 3s 53ms/step - loss: 2.9776 - val_loss: 3.2102\n",
      "Epoch 12/50\n",
      "59/59 [==============================] - ETA: 0s - loss: 2.9259\n",
      "Epoch 00012: val_loss improved from 3.21018 to 3.14811, saving model to best_model.h5\n",
      "59/59 [==============================] - 3s 49ms/step - loss: 2.9259 - val_loss: 3.1481\n",
      "Epoch 13/50\n",
      "58/59 [============================>.] - ETA: 0s - loss: 2.8610\n",
      "Epoch 00013: val_loss improved from 3.14811 to 3.11662, saving model to best_model.h5\n",
      "59/59 [==============================] - 3s 52ms/step - loss: 2.8622 - val_loss: 3.1166\n",
      "Epoch 14/50\n",
      "58/59 [============================>.] - ETA: 0s - loss: 2.7920\n",
      "Epoch 00014: val_loss improved from 3.11662 to 3.10811, saving model to best_model.h5\n",
      "59/59 [==============================] - 3s 58ms/step - loss: 2.7915 - val_loss: 3.1081\n",
      "Epoch 15/50\n",
      "58/59 [============================>.] - ETA: 0s - loss: 2.7418\n",
      "Epoch 00015: val_loss improved from 3.10811 to 3.06379, saving model to best_model.h5\n",
      "59/59 [==============================] - 4s 61ms/step - loss: 2.7422 - val_loss: 3.0638\n",
      "Epoch 16/50\n",
      "58/59 [============================>.] - ETA: 0s - loss: 2.7001\n",
      "Epoch 00016: val_loss improved from 3.06379 to 3.06050, saving model to best_model.h5\n",
      "59/59 [==============================] - 4s 72ms/step - loss: 2.6977 - val_loss: 3.0605\n",
      "Epoch 17/50\n",
      "58/59 [============================>.] - ETA: 0s - loss: 2.6412\n",
      "Epoch 00017: val_loss improved from 3.06050 to 3.01017, saving model to best_model.h5\n",
      "59/59 [==============================] - 3s 58ms/step - loss: 2.6408 - val_loss: 3.0102\n",
      "Epoch 18/50\n",
      "59/59 [==============================] - ETA: 0s - loss: 2.5916\n",
      "Epoch 00018: val_loss did not improve from 3.01017\n",
      "59/59 [==============================] - 3s 59ms/step - loss: 2.5916 - val_loss: 3.0170\n",
      "Epoch 19/50\n",
      "58/59 [============================>.] - ETA: 0s - loss: 2.5528\n",
      "Epoch 00019: val_loss improved from 3.01017 to 2.98597, saving model to best_model.h5\n",
      "59/59 [==============================] - 4s 64ms/step - loss: 2.5542 - val_loss: 2.9860\n",
      "Epoch 20/50\n",
      "58/59 [============================>.] - ETA: 0s - loss: 2.4942\n",
      "Epoch 00020: val_loss improved from 2.98597 to 2.97625, saving model to best_model.h5\n",
      "59/59 [==============================] - 4s 61ms/step - loss: 2.4956 - val_loss: 2.9763\n",
      "Epoch 21/50\n",
      "59/59 [==============================] - ETA: 0s - loss: 2.4524\n",
      "Epoch 00021: val_loss improved from 2.97625 to 2.95535, saving model to best_model.h5\n",
      "59/59 [==============================] - 4s 64ms/step - loss: 2.4524 - val_loss: 2.9553\n",
      "Epoch 22/50\n",
      "58/59 [============================>.] - ETA: 0s - loss: 2.4108\n",
      "Epoch 00022: val_loss improved from 2.95535 to 2.93803, saving model to best_model.h5\n",
      "59/59 [==============================] - 4s 62ms/step - loss: 2.4106 - val_loss: 2.9380\n",
      "Epoch 23/50\n",
      "59/59 [==============================] - ETA: 0s - loss: 2.3632\n",
      "Epoch 00023: val_loss improved from 2.93803 to 2.92488, saving model to best_model.h5\n",
      "59/59 [==============================] - 4s 63ms/step - loss: 2.3632 - val_loss: 2.9249\n",
      "Epoch 24/50\n",
      "58/59 [============================>.] - ETA: 0s - loss: 2.3230\n",
      "Epoch 00024: val_loss improved from 2.92488 to 2.89070, saving model to best_model.h5\n",
      "59/59 [==============================] - 3s 57ms/step - loss: 2.3225 - val_loss: 2.8907\n",
      "Epoch 25/50\n",
      "58/59 [============================>.] - ETA: 0s - loss: 2.2875\n",
      "Epoch 00025: val_loss did not improve from 2.89070\n",
      "59/59 [==============================] - 3s 55ms/step - loss: 2.2878 - val_loss: 2.8994\n",
      "Epoch 26/50\n",
      "59/59 [==============================] - ETA: 0s - loss: 2.2591\n",
      "Epoch 00026: val_loss improved from 2.89070 to 2.88158, saving model to best_model.h5\n",
      "59/59 [==============================] - 3s 58ms/step - loss: 2.2591 - val_loss: 2.8816\n",
      "Epoch 27/50\n",
      "58/59 [============================>.] - ETA: 0s - loss: 2.1896\n",
      "Epoch 00027: val_loss did not improve from 2.88158\n",
      "59/59 [==============================] - 3s 49ms/step - loss: 2.1911 - val_loss: 2.8870\n",
      "Epoch 28/50\n",
      "58/59 [============================>.] - ETA: 0s - loss: 2.1862\n",
      "Epoch 00028: val_loss did not improve from 2.88158\n",
      "59/59 [==============================] - 3s 52ms/step - loss: 2.1868 - val_loss: 2.8870\n",
      "Epoch 29/50\n",
      "58/59 [============================>.] - ETA: 0s - loss: 2.1335\n",
      "Epoch 00029: val_loss improved from 2.88158 to 2.83447, saving model to best_model.h5\n",
      "59/59 [==============================] - 3s 55ms/step - loss: 2.1357 - val_loss: 2.8345\n",
      "Epoch 30/50\n",
      "58/59 [============================>.] - ETA: 0s - loss: 2.1049\n",
      "Epoch 00030: val_loss did not improve from 2.83447\n",
      "59/59 [==============================] - 3s 55ms/step - loss: 2.1014 - val_loss: 2.8546\n",
      "Epoch 31/50\n",
      "58/59 [============================>.] - ETA: 0s - loss: 2.0527\n",
      "Epoch 00031: val_loss did not improve from 2.83447\n",
      "59/59 [==============================] - 3s 55ms/step - loss: 2.0495 - val_loss: 2.8440\n",
      "Epoch 32/50\n",
      "59/59 [==============================] - ETA: 0s - loss: 2.0311\n",
      "Epoch 00032: val_loss improved from 2.83447 to 2.80230, saving model to best_model.h5\n",
      "59/59 [==============================] - 4s 62ms/step - loss: 2.0311 - val_loss: 2.8023\n",
      "Epoch 33/50\n",
      "58/59 [============================>.] - ETA: 0s - loss: 1.9927\n",
      "Epoch 00033: val_loss did not improve from 2.80230\n",
      "59/59 [==============================] - 3s 52ms/step - loss: 1.9933 - val_loss: 2.8232\n",
      "Epoch 34/50\n",
      "59/59 [==============================] - ETA: 0s - loss: 1.9711\n",
      "Epoch 00034: val_loss did not improve from 2.80230\n",
      "59/59 [==============================] - 3s 55ms/step - loss: 1.9711 - val_loss: 2.8047\n"
     ]
    },
    {
     "name": "stdout",
     "output_type": "stream",
     "text": [
      "Epoch 35/50\n",
      "58/59 [============================>.] - ETA: 0s - loss: 1.9132\n",
      "Epoch 00035: val_loss did not improve from 2.80230\n",
      "59/59 [==============================] - 3s 59ms/step - loss: 1.9159 - val_loss: 2.8093\n",
      "Epoch 36/50\n",
      "58/59 [============================>.] - ETA: 0s - loss: 1.8778\n",
      "Epoch 00036: val_loss improved from 2.80230 to 2.78837, saving model to best_model.h5\n",
      "59/59 [==============================] - 4s 63ms/step - loss: 1.8761 - val_loss: 2.7884\n",
      "Epoch 37/50\n",
      "58/59 [============================>.] - ETA: 0s - loss: 1.8639\n",
      "Epoch 00037: val_loss improved from 2.78837 to 2.76618, saving model to best_model.h5\n",
      "59/59 [==============================] - 4s 65ms/step - loss: 1.8622 - val_loss: 2.7662\n",
      "Epoch 38/50\n",
      "59/59 [==============================] - ETA: 0s - loss: 1.8523\n",
      "Epoch 00038: val_loss did not improve from 2.76618\n",
      "59/59 [==============================] - 4s 66ms/step - loss: 1.8523 - val_loss: 2.7780\n",
      "Epoch 39/50\n",
      "59/59 [==============================] - ETA: 0s - loss: 1.8397\n",
      "Epoch 00039: val_loss improved from 2.76618 to 2.75782, saving model to best_model.h5\n",
      "59/59 [==============================] - 4s 69ms/step - loss: 1.8397 - val_loss: 2.7578\n",
      "Epoch 40/50\n",
      "59/59 [==============================] - ETA: 0s - loss: 1.7835\n",
      "Epoch 00040: val_loss did not improve from 2.75782\n",
      "59/59 [==============================] - 4s 72ms/step - loss: 1.7835 - val_loss: 2.7734\n",
      "Epoch 41/50\n",
      "58/59 [============================>.] - ETA: 0s - loss: 1.7644\n",
      "Epoch 00041: val_loss improved from 2.75782 to 2.74437, saving model to best_model.h5\n",
      "59/59 [==============================] - 5s 79ms/step - loss: 1.7674 - val_loss: 2.7444\n",
      "Epoch 42/50\n",
      "59/59 [==============================] - ETA: 0s - loss: 1.7404\n",
      "Epoch 00042: val_loss improved from 2.74437 to 2.74120, saving model to best_model.h5\n",
      "59/59 [==============================] - 4s 66ms/step - loss: 1.7404 - val_loss: 2.7412\n",
      "Epoch 43/50\n",
      "58/59 [============================>.] - ETA: 0s - loss: 1.7303\n",
      "Epoch 00043: val_loss improved from 2.74120 to 2.71474, saving model to best_model.h5\n",
      "59/59 [==============================] - 4s 59ms/step - loss: 1.7340 - val_loss: 2.7147\n",
      "Epoch 44/50\n",
      "58/59 [============================>.] - ETA: 0s - loss: 1.6824\n",
      "Epoch 00044: val_loss did not improve from 2.71474\n",
      "59/59 [==============================] - 4s 68ms/step - loss: 1.6839 - val_loss: 2.7194\n",
      "Epoch 45/50\n",
      "58/59 [============================>.] - ETA: 0s - loss: 1.6595\n",
      "Epoch 00045: val_loss did not improve from 2.71474\n",
      "59/59 [==============================] - 4s 61ms/step - loss: 1.6611 - val_loss: 2.7268\n",
      "Epoch 46/50\n",
      "59/59 [==============================] - ETA: 0s - loss: 1.6241\n",
      "Epoch 00046: val_loss did not improve from 2.71474\n",
      "59/59 [==============================] - 4s 70ms/step - loss: 1.6241 - val_loss: 2.7241\n",
      "Epoch 47/50\n",
      "58/59 [============================>.] - ETA: 0s - loss: 1.6494\n",
      "Epoch 00047: val_loss did not improve from 2.71474\n",
      "59/59 [==============================] - 4s 63ms/step - loss: 1.6487 - val_loss: 2.7800\n",
      "Epoch 48/50\n",
      "59/59 [==============================] - ETA: 0s - loss: 1.6039\n",
      "Epoch 00048: val_loss did not improve from 2.71474\n",
      "59/59 [==============================] - 4s 62ms/step - loss: 1.6039 - val_loss: 2.7657\n",
      "Epoch 49/50\n",
      "59/59 [==============================] - ETA: 0s - loss: 1.5809\n",
      "Epoch 00049: val_loss did not improve from 2.71474\n",
      "59/59 [==============================] - 4s 60ms/step - loss: 1.5809 - val_loss: 2.7528\n",
      "Epoch 50/50\n",
      "58/59 [============================>.] - ETA: 0s - loss: 1.5605\n",
      "Epoch 00050: val_loss did not improve from 2.71474\n",
      "59/59 [==============================] - 3s 57ms/step - loss: 1.5601 - val_loss: 2.7194\n"
     ]
    }
   ],
   "source": [
    "# actual training starting\n",
    "history = model.fit(np.array(x_tr),np.array(y_tr),batch_size=128,epochs=50, \n",
    "                    validation_data=(np.array(x_val),np.array(y_val)),verbose=1, callbacks=[mc])"
   ]
  },
  {
   "cell_type": "code",
   "execution_count": null,
   "id": "2865acc1",
   "metadata": {},
   "outputs": [],
   "source": []
  },
  {
   "cell_type": "code",
   "execution_count": null,
   "id": "ee900b21",
   "metadata": {},
   "outputs": [],
   "source": []
  },
  {
   "cell_type": "code",
   "execution_count": 20,
   "id": "91afdcd3",
   "metadata": {},
   "outputs": [],
   "source": [
    "#loading best model\n",
    "from keras.models import load_model\n",
    "model = load_model('best_model.h5')"
   ]
  },
  {
   "cell_type": "code",
   "execution_count": 37,
   "id": "eb19b326",
   "metadata": {},
   "outputs": [
    {
     "data": {
      "text/plain": [
       "array([15, 23,  6, 53,  6, 31,  3, 16, 14, 17,  6, 53,  5, 32,  0, 17, 31,\n",
       "        3, 16, 14, 17,  6, 53,  5, 32,  0, 17, 31,  3, 16,  0, 26])"
      ]
     },
     "execution_count": 37,
     "metadata": {},
     "output_type": "execute_result"
    }
   ],
   "source": [
    "import random\n",
    "ind = np.random.randint(0,len(x_val)-1)\n",
    "\n",
    "random_music = x_val[ind]\n",
    "random_music"
   ]
  },
  {
   "cell_type": "code",
   "execution_count": 38,
   "id": "1c1a5325",
   "metadata": {},
   "outputs": [
    {
     "name": "stdout",
     "output_type": "stream",
     "text": [
      "[38, 53, 55, 53, 36, 36, 36, 17, 0, 17]\n"
     ]
    }
   ],
   "source": [
    "\n",
    "\n",
    "predictions=[]\n",
    "for i in range(10):\n",
    "\n",
    "    random_music = random_music.reshape(1,no_of_timesteps)\n",
    "\n",
    "    prob  = model.predict(random_music)[0]\n",
    "    y_pred= np.argmax(prob,axis=0)\n",
    "    predictions.append(y_pred)\n",
    "\n",
    "    random_music = np.insert(random_music[0],len(random_music[0]),y_pred)\n",
    "    random_music = random_music[1:]\n",
    "    \n",
    "print(predictions)"
   ]
  },
  {
   "cell_type": "code",
   "execution_count": 39,
   "id": "55d88558",
   "metadata": {},
   "outputs": [],
   "source": [
    "#intergers back to notes\n",
    "x_int_to_note = dict((number, note_) for number, note_ in enumerate(unique_x)) \n",
    "predicted_notes = [x_int_to_note[i] for i in predictions]"
   ]
  },
  {
   "cell_type": "code",
   "execution_count": 40,
   "id": "2c91e35a",
   "metadata": {},
   "outputs": [],
   "source": [
    "# notes to midi format:\n",
    "def convert_to_midi(prediction_output):\n",
    "   \n",
    "    offset = 0\n",
    "    output_notes = []\n",
    "\n",
    "    # create note and chord objects based on the values generated by the model\n",
    "    for pattern in prediction_output:\n",
    "        \n",
    "        # pattern is a chord\n",
    "        if ('.' in pattern) or pattern.isdigit():\n",
    "            notes_in_chord = pattern.split('.')\n",
    "            notes = []\n",
    "            for current_note in notes_in_chord:\n",
    "                \n",
    "                cn=int(current_note)\n",
    "                new_note = note.Note(cn)\n",
    "                new_note.storedInstrument = instrument.Piano()\n",
    "                notes.append(new_note)\n",
    "                \n",
    "            new_chord = chord.Chord(notes)\n",
    "            new_chord.offset = offset\n",
    "            output_notes.append(new_chord)\n",
    "            \n",
    "        # pattern is a note\n",
    "        else:\n",
    "            \n",
    "            new_note = note.Note(pattern)\n",
    "            new_note.offset = offset\n",
    "            new_note.storedInstrument = instrument.Piano()\n",
    "            output_notes.append(new_note)\n",
    "\n",
    "        # increase offset each iteration so that notes do not stack\n",
    "        offset += 1\n",
    "    midi_stream = stream.Stream(output_notes)\n",
    "    midi_stream.write('midi', fp='music.mid')"
   ]
  },
  {
   "cell_type": "code",
   "execution_count": 41,
   "id": "585379ad",
   "metadata": {},
   "outputs": [],
   "source": [
    "midi_converted = convert_to_midi(predicted_notes)"
   ]
  },
  {
   "cell_type": "code",
   "execution_count": 42,
   "id": "fbaf3a14",
   "metadata": {},
   "outputs": [],
   "source": [
    "from music21 import midi\n",
    "def play_midi_file(midi_file_name):\n",
    "    mf = midi.MidiFile()\n",
    "\n",
    "    mf.open(midi_file_name) # path='abc.midi'\n",
    "    mf.read()\n",
    "    mf.close()\n",
    "    s = midi.translate.midiFileToStream(mf)\n",
    "    s.show('midi')"
   ]
  },
  {
   "cell_type": "code",
   "execution_count": 43,
   "id": "6bd275da",
   "metadata": {},
   "outputs": [
    {
     "data": {
      "text/html": [
       "\n",
       "                <div id=\"midiPlayerDiv100572\"></div>\n",
       "                <link rel=\"stylesheet\" href=\"//cuthbertLab.github.io/music21j/css/m21.css\"\n",
       "                    type=\"text/css\" />\n",
       "                \n",
       "                <script>\n",
       "                require.config({\n",
       "                    paths: {'music21': '//cuthbertLab.github.io/music21j/src/music21'}\n",
       "                });\n",
       "                require(['music21'], function() {\n",
       "                               mp = new music21.miditools.MidiPlayer();\n",
       "                               mp.addPlayer(\"#midiPlayerDiv100572\");\n",
       "                               mp.base64Load(\"data:audio/midi;base64,TVRoZAAAAAYAAQACBABNVHJrAAAAFAD/UQMHoSAA/1gEBAIYCIgA/y8ATVRyawAAAJMA/wMAAOAAQADAAIgAkDFaiACAMQAAkDRaiACANAAAkEdaAJBAWogAgEcAAIBAAACQNFqIAIA0AACQQFoAkEVaiACAQAAAgEUAAJBAWgCQRVqIAIBAAACARQAAkEBaAJBFWogAgEAAAIBFAACQQFqIAIBAAACQRVoAkD1aiACARQAAgD0AAJBAWogAgEAAiAD/LwA=\");\n",
       "                        });\n",
       "                </script>"
      ],
      "text/plain": [
       "<IPython.core.display.HTML object>"
      ]
     },
     "metadata": {},
     "output_type": "display_data"
    }
   ],
   "source": [
    "play_midi_file(\"music.mid\")"
   ]
  },
  {
   "cell_type": "code",
   "execution_count": null,
   "id": "e0096634",
   "metadata": {},
   "outputs": [],
   "source": []
  }
 ],
 "metadata": {
  "kernelspec": {
   "display_name": "Python 3 (ipykernel)",
   "language": "python",
   "name": "python3"
  },
  "language_info": {
   "codemirror_mode": {
    "name": "ipython",
    "version": 3
   },
   "file_extension": ".py",
   "mimetype": "text/x-python",
   "name": "python",
   "nbconvert_exporter": "python",
   "pygments_lexer": "ipython3",
   "version": "3.9.7"
  }
 },
 "nbformat": 4,
 "nbformat_minor": 5
}
