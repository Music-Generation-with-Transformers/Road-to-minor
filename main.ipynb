{
 "cells": [
  {
   "cell_type": "code",
   "execution_count": 1,
   "id": "5af35a69",
   "metadata": {},
   "outputs": [],
   "source": [
    "import random, glob\n",
    "import numpy as np"
   ]
  },
  {
   "cell_type": "code",
   "execution_count": null,
   "id": "2a0cba92",
   "metadata": {},
   "outputs": [],
   "source": []
  },
  {
   "cell_type": "code",
   "execution_count": 2,
   "id": "0ab29d77",
   "metadata": {},
   "outputs": [
    {
     "name": "stdout",
     "output_type": "stream",
     "text": [
      "A random song ['dataset\\\\tschai\\\\ty_januar.mid']\n"
     ]
    }
   ],
   "source": [
    "music_files = [a for a in glob.glob(\"dataset/*/*\")]\n",
    "print(\"A random song\", random.sample(music_files, 1))"
   ]
  },
  {
   "cell_type": "code",
   "execution_count": 3,
   "id": "a5c7edc1",
   "metadata": {},
   "outputs": [],
   "source": [
    "from music21 import midi\n",
    "def play_midi_file(midi_file_name):\n",
    "    mf = midi.MidiFile()\n",
    "\n",
    "    mf.open(midi_file_name) # path='abc.midi'\n",
    "    mf.read()\n",
    "    mf.close()\n",
    "    s = midi.translate.midiFileToStream(mf)\n",
    "    s.show('midi')"
   ]
  },
  {
   "cell_type": "code",
   "execution_count": 4,
   "id": "d42c2289",
   "metadata": {},
   "outputs": [
    {
     "data": {
      "text/plain": [
       "300"
      ]
     },
     "execution_count": 4,
     "metadata": {},
     "output_type": "execute_result"
    }
   ],
   "source": [
    "len(music_files)"
   ]
  },
  {
   "cell_type": "code",
   "execution_count": 5,
   "id": "e11293f1",
   "metadata": {},
   "outputs": [],
   "source": [
    "from music21 import converter,corpus, chord"
   ]
  },
  {
   "cell_type": "code",
   "execution_count": null,
   "id": "af922c1e",
   "metadata": {},
   "outputs": [],
   "source": [
    "\n"
   ]
  },
  {
   "cell_type": "code",
   "execution_count": null,
   "id": "888d0766",
   "metadata": {},
   "outputs": [],
   "source": []
  },
  {
   "cell_type": "code",
   "execution_count": null,
   "id": "dbc683b2",
   "metadata": {},
   "outputs": [],
   "source": [
    "\n"
   ]
  },
  {
   "cell_type": "code",
   "execution_count": null,
   "id": "32dcea26",
   "metadata": {},
   "outputs": [],
   "source": []
  },
  {
   "cell_type": "code",
   "execution_count": null,
   "id": "023fb8f9",
   "metadata": {},
   "outputs": [],
   "source": []
  },
  {
   "cell_type": "code",
   "execution_count": null,
   "id": "b502fc7d",
   "metadata": {},
   "outputs": [],
   "source": []
  },
  {
   "cell_type": "code",
   "execution_count": 6,
   "id": "1c6fa5dd",
   "metadata": {},
   "outputs": [],
   "source": [
    "def get_score(music_files):\n",
    "    chords = []\n",
    "    for file_no, filename in enumerate(music_files):\n",
    "        try:\n",
    "            chords.append(converter.parse(filename))\n",
    "            print(f'Happening of {file_no}', \"filename = \", filename)\n",
    "            \n",
    "        except:\n",
    "            print(f'Happening of {file_no}', \"filename = \", filename)\n",
    "            print(\"file failed!!!!!\")\n",
    "            continue\n",
    "        \n",
    "    \n",
    "    return chords"
   ]
  },
  {
   "cell_type": "code",
   "execution_count": 7,
   "id": "69988308",
   "metadata": {},
   "outputs": [],
   "source": [
    "music_files_5 = music_files[:5]\n",
    "#get_chords(music_files[:10])"
   ]
  },
  {
   "cell_type": "code",
   "execution_count": 8,
   "id": "1bfc0e3a",
   "metadata": {
    "scrolled": true
   },
   "outputs": [
    {
     "name": "stdout",
     "output_type": "stream",
     "text": [
      "Happening of 0 filename =  dataset\\albeniz\\alb_esp1.mid\n",
      "Happening of 1 filename =  dataset\\albeniz\\alb_esp1.song\n",
      "file failed!!!!!\n",
      "Happening of 2 filename =  dataset\\albeniz\\alb_esp2.mid\n",
      "Happening of 3 filename =  dataset\\albeniz\\alb_esp3.mid\n",
      "Happening of 4 filename =  dataset\\albeniz\\alb_esp4.mid\n"
     ]
    }
   ],
   "source": [
    "score_of_all_musics = get_score(music_files_5)"
   ]
  },
  {
   "cell_type": "code",
   "execution_count": 9,
   "id": "cb58b3d8",
   "metadata": {},
   "outputs": [
    {
     "data": {
      "text/plain": [
       "[<music21.stream.Score 0x22d56f444c0>,\n",
       " <music21.stream.Score 0x22d586e0f40>,\n",
       " <music21.stream.Score 0x22d56f44d60>,\n",
       " <music21.stream.Score 0x22d56f442b0>]"
      ]
     },
     "execution_count": 9,
     "metadata": {},
     "output_type": "execute_result"
    }
   ],
   "source": [
    "score_of_all_musics"
   ]
  },
  {
   "cell_type": "code",
   "execution_count": null,
   "id": "16f73f91",
   "metadata": {},
   "outputs": [],
   "source": []
  },
  {
   "cell_type": "code",
   "execution_count": null,
   "id": "b006039f",
   "metadata": {},
   "outputs": [],
   "source": []
  },
  {
   "cell_type": "code",
   "execution_count": 10,
   "id": "27412097",
   "metadata": {},
   "outputs": [],
   "source": [
    "from music21 import chord, duration"
   ]
  },
  {
   "cell_type": "markdown",
   "id": "e41d56f1",
   "metadata": {},
   "source": [
    "Classifying the music into different modes\n",
    "- firstly, let's code for major mode"
   ]
  },
  {
   "cell_type": "code",
   "execution_count": 11,
   "id": "632e2bd3",
   "metadata": {},
   "outputs": [],
   "source": [
    "from music21 import *"
   ]
  },
  {
   "cell_type": "code",
   "execution_count": null,
   "id": "57475a0a",
   "metadata": {},
   "outputs": [],
   "source": []
  },
  {
   "cell_type": "code",
   "execution_count": null,
   "id": "e7211e87",
   "metadata": {},
   "outputs": [],
   "source": []
  },
  {
   "cell_type": "code",
   "execution_count": 31,
   "id": "90dd654e",
   "metadata": {},
   "outputs": [],
   "source": [
    "def round_chord_durations(number):\n",
    "    if(number>1.25):\n",
    "        return 2\n",
    "    if(number>.30):\n",
    "        return 1.25\n",
    "    if(number>.10):\n",
    "        return 0.3\n",
    "    return 0.1"
   ]
  },
  {
   "cell_type": "markdown",
   "id": "6226faee",
   "metadata": {},
   "source": [
    "For chord and duration of a single song(music file)"
   ]
  },
  {
   "cell_type": "code",
   "execution_count": null,
   "id": "30b31d62",
   "metadata": {},
   "outputs": [],
   "source": []
  },
  {
   "cell_type": "code",
   "execution_count": 45,
   "id": "3161a6a4",
   "metadata": {},
   "outputs": [],
   "source": [
    "def get_chord_and_duration_data(individual_score):\n",
    "    chord_duration_data = []\n",
    "    note_and_chord_sequence =[]\n",
    "    \n",
    "    note_and_chord_duration =[]   ## not for now:\n",
    "    all_tempo= []\n",
    "    \n",
    "    #to see the number of tracks:\n",
    "    print(len(individual_score.parts))\n",
    "    \n",
    "    for element in individual_score.flat:\n",
    "        #print(\"element = \", element, type(element))\n",
    "        \n",
    "        if isinstance(element, chord.Chord):\n",
    "            note_and_chord_sequence.append('<SOC>') ## Start of Chord\n",
    "            [note_and_chord_sequence.append(pitch.nameWithOctave) for pitch in element.pitches]\n",
    "            note_and_chord_sequence.append('<EOC>') ## End of Chord\n",
    "            \n",
    "            chord_duration =round_chord_durations(element.duration.quarterLength)\n",
    "            note_and_chord_sequence.append(chord_duration)\n",
    "            #print(chord_name, chord_duration)\n",
    "            \n",
    "        elif isinstance(element, note.Note):\n",
    "            [note_and_chord_sequence.append(pitch.nameWithOctave) for pitch in element.pitches]\n",
    "    \n",
    "            note_duration = round_chord_durations(element.duration.quarterLength)\n",
    "            note_and_chord_sequence.append(note_duration)\n",
    "            #print(note_name, note_duration)\n",
    "        \n",
    "        elif isinstance(element, note.Rest):\n",
    "            rest_note_name = element.name\n",
    "            #print(rest_note_name)\n",
    "            \n",
    "        elif isinstance(element, tempo.MetronomeMark):\n",
    "            tempo_bpm = element.getQuarterBPM()\n",
    "            all_tempo.append(tempo_bpm)\n",
    "            #print(tempo_bpm)\n",
    "        else:\n",
    "            print(element, type(element))\n",
    "            \n",
    "    \n",
    "    print(\"tempo ko lagi = \" ,np.quantile(all_tempo, .25), np.quantile(all_tempo, .50), np.quantile(all_tempo, .75) )\n",
    "    print(note_and_chord_sequence)\n",
    "    return note_and_chord_sequence"
   ]
  },
  {
   "cell_type": "code",
   "execution_count": 47,
   "id": "56d13107",
   "metadata": {
    "scrolled": false
   },
   "outputs": [],
   "source": [
    "#get_chord_and_duration_data(score_of_all_musics[0])"
   ]
  },
  {
   "cell_type": "code",
   "execution_count": 48,
   "id": "628c1fe2",
   "metadata": {
    "scrolled": true
   },
   "outputs": [
    {
     "name": "stdout",
     "output_type": "stream",
     "text": [
      "2\n",
      "<music21.metadata.Metadata object at 0x22d56f448e0> <class 'music21.metadata.Metadata'>\n",
      "Piano right: Piano right <class 'music21.instrument.Piano'>\n",
      "Piano <class 'music21.instrument.Piano'>\n",
      "Piano left: Piano left <class 'music21.instrument.Piano'>\n",
      "Piano <class 'music21.instrument.Piano'>\n",
      "<music21.clef.TrebleClef> <class 'music21.clef.TrebleClef'>\n",
      "<music21.clef.TrebleClef> <class 'music21.clef.TrebleClef'>\n",
      "F major <class 'music21.key.Key'>\n",
      "F major <class 'music21.key.Key'>\n",
      "<music21.meter.TimeSignature 3/4> <class 'music21.meter.base.TimeSignature'>\n",
      "<music21.meter.TimeSignature 3/4> <class 'music21.meter.base.TimeSignature'>\n",
      "<music21.bar.Barline type=final> <class 'music21.bar.Barline'>\n",
      "<music21.bar.Barline type=final> <class 'music21.bar.Barline'>\n",
      "tempo ko lagi =  106.5 118.0 132.125\n",
      "['A5', 1.25, 'A3', 1.25, 'E6', 2, 'E4', 2, 'E6', 1.25, 'E4', 1.25, '<SOC>', 'D6', 'E6', '<EOC>', 0.3, '<SOC>', 'D4', 'E4', '<EOC>', 0.3, 'D6', 1.25, 'D4', 1.25, 'C6', 1.25, 'C4', 1.25, 'D6', 1.25, 'D4', 1.25, 'E6', 1.25, 'E4', 1.25, 'F6', 1.25, 'F4', 1.25, 'G6', 1.25, 'G4', 1.25, 'E6', 1.25, 'E4', 1.25, 'F6', 1.25, 'F4', 1.25, 'E6', 0.3, 'E4', 0.3, '<SOC>', 'D6', 'E6', '<EOC>', 0.3, '<SOC>', 'D4', 'E4', '<EOC>', 0.3, 'D6', 1.25, 'D4', 1.25, 'C6', 1.25, 'C4', 1.25, 'B-5', 1.25, 'B-3', 1.25, 'A2', 1.25, 'A3', 1.25, 'E3', 1.25, 'C#4', 1.25, 'A3', 1.25, 'E4', 1.25, 'C#4', 1.25, 'A4', 1.25, 'E4', 1.25, 'C#5', 1.25, 'A4', 1.25, 'E5', 1.25, 'C#5', 1.25, 'A4', 1.25, 'C#4', 1.25, 'C#5', 1.25, 'E4', 1.25, 'E5', 1.25, 'A4', 1.25, 'A5', 1.25, 'C#5', 1.25, 'C#6', 1.25, 'E5', 1.25, 'E6', 1.25, 'A5', 1.25, 'C#6', 1.25, 'E5', 1.25, 'A5', 1.25, 'C#5', 1.25, 'E5', 1.25, 'A4', 1.25, 'C#5', 1.25, 'E4', 1.25, 'A4', 1.25, 'C#4', 1.25, 'E5', 1.25, 'A4', 1.25, 'C#5', 1.25, 'E4', 1.25, 'A4', 1.25, 'C#4', 1.25, 'E4', 1.25, 'A3', 1.25, 'C#4', 1.25, 'A3', 1.25, 'A3', 1.25, 'E3', 1.25, 'A2', 1.25, 'A5', 1.25, 'A3', 1.25, 'E6', 2, 'E4', 2, 'E6', 1.25, 'E4', 1.25, '<SOC>', 'D6', 'E6', '<EOC>', 0.3, '<SOC>', 'D4', 'E4', '<EOC>', 0.3, 'D6', 1.25, 'D4', 1.25, 'C6', 1.25, 'C4', 1.25, 'D6', 1.25, 'D4', 1.25, 'E6', 1.25, 'E4', 1.25, 'F6', 1.25, 'F4', 1.25, 'G6', 1.25, 'G4', 1.25, 'E6', 1.25, 'E4', 1.25, 'F6', 1.25, 'F4', 1.25, 'E6', 0.3, 'E4', 0.3, '<SOC>', 'D6', 'E6', '<EOC>', 0.3, '<SOC>', 'D4', 'E4', '<EOC>', 0.3, 'D6', 1.25, 'D4', 1.25, 'C6', 1.25, 'C4', 1.25, 'B-5', 1.25, 'B-3', 1.25, 'A5', 1.25, 'A3', 1.25, 'B-5', 1.25, 'B-3', 1.25, 'C6', 1.25, 'C4', 1.25, 'D6', 1.25, 'D4', 1.25, 'F6', 1.25, 'F4', 1.25, '<SOC>', 'D6', 'E6', '<EOC>', 0.3, '<SOC>', 'D4', 'E4', '<EOC>', 0.3, 'D6', 1.25, 'D4', 1.25, 'C6', 1.25, 'C4', 1.25, 'B-5', 1.25, 'B-3', 1.25, 'A5', 1.25, 'A3', 1.25, 'B-5', 1.25, 'B-3', 1.25, 'C6', 1.25, 'C4', 1.25, 'D6', 1.25, 'D4', 1.25, 'E6', 1.25, 'E4', 1.25, 'G6', 1.25, 'G4', 1.25, 'F6', 0.3, 'F4', 0.3, '<SOC>', 'D6', 'E6', '<EOC>', 0.3, '<SOC>', 'D4', 'E4', '<EOC>', 0.3, 'D6', 1.25, 'D4', 1.25, 'C6', 1.25, 'C4', 1.25, 'B-5', 1.25, 'B-3', 1.25, 'D6', 1.25, 'D4', 1.25, 'C#6', 1.25, 'C#4', 1.25, 'A2', 1.25, 'B-4', 1.25, 'C#4', 1.25, 'A4', 1.25, 'E3', 1.25, 'C#4', 1.25, 'B-4', 1.25, 'A4', 1.25, 'A3', 1.25, 'C#4', 1.25, 'B-4', 1.25, 'A4', 1.25, 'A2', 1.25, 'D4', 1.25, 'A4', 1.25, 'G4', 1.25, 'E3', 1.25, 'A4', 1.25, 'D4', 1.25, 'G4', 1.25, 'B-3', 1.25, 'D4', 1.25, 'A4', 1.25, 'G4', 1.25, 'A2', 1.25, 'C#4', 1.25, 'B-4', 1.25, 'A4', 1.25, 'E3', 1.25, 'B-4', 1.25, 'C#4', 1.25, 'A4', 1.25, 'A3', 1.25, 'C#4', 1.25, 'B-4', 1.25, 'A4', 1.25, 'A2', 1.25, 'B-4', 1.25, 'D4', 1.25, 'A4', 1.25, 'E3', 1.25, 'A4', 1.25, 'D4', 1.25, 'G4', 1.25, 'B-3', 1.25, 'G4', 1.25, 'D4', 1.25, 'E4', 1.25, 'A2', 1.25, 'C#4', 1.25, 'B-4', 1.25, 'A4', 1.25, 'E3', 1.25, 'B-4', 1.25, 'C#4', 1.25, 'A4', 1.25, 'A3', 1.25, 'B-4', 1.25, 'C#4', 1.25, 'A4', 1.25, 'F2', 1.25, 'G4', 1.25, 'A3', 1.25, 'F4', 1.25, 'C3', 1.25, 'A3', 1.25, 'G4', 1.25, 'F4', 1.25, 'A3', 1.25, 'G4', 1.25, 'A3', 1.25, 'F4', 1.25, 'C3', 1.25, 'C4', 1.25, 'F4', 1.25, 'E4', 1.25, 'G3', 1.25, 'F4', 1.25, 'C4', 1.25, 'E4', 1.25, 'C4', 1.25, 'C4', 1.25, 'F4', 1.25, 'E4', 1.25, 'G3', 0.3, 'E4', 1.25, 'B-3', 1.25, 'D4', 1.25, 'A3', 0.3, 'E4', 1.25, 'B-3', 1.25, 'D4', 1.25, '<SOC>', 'C4', 'B-3', '<EOC>', 0.3, 'E4', 1.25, 'B-3', 1.25, 'D4', 1.25, 'A2', 1.25, 'C#4', 1.25, 'B-4', 1.25, 'A4', 1.25, 'E3', 1.25, 'C#4', 1.25, 'B-4', 1.25, 'A4', 1.25, 'A3', 1.25, 'C#4', 1.25, 'B-4', 1.25, 'A4', 1.25, 'A2', 1.25, 'A4', 1.25, 'D4', 1.25, 'G4', 1.25, 'E3', 1.25, 'D4', 1.25, 'A4', 1.25, 'G4', 1.25, 'B-3', 1.25, 'D4', 1.25, 'A4', 1.25, 'G4', 1.25, 'A2', 1.25, 'B-4', 1.25, 'C#4', 1.25, 'A4', 1.25, 'E3', 1.25, 'C#4', 1.25, 'B-4', 1.25, 'A4', 1.25, 'A3', 1.25, 'B-4', 1.25, 'C#4', 1.25, 'A4', 1.25, 'A2', 1.25, 'A4', 1.25, 'D4', 1.25, 'G4', 1.25, 'E3', 1.25, 'D4', 1.25, 'A4', 1.25, 'G4', 1.25, 'B-3', 1.25, 'A4', 1.25, 'D4', 1.25, 'G4', 1.25, 'A2', 1.25, 'A5', 1.25, 'A3', 1.25, 'B5', 1.25, 'B3', 1.25, 'C#6', 1.25, 'C#4', 1.25, 'D6', 1.25, 'D4', 1.25, 'E6', 1.25, 'E4', 1.25, 'F6', 1.25, 'F4', 1.25, '<SOC>', 'E6', 'F6', '<EOC>', 0.3, '<SOC>', 'E4', 'F4', '<EOC>', 0.3, 'E6', 1.25, 'E4', 1.25, 'D6', 1.25, 'D4', 1.25, 'C6', 1.25, 'C4', 1.25, 'D6', 1.25, 'D4', 1.25, 'E6', 1.25, 'E4', 1.25, 'F6', 1.25, 'F4', 1.25, 'G6', 1.25, 'G4', 1.25, 'E6', 1.25, 'E4', 1.25, 'F6', 1.25, 'F4', 1.25, 'E6', 0.3, 'E4', 0.3, '<SOC>', 'D6', 'E6', '<EOC>', 0.3, '<SOC>', 'D4', 'E4', '<EOC>', 0.3, 'D6', 1.25, 'D4', 1.25, 'C6', 1.25, 'C4', 1.25, 'B-5', 1.25, 'B-3', 1.25, 'A5', 1.25, 'A3', 1.25, 'B5', 1.25, 'B3', 1.25, 'C#6', 1.25, 'C#4', 1.25, 'D6', 1.25, 'D4', 1.25, 'E6', 1.25, 'E4', 1.25, 'F6', 1.25, 'F4', 1.25, 'G6', 1.25, 'G4', 1.25, 'A6', 0.3, 'A4', 0.3, '<SOC>', 'B-6', 'C7', '<EOC>', 0.3, '<SOC>', 'B-4', 'C5', '<EOC>', 0.3, 'B-6', 1.25, 'B-4', 1.25, 'A6', 1.25, 'A4', 1.25, 'G6', 1.25, 'G4', 1.25, 'A6', 1.25, 'A4', 1.25, 'A6', 1.25, 'A4', 1.25, 'G6', 1.25, 'G4', 1.25, 'B-6', 1.25, 'B-4', 1.25, 'A6', 0.3, 'A4', 0.3, '<SOC>', 'F6', 'G6', '<EOC>', 0.3, '<SOC>', 'F4', 'G4', '<EOC>', 0.3, 'F6', 1.25, 'F4', 1.25, 'E-6', 1.25, 'E-4', 1.25, 'D6', 1.25, 'D4', 1.25, 'E6', 1.25, 'E4', 1.25, 'C6', 1.25, 'C4', 1.25, 'B-5', 1.25, 'B-3', 1.25, 'A2', 1.25, 'C#4', 1.25, 'B-4', 1.25, 'A4', 1.25, 'E3', 1.25, 'B-4', 1.25, 'C#4', 1.25, 'A4', 1.25, 'A3', 1.25, 'C#4', 1.25, 'B-4', 1.25, 'A4', 1.25, 'A2', 1.25, 'A4', 1.25, 'D4', 1.25, 'G4', 1.25, 'E3', 1.25, 'A4', 1.25, 'D4', 1.25, 'G4', 1.25, 'B-3', 1.25, 'A4', 1.25, 'D4', 1.25, 'G4', 1.25, 'A2', 1.25, 'C#4', 1.25, 'B-4', 1.25, 'A4', 1.25, 'E3', 1.25, 'B-4', 1.25, 'C#4', 1.25, 'A4', 1.25, 'A3', 1.25, 'B-4', 1.25, 'C#4', 1.25, 'A4', 1.25, 'A2', 1.25, 'B-4', 1.25, 'D4', 1.25, 'A4', 1.25, 'E3', 1.25, 'D4', 1.25, 'A4', 1.25, 'G4', 1.25, 'B-3', 1.25, 'G4', 1.25, 'D4', 1.25, 'E4', 1.25, 'A2', 1.25, 'C#4', 1.25, 'B-4', 1.25, 'A4', 1.25, 'E3', 1.25, 'B-4', 1.25, 'C#4', 1.25, 'A4', 1.25, 'A3', 1.25, 'C#4', 1.25, 'B-4', 1.25, 'A4', 1.25, 'F2', 1.25, 'G4', 1.25, 'A3', 1.25, 'F4', 1.25, 'C3', 1.25, 'G4', 1.25, 'A3', 1.25, 'F4', 1.25, 'A3', 1.25, 'G4', 1.25, 'A3', 1.25, 'F4', 1.25, 'C3', 1.25, 'C4', 1.25, 'F4', 1.25, 'E4', 1.25, 'G3', 1.25, 'C4', 1.25, 'F4', 1.25, 'E4', 1.25, 'C4', 1.25, 'C4', 1.25, 'F4', 1.25, 'E4', 1.25, 'G3', 0.3, 'E4', 1.25, 'B-3', 1.25, 'D4', 1.25, 'A3', 0.3, 'B-3', 1.25, 'E4', 1.25, 'D4', 1.25, '<SOC>', 'C4', 'B-3', '<EOC>', 0.3, 'B-3', 1.25, 'E4', 1.25, 'D4', 1.25, 'A2', 1.25, 'E3', 1.25, '<SOC>', 'E4', 'C#4', '<EOC>', 1.25, 'A3', 1.25, 'D3', 1.25, 'E3', 1.25, 'F3', 1.25, '<SOC>', 'B-3', 'E4', 'D4', '<EOC>', 1.25, 'G3', 1.25, 'A3', 1.25, 'B-3', 1.25, 'C4', 1.25, 'B-3', 1.25, 'A3', 1.25, 'A2', 1.25, 'E3', 1.25, '<SOC>', 'C#4', 'E4', '<EOC>', 1.25, 'A3', 1.25, 'D3', 1.25, 'E3', 1.25, 'F3', 1.25, '<SOC>', 'B-3', 'E4', 'D4', '<EOC>', 1.25, 'G3', 1.25, 'A3', 1.25, 'B-3', 1.25, 'C4', 1.25, 'B-3', 1.25, 'A3', 1.25, '<SOC>', 'B-4', 'E5', '<EOC>', 2, '<SOC>', 'G#3', 'D4', '<EOC>', 2, 'B-5', 2, 'B-3', 2, 'B-5', 1.25, 'B-3', 1.25, 'C6', 1.25, 'C4', 1.25, 'D6', 1.25, 'D4', 1.25, 'F6', 1.25, 'F4', 1.25, 'D6', 1.25, 'D4', 1.25, 'C6', 0.3, 'C4', 0.3, '<SOC>', 'C6', 'D6', '<EOC>', 0.3, '<SOC>', 'C4', 'D4', '<EOC>', 0.3, 'C6', 1.25, 'C4', 1.25, 'B-5', 1.25, 'B-3', 1.25, 'F5', 1.25, 'F3', 1.25, 'B-5', 1.25, 'B-3', 1.25, 'A5', 1.25, 'A3', 1.25, 'A5', 1.25, 'A3', 1.25, 'G#5', 1.25, 'G#3', 1.25, 'F5', 1.25, 'F3', 1.25, 'E5', 1.25, 'E3', 1.25, 'D5', 1.25, 'D3', 1.25, 'A2', 1.25, 'A3', 1.25, 'E3', 1.25, 'C#4', 1.25, 'A3', 1.25, 'E4', 1.25, 'C#4', 1.25, 'A4', 1.25, 'E4', 1.25, 'C#5', 1.25, 'A4', 1.25, 'E5', 1.25, 'C#5', 1.25, 'A4', 1.25, 'C#4', 1.25, 'C#5', 1.25, 'E4', 1.25, 'E5', 1.25, 'A4', 1.25, 'A5', 1.25, 'C#5', 1.25, 'C#6', 1.25, 'E5', 1.25, 'E6', 1.25, 'A5', 1.25, 'A4', 1.25, 'C#4', 1.25, 'C#5', 1.25, 'E4', 1.25, 'E5', 1.25, 'A4', 1.25, 'A5', 1.25, 'C#5', 1.25, 'C#6', 1.25, 'E5', 1.25, 'E6', 1.25, 'A5', 1.25, 'A5', 1.25, 'C#5', 1.25, 'C#6', 1.25, 'E5', 1.25, 'E6', 1.25, 'A5', 1.25, 'A6', 1.25, 'C#6', 1.25, 'C#7', 1.25, 'E6', 1.25, '<SOC>', 'E7', 'A6', 'A7', '<EOC>', 2, '<SOC>', 'C#6', 'A4', 'E5', '<EOC>', 2]\n",
      "2\n",
      "<music21.metadata.Metadata object at 0x22d573fe7f0> <class 'music21.metadata.Metadata'>\n",
      "Piano right: Piano right <class 'music21.instrument.Piano'>\n",
      "Piano <class 'music21.instrument.Piano'>\n",
      "Piano left: Piano left <class 'music21.instrument.Piano'>\n",
      "Piano <class 'music21.instrument.Piano'>\n",
      "<music21.clef.TrebleClef> <class 'music21.clef.TrebleClef'>\n",
      "<music21.clef.BassClef> <class 'music21.clef.BassClef'>\n",
      "D major <class 'music21.key.Key'>\n",
      "D major <class 'music21.key.Key'>\n",
      "<music21.meter.TimeSignature 2/4> <class 'music21.meter.base.TimeSignature'>\n",
      "<music21.meter.TimeSignature 2/4> <class 'music21.meter.base.TimeSignature'>\n",
      "<music21.bar.Barline type=final> <class 'music21.bar.Barline'>\n",
      "<music21.bar.Barline type=final> <class 'music21.bar.Barline'>\n",
      "tempo ko lagi =  58.28000000000001 61.5 64.32\n",
      "['<SOC>', 'D2', 'D3', '<EOC>', 2, 'A3', 0.3, '<SOC>', 'A4', 'F#4', 'D4', '<EOC>', 1.25, '<SOC>', 'A1', 'A2', '<EOC>', 1.25, '<SOC>', 'D2', 'D3', '<EOC>', 2, 'A3', 0.3, '<SOC>', 'D4', 'F#4', 'A4', '<EOC>', 1.25, '<SOC>', 'A1', 'A2', '<EOC>', 1.25, '<SOC>', 'A3', 'D4', '<EOC>', 1.25, 'F#4', 1.25, 'D3', 1.25, 'F#4', 1.25, '<SOC>', 'F#4', 'F#4', '<EOC>', 0.3, 'G#3', 0.3, 'A4', 0.3, 'G4', 1.25, 'A3', 1.25, 'F#4', 1.25, 'A2', 1.25, '<SOC>', 'A3', 'D4', 'F#4', 'A4', '<EOC>', 2, 'D3', 1.25, 'G#3', 0.3, 'A3', 1.25, '<SOC>', 'F#4', 'D5', '<EOC>', 0.3, 'A2', 1.25, 'E5', 0.3, 'F#4', 2, 'F#5', 1.25, 'D3', 1.25, '<SOC>', 'C#5', 'E5', '<EOC>', 0.3, 'G#3', 0.3, 'D5', 1.25, 'A3', 1.25, '<SOC>', 'F4', 'B4', '<EOC>', 1.25, 'E-3', 1.25, 'F#4', 0.3, '<SOC>', 'C#4', 'G4', '<EOC>', 2, 'E3', 1.25, 'G#3', 0.3, 'A3', 1.25, '<SOC>', 'E4', 'G4', '<EOC>', 0.3, 'A2', 1.25, '<SOC>', 'F#4', 'A4', '<EOC>', 0.3, '<SOC>', 'G4', 'B4', '<EOC>', 1.25, 'C#3', 1.25, '<SOC>', 'C#5', 'A4', '<EOC>', 0.3, 'G#3', 0.3, '<SOC>', 'C#5', 'E5', '<EOC>', 1.25, 'A3', 1.25, '<SOC>', 'B4', 'D5', '<EOC>', 1.25, 'A2', 1.25, '<SOC>', 'B4', 'D5', 'C#5', 'E5', '<EOC>', 0.3, 'E3', 1.25, '<SOC>', 'B4', 'D5', '<EOC>', 0.3, '<SOC>', 'C#5', 'A4', '<EOC>', 1.25, 'G#3', 0.3, 'A3', 1.25, '<SOC>', 'C#5', 'E5', '<EOC>', 0.3, 'A2', 1.25, '<SOC>', 'G4', 'B4', '<EOC>', 0.3, '<SOC>', 'B4', 'D5', '<EOC>', 1.25, 'C#3', 1.25, '<SOC>', 'F#4', 'A4', '<EOC>', 0.3, 'G#3', 0.3, '<SOC>', 'A4', 'C#5', '<EOC>', 0.3, 'A3', 1.25, '<SOC>', 'E4', 'G4', '<EOC>', 0.3, 'A2', 1.25, '<SOC>', 'F4', 'B4', '<EOC>', 1.25, 'D3', 1.25, '<SOC>', 'A4', 'F#4', '<EOC>', 1.25, 'G#3', 0.3, 'A3', 1.25, '<SOC>', 'D4', 'D5', '<EOC>', 1.25, 'D4', 1.25, 'D5', 1.25, '<SOC>', 'B2', 'F#3', '<EOC>', 1.25, 'C#5', 1.25, 'B4', 1.25, '<SOC>', 'G4', 'D4', '<EOC>', 1.25, 'C#5', 1.25, '<SOC>', 'B2', 'F3', '<EOC>', 1.25, 'B4', 1.25, 'D5', 1.25, 'D4', 1.25, 'B2', 1.25, 'F#4', 1.25, 'G4', 0.3, 'F#3', 0.3, 'F#4', 1.25, 'D4', 1.25, 'F4', 1.25, 'F#3', 1.25, 'F#4', 1.25, 'D4', 1.25, 'G4', 1.25, 'B2', 1.25, 'B4', 1.25, 'D5', 1.25, 'G3', 0.3, 'C#5', 1.25, 'D4', 1.25, 'B4', 1.25, 'G3', 1.25, '<SOC>', 'D5', 'D4', 'F#4', '<EOC>', 2, 'B2', 1.25, 'F3', 1.25, 'F#3', 1.25, 'B3', 1.25, '<SOC>', 'G#4', 'F#5', '<EOC>', 1.25, 'D4', 1.25, '<SOC>', 'A4', 'F#5', '<EOC>', 1.25, 'C#4', 1.25, 'E5', 1.25, '<SOC>', 'G4', 'C#5', '<EOC>', 1.25, 'B-3', 1.25, 'G#4', 1.25, 'D5', 1.25, 'B3', 1.25, 'B4', 1.25, 'D4', 1.25, '<SOC>', 'A4', 'E4', '<EOC>', 1.25, 'E5', 1.25, 'C#4', 1.25, 'C#5', 1.25, '<SOC>', 'C#4', 'F#4', '<EOC>', 1.25, 'A4', 1.25, 'F#3', 1.25, 'B4', 1.25, 'C#5', 1.25, '<SOC>', 'A4', 'D4', '<EOC>', 1.25, 'E5', 1.25, '<SOC>', 'B2', 'F3', '<EOC>', 1.25, 'D5', 1.25, 'C#5', 1.25, 'C#5', 1.25, '<SOC>', 'G#4', 'D4', '<EOC>', 1.25, 'E2', 1.25, 'B4', 1.25, 'E3', 1.25, '<SOC>', 'C#4', 'A4', '<EOC>', 1.25, 'A2', 1.25, 'G#3', 1.25, '<SOC>', 'A3', 'C#4', '<EOC>', 0.3, 'B3', 1.25, 'A3', 1.25, '<SOC>', 'A3', 'D4', '<EOC>', 1.25, 'F#4', 1.25, 'D3', 1.25, 'F#4', 1.25, '<SOC>', 'F#4', 'F#4', '<EOC>', 0.3, 'G#3', 0.3, 'A4', 0.3, 'G4', 1.25, 'A3', 1.25, 'F#4', 1.25, 'A2', 1.25, '<SOC>', 'D4', 'A3', 'F#4', 'A4', '<EOC>', 2, 'D3', 1.25, 'G#3', 0.3, 'A3', 1.25, '<SOC>', 'F#4', 'D5', '<EOC>', 0.3, 'A2', 1.25, 'E5', 0.3, 'F#5', 1.25, 'D3', 1.25, '<SOC>', 'C#5', 'E5', '<EOC>', 0.3, 'G#3', 0.3, 'D5', 1.25, 'A3', 1.25, '<SOC>', 'F4', 'B4', '<EOC>', 1.25, 'E-3', 1.25, 'F#4', 0.3, '<SOC>', 'C#4', 'G4', '<EOC>', 2, 'E3', 1.25, 'B-3', 0.3, 'B3', 1.25, '<SOC>', 'E4', 'G4', '<EOC>', 0.3, 'G3', 0.3, '<SOC>', 'F#4', 'B-4', '<EOC>', 0.3, 'E3', 0.3, '<SOC>', 'G4', 'B4', '<EOC>', 1.25, 'C#3', 1.25, '<SOC>', 'B-4', 'C#5', '<EOC>', 0.3, 'B3', 0.3, '<SOC>', 'E5', 'C#5', '<EOC>', 1.25, 'G4', 1.25, '<SOC>', 'D5', 'G4', 'E4', '<EOC>', 1.25, 'B3', 1.25, '<SOC>', 'E4', 'F#4', 'B-4', '<EOC>', 1.25, 'D5', 1.25, 'F#2', 1.25, 'C#5', 1.25, 'F3', 0.3, 'F#3', 1.25, '<SOC>', 'F#4', 'B-4', '<EOC>', 0.3, 'E4', 0.3, 'C5', 0.3, 'A3', 0.3, '<SOC>', 'F#4', 'C#5', '<EOC>', 1.25, '<SOC>', 'B-3', 'F#4', '<EOC>', 1.25, 'D5', 0.3, 'F#5', 1.25, 'B-4', 1.25, 'F#3', 1.25, 'E5', 1.25, '<SOC>', 'F4', 'C#5', '<EOC>', 1.25, 'B4', 1.25, 'B2', 2, '<SOC>', 'F#4', 'D5', '<EOC>', 1.25, 'F#3', 0.3, 'D4', 1.25, 'D5', 1.25, 'F#3', 1.25, '<SOC>', 'G4', 'B4', '<EOC>', 2, 'C#5', 1.25, 'B2', 2, 'E5', 1.25, 'F#5', 1.25, 'G3', 0.3, 'E5', 1.25, 'C#4', 1.25, 'B4', 1.25, 'G3', 1.25, '<SOC>', 'F#4', 'B4', '<EOC>', 2, 'D5', 2, 'B2', 2, 'F3', 1.25, '<SOC>', 'F#3', 'A3', '<EOC>', 0.3, 'G3', 1.25, 'D5', 1.25, 'F#3', 1.25, '<SOC>', 'G4', 'B4', '<EOC>', 2, 'C#5', 1.25, 'B2', 2, 'E5', 1.25, 'F#5', 1.25, 'G3', 0.3, 'E5', 1.25, 'C#4', 1.25, 'B4', 1.25, 'G3', 1.25, '<SOC>', 'F#4', 'B4', '<EOC>', 2, 'D5', 2, 'B2', 2, 'F3', 1.25, '<SOC>', 'F#3', 'A3', '<EOC>', 0.3, 'G3', 1.25, 'D5', 1.25, 'F#3', 1.25, '<SOC>', 'D4', 'F#4', '<EOC>', 2, 'B4', 1.25, 'G#2', 2, 'C#5', 1.25, 'D5', 1.25, 'C#3', 0.3, 'B4', 1.25, 'D3', 1.25, 'F#4', 1.25, 'G#3', 1.25, '<SOC>', 'F#4', 'C#4', '<EOC>', 2, 'B-4', 2, 'C#2', 1.25, 'C3', 1.25, '<SOC>', 'C#3', 'F3', '<EOC>', 0.3, 'E-3', 1.25, 'B-4', 1.25, 'C#3', 1.25, 'G#4', 1.25, 'F4', 1.25, 'B3', 1.25, 'C#3', 2, '<SOC>', 'B-4', 'C#5', '<EOC>', 0.3, '<SOC>', 'C#4', 'F4', '<EOC>', 0.3, 'B4', 1.25, 'E-4', 1.25, 'B-4', 1.25, 'C#4', 1.25, 'G#4', 1.25, 'B3', 1.25, 'C#5', 2, '<SOC>', 'C#4', 'F#4', 'B-4', '<EOC>', 2, 'F#2', 2, 'C3', 0.3, 'C#3', 1.25, 'B-4', 1.25, 'C#4', 1.25, 'B4', 1.25, 'F4', 2, 'F#2', 2, 'C#5', 1.25, 'F5', 1.25, 'C#3', 0.3, '<SOC>', 'E-5', 'F5', '<EOC>', 0.3, 'B3', 1.25, 'E-5', 0.3, 'C#5', 1.25, 'F#3', 1.25, 'B-4', 2, 'C#4', 1.25, 'F#2', 2, 'E-4', 1.25, 'F4', 1.25, 'C#3', 0.3, '<SOC>', 'E-4', 'F4', 'E-4', '<EOC>', 0.3, 'B-3', 1.25, 'C#4', 1.25, 'C#3', 1.25, '<SOC>', 'B-4', 'F#4', '<EOC>', 1.25, 'B4', 1.25, 'F#4', 1.25, 'F#2', 2, 'F4', 1.25, 'E-4', 1.25, 'C#3', 0.3, 'F4', 1.25, 'B4', 1.25, 'G#3', 1.25, 'C#4', 1.25, 'C#3', 1.25, 'F#4', 2, 'B-4', 1.25, 'F#2', 2, 'B4', 1.25, 'C5', 1.25, 'C#3', 0.3, '<SOC>', 'C#5', 'F5', '<EOC>', 0.3, 'B-3', 1.25, 'E-5', 1.25, 'F#3', 1.25, 'C#5', 1.25, 'F4', 2, 'B4', 1.25, 'F#2', 2, 'C#5', 1.25, 'F5', 1.25, 'C#3', 0.3, '<SOC>', 'E-5', 'F5', '<EOC>', 0.3, 'B3', 1.25, 'E-5', 0.3, 'C#5', 1.25, 'F#3', 1.25, '<SOC>', 'F#4', 'C#4', 'B-4', '<EOC>', 1.25, 'F#2', 1.25, '<SOC>', 'D4', 'F#4', '<EOC>', 1.25, 'A4', 1.25, '<SOC>', 'D3', 'C4', '<EOC>', 1.25, 'D5', 1.25, 'B4', 1.25, 'D4', 1.25, 'A4', 1.25, 'G3', 1.25, 'C4', 1.25, 'G4', 1.25, 'D5', 1.25, 'B3', 1.25, 'F4', 1.25, 'C#4', 1.25, '<SOC>', 'C#3', 'B3', '<EOC>', 1.25, 'C#5', 1.25, '<SOC>', 'C#4', 'F#4', '<EOC>', 1.25, '<SOC>', 'F#3', 'B-3', '<EOC>', 1.25, '<SOC>', 'C4', 'E-4', '<EOC>', 1.25, 'F#4', 1.25, '<SOC>', 'B2', 'A3', '<EOC>', 1.25, 'A4', 1.25, 'G4', 1.25, 'B3', 1.25, 'F#4', 1.25, 'E3', 1.25, 'A3', 1.25, 'E4', 1.25, 'B4', 1.25, 'G3', 1.25, 'E4', 1.25, 'C#4', 1.25, '<SOC>', 'A2', 'G3', '<EOC>', 1.25, 'F4', 1.25, '<SOC>', 'A3', 'D4', '<EOC>', 1.25, 'F#4', 1.25, 'D2', 1.25, 'F#4', 1.25, '<SOC>', 'F#4', 'F#4', '<EOC>', 0.3, 'G#3', 0.3, 'A4', 0.3, 'G4', 1.25, 'A3', 1.25, 'F#4', 1.25, 'A2', 1.25, '<SOC>', 'F#4', 'A3', 'D4', 'A4', '<EOC>', 2, 'D2', 1.25, 'G#3', 0.3, 'A3', 1.25, '<SOC>', 'F#4', 'D5', '<EOC>', 0.3, 'A2', 1.25, 'E5', 0.3, 'F#4', 2, 'F#5', 1.25, 'D3', 1.25, '<SOC>', 'C#5', 'E5', '<EOC>', 0.3, 'G#3', 0.3, 'D5', 1.25, 'A3', 1.25, '<SOC>', 'B4', 'F4', '<EOC>', 0.3, 'E-3', 1.25, 'F#4', 0.3, '<SOC>', 'C#4', 'G4', '<EOC>', 2, 'E3', 1.25, 'G#3', 0.3, 'A3', 1.25, '<SOC>', 'E4', 'G4', '<EOC>', 0.3, 'A2', 1.25, '<SOC>', 'F#4', 'A4', '<EOC>', 0.3, '<SOC>', 'G4', 'B4', '<EOC>', 1.25, 'C#3', 1.25, '<SOC>', 'A4', 'C#5', '<EOC>', 0.3, 'G#3', 0.3, '<SOC>', 'C#5', 'E5', '<EOC>', 1.25, 'A3', 1.25, '<SOC>', 'B4', 'D5', '<EOC>', 1.25, 'A2', 1.25, '<SOC>', 'D5', 'B4', 'C#5', 'E5', '<EOC>', 0.3, 'E3', 1.25, '<SOC>', 'B4', 'D5', '<EOC>', 0.3, '<SOC>', 'A4', 'C#5', '<EOC>', 1.25, 'G#3', 0.3, 'A3', 1.25, '<SOC>', 'C#5', 'E5', '<EOC>', 0.3, 'A2', 1.25, '<SOC>', 'G4', 'B4', '<EOC>', 0.3, '<SOC>', 'D5', 'B4', '<EOC>', 1.25, 'C#3', 1.25, '<SOC>', 'F#4', 'A4', '<EOC>', 0.3, 'G#3', 0.3, '<SOC>', 'A4', 'C#5', '<EOC>', 0.3, 'A3', 1.25, '<SOC>', 'E4', 'G4', '<EOC>', 0.3, 'A2', 1.25, '<SOC>', 'F4', 'B4', '<EOC>', 1.25, 'D3', 1.25, '<SOC>', 'F#4', 'A4', '<EOC>', 1.25, 'G#3', 0.3, 'A3', 1.25, '<SOC>', 'D4', 'D5', '<EOC>', 1.25, 'F#3', 0.3, 'D3', 0.3, 'D5', 2, 'E4', 1.25, 'B-2', 1.25, 'F4', 1.25, 'A4', 1.25, 'F3', 0.3, 'B-4', 1.25, 'D4', 1.25, 'D5', 1.25, 'F3', 1.25, 'E5', 1.25, 'G5', 1.25, 'A4', 1.25, 'F2', 1.25, 'F5', 1.25, 'C5', 1.25, 'B2', 0.3, '<SOC>', 'A4', 'B-4', 'A4', '<EOC>', 0.3, 'C3', 1.25, 'G4', 1.25, 'A3', 1.25, 'F4', 1.25, 'C#4', 1.25, 'B-4', 2, 'G2', 1.25, 'D4', 1.25, 'F#4', 1.25, 'D3', 0.3, 'G4', 1.25, 'B-3', 1.25, 'B-4', 1.25, 'D3', 1.25, 'C#5', 1.25, 'E5', 1.25, 'F#4', 1.25, 'D2', 1.25, 'D5', 1.25, 'F4', 1.25, 'G#2', 0.3, '<SOC>', 'F#4', 'A4', '<EOC>', 0.3, 'A2', 1.25, 'D4', 1.25, 'G4', 1.25, 'B-3', 1.25, 'F#4', 1.25, 'A3', 1.25, '<SOC>', 'C4', 'E-4', '<EOC>', 2, 'F#4', 1.25, '<SOC>', 'B2', 'A3', '<EOC>', 2, 'G4', 1.25, 'A4', 1.25, 'G4', 1.25, 'F#4', 1.25, 'F#4', 1.25, 'B3', 2, 'E3', 2, 'A3', 1.25, 'B4', 1.25, 'F#4', 1.25, 'E4', 1.25, 'G3', 1.25, 'A2', 2, 'C#4', 2, 'G4', 1.25, 'B-3', 1.25, 'F#4', 1.25, 'A3', 1.25, 'F#4', 1.25, 'A3', 1.25, 'E4', 1.25, 'G3', 1.25, 'D2', 2, 'A3', 0.3, '<SOC>', 'D4', 'F#4', 'A4', '<EOC>', 1.25, 'A1', 1.25, 'D2', 2, 'A3', 0.3, '<SOC>', 'D4', 'F#4', 'A4', '<EOC>', 1.25, 'A1', 1.25, '<SOC>', 'F#3', 'A3', 'F#4', 'D4', '<EOC>', 2, '<SOC>', 'D2', 'A2', 'D3', '<EOC>', 2, '<SOC>', 'D6', 'A5', 'D5', '<EOC>', 2, '<SOC>', 'D4', 'A4', 'F#5', '<EOC>', 2]\n",
      "2\n",
      "<music21.metadata.Metadata object at 0x22d56f447f0> <class 'music21.metadata.Metadata'>\n",
      "Piano right: Piano right <class 'music21.instrument.Piano'>\n",
      "Piano <class 'music21.instrument.Piano'>\n",
      "Piano left: Piano left <class 'music21.instrument.Piano'>\n",
      "Piano <class 'music21.instrument.Piano'>\n",
      "<music21.clef.TrebleClef> <class 'music21.clef.TrebleClef'>\n",
      "<music21.clef.TrebleClef> <class 'music21.clef.TrebleClef'>\n",
      "G major <class 'music21.key.Key'>\n",
      "G major <class 'music21.key.Key'>\n",
      "<music21.meter.TimeSignature 3/8> <class 'music21.meter.base.TimeSignature'>\n",
      "<music21.meter.TimeSignature 3/8> <class 'music21.meter.base.TimeSignature'>\n",
      "<music21.meter.TimeSignature 3/4> <class 'music21.meter.base.TimeSignature'>\n",
      "<music21.meter.TimeSignature 3/4> <class 'music21.meter.base.TimeSignature'>\n",
      "<music21.meter.TimeSignature 10/4> <class 'music21.meter.base.TimeSignature'>\n",
      "<music21.meter.TimeSignature 10/4> <class 'music21.meter.base.TimeSignature'>\n",
      "<music21.meter.TimeSignature 3/8> <class 'music21.meter.base.TimeSignature'>\n",
      "<music21.meter.TimeSignature 3/8> <class 'music21.meter.base.TimeSignature'>\n",
      "<music21.meter.TimeSignature 3/4> <class 'music21.meter.base.TimeSignature'>\n",
      "<music21.meter.TimeSignature 3/4> <class 'music21.meter.base.TimeSignature'>\n",
      "<music21.bar.Barline type=final> <class 'music21.bar.Barline'>\n",
      "<music21.bar.Barline type=final> <class 'music21.bar.Barline'>\n",
      "tempo ko lagi =  69.5 111.01999999999998 115.74\n",
      "['B4', 0.3, 'B3', 0.3, 'E-5', 0.3, 'E-4', 0.3, 'F#5', 0.3, 'F#4', 0.3, '<SOC>', 'E5', 'F#5', '<EOC>', 0.3, '<SOC>', 'E4', 'F#4', '<EOC>', 0.3, '<SOC>', 'E5', 'C5', '<EOC>', 0.3, '<SOC>', 'E4', 'C4', '<EOC>', 0.3, 'A5', 0.3, 'A4', 0.3, 'B4', 0.3, 'B3', 0.3, 'E-5', 0.3, 'E-4', 0.3, 'F#5', 0.3, 'F#4', 0.3, '<SOC>', 'E5', 'F#5', '<EOC>', 0.3, '<SOC>', 'E4', 'F#4', '<EOC>', 0.3, '<SOC>', 'E5', 'C5', '<EOC>', 0.3, '<SOC>', 'E4', 'C4', '<EOC>', 0.3, 'A5', 0.3, 'A4', 0.3, 'B3', 0.3, 'B4', 0.3, 'F#4', 2, 'E-5', 0.3, 'F#5', 0.3, '<SOC>', 'E5', 'F#5', '<EOC>', 0.3, 'F#4', 2, '<SOC>', 'E5', 'C5', '<EOC>', 0.3, 'A5', 0.3, 'B4', 0.3, 'F#4', 2, 'E-5', 0.3, 'F#5', 0.3, '<SOC>', 'E5', 'F#5', '<EOC>', 0.3, 'F#4', 1.25, '<SOC>', 'E5', 'C5', '<EOC>', 0.3, 'G4', 1.25, 'A5', 0.3, 'F#4', 1.25, 'B4', 0.3, 'A4', 1.25, 'E-5', 0.3, 'F#5', 0.3, '<SOC>', 'G4', 'A4', '<EOC>', 0.3, 'G4', 0.3, '<SOC>', 'E5', 'F#5', '<EOC>', 0.3, 'F#4', 2, 'G4', 0.1, '<SOC>', 'E5', 'C5', '<EOC>', 0.3, 'A5', 0.3, 'B4', 0.3, 'F#4', 2, 'E-5', 0.3, 'F#5', 0.3, '<SOC>', 'E5', 'F#5', '<EOC>', 0.3, 'F#4', 2, '<SOC>', 'E5', 'C5', '<EOC>', 0.3, 'A5', 0.3, 'B4', 0.3, 'F#4', 2, 'E-5', 0.3, 'F#5', 0.3, 'C5', 0.3, 'E4', 1.25, 'G5', 0.3, 'C6', 0.3, '<SOC>', 'F#4', 'E4', '<EOC>', 0.3, 'F#5', 0.3, 'D4', 2, 'B5', 0.3, 'F#6', 0.3, 'E6', 1.25, '<SOC>', 'C4', 'F#4', '<EOC>', 2, 'A6', 1.25, 'E7', 1.25, '<SOC>', 'E-6', 'B6', 'F#7', '<EOC>', 0.3, '<SOC>', 'E-6', 'B6', 'F#7', '<EOC>', 0.3, 'B3', 2, 'E-5', 0.3, 'A4', 0.3, 'F#5', 0.3, 'F#4', 0.3, '<SOC>', 'E5', 'F#5', '<EOC>', 0.3, 'G4', 0.3, 'B3', 2, '<SOC>', 'E5', 'C5', '<EOC>', 0.3, 'E4', 0.3, 'A5', 0.3, 'G4', 0.3, 'B4', 0.3, 'F#4', 0.3, 'B3', 2, 'E-5', 0.3, 'A4', 0.3, 'F#5', 0.3, 'F#4', 0.3, '<SOC>', 'E5', 'F#5', '<EOC>', 0.3, 'G4', 0.3, 'B3', 2, '<SOC>', 'E5', 'C5', '<EOC>', 0.3, 'E4', 0.3, 'A5', 0.3, 'G4', 0.3, '<SOC>', 'B5', 'F#5', '<EOC>', 1.25, 'E-4', 1.25, '<SOC>', 'G#5', 'F5', '<EOC>', 1.25, 'D4', 1.25, '<SOC>', 'A5', 'E5', '<EOC>', 1.25, 'C#4', 1.25, '<SOC>', 'F#5', 'E-5', '<EOC>', 1.25, 'C4', 1.25, '<SOC>', 'D5', 'G5', '<EOC>', 1.25, 'B3', 1.25, '<SOC>', 'C5', 'D5', '<EOC>', 1.25, 'F#3', 1.25, '<SOC>', 'B4', 'D5', '<EOC>', 0.3, 'G3', 0.3, 'G4', 0.3, 'B3', 0.3, 'B4', 0.3, 'G3', 0.3, 'A4', 0.3, 'C4', 0.3, 'A4', 0.3, 'E5', 0.3, 'F#4', 0.3, '<SOC>', 'E5', 'A5', '<EOC>', 0.3, 'C4', 0.3, 'B3', 0.3, 'B4', 0.3, 'F#4', 2, 'E-5', 0.3, 'F#5', 0.3, '<SOC>', 'E5', 'F#5', '<EOC>', 0.3, 'F#4', 2, '<SOC>', 'E5', 'C5', '<EOC>', 0.3, 'A5', 0.3, 'B4', 0.3, 'F#4', 2, 'E-5', 0.3, 'F#5', 0.3, '<SOC>', 'E5', 'F#5', '<EOC>', 0.3, 'F#4', 1.25, '<SOC>', 'E5', 'C5', '<EOC>', 0.3, 'G4', 1.25, 'A5', 0.3, 'F#4', 1.25, 'B4', 0.3, 'A4', 1.25, 'E-5', 0.3, 'F#5', 0.3, '<SOC>', 'G4', 'A4', '<EOC>', 0.3, 'G4', 0.3, '<SOC>', 'E5', 'F#5', '<EOC>', 0.3, 'F#4', 2, 'G4', 0.1, '<SOC>', 'E5', 'C5', '<EOC>', 0.3, 'A5', 0.3, 'B4', 0.3, 'F#4', 2, 'E-5', 0.3, 'F#5', 0.3, '<SOC>', 'E5', 'F#5', '<EOC>', 0.3, 'F#4', 2, '<SOC>', 'E5', 'C5', '<EOC>', 0.3, 'A5', 0.3, 'B4', 0.3, 'F#4', 2, 'E-5', 0.3, 'F#5', 0.3, 'C5', 0.3, 'E4', 1.25, 'G5', 0.3, 'C6', 0.3, '<SOC>', 'F#4', 'E4', '<EOC>', 0.3, 'F#5', 0.3, 'D4', 2, 'B5', 0.3, 'F#6', 0.3, 'E6', 1.25, '<SOC>', 'C4', 'F#4', '<EOC>', 2, 'A6', 1.25, 'E7', 1.25, '<SOC>', 'E-6', 'B6', 'F#7', '<EOC>', 0.3, '<SOC>', 'E-6', 'B6', 'F#7', '<EOC>', 0.3, 'B3', 2, 'E-5', 0.3, 'A4', 0.3, 'F#5', 0.3, 'F#4', 0.3, '<SOC>', 'E5', 'F#5', '<EOC>', 0.3, 'G4', 0.3, 'B3', 2, '<SOC>', 'E5', 'C5', '<EOC>', 0.3, 'E4', 0.3, 'A5', 0.3, 'G4', 0.3, 'B4', 0.3, 'F#4', 0.3, 'B3', 2, 'E-5', 0.3, 'A4', 0.3, 'F#5', 0.3, 'F#4', 0.3, '<SOC>', 'E5', 'F#5', '<EOC>', 0.3, 'G4', 0.3, 'B3', 1.25, '<SOC>', 'E5', 'C5', '<EOC>', 0.3, 'E4', 0.3, 'A5', 0.3, 'G4', 0.3, 'B3', 0.3, 'B4', 2, 'E-5', 0.3, 'F#5', 0.3, 'E5', 2, '<SOC>', 'C6', 'D6', '<EOC>', 0.3, 'A4', 1.25, '<SOC>', 'C6', 'A5', '<EOC>', 0.3, 'F#4', 1.25, 'C6', 0.3, 'A4', 1.25, 'B4', 2, 'E-5', 0.3, 'F#5', 0.3, 'E5', 2, '<SOC>', 'C6', 'D6', '<EOC>', 0.3, 'A4', 1.25, '<SOC>', 'C6', 'A5', '<EOC>', 0.3, 'F#4', 1.25, 'C6', 0.3, 'A4', 1.25, 'B4', 1.25, '<SOC>', 'F5', 'G#5', '<EOC>', 1.25, 'D5', 1.25, '<SOC>', 'A5', 'E5', '<EOC>', 1.25, 'C#5', 1.25, '<SOC>', 'E-5', 'F#5', '<EOC>', 1.25, 'C5', 1.25, '<SOC>', 'D5', 'G5', '<EOC>', 1.25, 'B4', 1.25, '<SOC>', 'C5', 'D5', '<EOC>', 1.25, 'F#4', 1.25, '<SOC>', 'B4', 'D5', '<EOC>', 0.3, 'G3', 0.3, 'G4', 0.3, 'B3', 0.3, 'B4', 0.3, 'G3', 0.3, 'A4', 0.3, 'C4', 0.3, 'A4', 0.3, 'E5', 0.3, 'F#4', 0.3, '<SOC>', 'E5', 'A5', '<EOC>', 0.3, 'C4', 0.3, 'B5', 0.3, 'B3', 0.3, 'C#6', 0.3, 'C#4', 0.3, 'E-6', 0.3, 'E-4', 0.3, 'E6', 0.3, 'E4', 0.3, 'F#6', 0.3, 'F#4', 0.3, 'G6', 0.3, 'G4', 0.3, 'A6', 1.25, 'A4', 1.25, '<SOC>', 'G6', 'A6', '<EOC>', 0.3, '<SOC>', 'G4', 'A4', '<EOC>', 0.3, '<SOC>', 'G6', 'F#6', '<EOC>', 0.3, '<SOC>', 'G4', 'F#4', '<EOC>', 0.3, 'E6', 0.3, 'E4', 0.3, 'F#6', 0.3, 'F#4', 0.3, 'G6', 0.3, 'G4', 0.3, 'F#6', 0.3, 'F#4', 0.3, 'D6', 0.3, 'D4', 0.3, 'B5', 1.25, 'B3', 1.25, 'C6', 0.3, 'C4', 0.3, 'D6', 0.3, 'D4', 0.3, 'E6', 0.3, 'E4', 0.3, 'F#6', 0.3, 'F#4', 0.3, 'G6', 0.3, 'G4', 0.3, 'E6', 0.3, 'E4', 0.3, 'D6', 0.3, 'D4', 0.3, 'E6', 0.3, 'E4', 0.3, 'D6', 0.3, 'D4', 0.3, 'B5', 0.3, 'B3', 0.3, 'G5', 0.3, 'G3', 0.3, 'A5', 0.3, 'A3', 0.3, 'B5', 0.3, 'B3', 0.3, 'D6', 0.3, 'D4', 0.3, 'C6', 0.3, 'C4', 0.3, 'B5', 0.3, 'B3', 0.3, 'C6', 0.3, 'C4', 0.3, 'E6', 0.3, 'E4', 0.3, 'B3', 0.3, '<SOC>', 'E-5', 'B5', 'B4', '<EOC>', 0.3, 'F#4', 0.3, '<SOC>', 'E-5', 'B5', 'B4', '<EOC>', 0.3, 'E-5', 0.3, '<SOC>', 'E-5', 'B5', 'B4', '<EOC>', 0.3, 'B3', 0.3, '<SOC>', 'E5', 'A5', 'C5', '<EOC>', 0.3, 'F#4', 0.3, '<SOC>', 'E5', 'A5', 'C5', '<EOC>', 0.3, 'E5', 0.3, '<SOC>', 'E5', 'A5', 'C5', '<EOC>', 0.3, 'B3', 0.3, '<SOC>', 'E-5', 'B5', 'B4', '<EOC>', 0.3, 'F#4', 0.3, '<SOC>', 'B5', 'E-5', 'B4', '<EOC>', 0.3, 'E-5', 0.3, '<SOC>', 'B5', 'E-5', 'B4', '<EOC>', 0.3, 'B3', 0.3, '<SOC>', 'A5', 'E5', 'C5', '<EOC>', 0.3, 'F#4', 0.3, '<SOC>', 'E5', 'A5', 'C5', '<EOC>', 0.3, 'E5', 0.3, '<SOC>', 'E5', 'A5', 'C5', '<EOC>', 0.3, 'B3', 0.3, '<SOC>', 'E-5', 'B5', 'B4', '<EOC>', 0.3, 'F#4', 0.3, '<SOC>', 'B5', 'E-5', 'B4', '<EOC>', 0.3, 'E-5', 0.3, '<SOC>', 'E-5', 'B5', 'B4', '<EOC>', 0.3, 'F#5', 0.3, '<SOC>', 'B5', 'E-5', 'B4', '<EOC>', 0.3, 'E-5', 0.3, '<SOC>', 'B5', 'E-5', 'B4', '<EOC>', 0.3, 'F#5', 0.3, '<SOC>', 'E-5', 'B5', 'B4', '<EOC>', 0.3, 'E-5', 0.3, '<SOC>', 'E-5', 'B5', 'B4', '<EOC>', 0.3, 'F#5', 0.3, '<SOC>', 'E-5', 'B5', 'B4', '<EOC>', 0.3, 'E-5', 0.3, '<SOC>', 'B5', 'E-5', 'B4', '<EOC>', 0.3, 'F#5', 0.3, '<SOC>', 'E-5', 'B5', 'B4', '<EOC>', 0.3, 'E-5', 0.3, '<SOC>', 'B5', 'E-5', 'B4', '<EOC>', 0.3, 'F#5', 0.3, '<SOC>', 'E-5', 'B5', 'B4', '<EOC>', 0.3, '<SOC>', 'E-7', 'F#6', 'E-6', '<EOC>', 2, '<SOC>', 'B5', 'F#5', 'B4', '<EOC>', 2, 'B4', 1.25, 'E5', 2, 'E5', 1.25, 'D5', 1.25, 'E5', 2, 'D5', 1.25, 'E5', 2, '<SOC>', 'D5', 'E5', '<EOC>', 0.3, 'D5', 0.3, 'B4', 1.25, 'G2', 0.3, 'B3', 0.3, 'D3', 0.3, 'D4', 0.3, 'G3', 0.3, 'G4', 0.3, 'B3', 0.3, 'B4', 0.3, 'D4', 0.3, 'D5', 0.3, 'G4', 0.3, 'G5', 0.3, 'B4', 0.3, 'B5', 0.3, 'D5', 0.3, 'D6', 0.3, 'G5', 0.3, 'G6', 0.3, 'B5', 0.3, 'B6', 0.3, 'D6', 0.3, 'D7', 0.3, 'G6', 0.3, 'B4', 1.25, 'E5', 2, 'D5', 1.25, 'E5', 2, 'D5', 1.25, 'E5', 1.25, 'D5', 1.25, 'E5', 0.3, 'F#5', 0.3, 'E5', 0.3, 'D5', 0.3, 'C5', 2, 'C2', 0.3, 'E3', 0.3, 'G2', 0.3, 'G3', 0.3, 'C3', 0.3, 'C4', 0.3, 'E3', 0.3, 'E4', 0.3, 'G3', 0.3, 'G4', 0.3, 'C4', 0.3, 'C5', 0.3, 'E4', 0.3, 'E5', 0.3, 'G4', 0.3, 'G5', 0.3, 'C5', 0.3, 'C6', 0.3, 'E5', 0.3, 'E6', 0.3, 'G5', 0.3, 'E7', 0.3, 'C6', 0.3, 'C5', 1.25, 'E5', 2, 'E5', 1.25, 'D5', 1.25, 'E5', 1.25, 'F#5', 1.25, 'G5', 1.25, '<SOC>', 'E5', 'F#5', '<EOC>', 0.3, '<SOC>', 'E5', 'D5', '<EOC>', 1.25, 'C5', 0.3, 'B4', 2, 'G2', 0.3, 'B3', 0.3, 'D3', 0.3, 'D4', 0.3, 'G3', 0.3, 'G4', 0.3, 'B3', 0.3, 'B4', 0.3, 'D4', 0.3, 'D5', 0.3, 'G4', 0.3, 'G5', 0.3, 'B4', 0.3, 'B5', 0.3, 'D5', 0.3, 'D6', 0.3, 'G5', 0.3, 'G6', 0.3, 'B5', 0.3, 'B6', 0.3, 'D6', 0.3, 'D7', 0.3, 'G6', 0.3, 'B4', 1.25, 'D5', 2, 'D5', 1.25, 'C5', 1.25, 'B4', 1.25, 'A4', 1.25, 'B4', 1.25, 'C5', 0.3, 'D5', 0.3, 'C5', 0.3, 'B4', 0.3, 'A4', 2, 'D2', 0.3, 'D3', 0.3, 'A2', 0.3, 'F#3', 0.3, 'D3', 0.3, 'C4', 0.3, 'F#3', 0.3, 'D4', 0.3, 'A3', 0.3, 'F#4', 0.3, 'D4', 0.3, 'C5', 0.3, 'F#4', 0.3, 'D5', 0.3, 'A4', 0.3, 'F#5', 0.3, 'D5', 0.3, 'C6', 0.3, 'F#5', 0.3, 'D6', 0.3, 'A5', 0.3, 'F#6', 0.3, 'C6', 0.3, 'C5', 0.3, 'D5', 0.3, 'E5', 0.3, '<SOC>', 'F#5', 'G5', '<EOC>', 0.3, '<SOC>', 'F#5', 'E5', '<EOC>', 0.3, 'D5', 0.3, '<SOC>', 'E5', 'F#5', '<EOC>', 0.3, '<SOC>', 'E5', 'D5', '<EOC>', 0.3, 'C5', 0.3, 'D5', 0.3, 'E5', 0.3, 'D5', 0.3, 'C5', 0.3, 'B4', 2, 'G2', 0.3, 'B3', 0.3, 'D3', 0.3, 'D4', 0.3, 'G3', 0.3, 'G4', 0.3, 'B3', 0.3, 'B4', 0.3, 'D4', 0.3, 'D5', 0.3, 'G4', 0.3, 'G5', 0.3, 'B4', 0.3, 'B5', 0.3, 'D5', 0.3, 'D6', 0.3, 'G5', 0.3, 'G6', 0.3, 'B5', 0.3, 'B6', 0.3, 'D6', 0.3, 'D7', 0.3, 'G6', 0.3, 'B4', 1.25, 'E5', 2, 'A2', 0.3, 'F#3', 0.3, 'A3', 0.3, 'C4', 0.3, 'E4', 0.3, 'F#4', 0.3, 'A4', 0.3, 'C5', 0.3, 'E5', 0.3, 'F#5', 0.3, 'A5', 0.3, 'C6', 0.3, 'E6', 1.25, 'D5', 1.25, 'E5', 1.25, 'D5', 1.25, 'C5', 1.25, 'B4', 1.25, '<SOC>', 'C5', 'D5', '<EOC>', 0.3, '<SOC>', 'C5', 'B4', '<EOC>', 0.3, '<SOC>', 'A4', 'G4', '<EOC>', 0.3, '<SOC>', 'F#4', 'G4', '<EOC>', 0.3, '<SOC>', 'F#4', 'E4', '<EOC>', 0.3, '<SOC>', 'D4', 'C4', '<EOC>', 0.3, '<SOC>', 'D4', 'E-4', 'E4', '<EOC>', 0.3, '<SOC>', 'F#4', 'A4', 'G4', '<EOC>', 0.3, '<SOC>', 'F#4', 'E4', 'E-4', '<EOC>', 0.3, '<SOC>', 'E4', 'C4', '<EOC>', 0.3, 'B4', 0.3, '<SOC>', 'E4', 'C4', '<EOC>', 0.1, 'B3', 0.3, 'E-5', 0.3, 'E-4', 0.3, 'F#5', 0.3, 'F#4', 0.3, '<SOC>', 'E5', 'F#5', '<EOC>', 0.3, '<SOC>', 'E4', 'F#4', '<EOC>', 0.3, '<SOC>', 'E5', 'C5', '<EOC>', 0.3, '<SOC>', 'E4', 'C4', '<EOC>', 0.3, 'A5', 0.3, 'A4', 0.3, 'B4', 0.3, 'B3', 0.3, 'E-5', 0.3, 'E-4', 0.3, 'F#5', 0.3, 'F#4', 0.3, '<SOC>', 'E5', 'F#5', '<EOC>', 0.3, '<SOC>', 'E4', 'F#4', '<EOC>', 0.3, '<SOC>', 'E5', 'C5', '<EOC>', 0.3, '<SOC>', 'E4', 'C4', '<EOC>', 0.3, 'A5', 0.3, 'A4', 1.25, 'B3', 0.3, 'B4', 0.3, 'F#4', 2, 'B3', 0.1, 'E-5', 0.3, 'F#5', 0.3, '<SOC>', 'E5', 'F#5', '<EOC>', 0.3, 'F#4', 2, '<SOC>', 'E5', 'C5', '<EOC>', 0.3, 'A5', 0.3, 'B4', 0.3, 'F#4', 2, 'E-5', 0.3, 'F#5', 0.3, '<SOC>', 'E5', 'F#5', '<EOC>', 0.3, 'F#4', 1.25, '<SOC>', 'E5', 'C5', '<EOC>', 0.3, 'G4', 1.25, 'A5', 0.3, 'F#4', 1.25, 'B4', 0.3, 'A4', 1.25, 'E-5', 0.3, 'F#5', 0.3, '<SOC>', 'G4', 'A4', '<EOC>', 0.3, 'G4', 0.3, '<SOC>', 'E5', 'F#5', '<EOC>', 0.3, 'F#4', 2, '<SOC>', 'E5', 'C5', '<EOC>', 0.3, 'A5', 0.3, 'B4', 0.3, 'F#4', 2, 'E-5', 0.3, 'F#5', 0.3, '<SOC>', 'E5', 'F#5', '<EOC>', 0.3, 'F#4', 2, '<SOC>', 'E5', 'C5', '<EOC>', 0.3, 'A5', 0.3, 'B4', 0.3, 'F#4', 2, 'E-5', 0.3, 'F#5', 0.3, 'C5', 0.3, 'E4', 1.25, 'G5', 0.3, 'C6', 0.3, '<SOC>', 'F#4', 'E4', '<EOC>', 0.3, 'F#5', 0.3, 'D4', 2, 'B5', 0.3, 'F#6', 0.3, 'E6', 1.25, '<SOC>', 'C4', 'F#4', '<EOC>', 2, 'A6', 1.25, 'E7', 1.25, '<SOC>', 'E-6', 'B6', 'F#7', '<EOC>', 0.3, '<SOC>', 'E-6', 'B6', 'F#7', '<EOC>', 1.25, 'B3', 2, 'E-5', 0.3, 'A4', 0.3, 'F#5', 0.3, 'F#4', 0.3, '<SOC>', 'E5', 'F#5', '<EOC>', 0.3, 'G4', 0.3, 'B3', 2, '<SOC>', 'E5', 'C5', '<EOC>', 0.3, 'E4', 0.3, 'A5', 0.3, 'G4', 0.3, 'B4', 0.3, 'F#4', 0.3, 'B3', 2, 'E-5', 0.3, 'A4', 0.3, 'F#5', 0.3, 'F#4', 0.3, '<SOC>', 'E5', 'F#5', '<EOC>', 0.3, 'G4', 0.3, 'B3', 2, '<SOC>', 'E5', 'C5', '<EOC>', 0.3, 'E4', 0.3, 'A5', 0.3, 'G4', 0.3, '<SOC>', 'F#5', 'B5', '<EOC>', 1.25, 'E-4', 1.25, '<SOC>', 'F5', 'G#5', '<EOC>', 1.25, 'D4', 1.25, '<SOC>', 'E5', 'A5', '<EOC>', 1.25, 'C#4', 1.25, '<SOC>', 'E-5', 'F#5', '<EOC>', 1.25, 'C4', 1.25, '<SOC>', 'D5', 'G5', '<EOC>', 1.25, 'B3', 1.25, '<SOC>', 'D5', 'C5', '<EOC>', 1.25, 'F#3', 1.25, '<SOC>', 'B4', 'D5', '<EOC>', 0.3, 'G3', 0.3, 'G4', 0.3, 'B3', 0.3, 'B4', 0.3, 'G3', 0.3, 'A4', 0.3, 'C4', 0.3, 'A4', 0.3, 'E5', 0.3, 'F#4', 0.3, '<SOC>', 'A5', 'E5', '<EOC>', 0.3, 'C4', 1.25, 'B3', 0.3, 'B4', 0.3, 'F#4', 2, 'B3', 0.1, 'E-5', 0.3, 'F#5', 0.3, '<SOC>', 'E5', 'F#5', '<EOC>', 0.3, 'F#4', 2, '<SOC>', 'E5', 'C5', '<EOC>', 0.3, 'A5', 0.3, 'B4', 0.3, 'F#4', 2, 'E-5', 0.3, 'F#5', 0.3, '<SOC>', 'E5', 'F#5', '<EOC>', 0.3, 'F#4', 1.25, '<SOC>', 'E5', 'C5', '<EOC>', 0.3, 'G4', 1.25, 'A5', 0.3, 'F#4', 1.25, 'B4', 0.3, 'A4', 1.25, 'E-5', 0.3, 'F#5', 0.3, '<SOC>', 'G4', 'A4', '<EOC>', 0.3, 'G4', 0.3, '<SOC>', 'E5', 'F#5', '<EOC>', 0.3, 'F#4', 2, '<SOC>', 'E5', 'C5', '<EOC>', 0.3, 'A5', 0.3, 'B4', 0.3, 'F#4', 2, 'E-5', 0.3, 'F#5', 0.3, '<SOC>', 'E5', 'F#5', '<EOC>', 0.3, 'F#4', 2, '<SOC>', 'E5', 'C5', '<EOC>', 0.3, 'A5', 0.3, 'B4', 0.3, 'F#4', 2, 'E-5', 0.3, 'F#5', 0.3, 'C5', 0.3, 'E4', 1.25, 'G5', 0.3, 'C6', 0.3, '<SOC>', 'F#4', 'E4', '<EOC>', 0.3, 'F#5', 0.3, 'D4', 2, 'B5', 0.3, 'F#6', 0.3, 'E6', 1.25, '<SOC>', 'C4', 'F#4', '<EOC>', 2, 'A6', 1.25, 'E7', 1.25, '<SOC>', 'E-6', 'B6', 'F#7', '<EOC>', 0.3, '<SOC>', 'E-6', 'B6', 'F#7', '<EOC>', 1.25, 'B3', 2, 'E-5', 0.3, 'A4', 0.3, 'F#5', 0.3, 'F#4', 0.3, '<SOC>', 'E5', 'F#5', '<EOC>', 0.3, 'G4', 0.3, 'B3', 2, '<SOC>', 'E5', 'C5', '<EOC>', 0.3, 'E4', 0.3, 'A5', 0.3, 'G4', 0.3, 'B4', 0.3, 'F#4', 0.3, 'B3', 2, 'E-5', 0.3, 'A4', 0.3, 'F#5', 0.3, 'F#4', 0.3, '<SOC>', 'E5', 'F#5', '<EOC>', 0.3, 'G4', 0.3, 'B3', 1.25, '<SOC>', 'E5', 'C5', '<EOC>', 0.3, 'E4', 0.3, 'A5', 0.3, 'G4', 1.25, 'B3', 0.3, 'B4', 2, 'B3', 0.1, 'E-5', 0.3, 'F#5', 0.3, 'E5', 2, '<SOC>', 'C6', 'D6', '<EOC>', 0.3, 'A4', 1.25, '<SOC>', 'C6', 'A5', '<EOC>', 0.3, 'F#4', 1.25, 'C6', 0.3, 'A4', 1.25, 'B4', 2, 'E-5', 0.3, 'F#5', 0.3, 'E5', 2, '<SOC>', 'C6', 'D6', '<EOC>', 0.3, 'A4', 1.25, '<SOC>', 'C6', 'A5', '<EOC>', 0.3, 'F#4', 1.25, 'C6', 0.3, 'A4', 1.25, 'B4', 1.25, '<SOC>', 'F5', 'G#5', '<EOC>', 1.25, 'D5', 1.25, '<SOC>', 'A5', 'E5', '<EOC>', 1.25, 'C#5', 1.25, '<SOC>', 'E-5', 'F#5', '<EOC>', 1.25, 'C5', 1.25, '<SOC>', 'D5', 'G5', '<EOC>', 1.25, 'B4', 1.25, '<SOC>', 'D5', 'C5', '<EOC>', 1.25, 'F#4', 1.25, '<SOC>', 'D5', 'B4', '<EOC>', 0.3, 'G3', 0.3, 'G4', 0.3, 'B3', 0.3, 'B4', 0.3, 'G3', 0.3, 'A4', 0.3, 'C4', 0.3, 'A4', 0.3, 'E5', 0.3, 'F#4', 0.3, '<SOC>', 'A5', 'E5', '<EOC>', 0.3, 'C4', 0.3, 'B5', 0.3, 'B3', 0.3, 'C#6', 0.3, 'C#4', 0.3, 'E-6', 0.3, 'E-4', 0.3, 'E6', 0.3, 'E4', 0.3, 'F#6', 0.3, 'F#4', 0.3, 'G6', 0.3, 'G4', 0.3, 'A6', 1.25, 'A4', 1.25, '<SOC>', 'G6', 'A6', '<EOC>', 0.3, '<SOC>', 'G4', 'A4', '<EOC>', 0.3, '<SOC>', 'G6', 'F#6', '<EOC>', 0.3, '<SOC>', 'G4', 'F#4', '<EOC>', 0.3, 'E6', 0.3, 'E4', 0.3, 'F#6', 0.3, 'F#4', 0.3, 'G6', 0.3, 'G4', 0.3, 'F#6', 0.3, 'F#4', 0.3, 'D6', 0.3, 'D4', 0.3, 'B5', 1.25, 'B3', 1.25, 'C6', 0.3, 'C4', 0.3, 'D6', 0.3, 'D4', 0.3, 'E6', 0.3, 'E4', 0.3, 'F#6', 0.3, 'F#4', 0.3, 'G6', 0.3, 'G4', 0.3, 'E6', 0.3, 'E4', 0.3, 'D6', 0.3, 'D4', 0.3, 'E6', 0.3, 'E4', 0.3, 'D6', 0.3, 'D4', 0.3, 'B5', 0.3, 'B3', 0.3, 'G5', 0.3, 'G3', 0.3, 'A5', 0.3, 'A3', 0.3, 'B5', 0.3, 'B3', 0.3, 'D6', 0.3, 'D4', 0.3, 'C6', 0.3, 'C4', 0.3, 'B5', 0.3, 'B3', 0.3, 'C6', 0.3, 'C4', 0.3, 'E6', 0.3, 'E4', 0.3, 'E6', 0.1, 'B3', 0.3, '<SOC>', 'E-5', 'B5', 'B4', '<EOC>', 0.3, 'F#4', 0.3, '<SOC>', 'B5', 'E-5', 'B4', '<EOC>', 0.3, 'E-5', 0.3, '<SOC>', 'E-5', 'B5', 'B4', '<EOC>', 0.3, 'B3', 0.3, '<SOC>', 'E5', 'A5', 'C5', '<EOC>', 0.3, 'F#4', 0.3, '<SOC>', 'A5', 'E5', 'C5', '<EOC>', 0.3, 'E5', 0.3, '<SOC>', 'E5', 'A5', 'C5', '<EOC>', 0.3, 'B3', 0.3, '<SOC>', 'B5', 'E-5', 'B4', '<EOC>', 0.3, 'F#4', 0.3, '<SOC>', 'E-5', 'B5', 'B4', '<EOC>', 0.3, 'E-5', 0.3, '<SOC>', 'E-5', 'B5', 'B4', '<EOC>', 0.3, 'B3', 0.3, '<SOC>', 'A5', 'E5', 'C5', '<EOC>', 0.3, 'F#4', 0.3, '<SOC>', 'A5', 'E5', 'C5', '<EOC>', 0.3, 'E5', 0.3, '<SOC>', 'A5', 'E5', 'C5', '<EOC>', 0.3, 'B3', 0.3, '<SOC>', 'E-5', 'B5', 'B4', '<EOC>', 0.3, 'F#4', 0.3, '<SOC>', 'E-5', 'B5', 'B4', '<EOC>', 0.3, 'E-5', 0.3, '<SOC>', 'E-5', 'B5', 'B4', '<EOC>', 0.3, 'F#5', 0.3, '<SOC>', 'E-5', 'B5', 'B4', '<EOC>', 0.3, 'E-5', 0.3, '<SOC>', 'B5', 'E-5', 'B4', '<EOC>', 0.3, 'F#5', 0.3, '<SOC>', 'E-5', 'B5', 'B4', '<EOC>', 0.3, 'E-5', 0.3, '<SOC>', 'B5', 'E-5', 'B4', '<EOC>', 0.3, 'F#5', 0.3, '<SOC>', 'B5', 'E-5', 'B4', '<EOC>', 0.3, 'E-5', 0.3, '<SOC>', 'E-5', 'B5', 'B4', '<EOC>', 0.3, 'F#5', 0.3, '<SOC>', 'E-5', 'B5', 'B4', '<EOC>', 0.3, 'E-5', 0.3, '<SOC>', 'B5', 'E-5', 'B4', '<EOC>', 0.3, 'F#5', 0.3, '<SOC>', 'B5', 'E-5', 'B4', '<EOC>', 0.3, '<SOC>', 'F#6', 'E-6', 'E-7', '<EOC>', 2, '<SOC>', 'B5', 'F#5', 'B4', '<EOC>', 2, 'B4', 1.25, '<SOC>', 'C3', 'F#3', '<EOC>', 1.25, '<SOC>', 'C4', 'E4', '<EOC>', 0.3, 'F#4', 0.3, 'A4', 1.25, 'G4', 0.3, 'A4', 0.3, 'B4', 0.3, 'C5', 0.3, '<SOC>', 'E-4', 'B4', '<EOC>', 1.25, '<SOC>', 'B2', 'F#3', '<EOC>', 1.25, '<SOC>', 'E-6', 'F#5', 'E-5', '<EOC>', 2, '<SOC>', 'B3', 'F#4', 'B4', '<EOC>', 2]\n",
      "2\n",
      "<music21.metadata.Metadata object at 0x22d56f44f40> <class 'music21.metadata.Metadata'>\n",
      "Piano right: Piano right <class 'music21.instrument.Piano'>\n",
      "Piano <class 'music21.instrument.Piano'>\n",
      "Piano left: Piano left <class 'music21.instrument.Piano'>\n",
      "Piano <class 'music21.instrument.Piano'>\n",
      "<music21.clef.TrebleClef> <class 'music21.clef.TrebleClef'>\n",
      "<music21.clef.TrebleClef> <class 'music21.clef.TrebleClef'>\n",
      "B- major <class 'music21.key.Key'>\n",
      "B- major <class 'music21.key.Key'>\n",
      "<music21.meter.TimeSignature 3/4> <class 'music21.meter.base.TimeSignature'>\n",
      "<music21.meter.TimeSignature 3/4> <class 'music21.meter.base.TimeSignature'>\n",
      "G major <class 'music21.key.Key'>\n",
      "G major <class 'music21.key.Key'>\n",
      "B- major <class 'music21.key.Key'>\n",
      "B- major <class 'music21.key.Key'>\n",
      "<music21.bar.Barline type=final> <class 'music21.bar.Barline'>\n",
      "<music21.bar.Barline type=final> <class 'music21.bar.Barline'>\n",
      "tempo ko lagi =  110.32 112.0 113.09000000000002\n",
      "['G5', 0.3, 'D5', 0.3, 'B4', 0.3, 'E-5', 0.3, 'C5', 0.3, 'G5', 0.3, 'A4', 0.3, 'F#5', 0.3, 'D5', 0.3, 'A5', 0.3, 'C5', 0.3, '<SOC>', 'G5', 'A5', '<EOC>', 0.3, 'B-4', 0.3, '<SOC>', 'G5', 'F#5', '<EOC>', 0.3, 'A4', 0.3, 'G5', 0.3, 'B-4', 0.3, 'B-5', 0.3, 'G4', 0.3, '<SOC>', 'A5', 'D5', '<EOC>', 0.3, 'F#4', 0.3, 'C6', 0.3, 'D4', 0.3, 'B-5', 0.3, 'G4', 0.3, '<SOC>', 'F6', 'G#5', 'D6', '<EOC>', 0.3, 'B4', 0.3, '<SOC>', 'E6', 'G5', 'C6', '<EOC>', 0.3, 'C5', 0.3, '<SOC>', 'F#5', 'E-6', 'C6', '<EOC>', 0.3, 'A4', 0.3, '<SOC>', 'G5', 'D6', '<EOC>', 0.3, 'B-4', 0.3, '<SOC>', 'D5', 'A5', 'C6', '<EOC>', 0.3, 'F#4', 0.3, '<SOC>', 'G5', 'D5', 'B-5', '<EOC>', 1.25, 'G4', 1.25, '<SOC>', 'B4', 'G#5', '<EOC>', 1.25, 'F4', 1.25, 'G5', 2, 'C5', 1.25, 'E4', 1.25, 'C#5', 1.25, 'E-4', 1.25, 'D5', 1.25, 'D4', 1.25, '<SOC>', 'G5', 'E-5', 'B-5', '<EOC>', 1.25, 'C#4', 1.25, '<SOC>', 'G5', 'B-4', 'D5', 'B-5', '<EOC>', 2, 'D2', 1.25, 'D4', 1.25, 'D4', 1.25, '<SOC>', 'B-4', 'D5', '<EOC>', 1.25, 'D4', 1.25, '<SOC>', 'C5', 'A4', '<EOC>', 0.3, 'D4', 1.25, '<SOC>', 'C5', 'E-5', '<EOC>', 0.3, 'D4', 1.25, '<SOC>', 'F5', 'A5', '<EOC>', 1.25, 'D4', 1.25, '<SOC>', 'D5', 'F5', '<EOC>', 0.3, '<SOC>', 'B-4', 'D5', '<EOC>', 0.3, 'D4', 1.25, '<SOC>', 'B-4', 'G4', '<EOC>', 0.3, 'D4', 1.25, '<SOC>', 'G5', 'E-5', '<EOC>', 0.3, 'D4', 1.25, '<SOC>', 'E-5', 'C5', '<EOC>', 0.3, '<SOC>', 'A4', 'C5', '<EOC>', 0.3, 'D4', 1.25, '<SOC>', 'A4', 'F#4', '<EOC>', 0.3, '<SOC>', 'D5', 'F5', '<EOC>', 0.3, 'D4', 1.25, '<SOC>', 'B-4', 'D5', '<EOC>', 0.3, 'D4', 1.25, '<SOC>', 'G4', 'B-4', '<EOC>', 0.3, 'D4', 1.25, 'E-4', 1.25, 'G4', 1.25, 'D4', 1.25, 'B-4', 1.25, '<SOC>', 'F#4', 'C4', '<EOC>', 1.25, 'A4', 1.25, 'D3', 1.25, 'D5', 1.25, 'D5', 2, 'B2', 1.25, 'C4', 1.25, '<SOC>', 'D4', 'F4', 'G#4', '<EOC>', 2, 'B3', 1.25, 'C3', 1.25, '<SOC>', 'C5', 'D5', '<EOC>', 0.3, 'C5', 0.3, 'B4', 1.25, '<SOC>', 'G4', 'E-4', 'A3', '<EOC>', 2, 'C5', 1.25, 'D5', 1.25, 'E-5', 1.25, '<SOC>', 'B-4', 'G4', '<EOC>', 1.25, 'D2', 2, 'C5', 1.25, 'C#5', 1.25, 'D5', 1.25, 'G5', 1.25, 'D4', 1.25, 'D5', 1.25, '<SOC>', 'B-4', 'F#4', '<EOC>', 2, 'C4', 1.25, 'D3', 2, 'C#4', 1.25, 'D4', 1.25, '<SOC>', 'C#4', 'D4', '<EOC>', 0.3, 'C#4', 0.3, 'A4', 1.25, 'C4', 1.25, 'D3', 1.25, '<SOC>', 'G4', 'D5', 'G5', '<EOC>', 0.3, '<SOC>', 'G2', 'D3', 'B-3', '<EOC>', 1.25, '<SOC>', 'G4', 'D5', 'G5', '<EOC>', 0.3, 'B4', 0.3, 'D5', 0.3, 'C5', 0.3, 'E-5', 0.3, 'A4', 0.3, 'G5', 0.3, 'D5', 0.3, 'F#5', 0.3, 'C5', 0.3, 'A5', 0.3, 'B-4', 0.3, '<SOC>', 'G5', 'A5', '<EOC>', 0.3, 'A4', 0.3, '<SOC>', 'G5', 'F#5', '<EOC>', 0.3, 'B-4', 0.3, 'G5', 0.3, 'G4', 0.3, 'B-5', 0.3, 'F#4', 0.3, '<SOC>', 'A5', 'D5', '<EOC>', 0.3, 'D4', 0.3, 'D6', 0.3, 'C3', 1.25, 'F5', 2, 'F#4', 1.25, '<SOC>', 'C4', 'E-4', '<EOC>', 2, 'G4', 1.25, 'E-5', 1.25, 'F2', 1.25, '<SOC>', 'D5', 'E-5', '<EOC>', 0.3, 'D5', 0.3, 'C5', 1.25, 'G#4', 1.25, '<SOC>', 'C4', 'E-4', '<EOC>', 2, 'B4', 1.25, 'C5', 1.25, 'A4', 1.25, 'D5', 1.25, 'E-5', 1.25, 'B-2', 1.25, 'D5', 2, '<SOC>', 'C#4', 'A4', 'F#4', '<EOC>', 1.25, '<SOC>', 'D4', 'B-4', '<EOC>', 1.25, 'B3', 1.25, 'G#4', 1.25, 'C#5', 1.25, 'D5', 1.25, 'C3', 1.25, 'G4', 2, 'F5', 1.25, 'E-5', 1.25, 'B3', 1.25, 'D5', 1.25, 'C4', 1.25, 'E-5', 1.25, 'D4', 1.25, 'C5', 1.25, 'E-4', 1.25, 'G4', 1.25, 'F2', 1.25, '<SOC>', 'B-4', 'F4', 'D5', '<EOC>', 1.25, 'D5', 0.3, 'F5', 0.3, 'E-5', 0.3, 'F#5', 0.3, 'C5', 0.3, 'B-5', 0.3, 'F5', 0.3, 'A5', 0.3, 'E-5', 0.3, 'C6', 0.3, 'D5', 0.3, '<SOC>', 'B-5', 'C6', '<EOC>', 0.3, 'C#5', 0.3, '<SOC>', 'B-5', 'A5', '<EOC>', 0.3, 'D5', 0.3, 'B-5', 0.3, 'B-4', 0.3, 'D6', 0.3, 'A4', 0.3, '<SOC>', 'C6', 'F5', '<EOC>', 0.3, 'F4', 0.3, 'F6', 0.3, 'B-2', 1.25, 'B-4', 1.25, '<SOC>', 'D4', 'F3', '<EOC>', 2, 'C5', 1.25, 'D5', 1.25, 'F5', 1.25, 'E-5', 1.25, 'B-2', 1.25, '<SOC>', 'D5', 'E-5', '<EOC>', 0.3, 'D5', 0.3, 'B4', 1.25, '<SOC>', 'E-4', 'B3', 'F#3', '<EOC>', 2, 'B-4', 1.25, 'G#4', 1.25, 'F#4', 1.25, 'B-4', 1.25, 'B-4', 0.3, 'B-2', 1.25, 'F4', 2, 'B-3', 1.25, 'C4', 1.25, 'D4', 1.25, 'F4', 1.25, '<SOC>', 'G#4', 'B-4', '<EOC>', 1.25, 'D4', 1.25, '<SOC>', 'E-4', 'F4', '<EOC>', 0.3, '<SOC>', 'B-4', 'F#4', '<EOC>', 2, 'E-4', 0.3, 'D4', 1.25, 'E-4', 1.25, 'F4', 1.25, 'F#4', 1.25, 'A4', 1.25, 'E-5', 1.25, 'B-2', 1.25, 'B-4', 1.25, 'G#3', 1.25, '<SOC>', 'G#4', 'D4', '<EOC>', 2, 'B4', 1.25, 'D5', 1.25, 'B3', 1.25, 'F5', 1.25, 'F#5', 1.25, 'B-2', 1.25, '<SOC>', 'F5', 'F#5', '<EOC>', 0.3, '<SOC>', 'B-4', 'F#5', '<EOC>', 0.3, 'F5', 0.3, 'E-5', 1.25, '<SOC>', 'F#4', 'B-3', '<EOC>', 2, 'B4', 1.25, 'B-4', 1.25, 'F#4', 1.25, 'B-4', 1.25, 'B-4', 0.3, 'B-2', 1.25, 'F4', 2, 'B-3', 1.25, 'C4', 1.25, 'D4', 1.25, 'F4', 1.25, '<SOC>', 'G#4', 'B-4', '<EOC>', 1.25, 'D4', 1.25, '<SOC>', 'E-4', 'F4', '<EOC>', 0.3, '<SOC>', 'F#4', 'B-4', '<EOC>', 2, 'E-4', 0.3, 'D4', 1.25, 'E-4', 1.25, 'F4', 1.25, 'F#4', 1.25, 'A4', 1.25, 'E-5', 1.25, 'B-2', 1.25, 'D5', 2, 'E4', 1.25, '<SOC>', 'D4', 'B-3', '<EOC>', 2, 'F4', 1.25, 'C3', 1.25, '<SOC>', 'C5', 'D5', '<EOC>', 0.3, 'C5', 0.3, 'B-4', 1.25, '<SOC>', 'G4', 'E-4', 'C4', '<EOC>', 2, 'B4', 1.25, 'C5', 1.25, 'A4', 1.25, 'D5', 1.25, 'E-5', 1.25, 'D2', 2, '<SOC>', 'G4', 'B-4', '<EOC>', 1.25, 'C5', 1.25, 'C#5', 1.25, 'D5', 1.25, 'D4', 1.25, 'G5', 1.25, 'D5', 1.25, 'C4', 1.25, 'D3', 2, '<SOC>', 'B-4', 'F#4', '<EOC>', 2, 'C#4', 1.25, 'D4', 1.25, '<SOC>', 'C#4', 'D4', '<EOC>', 0.3, 'C#4', 0.3, 'C4', 1.25, 'A4', 1.25, 'D3', 1.25, '<SOC>', 'G4', 'D5', 'G5', '<EOC>', 0.3, '<SOC>', 'G2', 'D3', 'B-3', '<EOC>', 1.25, '<SOC>', 'G4', 'D5', 'G5', '<EOC>', 0.3, 'B4', 0.3, 'D5', 0.3, 'C5', 0.3, 'E-5', 0.3, 'A4', 0.3, 'G5', 0.3, 'D5', 0.3, 'F#5', 0.3, 'C5', 0.3, 'A5', 0.3, 'B-4', 0.3, '<SOC>', 'G5', 'A5', '<EOC>', 0.3, 'A4', 0.3, '<SOC>', 'G5', 'F#5', '<EOC>', 0.3, 'B-4', 0.3, 'G5', 0.3, 'G4', 0.3, 'B-5', 0.3, 'F#4', 0.3, '<SOC>', 'D5', 'A5', '<EOC>', 0.3, 'D4', 0.3, 'C6', 0.3, 'G4', 0.3, 'B-5', 0.3, 'B4', 0.3, '<SOC>', 'G#5', 'F6', 'D6', '<EOC>', 0.3, 'C5', 0.3, '<SOC>', 'C6', 'G5', 'E6', '<EOC>', 0.3, 'A4', 0.3, '<SOC>', 'C6', 'F#5', 'E-6', '<EOC>', 0.3, 'B-4', 0.3, '<SOC>', 'D6', 'G5', '<EOC>', 0.3, 'F#4', 0.3, '<SOC>', 'C6', 'D5', 'A5', '<EOC>', 0.3, 'G4', 1.25, '<SOC>', 'D5', 'B-5', 'G5', '<EOC>', 1.25, 'F4', 1.25, '<SOC>', 'G#5', 'B4', '<EOC>', 1.25, 'E4', 1.25, 'G5', 2, 'C5', 1.25, 'E-4', 1.25, 'C#5', 1.25, 'D4', 1.25, 'D5', 1.25, 'C#4', 1.25, '<SOC>', 'B-5', 'E-5', 'G5', '<EOC>', 1.25, 'D2', 1.25, '<SOC>', 'D5', 'B-4', 'G5', 'B-5', '<EOC>', 2, 'D4', 1.25, 'D4', 1.25, '<SOC>', 'D5', 'B-4', '<EOC>', 1.25, 'D4', 1.25, 'D4', 1.25, '<SOC>', 'C5', 'A4', '<EOC>', 0.3, 'D4', 1.25, '<SOC>', 'E-5', 'C5', '<EOC>', 0.3, '<SOC>', 'A5', 'F5', '<EOC>', 1.25, 'D4', 1.25, '<SOC>', 'D5', 'F5', '<EOC>', 0.3, 'D4', 1.25, '<SOC>', 'D5', 'B-4', '<EOC>', 0.3, 'D4', 1.25, '<SOC>', 'G4', 'B-4', '<EOC>', 0.3, 'D4', 1.25, '<SOC>', 'E-5', 'G5', '<EOC>', 0.3, '<SOC>', 'C5', 'E-5', '<EOC>', 0.3, 'D4', 1.25, '<SOC>', 'A4', 'C5', '<EOC>', 0.3, '<SOC>', 'A4', 'F#4', '<EOC>', 0.3, 'D4', 1.25, '<SOC>', 'F5', 'D5', '<EOC>', 0.3, 'D4', 1.25, '<SOC>', 'D5', 'B-4', '<EOC>', 1.25, 'D4', 1.25, '<SOC>', 'G4', 'B-4', '<EOC>', 1.25, 'D4', 1.25, 'G4', 1.25, 'E-4', 1.25, 'B-4', 1.25, 'D3', 1.25, '<SOC>', 'F#4', 'C4', '<EOC>', 1.25, 'A4', 1.25, 'B-4', 1.25, '<SOC>', 'G2', 'D3', '<EOC>', 2, 'B4', 2, '<SOC>', 'B3', 'D4', '<EOC>', 1.25, 'E4', 0.3, 'D4', 0.3, 'B3', 1.25, 'D4', 1.25, '<SOC>', 'D2', 'D3', '<EOC>', 1.25, 'D4', 1.25, '<SOC>', 'G#2', 'D3', '<EOC>', 2, 'B4', 2, '<SOC>', 'B3', 'F4', '<EOC>', 1.25, 'E4', 0.3, 'D4', 0.3, 'B3', 1.25, 'D4', 1.25, '<SOC>', 'D2', 'D3', '<EOC>', 1.25, 'D4', 1.25, '<SOC>', 'A2', 'D3', '<EOC>', 2, 'C5', 2, '<SOC>', 'C4', 'D4', '<EOC>', 1.25, 'E4', 0.3, 'D4', 0.3, 'C4', 1.25, 'D4', 1.25, '<SOC>', 'D2', 'D3', '<EOC>', 1.25, 'C4', 1.25, 'G#4', 1.25, 'D4', 1.25, '<SOC>', 'F#2', 'D3', '<EOC>', 2, 'A4', 2, '<SOC>', 'C4', 'D4', '<EOC>', 1.25, 'E4', 0.3, 'D4', 0.3, 'C4', 1.25, 'D4', 1.25, '<SOC>', 'D2', 'D3', '<EOC>', 1.25, 'C4', 1.25, 'B-4', 1.25, 'D4', 1.25, '<SOC>', 'G2', 'D3', '<EOC>', 2, 'B4', 2, '<SOC>', 'B3', 'D4', '<EOC>', 1.25, 'E4', 0.3, 'D4', 0.3, 'B3', 1.25, 'D4', 1.25, '<SOC>', 'D2', 'D3', '<EOC>', 1.25, 'B3', 1.25, 'B4', 1.25, 'D4', 1.25, 'G#3', 1.25, 'E3', 2, 'E4', 2, 'D4', 1.25, 'B3', 0.3, 'A3', 0.3, 'G4', 0.3, 'G#3', 1.25, 'F4', 0.3, '<SOC>', 'E4', 'D4', '<EOC>', 1.25, 'B4', 1.25, 'E3', 1.25, '<SOC>', 'D4', 'E4', 'G#4', '<EOC>', 1.25, 'C5', 1.25, 'D5', 1.25, 'A2', 2, 'E3', 2, 'C4', 1.25, 'C5', 2, 'F4', 0.3, 'E4', 0.3, 'C4', 1.25, 'E4', 1.25, 'E-3', 0.3, 'F3', 0.3, 'C4', 1.25, 'C5', 1.25, 'E-3', 1.25, 'G4', 1.25, 'D2', 2, 'C4', 1.25, 'F#4', 1.25, 'A4', 0.3, 'G3', 1.25, 'F#4', 0.3, 'C4', 1.25, 'E4', 1.25, 'A4', 1.25, 'F#3', 1.25, 'C4', 1.25, 'D4', 1.25, 'B-4', 1.25, '<SOC>', 'G2', 'D3', '<EOC>', 2, 'B4', 2, '<SOC>', 'B3', 'D4', '<EOC>', 1.25, 'E4', 0.3, 'D4', 0.3, 'B3', 1.25, 'D4', 1.25, '<SOC>', 'D2', 'D3', '<EOC>', 1.25, 'D4', 1.25, '<SOC>', 'G#2', 'D3', '<EOC>', 2, 'B4', 2, '<SOC>', 'B3', 'F4', '<EOC>', 1.25, 'E4', 0.3, 'D4', 0.3, 'B3', 1.25, 'D4', 1.25, '<SOC>', 'D2', 'D3', '<EOC>', 1.25, 'D4', 1.25, '<SOC>', 'A2', 'D3', '<EOC>', 2, 'C5', 2, '<SOC>', 'C4', 'D4', '<EOC>', 1.25, 'E4', 0.3, 'D4', 0.3, 'C4', 1.25, 'D4', 1.25, '<SOC>', 'D2', 'D3', '<EOC>', 1.25, 'C4', 1.25, 'G#4', 1.25, 'D4', 1.25, '<SOC>', 'F#2', 'D3', '<EOC>', 2, 'A4', 2, '<SOC>', 'C4', 'D4', '<EOC>', 1.25, 'E4', 0.3, 'D4', 0.3, 'C4', 1.25, 'D4', 1.25, '<SOC>', 'D2', 'D3', '<EOC>', 1.25, 'C4', 1.25, 'B-4', 1.25, 'D4', 1.25, '<SOC>', 'G2', 'D3', '<EOC>', 2, 'B4', 2, '<SOC>', 'B3', 'D4', '<EOC>', 1.25, 'E4', 0.3, 'D4', 0.3, 'B3', 1.25, 'D4', 1.25, 'G3', 1.25, 'D4', 1.25, 'C#3', 0.3, 'D3', 0.3, 'E4', 2, 'B3', 1.25, 'C#3', 2, 'A4', 0.3, 'G4', 0.3, 'E4', 1.25, 'F#3', 1.25, 'B4', 1.25, 'G3', 1.25, '<SOC>', 'E4', 'E5', '<EOC>', 1.25, 'C#4', 1.25, 'B4', 1.25, 'F#3', 2, 'D5', 2, 'D4', 1.25, 'G4', 0.3, 'F#4', 0.3, 'F4', 1.25, 'E4', 2, 'F#2', 1.25, 'C#5', 1.25, 'F#4', 1.25, 'B2', 2, '<SOC>', 'D4', 'B4', '<EOC>', 2, 'A3', 0.3, 'G3', 0.3, 'F3', 1.25, 'F#3', 1.25, 'B3', 1.25, 'D2', 1.25, '<SOC>', 'A4', 'C5', '<EOC>', 2, 'D4', 0.3, 'D4', 0.3, 'D4', 1.25, 'D4', 1.25, '<SOC>', 'G#4', 'B4', '<EOC>', 1.25, 'D4', 1.25, 'D4', 1.25, '<SOC>', 'B4', 'D5', '<EOC>', 1.25, 'D4', 1.25, '<SOC>', 'A4', 'C5', '<EOC>', 1.25, 'D4', 1.25, '<SOC>', 'G#4', 'B4', '<EOC>', 1.25, 'D4', 1.25, 'D4', 1.25, '<SOC>', 'F4', 'G#4', '<EOC>', 1.25, 'D4', 1.25, '<SOC>', 'F#4', 'A4', '<EOC>', 1.25, '<SOC>', 'A4', 'C5', '<EOC>', 1.25, 'D4', 1.25, '<SOC>', 'C5', 'E5', '<EOC>', 1.25, '<SOC>', 'E5', 'G5', '<EOC>', 1.25, 'D4', 1.25, '<SOC>', 'D5', 'F#5', '<EOC>', 1.25, 'D4', 1.25, '<SOC>', 'A5', 'F#5', '<EOC>', 1.25, 'D4', 1.25, '<SOC>', 'D5', 'F#5', '<EOC>', 1.25, '<SOC>', 'C5', 'E5', '<EOC>', 1.25, 'D4', 1.25, '<SOC>', 'A4', 'C5', '<EOC>', 1.25, '<SOC>', 'G#4', 'B4', '<EOC>', 1.25, 'D4', 1.25, '<SOC>', 'B4', 'D5', '<EOC>', 1.25, 'D2', 1.25, '<SOC>', 'A4', 'C5', '<EOC>', 2, 'D4', 0.3, 'D4', 0.3, 'D4', 1.25, 'D4', 1.25, '<SOC>', 'G#4', 'B4', '<EOC>', 1.25, 'D4', 1.25, 'D4', 1.25, '<SOC>', 'B-4', 'D5', '<EOC>', 1.25, 'D4', 1.25, '<SOC>', 'A4', 'C5', '<EOC>', 1.25, 'D4', 1.25, '<SOC>', 'G4', 'B-4', '<EOC>', 1.25, 'D4', 1.25, 'D4', 1.25, '<SOC>', 'F4', 'G#4', '<EOC>', 1.25, 'D4', 1.25, '<SOC>', 'F#4', 'A4', '<EOC>', 1.25, '<SOC>', 'A4', 'C5', '<EOC>', 1.25, 'D4', 1.25, '<SOC>', 'C5', 'E-5', '<EOC>', 1.25, '<SOC>', 'E-5', 'G5', '<EOC>', 1.25, 'D4', 1.25, '<SOC>', 'D5', 'F#5', '<EOC>', 1.25, 'D4', 1.25, '<SOC>', 'A5', 'F#5', '<EOC>', 1.25, 'D4', 1.25, '<SOC>', 'D5', 'F#5', '<EOC>', 1.25, '<SOC>', 'C5', 'E-5', '<EOC>', 1.25, 'D4', 1.25, '<SOC>', 'G4', 'A4', '<EOC>', 1.25, '<SOC>', 'F#4', 'D5', '<EOC>', 1.25, 'D4', 1.25, '<SOC>', 'A4', 'C5', '<EOC>', 1.25, '<SOC>', 'G4', 'B-4', '<EOC>', 2, 'E-4', 0.3, 'F4', 0.3, 'E-4', 1.25, 'D4', 1.25, 'E-4', 1.25, 'D4', 1.25, 'C#4', 2, 'E-5', 1.25, 'F5', 1.25, 'G5', 1.25, 'F5', 1.25, 'E-5', 1.25, 'C#5', 2, '<SOC>', 'C6', 'G5', 'E-5', '<EOC>', 1.25, 'B-5', 1.25, 'G5', 1.25, 'E-5', 1.25, 'F5', 1.25, 'E-5', 1.25, 'C#4', 2, '<SOC>', 'E-4', 'G4', '<EOC>', 1.25, 'C5', 1.25, 'B-4', 1.25, 'G4', 1.25, 'B-4', 1.25, 'E-5', 1.25, 'G5', 1.25, 'C#2', 1.25, '<SOC>', 'E-5', 'G5', 'G4', 'B-4', '<EOC>', 2, 'E-4', 0.3, 'F4', 0.3, 'E-4', 1.25, 'D4', 1.25, 'E-4', 1.25, 'D4', 1.25, 'C#4', 2, 'E-5', 1.25, 'F5', 1.25, 'G5', 1.25, 'F5', 1.25, 'E-5', 1.25, 'C#5', 2, '<SOC>', 'C6', 'G5', 'E-5', '<EOC>', 1.25, 'B-5', 1.25, 'G5', 1.25, 'E-5', 1.25, 'F5', 1.25, 'E-5', 1.25, 'C#4', 2, '<SOC>', 'E-4', 'G4', '<EOC>', 1.25, 'C5', 1.25, 'B-4', 1.25, 'G4', 1.25, 'B-4', 1.25, 'E-5', 1.25, 'G5', 1.25, 'D2', 1.25, '<SOC>', 'B-4', 'D5', 'B-5', 'G5', '<EOC>', 2, 'D4', 1.25, 'D4', 1.25, '<SOC>', 'B-4', 'D5', '<EOC>', 1.25, 'D4', 1.25, 'D4', 1.25, '<SOC>', 'A4', 'C5', '<EOC>', 1.25, 'D4', 1.25, '<SOC>', 'C5', 'E-5', '<EOC>', 1.25, '<SOC>', 'F5', 'A5', '<EOC>', 1.25, 'D4', 1.25, '<SOC>', 'D5', 'F5', '<EOC>', 1.25, 'D4', 1.25, '<SOC>', 'B-4', 'D5', '<EOC>', 1.25, 'D4', 1.25, '<SOC>', 'G4', 'B-4', '<EOC>', 0.3, 'D4', 1.25, '<SOC>', 'E-5', 'G5', '<EOC>', 0.3, '<SOC>', 'C5', 'E-5', '<EOC>', 0.3, 'D4', 1.25, '<SOC>', 'A4', 'C5', '<EOC>', 0.3, '<SOC>', 'F#4', 'A4', '<EOC>', 0.3, 'D4', 1.25, '<SOC>', 'D5', 'F5', '<EOC>', 0.3, 'D4', 1.25, '<SOC>', 'B-4', 'D5', '<EOC>', 0.3, 'D4', 1.25, '<SOC>', 'G4', 'B-4', '<EOC>', 0.3, 'D4', 1.25, 'E-4', 1.25, 'G4', 1.25, 'B-4', 1.25, 'D3', 1.25, '<SOC>', 'C4', 'F#4', '<EOC>', 1.25, 'A4', 1.25, 'D5', 1.25, 'B2', 1.25, 'D5', 2, 'C4', 1.25, '<SOC>', 'D4', 'F4', 'G#4', '<EOC>', 2, 'B3', 1.25, 'C3', 1.25, '<SOC>', 'C5', 'D5', '<EOC>', 0.3, '<SOC>', 'G4', 'E-4', 'A3', '<EOC>', 2, 'C5', 0.3, 'B4', 1.25, 'C5', 1.25, 'D5', 1.25, 'E-5', 1.25, 'D2', 2, '<SOC>', 'G4', 'B-4', '<EOC>', 1.25, 'C5', 1.25, 'C#5', 1.25, 'D5', 1.25, 'D4', 1.25, 'G5', 1.25, 'D5', 1.25, 'C4', 1.25, 'D3', 2, '<SOC>', 'F#4', 'B-4', '<EOC>', 2, 'C#4', 1.25, 'D4', 1.25, '<SOC>', 'C#4', 'D4', '<EOC>', 0.3, 'C#4', 0.3, 'C4', 1.25, 'A4', 1.25, 'D3', 1.25, '<SOC>', 'G2', 'D3', 'B-3', '<EOC>', 1.25, '<SOC>', 'G4', 'D5', 'G5', '<EOC>', 0.3, 'B4', 0.3, '<SOC>', 'G4', 'D5', 'G5', '<EOC>', 0.3, 'C5', 0.3, 'D5', 0.3, 'A4', 0.3, 'E-5', 0.3, 'D5', 0.3, 'G5', 0.3, 'C5', 0.3, 'F#5', 0.3, 'B-4', 0.3, 'A5', 0.3, 'A4', 0.3, '<SOC>', 'G5', 'A5', '<EOC>', 0.3, 'B-4', 0.3, '<SOC>', 'G5', 'F#5', '<EOC>', 0.3, 'G4', 0.3, 'G5', 0.3, 'F#4', 0.3, 'B-5', 0.3, 'D4', 0.3, '<SOC>', 'D5', 'A5', '<EOC>', 0.3, 'C3', 1.25, 'D6', 0.3, 'F5', 2, 'F#4', 1.25, '<SOC>', 'C4', 'E-4', '<EOC>', 2, 'G4', 1.25, 'E-5', 1.25, 'F2', 1.25, '<SOC>', 'D5', 'E-5', '<EOC>', 0.3, 'G#4', 1.25, '<SOC>', 'C4', 'E-4', '<EOC>', 2, 'D5', 0.3, 'C5', 1.25, 'B4', 1.25, 'A4', 1.25, 'C5', 1.25, 'D5', 1.25, 'B-2', 1.25, 'E-5', 1.25, 'D5', 2, '<SOC>', 'C#4', 'A4', 'F#4', '<EOC>', 1.25, '<SOC>', 'D4', 'B-4', '<EOC>', 1.25, 'B3', 1.25, 'G#4', 1.25, 'C#5', 1.25, 'C3', 1.25, 'D5', 1.25, 'G4', 2, 'F5', 1.25, 'B3', 1.25, 'E-5', 1.25, 'C4', 1.25, 'D5', 1.25, 'D4', 1.25, 'E-5', 1.25, 'E-4', 1.25, 'C5', 1.25, 'F2', 1.25, 'G4', 1.25, 'D5', 0.3, '<SOC>', 'F4', 'B-4', 'D5', '<EOC>', 1.25, 'E-5', 0.3, 'F5', 0.3, 'C5', 0.3, 'F#5', 0.3, 'F5', 0.3, 'B-5', 0.3, 'E-5', 0.3, 'A5', 0.3, 'D5', 0.3, 'C6', 0.3, 'C#5', 0.3, '<SOC>', 'B-5', 'C6', '<EOC>', 0.3, 'D5', 0.3, '<SOC>', 'B-5', 'A5', '<EOC>', 0.3, 'B-4', 0.3, 'B-5', 0.3, 'A4', 0.3, 'D6', 0.3, 'F4', 0.3, '<SOC>', 'F5', 'C6', '<EOC>', 0.3, 'B-2', 1.25, 'F6', 0.3, '<SOC>', 'D4', 'F3', '<EOC>', 2, 'B-4', 1.25, 'C5', 1.25, 'D5', 1.25, 'F5', 1.25, 'B-2', 1.25, 'E-5', 1.25, '<SOC>', 'D5', 'E-5', '<EOC>', 0.3, '<SOC>', 'E-4', 'B3', 'F#3', '<EOC>', 2, 'D5', 0.3, 'B4', 1.25, 'B-4', 1.25, 'G#4', 1.25, 'F#4', 1.25, 'B-2', 1.25, 'B-4', 1.25, 'B-4', 0.3, 'B-3', 1.25, 'F4', 2, 'C4', 1.25, 'D4', 1.25, 'F4', 1.25, 'D4', 1.25, '<SOC>', 'G#4', 'B-4', '<EOC>', 1.25, '<SOC>', 'E-4', 'F4', '<EOC>', 0.3, 'E-4', 0.3, 'D4', 1.25, '<SOC>', 'F#4', 'B-4', '<EOC>', 2, 'E-4', 1.25, 'F4', 1.25, 'F#4', 1.25, 'A4', 1.25, 'B-2', 1.25, 'E-5', 1.25, 'G#3', 1.25, '<SOC>', 'G#4', 'D4', '<EOC>', 2, 'B-4', 1.25, 'B4', 1.25, 'B3', 1.25, 'D5', 1.25, 'F5', 1.25, 'B-2', 1.25, 'F#5', 1.25, '<SOC>', 'B-4', 'F#5', '<EOC>', 0.3, '<SOC>', 'F5', 'F#5', '<EOC>', 0.3, '<SOC>', 'F#4', 'B-3', '<EOC>', 2, 'F5', 0.3, 'E-5', 1.25, 'B4', 1.25, 'B-4', 1.25, 'F#4', 1.25, 'B-2', 1.25, 'B-4', 1.25, 'B-4', 0.3, 'B-3', 1.25, 'F4', 2, 'C4', 1.25, 'D4', 1.25, 'F4', 1.25, 'D4', 1.25, '<SOC>', 'G#4', 'B-4', '<EOC>', 1.25, '<SOC>', 'E-4', 'F4', '<EOC>', 0.3, 'E-4', 0.3, 'D4', 1.25, '<SOC>', 'F#4', 'B-4', '<EOC>', 2, 'E-4', 1.25, 'F4', 1.25, 'F#4', 1.25, 'A4', 1.25, 'B-2', 1.25, 'E-5', 1.25, 'D5', 2, 'E4', 1.25, '<SOC>', 'D4', 'B-3', '<EOC>', 2, 'F4', 1.25, 'C3', 1.25, 'B-4', 1.25, '<SOC>', 'G4', 'E-4', 'C4', '<EOC>', 2, '<SOC>', 'C5', 'D5', '<EOC>', 0.3, 'C5', 0.3, 'B4', 1.25, 'A4', 1.25, 'C5', 1.25, 'D5', 1.25, 'D2', 2, 'E-5', 1.25, '<SOC>', 'G4', 'B-4', '<EOC>', 1.25, 'C5', 1.25, 'C#5', 1.25, 'D4', 1.25, 'D5', 1.25, 'G5', 1.25, 'C4', 1.25, 'D3', 2, 'D5', 1.25, 'C#4', 1.25, '<SOC>', 'F#4', 'B-4', '<EOC>', 2, 'D4', 1.25, '<SOC>', 'C#4', 'D4', '<EOC>', 0.3, 'C#4', 0.3, 'C4', 1.25, 'D3', 1.25, 'A4', 1.25, '<SOC>', 'G2', 'D3', 'B-3', '<EOC>', 1.25, '<SOC>', 'G4', 'D5', 'G5', '<EOC>', 0.3, 'B4', 0.3, '<SOC>', 'G4', 'D5', 'G5', '<EOC>', 0.3, 'C5', 0.3, 'D5', 0.3, 'A4', 0.3, 'E-5', 0.3, 'D5', 0.3, 'G5', 0.3, 'C5', 0.3, 'F#5', 0.3, 'B-4', 0.3, 'A5', 0.3, 'A4', 0.3, '<SOC>', 'G5', 'A5', '<EOC>', 0.3, 'B-4', 0.3, '<SOC>', 'G5', 'F#5', '<EOC>', 0.3, 'G4', 0.3, 'G5', 0.3, 'F#4', 0.3, 'B-5', 0.3, 'D4', 0.3, '<SOC>', 'D5', 'A5', '<EOC>', 0.3, 'G4', 0.3, 'C6', 0.3, 'B4', 0.3, 'B-5', 0.3, 'C5', 0.3, '<SOC>', 'G#5', 'F6', 'D6', '<EOC>', 0.3, 'A4', 0.3, '<SOC>', 'E6', 'C6', 'G5', '<EOC>', 0.3, 'B-4', 0.3, '<SOC>', 'F#5', 'C6', 'E-6', '<EOC>', 0.3, 'F#4', 0.3, '<SOC>', 'D6', 'G5', '<EOC>', 0.3, 'G4', 1.25, '<SOC>', 'C6', 'A5', 'D5', '<EOC>', 0.3, 'F4', 1.25, '<SOC>', 'D5', 'G5', 'B-5', '<EOC>', 1.25, 'E4', 1.25, '<SOC>', 'B4', 'G#5', '<EOC>', 1.25, 'E-4', 1.25, 'G5', 2, 'C5', 1.25, 'D4', 1.25, 'C#5', 1.25, 'C#4', 1.25, 'D5', 1.25, 'D2', 1.25, '<SOC>', 'B-5', 'G5', 'E-5', '<EOC>', 1.25, 'D4', 1.25, '<SOC>', 'B-4', 'D5', 'B-5', 'G5', '<EOC>', 2, 'D4', 1.25, 'D4', 1.25, '<SOC>', 'B-4', 'D5', '<EOC>', 1.25, 'D4', 1.25, 'D4', 1.25, '<SOC>', 'A4', 'C5', '<EOC>', 0.3, '<SOC>', 'C5', 'E-5', '<EOC>', 0.3, 'D4', 1.25, '<SOC>', 'F5', 'A5', '<EOC>', 1.25, 'D4', 1.25, '<SOC>', 'D5', 'F5', '<EOC>', 0.3, 'D4', 1.25, '<SOC>', 'B-4', 'D5', '<EOC>', 0.3, 'D4', 1.25, '<SOC>', 'G4', 'B-4', '<EOC>', 0.3, '<SOC>', 'E-5', 'G5', '<EOC>', 0.3, 'D4', 1.25, '<SOC>', 'C5', 'E-5', '<EOC>', 0.3, '<SOC>', 'A4', 'C5', '<EOC>', 0.3, 'D4', 1.25, '<SOC>', 'F#4', 'A4', '<EOC>', 0.3, 'D4', 1.25, '<SOC>', 'D5', 'F5', '<EOC>', 0.3, 'D4', 1.25, '<SOC>', 'B-4', 'D5', '<EOC>', 1.25, 'D4', 1.25, '<SOC>', 'G4', 'B-4', '<EOC>', 1.25, 'E-4', 1.25, 'G4', 1.25, 'D3', 1.25, 'B-4', 1.25, '<SOC>', 'C4', 'F#4', '<EOC>', 1.25, 'A4', 1.25, 'G2', 1.25, 'B-4', 1.25, 'C#3', 1.25, '<SOC>', 'B3', 'D4', 'G4', 'B4', '<EOC>', 2, 'D3', 1.25, 'F3', 0.3, '<SOC>', 'E-3', 'F3', '<EOC>', 0.3, 'E-3', 1.25, 'D3', 1.25, '<SOC>', 'G2', 'E-3', '<EOC>', 2, 'G#3', 1.25, 'C4', 1.25, 'E-4', 1.25, 'G#4', 1.25, 'B-4', 1.25, 'G2', 1.25, 'C5', 1.25, 'C#3', 1.25, '<SOC>', 'D4', 'G4', 'B4', 'D5', '<EOC>', 2, 'D3', 1.25, 'F3', 0.3, '<SOC>', 'E-3', 'F3', '<EOC>', 0.3, 'E-3', 1.25, 'D3', 1.25, '<SOC>', 'G2', 'E-3', '<EOC>', 2, 'G#3', 1.25, 'B-3', 1.25, 'C4', 1.25, 'E-4', 1.25, 'G#4', 1.25, 'C5', 1.25, 'G2', 1.25, 'E-5', 1.25, 'C#3', 1.25, 'C6', 1.25, '<SOC>', 'D5', 'G5', 'B5', '<EOC>', 2, 'D3', 1.25, 'F3', 0.3, '<SOC>', 'E-3', 'F3', '<EOC>', 0.3, 'E-3', 1.25, 'D3', 1.25, 'G3', 1.25, 'B3', 1.25, 'C#4', 1.25, 'D4', 1.25, 'F4', 0.3, 'E-4', 1.25, 'D4', 1.25, 'G4', 1.25, 'B4', 1.25, 'C#5', 1.25, 'D5', 1.25, 'F5', 0.3, 'E-5', 1.25, 'D5', 1.25, '<SOC>', 'G4', 'D5', 'G5', '<EOC>', 2, '<SOC>', 'D5', 'G5', 'B5', '<EOC>', 2, '<SOC>', 'G2', 'D3', 'G3', '<EOC>', 2, '<SOC>', 'D5', 'G5', 'B5', '<EOC>', 2, '<SOC>', 'G6', 'B5', 'D6', 'B6', '<EOC>', 2, '<SOC>', 'B3', 'D4', 'G4', 'B4', '<EOC>', 2]\n"
     ]
    }
   ],
   "source": [
    "chords_and_duration_data_all_music= []\n",
    "for one_score in score_of_all_musics:\n",
    "   chords_and_duration_data_all_music.append((get_chord_and_duration_data(one_score)))"
   ]
  },
  {
   "cell_type": "code",
   "execution_count": 69,
   "id": "25b8b9ce",
   "metadata": {},
   "outputs": [
    {
     "data": {
      "text/plain": [
       "1.25"
      ]
     },
     "execution_count": 69,
     "metadata": {},
     "output_type": "execute_result"
    }
   ],
   "source": [
    "# this is the main data:\n",
    "chords_and_duration_data_all_music[0][1]\n",
    "#np.asarray(chords_and_duration_data_all_music).shape"
   ]
  },
  {
   "cell_type": "code",
   "execution_count": null,
   "id": "1c076e86",
   "metadata": {},
   "outputs": [],
   "source": [
    "print(\"Generating music from our processed chords...\")\n",
    "proccessed_chords_to_midi_sample = get_music_midi_filename_from_chords(chords_and_duration_data_all_music[0][4:50])\n",
    "print(proccessed_chords_to_midi_sample)\n",
    "play_midi_file(proccessed_chords_to_midi_sample)"
   ]
  },
  {
   "cell_type": "code",
   "execution_count": null,
   "id": "7206e80c",
   "metadata": {},
   "outputs": [],
   "source": []
  },
  {
   "cell_type": "markdown",
   "id": "aba7d973",
   "metadata": {},
   "source": [
    "from Tonic_mode_all, separating major and minor songs "
   ]
  },
  {
   "cell_type": "code",
   "execution_count": 17,
   "id": "4f642b8e",
   "metadata": {},
   "outputs": [
    {
     "ename": "NameError",
     "evalue": "name 'tonic_mode_all' is not defined",
     "output_type": "error",
     "traceback": [
      "\u001b[1;31m---------------------------------------------------------------------------\u001b[0m",
      "\u001b[1;31mNameError\u001b[0m                                 Traceback (most recent call last)",
      "Input \u001b[1;32mIn [17]\u001b[0m, in \u001b[0;36m<cell line: 1>\u001b[1;34m()\u001b[0m\n\u001b[1;32m----> 1\u001b[0m \u001b[43mtonic_mode_all\u001b[49m[\u001b[38;5;241m0\u001b[39m][\u001b[38;5;241m0\u001b[39m], tonic_mode_all[\u001b[38;5;241m0\u001b[39m][\u001b[38;5;241m-\u001b[39m\u001b[38;5;241m1\u001b[39m]\n",
      "\u001b[1;31mNameError\u001b[0m: name 'tonic_mode_all' is not defined"
     ]
    }
   ],
   "source": [
    "tonic_mode_all[0][0], tonic_mode_all[0][-1]"
   ]
  },
  {
   "cell_type": "code",
   "execution_count": null,
   "id": "f319209c",
   "metadata": {},
   "outputs": [],
   "source": []
  },
  {
   "cell_type": "code",
   "execution_count": 18,
   "id": "3bba9e10",
   "metadata": {},
   "outputs": [
    {
     "ename": "NameError",
     "evalue": "name 'tonic_mode_all' is not defined",
     "output_type": "error",
     "traceback": [
      "\u001b[1;31m---------------------------------------------------------------------------\u001b[0m",
      "\u001b[1;31mNameError\u001b[0m                                 Traceback (most recent call last)",
      "Input \u001b[1;32mIn [18]\u001b[0m, in \u001b[0;36m<cell line: 3>\u001b[1;34m()\u001b[0m\n\u001b[0;32m      1\u001b[0m all_major_songs_chords_and_duration \u001b[38;5;241m=\u001b[39m []\n\u001b[0;32m      2\u001b[0m all_minor_songs_chords_and_duration \u001b[38;5;241m=\u001b[39m []\n\u001b[1;32m----> 3\u001b[0m \u001b[38;5;28;01mfor\u001b[39;00m i \u001b[38;5;129;01min\u001b[39;00m \u001b[38;5;28mrange\u001b[39m(\u001b[38;5;28mlen\u001b[39m(\u001b[43mtonic_mode_all\u001b[49m)):\n\u001b[0;32m      4\u001b[0m     \u001b[38;5;28;01mif\u001b[39;00m(tonic_mode_all[i][\u001b[38;5;241m-\u001b[39m\u001b[38;5;241m1\u001b[39m] \u001b[38;5;241m==\u001b[39m \u001b[38;5;124m'\u001b[39m\u001b[38;5;124mmajor\u001b[39m\u001b[38;5;124m'\u001b[39m):\n\u001b[0;32m      5\u001b[0m         \u001b[38;5;28;01mtry\u001b[39;00m:\n",
      "\u001b[1;31mNameError\u001b[0m: name 'tonic_mode_all' is not defined"
     ]
    }
   ],
   "source": [
    "all_major_songs_chords_and_duration = []\n",
    "all_minor_songs_chords_and_duration = []\n",
    "for i in range(len(tonic_mode_all)):\n",
    "    if(tonic_mode_all[i][-1] == 'major'):\n",
    "        try:\n",
    "            all_major_songs_chords_and_duration.append(chords_and_duration_data_all_music[i])\n",
    "        except:\n",
    "            all_major_songs_chords_and_duration.append('NANNNNNN')\n",
    "    else:\n",
    "        try:\n",
    "            all_minor_songs_chords_and_duration.append(chords_and_duration_data_all_music[i])\n",
    "        except:\n",
    "             all_minor_songs_chords_and_duration.append('NANNNNNN')"
   ]
  },
  {
   "cell_type": "code",
   "execution_count": 19,
   "id": "dcb4e5b0",
   "metadata": {},
   "outputs": [
    {
     "data": {
      "text/plain": [
       "(0,)"
      ]
     },
     "execution_count": 19,
     "metadata": {},
     "output_type": "execute_result"
    }
   ],
   "source": [
    "len(all_minor_songs_chords_and_duration), #minor_songs_chords_with_duration, len(minor_songs_chords_with_duration)"
   ]
  },
  {
   "cell_type": "code",
   "execution_count": 20,
   "id": "d613e503",
   "metadata": {},
   "outputs": [],
   "source": [
    "major_dataset = all_major_songs_chords_and_duration \n",
    "minor_dataset = all_minor_songs_chords_and_duration"
   ]
  },
  {
   "cell_type": "code",
   "execution_count": 21,
   "id": "fb99c737",
   "metadata": {},
   "outputs": [],
   "source": [
    "#just a reference code\n",
    "#major_dataset\n",
    "#y=np.array(major_dataset)\n",
    "#unique = set(major_dataset_all)\n",
    "#unique2 = set(minor_dataset_all)"
   ]
  },
  {
   "cell_type": "code",
   "execution_count": 22,
   "id": "2a7e8e60",
   "metadata": {},
   "outputs": [
    {
     "data": {
      "text/plain": [
       "[[], [], [], []]"
      ]
     },
     "execution_count": 22,
     "metadata": {},
     "output_type": "execute_result"
    }
   ],
   "source": [
    "chords_and_duration_data_all_music"
   ]
  },
  {
   "cell_type": "code",
   "execution_count": 70,
   "id": "23c92548",
   "metadata": {},
   "outputs": [],
   "source": [
    "main_dataset = chords_and_duration_data_all_music"
   ]
  },
  {
   "cell_type": "markdown",
   "id": "0354fbfd",
   "metadata": {},
   "source": [
    "* Data preparation stage"
   ]
  },
  {
   "cell_type": "code",
   "execution_count": 71,
   "id": "ca5b84cd",
   "metadata": {},
   "outputs": [
    {
     "ename": "NameError",
     "evalue": "name 'i' is not defined",
     "output_type": "error",
     "traceback": [
      "\u001b[1;31m---------------------------------------------------------------------------\u001b[0m",
      "\u001b[1;31mNameError\u001b[0m                                 Traceback (most recent call last)",
      "Input \u001b[1;32mIn [71]\u001b[0m, in \u001b[0;36m<cell line: 6>\u001b[1;34m()\u001b[0m\n\u001b[0;32m      6\u001b[0m \u001b[38;5;28;01mfor\u001b[39;00m each_music_with_CD \u001b[38;5;129;01min\u001b[39;00m main_dataset:\n\u001b[0;32m      7\u001b[0m     \u001b[38;5;28;01mfor\u001b[39;00m each_CD \u001b[38;5;129;01min\u001b[39;00m \u001b[38;5;28mrange\u001b[39m(\u001b[38;5;241m0\u001b[39m, \u001b[38;5;28mlen\u001b[39m(each_music_with_CD) \u001b[38;5;241m-\u001b[39m no_of_timesteps,  \u001b[38;5;241m1\u001b[39m):\n\u001b[0;32m      8\u001b[0m         \n\u001b[0;32m      9\u001b[0m         \u001b[38;5;66;03m## preparing input and output sequences:\u001b[39;00m\n\u001b[1;32m---> 10\u001b[0m         input_ \u001b[38;5;241m=\u001b[39m each_music_with_CD[\u001b[43mi\u001b[49m:i \u001b[38;5;241m+\u001b[39m no_of_timesteps]\n\u001b[0;32m     11\u001b[0m         output \u001b[38;5;241m=\u001b[39m each_music_with_CD[i \u001b[38;5;241m+\u001b[39m no_of_timesteps]\n\u001b[0;32m     13\u001b[0m         \u001b[38;5;28;01mfor\u001b[39;00m i \u001b[38;5;129;01min\u001b[39;00m \u001b[38;5;28mrange\u001b[39m(\u001b[38;5;28mlen\u001b[39m(input_)):\n",
      "\u001b[1;31mNameError\u001b[0m: name 'i' is not defined"
     ]
    }
   ],
   "source": [
    "no_of_timesteps = 32\n",
    "x = []\n",
    "y = []\n",
    "## CD stands for chord and duration.\n",
    "\n",
    "for each_music_with_CD in main_dataset:\n",
    "    for each_CD in range(0, len(each_music_with_CD) - no_of_timesteps,  1):\n",
    "        \n",
    "        ## preparing input and output sequences:\n",
    "        input_ = each_music_with_CD[i:i + no_of_timesteps]\n",
    "        output = each_music_with_CD[i + no_of_timesteps]\n",
    "        \n",
    "        for i in range(len(input_)):\n",
    "            input_[i]= \"@\".join(map(str,input_[i]))\n",
    "            \n",
    "        output = \"@\".join(map(str,output))\n",
    "        \n",
    "        x.append(input_)\n",
    "        y.append(output)\n",
    "        \n",
    "x=np.array(x)\n",
    "y=np.array(y)"
   ]
  },
  {
   "cell_type": "code",
   "execution_count": 25,
   "id": "0c1eb2ff",
   "metadata": {},
   "outputs": [
    {
     "data": {
      "text/plain": [
       "array([], dtype=float64)"
      ]
     },
     "execution_count": 25,
     "metadata": {},
     "output_type": "execute_result"
    }
   ],
   "source": [
    "y"
   ]
  },
  {
   "cell_type": "code",
   "execution_count": null,
   "id": "05aa3d85",
   "metadata": {},
   "outputs": [],
   "source": []
  },
  {
   "cell_type": "code",
   "execution_count": 26,
   "id": "716c29c5",
   "metadata": {},
   "outputs": [
    {
     "data": {
      "text/plain": [
       "{}"
      ]
     },
     "execution_count": 26,
     "metadata": {},
     "output_type": "execute_result"
    }
   ],
   "source": [
    "#assigning unique integer to every chords_and_duration\n",
    "\n",
    "unique_x_CD = list(set(x.ravel()))\n",
    "unique_x_CD_to_int = dict((chord_and_duration, number) for number, chord_and_duration in enumerate(unique_x_CD))\n",
    "unique_x_CD_to_int"
   ]
  },
  {
   "cell_type": "code",
   "execution_count": 27,
   "id": "3d1b2a5b",
   "metadata": {},
   "outputs": [
    {
     "data": {
      "text/plain": [
       "(0,)"
      ]
     },
     "execution_count": 27,
     "metadata": {},
     "output_type": "execute_result"
    }
   ],
   "source": [
    "#preparing input sequences::\n",
    "\n",
    "x_seq=[]\n",
    "for each_row in x:\n",
    "    temp=[]\n",
    "    for each_piece in each_row:\n",
    "        #assigning unique integer to every note\n",
    "        temp.append(unique_x_CD_to_int[each_piece])\n",
    "    x_seq.append(temp)\n",
    "    \n",
    "x_seq = np.array(x_seq)\n",
    "x_seq.shape"
   ]
  },
  {
   "cell_type": "code",
   "execution_count": 28,
   "id": "df59f827",
   "metadata": {
    "scrolled": true
   },
   "outputs": [
    {
     "data": {
      "text/plain": [
       "{}"
      ]
     },
     "execution_count": 28,
     "metadata": {},
     "output_type": "execute_result"
    }
   ],
   "source": [
    "# preparing th output sequences as well::\n",
    "\n",
    "unique_y_CD = list(set(y))\n",
    "unique_y_CD_to_int = dict((chord_and_duration, number) for number, chord_and_duration in enumerate(unique_y_CD)) \n",
    "unique_y_CD_to_int"
   ]
  },
  {
   "cell_type": "code",
   "execution_count": 29,
   "id": "5fc1e1c6",
   "metadata": {},
   "outputs": [
    {
     "data": {
      "text/plain": [
       "(0,)"
      ]
     },
     "execution_count": 29,
     "metadata": {},
     "output_type": "execute_result"
    }
   ],
   "source": [
    "y_seq=np.array([unique_y_CD_to_int[i] for i in y])\n",
    "y_seq.shape"
   ]
  },
  {
   "cell_type": "code",
   "execution_count": 30,
   "id": "52200ecd",
   "metadata": {},
   "outputs": [
    {
     "ename": "ValueError",
     "evalue": "With n_samples=0, test_size=0.2 and train_size=None, the resulting train set will be empty. Adjust any of the aforementioned parameters.",
     "output_type": "error",
     "traceback": [
      "\u001b[1;31m---------------------------------------------------------------------------\u001b[0m",
      "\u001b[1;31mValueError\u001b[0m                                Traceback (most recent call last)",
      "Input \u001b[1;32mIn [30]\u001b[0m, in \u001b[0;36m<cell line: 4>\u001b[1;34m()\u001b[0m\n\u001b[0;32m      1\u001b[0m \u001b[38;5;66;03m# preserving 80% of the data for training and the rest 20% for the evaluation:\u001b[39;00m\n\u001b[0;32m      3\u001b[0m \u001b[38;5;28;01mfrom\u001b[39;00m \u001b[38;5;21;01msklearn\u001b[39;00m\u001b[38;5;21;01m.\u001b[39;00m\u001b[38;5;21;01mmodel_selection\u001b[39;00m \u001b[38;5;28;01mimport\u001b[39;00m train_test_split\n\u001b[1;32m----> 4\u001b[0m x_train, x_val, y_train, y_val \u001b[38;5;241m=\u001b[39m \u001b[43mtrain_test_split\u001b[49m\u001b[43m(\u001b[49m\u001b[43mx_seq\u001b[49m\u001b[43m,\u001b[49m\u001b[43my_seq\u001b[49m\u001b[43m,\u001b[49m\u001b[43mtest_size\u001b[49m\u001b[38;5;241;43m=\u001b[39;49m\u001b[38;5;241;43m0.2\u001b[39;49m\u001b[43m,\u001b[49m\u001b[43mrandom_state\u001b[49m\u001b[38;5;241;43m=\u001b[39;49m\u001b[38;5;241;43m0\u001b[39;49m\u001b[43m)\u001b[49m\n",
      "File \u001b[1;32mc:\\Users\\Dell\\anaconda3\\lib\\site-packages\\sklearn\\model_selection\\_split.py:2448\u001b[0m, in \u001b[0;36mtrain_test_split\u001b[1;34m(test_size, train_size, random_state, shuffle, stratify, *arrays)\u001b[0m\n\u001b[0;32m   2445\u001b[0m arrays \u001b[38;5;241m=\u001b[39m indexable(\u001b[38;5;241m*\u001b[39marrays)\n\u001b[0;32m   2447\u001b[0m n_samples \u001b[38;5;241m=\u001b[39m _num_samples(arrays[\u001b[38;5;241m0\u001b[39m])\n\u001b[1;32m-> 2448\u001b[0m n_train, n_test \u001b[38;5;241m=\u001b[39m \u001b[43m_validate_shuffle_split\u001b[49m\u001b[43m(\u001b[49m\n\u001b[0;32m   2449\u001b[0m \u001b[43m    \u001b[49m\u001b[43mn_samples\u001b[49m\u001b[43m,\u001b[49m\u001b[43m \u001b[49m\u001b[43mtest_size\u001b[49m\u001b[43m,\u001b[49m\u001b[43m \u001b[49m\u001b[43mtrain_size\u001b[49m\u001b[43m,\u001b[49m\u001b[43m \u001b[49m\u001b[43mdefault_test_size\u001b[49m\u001b[38;5;241;43m=\u001b[39;49m\u001b[38;5;241;43m0.25\u001b[39;49m\n\u001b[0;32m   2450\u001b[0m \u001b[43m\u001b[49m\u001b[43m)\u001b[49m\n\u001b[0;32m   2452\u001b[0m \u001b[38;5;28;01mif\u001b[39;00m shuffle \u001b[38;5;129;01mis\u001b[39;00m \u001b[38;5;28;01mFalse\u001b[39;00m:\n\u001b[0;32m   2453\u001b[0m     \u001b[38;5;28;01mif\u001b[39;00m stratify \u001b[38;5;129;01mis\u001b[39;00m \u001b[38;5;129;01mnot\u001b[39;00m \u001b[38;5;28;01mNone\u001b[39;00m:\n",
      "File \u001b[1;32mc:\\Users\\Dell\\anaconda3\\lib\\site-packages\\sklearn\\model_selection\\_split.py:2126\u001b[0m, in \u001b[0;36m_validate_shuffle_split\u001b[1;34m(n_samples, test_size, train_size, default_test_size)\u001b[0m\n\u001b[0;32m   2123\u001b[0m n_train, n_test \u001b[38;5;241m=\u001b[39m \u001b[38;5;28mint\u001b[39m(n_train), \u001b[38;5;28mint\u001b[39m(n_test)\n\u001b[0;32m   2125\u001b[0m \u001b[38;5;28;01mif\u001b[39;00m n_train \u001b[38;5;241m==\u001b[39m \u001b[38;5;241m0\u001b[39m:\n\u001b[1;32m-> 2126\u001b[0m     \u001b[38;5;28;01mraise\u001b[39;00m \u001b[38;5;167;01mValueError\u001b[39;00m(\n\u001b[0;32m   2127\u001b[0m         \u001b[38;5;124m\"\u001b[39m\u001b[38;5;124mWith n_samples=\u001b[39m\u001b[38;5;132;01m{}\u001b[39;00m\u001b[38;5;124m, test_size=\u001b[39m\u001b[38;5;132;01m{}\u001b[39;00m\u001b[38;5;124m and train_size=\u001b[39m\u001b[38;5;132;01m{}\u001b[39;00m\u001b[38;5;124m, the \u001b[39m\u001b[38;5;124m\"\u001b[39m\n\u001b[0;32m   2128\u001b[0m         \u001b[38;5;124m\"\u001b[39m\u001b[38;5;124mresulting train set will be empty. Adjust any of the \u001b[39m\u001b[38;5;124m\"\u001b[39m\n\u001b[0;32m   2129\u001b[0m         \u001b[38;5;124m\"\u001b[39m\u001b[38;5;124maforementioned parameters.\u001b[39m\u001b[38;5;124m\"\u001b[39m\u001b[38;5;241m.\u001b[39mformat(n_samples, test_size, train_size)\n\u001b[0;32m   2130\u001b[0m     )\n\u001b[0;32m   2132\u001b[0m \u001b[38;5;28;01mreturn\u001b[39;00m n_train, n_test\n",
      "\u001b[1;31mValueError\u001b[0m: With n_samples=0, test_size=0.2 and train_size=None, the resulting train set will be empty. Adjust any of the aforementioned parameters."
     ]
    }
   ],
   "source": [
    "# preserving 80% of the data for training and the rest 20% for the evaluation:\n",
    "\n",
    "from sklearn.model_selection import train_test_split\n",
    "x_train, x_val, y_train, y_val = train_test_split(x_seq,y_seq,test_size=0.2,random_state=0)"
   ]
  },
  {
   "cell_type": "code",
   "execution_count": null,
   "id": "2a390a7d",
   "metadata": {},
   "outputs": [],
   "source": [
    "len(x_val)"
   ]
  },
  {
   "cell_type": "code",
   "execution_count": null,
   "id": "159070c6",
   "metadata": {},
   "outputs": [],
   "source": []
  },
  {
   "cell_type": "markdown",
   "id": "1d81053e",
   "metadata": {},
   "source": [
    "# model building phase:"
   ]
  },
  {
   "cell_type": "code",
   "execution_count": 31,
   "id": "4a99592e",
   "metadata": {},
   "outputs": [],
   "source": [
    "import tensorflow as tf"
   ]
  },
  {
   "cell_type": "code",
   "execution_count": 32,
   "id": "bf407dc5",
   "metadata": {},
   "outputs": [
    {
     "data": {
      "text/plain": [
       "[PhysicalDevice(name='/physical_device:CPU:0', device_type='CPU')]"
      ]
     },
     "execution_count": 32,
     "metadata": {},
     "output_type": "execute_result"
    }
   ],
   "source": [
    "tf.config.experimental.list_physical_devices()"
   ]
  },
  {
   "cell_type": "code",
   "execution_count": null,
   "id": "9c78a79b",
   "metadata": {},
   "outputs": [],
   "source": []
  },
  {
   "cell_type": "code",
   "execution_count": 33,
   "id": "13862e38",
   "metadata": {},
   "outputs": [
    {
     "ename": "ValueError",
     "evalue": "Both `input_dim` and `output_dim` should be positive, Received input_dim = 0 and output_dim = 100",
     "output_type": "error",
     "traceback": [
      "\u001b[1;31m---------------------------------------------------------------------------\u001b[0m",
      "\u001b[1;31mValueError\u001b[0m                                Traceback (most recent call last)",
      "Input \u001b[1;32mIn [33]\u001b[0m, in \u001b[0;36m<cell line: 11>\u001b[1;34m()\u001b[0m\n\u001b[0;32m      8\u001b[0m model \u001b[38;5;241m=\u001b[39m Sequential()\n\u001b[0;32m     10\u001b[0m \u001b[38;5;66;03m#embedding layer\u001b[39;00m\n\u001b[1;32m---> 11\u001b[0m model\u001b[38;5;241m.\u001b[39madd(\u001b[43mEmbedding\u001b[49m\u001b[43m(\u001b[49m\u001b[38;5;28;43mlen\u001b[39;49m\u001b[43m(\u001b[49m\u001b[43munique_x_CD\u001b[49m\u001b[43m)\u001b[49m\u001b[43m,\u001b[49m\u001b[43m \u001b[49m\u001b[38;5;241;43m100\u001b[39;49m\u001b[43m,\u001b[49m\u001b[43m \u001b[49m\u001b[43minput_length\u001b[49m\u001b[38;5;241;43m=\u001b[39;49m\u001b[38;5;241;43m32\u001b[39;49m\u001b[43m,\u001b[49m\u001b[43mtrainable\u001b[49m\u001b[38;5;241;43m=\u001b[39;49m\u001b[38;5;28;43;01mTrue\u001b[39;49;00m\u001b[43m)\u001b[49m) \n\u001b[0;32m     13\u001b[0m model\u001b[38;5;241m.\u001b[39madd(Conv1D(\u001b[38;5;241m64\u001b[39m,\u001b[38;5;241m3\u001b[39m, padding\u001b[38;5;241m=\u001b[39m\u001b[38;5;124m'\u001b[39m\u001b[38;5;124mcausal\u001b[39m\u001b[38;5;124m'\u001b[39m,activation\u001b[38;5;241m=\u001b[39m\u001b[38;5;124m'\u001b[39m\u001b[38;5;124mrelu\u001b[39m\u001b[38;5;124m'\u001b[39m))\n\u001b[0;32m     14\u001b[0m model\u001b[38;5;241m.\u001b[39madd(Dropout(\u001b[38;5;241m0.2\u001b[39m))\n",
      "File \u001b[1;32mc:\\Users\\Dell\\anaconda3\\lib\\site-packages\\keras\\layers\\embeddings.py:122\u001b[0m, in \u001b[0;36mEmbedding.__init__\u001b[1;34m(self, input_dim, output_dim, embeddings_initializer, embeddings_regularizer, activity_regularizer, embeddings_constraint, mask_zero, input_length, **kwargs)\u001b[0m\n\u001b[0;32m    120\u001b[0m     kwargs[\u001b[38;5;124m'\u001b[39m\u001b[38;5;124minput_shape\u001b[39m\u001b[38;5;124m'\u001b[39m] \u001b[38;5;241m=\u001b[39m (\u001b[38;5;28;01mNone\u001b[39;00m,)\n\u001b[0;32m    121\u001b[0m \u001b[38;5;28;01mif\u001b[39;00m input_dim \u001b[38;5;241m<\u001b[39m\u001b[38;5;241m=\u001b[39m \u001b[38;5;241m0\u001b[39m \u001b[38;5;129;01mor\u001b[39;00m output_dim \u001b[38;5;241m<\u001b[39m\u001b[38;5;241m=\u001b[39m \u001b[38;5;241m0\u001b[39m:\n\u001b[1;32m--> 122\u001b[0m   \u001b[38;5;28;01mraise\u001b[39;00m \u001b[38;5;167;01mValueError\u001b[39;00m(\n\u001b[0;32m    123\u001b[0m       \u001b[38;5;124m'\u001b[39m\u001b[38;5;124mBoth `input_dim` and `output_dim` should be positive, \u001b[39m\u001b[38;5;124m'\u001b[39m\n\u001b[0;32m    124\u001b[0m       \u001b[38;5;124mf\u001b[39m\u001b[38;5;124m'\u001b[39m\u001b[38;5;124mReceived input_dim = \u001b[39m\u001b[38;5;132;01m{\u001b[39;00minput_dim\u001b[38;5;132;01m}\u001b[39;00m\u001b[38;5;124m and output_dim = \u001b[39m\u001b[38;5;132;01m{\u001b[39;00moutput_dim\u001b[38;5;132;01m}\u001b[39;00m\u001b[38;5;124m'\u001b[39m)\n\u001b[0;32m    125\u001b[0m \u001b[38;5;28;01mif\u001b[39;00m (\u001b[38;5;129;01mnot\u001b[39;00m base_layer_utils\u001b[38;5;241m.\u001b[39mv2_dtype_behavior_enabled() \u001b[38;5;129;01mand\u001b[39;00m\n\u001b[0;32m    126\u001b[0m     \u001b[38;5;124m'\u001b[39m\u001b[38;5;124mdtype\u001b[39m\u001b[38;5;124m'\u001b[39m \u001b[38;5;129;01mnot\u001b[39;00m \u001b[38;5;129;01min\u001b[39;00m kwargs):\n\u001b[0;32m    127\u001b[0m   \u001b[38;5;66;03m# In TF1, the dtype defaults to the input dtype which is typically int32,\u001b[39;00m\n\u001b[0;32m    128\u001b[0m   \u001b[38;5;66;03m# so explicitly set it to floatx\u001b[39;00m\n\u001b[0;32m    129\u001b[0m   kwargs[\u001b[38;5;124m'\u001b[39m\u001b[38;5;124mdtype\u001b[39m\u001b[38;5;124m'\u001b[39m] \u001b[38;5;241m=\u001b[39m backend\u001b[38;5;241m.\u001b[39mfloatx()\n",
      "\u001b[1;31mValueError\u001b[0m: Both `input_dim` and `output_dim` should be positive, Received input_dim = 0 and output_dim = 100"
     ]
    }
   ],
   "source": [
    "from keras.layers import *\n",
    "from keras.models import *\n",
    "from keras.callbacks import *\n",
    "import keras.backend as K\n",
    "from tensorflow import keras\n",
    "\n",
    "K.clear_session()\n",
    "model = Sequential()\n",
    "    \n",
    "#embedding layer\n",
    "model.add(Embedding(len(unique_x_CD), 100, input_length=32,trainable=True)) \n",
    "\n",
    "model.add(Conv1D(64,3, padding='causal',activation='relu'))\n",
    "model.add(Dropout(0.2))\n",
    "model.add(MaxPool1D(2))\n",
    "    \n",
    "model.add(Conv1D(128,3,activation='relu',dilation_rate=2,padding='causal'))\n",
    "model.add(Dropout(0.2))\n",
    "model.add(MaxPool1D(2))\n",
    "\n",
    "model.add(Conv1D(256,3,activation='relu',dilation_rate=4,padding='causal'))\n",
    "model.add(Dropout(0.2))\n",
    "model.add(MaxPool1D(2))\n",
    "          \n",
    "#model.add(Conv1D(256,5,activation='relu'))    \n",
    "model.add(GlobalMaxPool1D())\n",
    "    \n",
    "model.add(Dense(256, activation='relu'))\n",
    "model.add(Dense(len(unique_y_CD), activation='softmax'))\n",
    "    \n",
    "model.compile(loss='sparse_categorical_crossentropy', optimizer='adam')\n",
    "\n",
    "model.summary()"
   ]
  },
  {
   "cell_type": "code",
   "execution_count": 35,
   "id": "1e5ce237",
   "metadata": {},
   "outputs": [],
   "source": [
    "def lstm():\n",
    "    K.clear_session()\n",
    "    model = Sequential()\n",
    "    #embedding layer\n",
    "    model.add(Embedding(len(unique_x_CD), 100, input_length=32,trainable=True)) \n",
    "    model.add(LSTM(128,return_sequences=True))\n",
    "    model.add(Dropout(0.2))\n",
    "    model.add(LSTM(128))\n",
    "    model.add(Dropout(0.2))\n",
    "    model.add(Dense(256))\n",
    "    model.add(Activation('relu'))\n",
    "\n",
    "    model.add(Dense(len(unique_y_CD), activation='softmax'))\n",
    "    model.compile(loss='sparse_categorical_crossentropy', optimizer='adam')\n",
    "    return model"
   ]
  },
  {
   "cell_type": "code",
   "execution_count": 36,
   "id": "fd1b8e26",
   "metadata": {},
   "outputs": [
    {
     "ename": "ValueError",
     "evalue": "Both `input_dim` and `output_dim` should be positive, Received input_dim = 0 and output_dim = 100",
     "output_type": "error",
     "traceback": [
      "\u001b[1;31m---------------------------------------------------------------------------\u001b[0m",
      "\u001b[1;31mValueError\u001b[0m                                Traceback (most recent call last)",
      "Input \u001b[1;32mIn [36]\u001b[0m, in \u001b[0;36m<cell line: 1>\u001b[1;34m()\u001b[0m\n\u001b[1;32m----> 1\u001b[0m model \u001b[38;5;241m=\u001b[39m \u001b[43mlstm\u001b[49m\u001b[43m(\u001b[49m\u001b[43m)\u001b[49m\n\u001b[0;32m      2\u001b[0m model\u001b[38;5;241m.\u001b[39msummary()\n",
      "Input \u001b[1;32mIn [35]\u001b[0m, in \u001b[0;36mlstm\u001b[1;34m()\u001b[0m\n\u001b[0;32m      3\u001b[0m model \u001b[38;5;241m=\u001b[39m Sequential()\n\u001b[0;32m      4\u001b[0m \u001b[38;5;66;03m#embedding layer\u001b[39;00m\n\u001b[1;32m----> 5\u001b[0m model\u001b[38;5;241m.\u001b[39madd(\u001b[43mEmbedding\u001b[49m\u001b[43m(\u001b[49m\u001b[38;5;28;43mlen\u001b[39;49m\u001b[43m(\u001b[49m\u001b[43munique_x_CD\u001b[49m\u001b[43m)\u001b[49m\u001b[43m,\u001b[49m\u001b[43m \u001b[49m\u001b[38;5;241;43m100\u001b[39;49m\u001b[43m,\u001b[49m\u001b[43m \u001b[49m\u001b[43minput_length\u001b[49m\u001b[38;5;241;43m=\u001b[39;49m\u001b[38;5;241;43m32\u001b[39;49m\u001b[43m,\u001b[49m\u001b[43mtrainable\u001b[49m\u001b[38;5;241;43m=\u001b[39;49m\u001b[38;5;28;43;01mTrue\u001b[39;49;00m\u001b[43m)\u001b[49m) \n\u001b[0;32m      6\u001b[0m model\u001b[38;5;241m.\u001b[39madd(LSTM(\u001b[38;5;241m128\u001b[39m,return_sequences\u001b[38;5;241m=\u001b[39m\u001b[38;5;28;01mTrue\u001b[39;00m))\n\u001b[0;32m      7\u001b[0m model\u001b[38;5;241m.\u001b[39madd(Dropout(\u001b[38;5;241m0.2\u001b[39m))\n",
      "File \u001b[1;32mc:\\Users\\Dell\\anaconda3\\lib\\site-packages\\keras\\layers\\embeddings.py:122\u001b[0m, in \u001b[0;36mEmbedding.__init__\u001b[1;34m(self, input_dim, output_dim, embeddings_initializer, embeddings_regularizer, activity_regularizer, embeddings_constraint, mask_zero, input_length, **kwargs)\u001b[0m\n\u001b[0;32m    120\u001b[0m     kwargs[\u001b[38;5;124m'\u001b[39m\u001b[38;5;124minput_shape\u001b[39m\u001b[38;5;124m'\u001b[39m] \u001b[38;5;241m=\u001b[39m (\u001b[38;5;28;01mNone\u001b[39;00m,)\n\u001b[0;32m    121\u001b[0m \u001b[38;5;28;01mif\u001b[39;00m input_dim \u001b[38;5;241m<\u001b[39m\u001b[38;5;241m=\u001b[39m \u001b[38;5;241m0\u001b[39m \u001b[38;5;129;01mor\u001b[39;00m output_dim \u001b[38;5;241m<\u001b[39m\u001b[38;5;241m=\u001b[39m \u001b[38;5;241m0\u001b[39m:\n\u001b[1;32m--> 122\u001b[0m   \u001b[38;5;28;01mraise\u001b[39;00m \u001b[38;5;167;01mValueError\u001b[39;00m(\n\u001b[0;32m    123\u001b[0m       \u001b[38;5;124m'\u001b[39m\u001b[38;5;124mBoth `input_dim` and `output_dim` should be positive, \u001b[39m\u001b[38;5;124m'\u001b[39m\n\u001b[0;32m    124\u001b[0m       \u001b[38;5;124mf\u001b[39m\u001b[38;5;124m'\u001b[39m\u001b[38;5;124mReceived input_dim = \u001b[39m\u001b[38;5;132;01m{\u001b[39;00minput_dim\u001b[38;5;132;01m}\u001b[39;00m\u001b[38;5;124m and output_dim = \u001b[39m\u001b[38;5;132;01m{\u001b[39;00moutput_dim\u001b[38;5;132;01m}\u001b[39;00m\u001b[38;5;124m'\u001b[39m)\n\u001b[0;32m    125\u001b[0m \u001b[38;5;28;01mif\u001b[39;00m (\u001b[38;5;129;01mnot\u001b[39;00m base_layer_utils\u001b[38;5;241m.\u001b[39mv2_dtype_behavior_enabled() \u001b[38;5;129;01mand\u001b[39;00m\n\u001b[0;32m    126\u001b[0m     \u001b[38;5;124m'\u001b[39m\u001b[38;5;124mdtype\u001b[39m\u001b[38;5;124m'\u001b[39m \u001b[38;5;129;01mnot\u001b[39;00m \u001b[38;5;129;01min\u001b[39;00m kwargs):\n\u001b[0;32m    127\u001b[0m   \u001b[38;5;66;03m# In TF1, the dtype defaults to the input dtype which is typically int32,\u001b[39;00m\n\u001b[0;32m    128\u001b[0m   \u001b[38;5;66;03m# so explicitly set it to floatx\u001b[39;00m\n\u001b[0;32m    129\u001b[0m   kwargs[\u001b[38;5;124m'\u001b[39m\u001b[38;5;124mdtype\u001b[39m\u001b[38;5;124m'\u001b[39m] \u001b[38;5;241m=\u001b[39m backend\u001b[38;5;241m.\u001b[39mfloatx()\n",
      "\u001b[1;31mValueError\u001b[0m: Both `input_dim` and `output_dim` should be positive, Received input_dim = 0 and output_dim = 100"
     ]
    }
   ],
   "source": [
    "model = lstm()\n",
    "model.summary()"
   ]
  },
  {
   "cell_type": "code",
   "execution_count": 37,
   "id": "9d75426c",
   "metadata": {},
   "outputs": [
    {
     "ename": "ValueError",
     "evalue": "This model has not yet been built. Build the model first by calling `build()` or by calling the model on a batch of data.",
     "output_type": "error",
     "traceback": [
      "\u001b[1;31m---------------------------------------------------------------------------\u001b[0m",
      "\u001b[1;31mValueError\u001b[0m                                Traceback (most recent call last)",
      "Input \u001b[1;32mIn [37]\u001b[0m, in \u001b[0;36m<cell line: 1>\u001b[1;34m()\u001b[0m\n\u001b[1;32m----> 1\u001b[0m \u001b[43mkeras\u001b[49m\u001b[38;5;241;43m.\u001b[39;49m\u001b[43mutils\u001b[49m\u001b[38;5;241;43m.\u001b[39;49m\u001b[43mplot_model\u001b[49m\u001b[43m(\u001b[49m\u001b[43mmodel\u001b[49m\u001b[43m,\u001b[49m\u001b[43m \u001b[49m\u001b[38;5;124;43m\"\u001b[39;49m\u001b[38;5;124;43mmy_first_model.png\u001b[39;49m\u001b[38;5;124;43m\"\u001b[39;49m\u001b[43m)\u001b[49m\n",
      "File \u001b[1;32mc:\\Users\\Dell\\anaconda3\\lib\\site-packages\\keras\\utils\\vis_utils.py:413\u001b[0m, in \u001b[0;36mplot_model\u001b[1;34m(model, to_file, show_shapes, show_dtype, show_layer_names, rankdir, expand_nested, dpi, layer_range, show_layer_activations)\u001b[0m\n\u001b[0;32m    364\u001b[0m \u001b[38;5;124;03m\"\"\"Converts a Keras model to dot format and save to a file.\u001b[39;00m\n\u001b[0;32m    365\u001b[0m \n\u001b[0;32m    366\u001b[0m \u001b[38;5;124;03mExample:\u001b[39;00m\n\u001b[1;32m   (...)\u001b[0m\n\u001b[0;32m    409\u001b[0m \u001b[38;5;124;03m  This enables in-line display of the model plots in notebooks.\u001b[39;00m\n\u001b[0;32m    410\u001b[0m \u001b[38;5;124;03m\"\"\"\u001b[39;00m\n\u001b[0;32m    412\u001b[0m \u001b[38;5;28;01mif\u001b[39;00m \u001b[38;5;129;01mnot\u001b[39;00m model\u001b[38;5;241m.\u001b[39mbuilt:\n\u001b[1;32m--> 413\u001b[0m   \u001b[38;5;28;01mraise\u001b[39;00m \u001b[38;5;167;01mValueError\u001b[39;00m(\u001b[38;5;124m'\u001b[39m\u001b[38;5;124mThis model has not yet been built. \u001b[39m\u001b[38;5;124m'\u001b[39m\n\u001b[0;32m    414\u001b[0m                    \u001b[38;5;124m'\u001b[39m\u001b[38;5;124mBuild the model first by calling `build()` or by calling \u001b[39m\u001b[38;5;124m'\u001b[39m\n\u001b[0;32m    415\u001b[0m                    \u001b[38;5;124m'\u001b[39m\u001b[38;5;124mthe model on a batch of data.\u001b[39m\u001b[38;5;124m'\u001b[39m)\n\u001b[0;32m    417\u001b[0m dot \u001b[38;5;241m=\u001b[39m model_to_dot(\n\u001b[0;32m    418\u001b[0m     model,\n\u001b[0;32m    419\u001b[0m     show_shapes\u001b[38;5;241m=\u001b[39mshow_shapes,\n\u001b[1;32m   (...)\u001b[0m\n\u001b[0;32m    425\u001b[0m     layer_range\u001b[38;5;241m=\u001b[39mlayer_range,\n\u001b[0;32m    426\u001b[0m     show_layer_activations\u001b[38;5;241m=\u001b[39mshow_layer_activations)\n\u001b[0;32m    427\u001b[0m to_file \u001b[38;5;241m=\u001b[39m path_to_string(to_file)\n",
      "\u001b[1;31mValueError\u001b[0m: This model has not yet been built. Build the model first by calling `build()` or by calling the model on a batch of data."
     ]
    }
   ],
   "source": [
    "keras.utils.plot_model(model, \"my_first_model.png\")"
   ]
  },
  {
   "cell_type": "code",
   "execution_count": null,
   "id": "a90c84d4",
   "metadata": {},
   "outputs": [],
   "source": [
    "!pip install pydot"
   ]
  },
  {
   "cell_type": "code",
   "execution_count": null,
   "id": "17398dbe",
   "metadata": {},
   "outputs": [],
   "source": []
  },
  {
   "cell_type": "code",
   "execution_count": null,
   "id": "91c1186f",
   "metadata": {},
   "outputs": [],
   "source": [
    "!pip install h5py"
   ]
  },
  {
   "cell_type": "code",
   "execution_count": null,
   "id": "ac8c0745",
   "metadata": {},
   "outputs": [],
   "source": [
    "import h5py"
   ]
  },
  {
   "cell_type": "code",
   "execution_count": null,
   "id": "782c3d87",
   "metadata": {},
   "outputs": [],
   "source": [
    "#defining call back to save the best model during training>\n",
    "mc=ModelCheckpoint('best_model.h5', monitor='val_loss', mode='min', save_best_only=True,verbose=1)"
   ]
  },
  {
   "cell_type": "code",
   "execution_count": null,
   "id": "c4455375",
   "metadata": {},
   "outputs": [],
   "source": [
    "#actual training\n",
    "history = model.fit(np.array(x_train),np.array(y_train),batch_size=128,epochs=10, \n",
    "                   validation_data=(np.array(x_val),np.array(y_val)),verbose=1, callbacks=[mc])"
   ]
  },
  {
   "cell_type": "code",
   "execution_count": null,
   "id": "cda6dfff",
   "metadata": {},
   "outputs": [],
   "source": []
  },
  {
   "cell_type": "code",
   "execution_count": null,
   "id": "23842a5a",
   "metadata": {},
   "outputs": [],
   "source": []
  },
  {
   "cell_type": "code",
   "execution_count": null,
   "id": "684476aa",
   "metadata": {},
   "outputs": [],
   "source": [
    "#loading best model (Previously trained modle)\n",
    "from keras.models import load_model\n",
    "model = load_model('best_model.h5')\n"
   ]
  },
  {
   "cell_type": "code",
   "execution_count": null,
   "id": "71629ac7",
   "metadata": {},
   "outputs": [],
   "source": [
    "import numpy as np\n",
    "import random\n",
    "ind = np.random.randint(0,len(x_val)-1)\n",
    "random_music = x_val[ind]\n",
    "random_music"
   ]
  },
  {
   "cell_type": "code",
   "execution_count": null,
   "id": "58cd9187",
   "metadata": {},
   "outputs": [],
   "source": []
  },
  {
   "cell_type": "code",
   "execution_count": null,
   "id": "d082a521",
   "metadata": {},
   "outputs": [],
   "source": []
  },
  {
   "cell_type": "code",
   "execution_count": null,
   "id": "815f86e5",
   "metadata": {},
   "outputs": [],
   "source": []
  },
  {
   "cell_type": "code",
   "execution_count": null,
   "id": "4bd457cf",
   "metadata": {},
   "outputs": [],
   "source": []
  },
  {
   "cell_type": "code",
   "execution_count": null,
   "id": "3e4189cf",
   "metadata": {},
   "outputs": [],
   "source": [
    "predictions=[]\n",
    "for i in range(10):\n",
    "\n",
    "    random_music = random_music.reshape(1,no_of_timesteps)\n",
    "    print(\"random music = \", random_music)\n",
    "    \n",
    "\n",
    "    prob  = model.predict(random_music)[0]\n",
    "    y_pred= np.argmax(prob,axis=0)\n",
    "    predictions.append(y_pred)\n",
    "\n",
    "    random_music = np.insert(random_music[0],len(random_music[0]),y_pred)\n",
    "    random_music = random_music[1:]\n",
    "    \n",
    "print(predictions)"
   ]
  },
  {
   "cell_type": "code",
   "execution_count": null,
   "id": "b0875d78",
   "metadata": {},
   "outputs": [],
   "source": [
    "#intergers back to notes\n",
    "unique_x_int_to_CD = dict((number, note_) for number, note_ in enumerate(unique_x_CD)) \n",
    "unique_x_int_to_CD"
   ]
  },
  {
   "cell_type": "code",
   "execution_count": null,
   "id": "03d32d47",
   "metadata": {},
   "outputs": [],
   "source": [
    "predicted_CD = [unique_x_int_to_CD[i] for i in predictions]\n",
    "predicted_CD"
   ]
  },
  {
   "cell_type": "code",
   "execution_count": null,
   "id": "4cec4493",
   "metadata": {},
   "outputs": [],
   "source": [
    "predicted_CD_split = []\n",
    "for each_outcome in predicted_CD:\n",
    "    temp_list = []\n",
    "    temp_list = each_outcome.split(\"@\")\n",
    "    temp_list[1] =float(temp_list[1])\n",
    "    predicted_CD_split.append(tuple(temp_list))\n",
    "    \n",
    "\n",
    "predicted_CD_split"
   ]
  },
  {
   "cell_type": "code",
   "execution_count": null,
   "id": "9be8be52",
   "metadata": {},
   "outputs": [],
   "source": []
  },
  {
   "cell_type": "code",
   "execution_count": null,
   "id": "35972a75",
   "metadata": {},
   "outputs": [],
   "source": [
    "print(\"Generating music from our processed chords...\")\n",
    "proccessed_chords_to_midi_sample = get_music_midi_from_chords_and_duration(predicted_CD_split)\n",
    "print(proccessed_chords_to_midi_sample)\n",
    "play_midi_file(proccessed_chords_to_midi_sample)"
   ]
  },
  {
   "cell_type": "code",
   "execution_count": null,
   "id": "319bd2cc",
   "metadata": {},
   "outputs": [],
   "source": []
  },
  {
   "cell_type": "code",
   "execution_count": null,
   "id": "5c8d26a3",
   "metadata": {},
   "outputs": [],
   "source": []
  },
  {
   "cell_type": "code",
   "execution_count": null,
   "id": "4e0c58e9",
   "metadata": {},
   "outputs": [],
   "source": []
  },
  {
   "cell_type": "code",
   "execution_count": null,
   "id": "066839dd",
   "metadata": {},
   "outputs": [],
   "source": []
  },
  {
   "cell_type": "code",
   "execution_count": null,
   "id": "b8f8bcf4",
   "metadata": {},
   "outputs": [],
   "source": []
  },
  {
   "cell_type": "code",
   "execution_count": null,
   "id": "cfa8b1f0",
   "metadata": {},
   "outputs": [],
   "source": []
  },
  {
   "cell_type": "code",
   "execution_count": null,
   "id": "2b038b0a",
   "metadata": {},
   "outputs": [],
   "source": []
  },
  {
   "cell_type": "code",
   "execution_count": null,
   "id": "6c5463da",
   "metadata": {},
   "outputs": [],
   "source": [
    "import random, glob\n",
    "import numpy as np"
   ]
  },
  {
   "cell_type": "code",
   "execution_count": null,
   "id": "c20ca49b",
   "metadata": {},
   "outputs": [],
   "source": [
    "music_files = [a for a in glob.glob(\"dataset/*/*\")]\n",
    "print(\"A random song\", random.sample(music_files, 1))"
   ]
  },
  {
   "cell_type": "code",
   "execution_count": null,
   "id": "014d940f",
   "metadata": {},
   "outputs": [],
   "source": [
    "len(music_files)"
   ]
  },
  {
   "cell_type": "code",
   "execution_count": null,
   "id": "beed673c",
   "metadata": {},
   "outputs": [],
   "source": [
    "from music21 import midi\n",
    "def play_midi_file(midi_file_name):\n",
    "    mf = midi.MidiFile()\n",
    "\n",
    "    mf.open(midi_file_name) # path='abc.midi'\n",
    "    mf.read()\n",
    "    mf.close()\n",
    "    s = midi.translate.midiFileToStream(mf)\n",
    "    s.show('midi')"
   ]
  },
  {
   "cell_type": "code",
   "execution_count": null,
   "id": "1a8c0621",
   "metadata": {},
   "outputs": [],
   "source": [
    "# for seeing output from chords and given duration:\n",
    "def get_music_midi_from_chords_and_duration(input_chords):\n",
    "    midi_stream = stream.Stream()\n",
    "\n",
    "    for note_pattern, duration_pattern in input_chords:\n",
    "        notes_in_chord = note_pattern.split('.')\n",
    "        \n",
    "        chord_notes = []\n",
    "        for current_note in notes_in_chord:\n",
    "            new_note = note.Note(current_note)\n",
    "            new_note.duration = duration.Duration(duration_pattern)\n",
    "            new_note.storedInstrument = instrument.Violoncello()\n",
    "            chord_notes.append(new_note)\n",
    "        new_chord = chord.Chord(chord_notes)\n",
    "        \n",
    "        midi_stream.append(new_chord)\n",
    "\n",
    "        new_tempo = tempo.MetronomeMark(number=50)\n",
    "            \n",
    "        midi_stream.append(new_tempo)\n",
    "\n",
    "    midi_stream = midi_stream.chordify()\n",
    "    timestr = time.strftime(\"%Y%m%d-%H%M%S\")\n",
    "    new_file = 'output-' + timestr + '.mid'\n",
    "    return midi_stream.write('midi', fp=new_file)"
   ]
  },
  {
   "cell_type": "code",
   "execution_count": null,
   "id": "df94fd32",
   "metadata": {},
   "outputs": [],
   "source": []
  }
 ],
 "metadata": {
  "kernelspec": {
   "display_name": "Python 3 (ipykernel)",
   "language": "python",
   "name": "python3"
  },
  "language_info": {
   "codemirror_mode": {
    "name": "ipython",
    "version": 3
   },
   "file_extension": ".py",
   "mimetype": "text/x-python",
   "name": "python",
   "nbconvert_exporter": "python",
   "pygments_lexer": "ipython3",
   "version": "3.9.7"
  }
 },
 "nbformat": 4,
 "nbformat_minor": 5
}
