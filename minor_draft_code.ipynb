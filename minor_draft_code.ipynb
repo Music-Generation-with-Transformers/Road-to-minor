{
 "cells": [
  {
   "cell_type": "code",
   "execution_count": 1,
   "metadata": {},
   "outputs": [],
   "source": [
    "import transformers, random, glob"
   ]
  },
  {
   "cell_type": "code",
   "execution_count": 2,
   "metadata": {},
   "outputs": [
    {
     "name": "stdout",
     "output_type": "stream",
     "text": [
      "A random song ['dataset\\\\schubert\\\\schumm-5.mid']\n"
     ]
    }
   ],
   "source": [
    "music_files = [a for a in glob.glob(\"dataset/*/*\")]\n",
    "print(\"A random song\", random.sample(music_files, 1))"
   ]
  },
  {
   "cell_type": "code",
   "execution_count": 3,
   "metadata": {},
   "outputs": [
    {
     "data": {
      "text/plain": [
       "295"
      ]
     },
     "execution_count": 3,
     "metadata": {},
     "output_type": "execute_result"
    }
   ],
   "source": [
    "len(music_files)"
   ]
  },
  {
   "cell_type": "code",
   "execution_count": 4,
   "metadata": {},
   "outputs": [],
   "source": [
    "from music21 import converter,corpus, chord"
   ]
  },
  {
   "cell_type": "code",
   "execution_count": 5,
   "metadata": {},
   "outputs": [
    {
     "data": {
      "text/plain": [
       "'dataset\\\\mendelssohn\\\\mendel_op30_2.mid'"
      ]
     },
     "execution_count": 5,
     "metadata": {},
     "output_type": "execute_result"
    }
   ],
   "source": [
    "one_sample = music_files[193]\n",
    "one_sample"
   ]
  },
  {
   "cell_type": "code",
   "execution_count": null,
   "metadata": {},
   "outputs": [],
   "source": []
  },
  {
   "cell_type": "code",
   "execution_count": null,
   "metadata": {},
   "outputs": [
    {
     "name": "stdout",
     "output_type": "stream",
     "text": [
      "(0, 'dataset\\\\albeniz\\\\alb_esp1.mid', 'D', 'minor')\n",
      "(1, 'dataset\\\\albeniz\\\\alb_esp2.mid', 'D', 'major')\n",
      "(2, 'dataset\\\\albeniz\\\\alb_esp3.mid', 'E', 'minor')\n",
      "(3, 'dataset\\\\albeniz\\\\alb_esp4.mid', 'G', 'minor')\n",
      "(4, 'dataset\\\\albeniz\\\\alb_esp5.mid', 'E-', 'major')\n",
      "(5, 'dataset\\\\albeniz\\\\alb_esp6.mid', 'E', 'major')\n",
      "(6, 'dataset\\\\albeniz\\\\alb_se1.mid', 'F', 'major')\n",
      "(7, 'dataset\\\\albeniz\\\\alb_se2.mid', 'G', 'minor')\n",
      "(8, 'dataset\\\\albeniz\\\\alb_se3.mid', 'G', 'major')\n",
      "(9, 'dataset\\\\albeniz\\\\alb_se4.mid', 'C#', 'major')\n",
      "(10, 'dataset\\\\albeniz\\\\alb_se5.mid', 'G', 'minor')\n",
      "(11, 'dataset\\\\albeniz\\\\alb_se6.mid', 'D', 'minor')\n",
      "(12, 'dataset\\\\albeniz\\\\alb_se7.mid', 'F#', 'major')\n",
      "(13, 'dataset\\\\albeniz\\\\alb_se8.mid', 'E-', 'major')\n",
      "(14, 'dataset\\\\bach\\\\bach_846.mid', 'C', 'major')\n",
      "(15, 'dataset\\\\bach\\\\bach_847.mid', 'C', 'minor')\n",
      "(16, 'dataset\\\\bach\\\\bach_850.mid', 'D', 'major')\n",
      "(17, 'dataset\\\\balakir\\\\islamei.mid', 'F#', 'major')\n",
      "(18, 'dataset\\\\beeth\\\\appass_1.mid', 'F', 'minor')\n",
      "(19, 'dataset\\\\beeth\\\\appass_2.mid', 'C#', 'major')\n",
      "(20, 'dataset\\\\beeth\\\\appass_3.mid', 'F', 'minor')\n",
      "(21, 'dataset\\\\beeth\\\\beethoven_hammerklavier_1.mid', 'B-', 'major')\n",
      "(22, 'dataset\\\\beeth\\\\beethoven_hammerklavier_2.mid', 'B-', 'major')\n",
      "(23, 'dataset\\\\beeth\\\\beethoven_hammerklavier_3.mid', 'F#', 'minor')\n",
      "(24, 'dataset\\\\beeth\\\\beethoven_hammerklavier_4.mid', 'B-', 'major')\n",
      "(25, 'dataset\\\\beeth\\\\beethoven_les_adieux_1.mid', 'E-', 'major')\n",
      "(26, 'dataset\\\\beeth\\\\beethoven_les_adieux_2.mid', 'C', 'minor')\n",
      "(27, 'dataset\\\\beeth\\\\beethoven_les_adieux_3.mid', 'E-', 'major')\n",
      "(28, 'dataset\\\\beeth\\\\beethoven_opus10_1.mid', 'C', 'minor')\n",
      "(29, 'dataset\\\\beeth\\\\beethoven_opus10_2.mid', 'A-', 'major')\n",
      "(30, 'dataset\\\\beeth\\\\beethoven_opus10_3.mid', 'C', 'minor')\n",
      "(31, 'dataset\\\\beeth\\\\beethoven_opus22_1.mid', 'B-', 'major')\n",
      "(32, 'dataset\\\\beeth\\\\beethoven_opus22_2.mid', 'E-', 'major')\n",
      "(33, 'dataset\\\\beeth\\\\beethoven_opus22_3.mid', 'B-', 'major')\n",
      "(34, 'dataset\\\\beeth\\\\beethoven_opus22_4.mid', 'B-', 'major')\n",
      "(35, 'dataset\\\\beeth\\\\beethoven_opus90_1.mid', 'E', 'minor')\n",
      "(36, 'dataset\\\\beeth\\\\beethoven_opus90_2.mid', 'E', 'major')\n",
      "(37, 'dataset\\\\beeth\\\\elise.mid', 'A', 'minor')\n",
      "(38, 'dataset\\\\beeth\\\\mond_1.mid', 'C#', 'minor')\n",
      "(39, 'dataset\\\\beeth\\\\mond_2.mid', 'C#', 'major')\n",
      "(40, 'dataset\\\\beeth\\\\mond_3.mid', 'C#', 'minor')\n",
      "(41, 'dataset\\\\beeth\\\\pathetique_1.mid', 'C', 'minor')\n",
      "(42, 'dataset\\\\beeth\\\\pathetique_2.mid', 'A-', 'major')\n",
      "(43, 'dataset\\\\beeth\\\\pathetique_3.mid', 'C', 'minor')\n",
      "(44, 'dataset\\\\beeth\\\\waldstein_1.mid', 'A', 'minor')\n",
      "(45, 'dataset\\\\beeth\\\\waldstein_2.mid', 'C', 'major')\n",
      "(46, 'dataset\\\\beeth\\\\waldstein_3.mid', 'C', 'major')\n",
      "(47, 'dataset\\\\borodin\\\\bor_ps1.mid', 'C#', 'minor')\n",
      "(48, 'dataset\\\\borodin\\\\bor_ps2.mid', 'F', 'major')\n",
      "(49, 'dataset\\\\borodin\\\\bor_ps3.mid', 'C', 'major')\n",
      "(50, 'dataset\\\\borodin\\\\bor_ps4.mid', 'C#', 'major')\n",
      "(51, 'dataset\\\\borodin\\\\bor_ps5.mid', 'C#', 'major')\n",
      "(52, 'dataset\\\\borodin\\\\bor_ps6.mid', 'C#', 'major')\n",
      "(53, 'dataset\\\\borodin\\\\bor_ps7.mid', 'F#', 'major')\n",
      "(54, 'dataset\\\\brahms\\\\brahms_opus117_1.mid', 'E-', 'major')\n",
      "(55, 'dataset\\\\brahms\\\\brahms_opus117_2.mid', 'B-', 'minor')\n",
      "(56, 'dataset\\\\brahms\\\\brahms_opus1_1.mid', 'C', 'major')\n",
      "(57, 'dataset\\\\brahms\\\\brahms_opus1_2.mid', 'C', 'minor')\n",
      "Error at 58\n",
      "(59, 'dataset\\\\brahms\\\\brahms_opus1_4.mid', 'A', 'minor')\n",
      "(60, 'dataset\\\\brahms\\\\br_im2.mid', 'A', 'minor')\n",
      "(61, 'dataset\\\\brahms\\\\br_im5.mid', 'E', 'minor')\n",
      "(62, 'dataset\\\\brahms\\\\BR_IM6.MID', 'E', 'major')\n",
      "(63, 'dataset\\\\brahms\\\\br_rhap.mid', 'E-', 'major')\n",
      "(64, 'dataset\\\\burgm\\\\burg_agitato.mid', 'E', 'minor')\n",
      "(65, 'dataset\\\\burgm\\\\burg_erwachen.mid', 'F', 'major')\n",
      "(66, 'dataset\\\\burgm\\\\burg_geschwindigkeit.mid', 'C', 'major')\n",
      "(67, 'dataset\\\\burgm\\\\burg_gewitter.mid', 'D', 'minor')\n",
      "(68, 'dataset\\\\burgm\\\\burg_perlen.mid', 'C', 'major')\n",
      "(69, 'dataset\\\\burgm\\\\burg_quelle.mid', 'G', 'major')\n",
      "(70, 'dataset\\\\burgm\\\\burg_spinnerlied.mid', 'D', 'major')\n",
      "(71, 'dataset\\\\burgm\\\\burg_sylphen.mid', 'G', 'minor')\n",
      "(72, 'dataset\\\\burgm\\\\burg_trennung.mid', 'E-', 'major')\n",
      "(73, 'dataset\\\\chopin\\\\chpn-p1.mid', 'C', 'major')\n",
      "(74, 'dataset\\\\chopin\\\\chpn-p10.mid', 'C#', 'minor')\n",
      "(75, 'dataset\\\\chopin\\\\chpn-p11.mid', 'B', 'major')\n"
     ]
    },
    {
     "name": "stderr",
     "output_type": "stream",
     "text": [
      "C:\\Users\\sajjan\\anaconda3\\envs\\tf\\lib\\site-packages\\music21\\midi\\translate.py:863: TranslateWarning: Unable to determine instrument from <music21.midi.MidiEvent SEQUENCE_TRACK_NAME, track=4, channel=None, data=b'Copyright \\xa9 2002 by Bernd Krueger'>; getting generic Instrument\n",
      "  warnings.warn(\n"
     ]
    },
    {
     "name": "stdout",
     "output_type": "stream",
     "text": [
      "(76, 'dataset\\\\chopin\\\\chpn-p12.mid', 'G#', 'minor')\n",
      "(77, 'dataset\\\\chopin\\\\chpn-p13.mid', 'F#', 'major')\n",
      "(78, 'dataset\\\\chopin\\\\chpn-p14.mid', 'E-', 'minor')\n",
      "(79, 'dataset\\\\chopin\\\\chpn-p15.mid', 'C#', 'major')\n",
      "(80, 'dataset\\\\chopin\\\\chpn-p16.mid', 'B-', 'minor')\n",
      "(81, 'dataset\\\\chopin\\\\chpn-p17.mid', 'A-', 'major')\n",
      "(82, 'dataset\\\\chopin\\\\chpn-p18.mid', 'F', 'minor')\n",
      "(83, 'dataset\\\\chopin\\\\chpn-p19.mid', 'E-', 'major')\n",
      "(84, 'dataset\\\\chopin\\\\chpn-p2.mid', 'A', 'minor')\n",
      "(85, 'dataset\\\\chopin\\\\chpn-p20.mid', 'C', 'minor')\n",
      "(86, 'dataset\\\\chopin\\\\chpn-p21.mid', 'E-', 'minor')\n",
      "(87, 'dataset\\\\chopin\\\\chpn-p22.mid', 'G', 'minor')\n",
      "(88, 'dataset\\\\chopin\\\\chpn-p23.mid', 'F', 'major')\n",
      "(89, 'dataset\\\\chopin\\\\chpn-p24.mid', 'D', 'minor')\n",
      "(90, 'dataset\\\\chopin\\\\chpn-p3.mid', 'G', 'major')\n",
      "(91, 'dataset\\\\chopin\\\\chpn-p4.mid', 'E', 'minor')\n",
      "(92, 'dataset\\\\chopin\\\\chpn-p5.mid', 'D', 'major')\n",
      "(93, 'dataset\\\\chopin\\\\chpn-p6.mid', 'B', 'minor')\n"
     ]
    },
    {
     "name": "stderr",
     "output_type": "stream",
     "text": [
      "C:\\Users\\sajjan\\anaconda3\\envs\\tf\\lib\\site-packages\\music21\\midi\\translate.py:863: TranslateWarning: Unable to determine instrument from <music21.midi.MidiEvent SEQUENCE_TRACK_NAME, track=4, channel=None, data=b'Copyright \\xa9 1997 by Bernd Krueger'>; getting generic Instrument\n",
      "  warnings.warn(\n"
     ]
    },
    {
     "name": "stdout",
     "output_type": "stream",
     "text": [
      "(94, 'dataset\\\\chopin\\\\chpn-p7.mid', 'A', 'major')\n"
     ]
    },
    {
     "name": "stderr",
     "output_type": "stream",
     "text": [
      "C:\\Users\\sajjan\\anaconda3\\envs\\tf\\lib\\site-packages\\music21\\midi\\translate.py:863: TranslateWarning: Unable to determine instrument from <music21.midi.MidiEvent SEQUENCE_TRACK_NAME, track=5, channel=None, data=b'Copyright \\xa9 1997 by Bernd Krueger'>; getting generic Instrument\n",
      "  warnings.warn(\n"
     ]
    },
    {
     "name": "stdout",
     "output_type": "stream",
     "text": [
      "(95, 'dataset\\\\chopin\\\\chpn-p8.mid', 'F#', 'minor')\n",
      "(96, 'dataset\\\\chopin\\\\chpn-p9.mid', 'E', 'minor')\n"
     ]
    },
    {
     "name": "stderr",
     "output_type": "stream",
     "text": [
      "C:\\Users\\sajjan\\anaconda3\\envs\\tf\\lib\\site-packages\\music21\\midi\\translate.py:863: TranslateWarning: Unable to determine instrument from <music21.midi.MidiEvent SEQUENCE_TRACK_NAME, track=0, channel=None, data=b'Et\\xfcde Opus 10 No. 5'>; getting generic Instrument\n",
      "  warnings.warn(\n",
      "C:\\Users\\sajjan\\anaconda3\\envs\\tf\\lib\\site-packages\\music21\\midi\\translate.py:863: TranslateWarning: Unable to determine instrument from <music21.midi.MidiEvent SEQUENCE_TRACK_NAME, track=4, channel=None, data=b'Copyright \\xa9 1999 by Bernd Kr\\xfcger'>; getting generic Instrument\n",
      "  warnings.warn(\n"
     ]
    },
    {
     "name": "stdout",
     "output_type": "stream",
     "text": [
      "(97, 'dataset\\\\chopin\\\\chpn_op10_e01.mid', 'C', 'major')\n"
     ]
    },
    {
     "name": "stderr",
     "output_type": "stream",
     "text": [
      "C:\\Users\\sajjan\\anaconda3\\envs\\tf\\lib\\site-packages\\music21\\midi\\translate.py:863: TranslateWarning: Unable to determine instrument from <music21.midi.MidiEvent SEQUENCE_TRACK_NAME, track=0, channel=None, data=b'Schwarze-Tasten-Et\\xfcde'>; getting generic Instrument\n",
      "  warnings.warn(\n"
     ]
    },
    {
     "name": "stdout",
     "output_type": "stream",
     "text": [
      "(98, 'dataset\\\\chopin\\\\chpn_op10_e05.mid', 'F#', 'major')\n"
     ]
    },
    {
     "name": "stderr",
     "output_type": "stream",
     "text": [
      "C:\\Users\\sajjan\\anaconda3\\envs\\tf\\lib\\site-packages\\music21\\midi\\translate.py:863: TranslateWarning: Unable to determine instrument from <music21.midi.MidiEvent SEQUENCE_TRACK_NAME, track=0, channel=None, data=b'Et\\xfcde Nr. 12'>; getting generic Instrument\n",
      "  warnings.warn(\n"
     ]
    },
    {
     "name": "stdout",
     "output_type": "stream",
     "text": [
      "(99, 'dataset\\\\chopin\\\\chpn_op10_e12.mid', 'C', 'minor')\n",
      "(100, 'dataset\\\\chopin\\\\chpn_op23.mid', 'G', 'minor')\n",
      "(101, 'dataset\\\\chopin\\\\chpn_op25_e1.mid', 'A-', 'major')\n",
      "(102, 'dataset\\\\chopin\\\\chpn_op25_e11.mid', 'A', 'minor')\n",
      "(103, 'dataset\\\\chopin\\\\chpn_op25_e12.mid', 'C', 'minor')\n",
      "(104, 'dataset\\\\chopin\\\\chpn_op25_e2.mid', 'F', 'minor')\n",
      "(105, 'dataset\\\\chopin\\\\chpn_op25_e3.mid', 'F', 'major')\n",
      "(106, 'dataset\\\\chopin\\\\chpn_op25_e4.mid', 'A', 'minor')\n",
      "(107, 'dataset\\\\chopin\\\\chpn_op27_1.mid', 'C#', 'minor')\n",
      "(108, 'dataset\\\\chopin\\\\chpn_op27_2.mid', 'C#', 'major')\n",
      "Error at 109\n",
      "(110, 'dataset\\\\chopin\\\\chpn_op33_4.mid', 'B', 'major')\n",
      "(111, 'dataset\\\\chopin\\\\chpn_op35_1.mid', 'B-', 'minor')\n",
      "Error at 112\n",
      "(113, 'dataset\\\\chopin\\\\chpn_op35_3.mid', 'B-', 'minor')\n",
      "(114, 'dataset\\\\chopin\\\\chpn_op35_4.mid', 'B-', 'minor')\n",
      "(115, 'dataset\\\\chopin\\\\chpn_op53.mid', 'A-', 'major')\n",
      "(116, 'dataset\\\\chopin\\\\chpn_op66.mid', 'C#', 'major')\n",
      "(117, 'dataset\\\\chopin\\\\chpn_op7_1.mid', 'B-', 'major')\n",
      "(118, 'dataset\\\\chopin\\\\chpn_op7_2.mid', 'A', 'minor')\n",
      "(119, 'dataset\\\\chopin\\\\chp_op18.mid', 'A-', 'major')\n",
      "(120, 'dataset\\\\chopin\\\\chp_op31.mid', 'C#', 'major')\n",
      "(121, 'dataset\\\\debussy\\\\debussy_cc_1.mid', 'C', 'major')\n",
      "(122, 'dataset\\\\debussy\\\\debussy_cc_2.mid', 'C', 'minor')\n",
      "(123, 'dataset\\\\debussy\\\\debussy_cc_3.mid', 'C#', 'minor')\n",
      "(124, 'dataset\\\\debussy\\\\debussy_cc_4.mid', 'G', 'minor')\n",
      "(125, 'dataset\\\\debussy\\\\debussy_cc_6.mid', 'B-', 'minor')\n",
      "(126, 'dataset\\\\debussy\\\\DEB_CLAI.MID', 'C#', 'major')\n",
      "(127, 'dataset\\\\debussy\\\\deb_menu.mid', 'D', 'minor')\n",
      "(128, 'dataset\\\\debussy\\\\DEB_PASS.MID', 'F#', 'minor')\n",
      "(129, 'dataset\\\\debussy\\\\deb_prel.mid', 'F', 'major')\n",
      "(130, 'dataset\\\\granados\\\\gra_esp_2.mid', 'C', 'minor')\n",
      "(131, 'dataset\\\\granados\\\\gra_esp_3.mid', 'D', 'major')\n",
      "(132, 'dataset\\\\granados\\\\gra_esp_4.mid', 'G', 'major')\n",
      "(133, 'dataset\\\\grieg\\\\grieg_album.mid', 'F', 'major')\n",
      "(134, 'dataset\\\\grieg\\\\grieg_berceuse.mid', 'G', 'major')\n",
      "(135, 'dataset\\\\grieg\\\\grieg_brooklet.mid', 'B', 'minor')\n",
      "(136, 'dataset\\\\grieg\\\\grieg_butterfly.mid', 'F#', 'minor')\n",
      "(137, 'dataset\\\\grieg\\\\grieg_elfentanz.mid', 'E', 'minor')\n",
      "(138, 'dataset\\\\grieg\\\\grieg_halling.mid', 'G', 'minor')\n",
      "(139, 'dataset\\\\grieg\\\\grieg_kobold.mid', 'E-', 'minor')\n"
     ]
    },
    {
     "name": "stderr",
     "output_type": "stream",
     "text": [
      "C:\\Users\\sajjan\\anaconda3\\envs\\tf\\lib\\site-packages\\music21\\midi\\translate.py:863: TranslateWarning: Unable to determine instrument from <music21.midi.MidiEvent SEQUENCE_TRACK_NAME, track=0, channel=None, data=b'Grieg: Lyrische St\\xfccke, Norwegischer Bauernmarsch, Opus 54 Nr. 2'>; getting generic Instrument\n",
      "  warnings.warn(\n",
      "C:\\Users\\sajjan\\anaconda3\\envs\\tf\\lib\\site-packages\\music21\\midi\\translate.py:863: TranslateWarning: Unable to determine instrument from <music21.midi.MidiEvent SEQUENCE_TRACK_NAME, track=5, channel=None, data=b'Copyright \\xa9 2010 by Bernd Krueger'>; getting generic Instrument\n",
      "  warnings.warn(\n"
     ]
    },
    {
     "name": "stdout",
     "output_type": "stream",
     "text": [
      "(140, 'dataset\\\\grieg\\\\grieg_march.mid', 'C', 'major')\n"
     ]
    },
    {
     "name": "stderr",
     "output_type": "stream",
     "text": [
      "C:\\Users\\sajjan\\anaconda3\\envs\\tf\\lib\\site-packages\\music21\\midi\\translate.py:863: TranslateWarning: Unable to determine instrument from <music21.midi.MidiEvent SEQUENCE_TRACK_NAME, track=0, channel=None, data=b'Grieg: Lyrische St\\xfccke, Es war einmal, Opus 71 Nr. 1'>; getting generic Instrument\n",
      "  warnings.warn(\n"
     ]
    },
    {
     "name": "stdout",
     "output_type": "stream",
     "text": [
      "(141, 'dataset\\\\grieg\\\\grieg_once_upon_a_time.mid', 'E', 'minor')\n"
     ]
    },
    {
     "name": "stderr",
     "output_type": "stream",
     "text": [
      "C:\\Users\\sajjan\\anaconda3\\envs\\tf\\lib\\site-packages\\music21\\midi\\translate.py:863: TranslateWarning: Unable to determine instrument from <music21.midi.MidiEvent SEQUENCE_TRACK_NAME, track=0, channel=None, data=b'Grieg: Lyrische St\\xfccke Op. 43 Nr. 6 Book III - An den Fr\\xfchling'>; getting generic Instrument\n",
      "  warnings.warn(\n",
      "C:\\Users\\sajjan\\anaconda3\\envs\\tf\\lib\\site-packages\\music21\\midi\\translate.py:863: TranslateWarning: Unable to determine instrument from <music21.midi.MidiEvent SEQUENCE_TRACK_NAME, track=5, channel=None, data=b'Copyright \\xa9 2007 by Bernd Krueger'>; getting generic Instrument\n",
      "  warnings.warn(\n"
     ]
    },
    {
     "name": "stdout",
     "output_type": "stream",
     "text": [
      "(142, 'dataset\\\\grieg\\\\grieg_spring.mid', 'F#', 'major')\n"
     ]
    },
    {
     "name": "stderr",
     "output_type": "stream",
     "text": [
      "C:\\Users\\sajjan\\anaconda3\\envs\\tf\\lib\\site-packages\\music21\\midi\\translate.py:863: TranslateWarning: Unable to determine instrument from <music21.midi.MidiEvent SEQUENCE_TRACK_NAME, track=0, channel=None, data=b'V\\xf6glein Op 43, No. 4'>; getting generic Instrument\n",
      "  warnings.warn(\n",
      "C:\\Users\\sajjan\\anaconda3\\envs\\tf\\lib\\site-packages\\music21\\midi\\translate.py:863: TranslateWarning: Unable to determine instrument from <music21.midi.MidiEvent SEQUENCE_TRACK_NAME, track=3, channel=None, data=b'Grieg: V\\xf6glein, Op. 43 No. 4'>; getting generic Instrument\n",
      "  warnings.warn(\n",
      "C:\\Users\\sajjan\\anaconda3\\envs\\tf\\lib\\site-packages\\music21\\midi\\translate.py:863: TranslateWarning: Unable to determine instrument from <music21.midi.MidiEvent SEQUENCE_TRACK_NAME, track=4, channel=None, data=b'Copyright \\xa9 1998 by Bernd Krueger'>; getting generic Instrument\n",
      "  warnings.warn(\n"
     ]
    },
    {
     "name": "stdout",
     "output_type": "stream",
     "text": [
      "(143, 'dataset\\\\grieg\\\\grieg_voeglein.mid', 'D', 'minor')\n"
     ]
    },
    {
     "name": "stderr",
     "output_type": "stream",
     "text": [
      "C:\\Users\\sajjan\\anaconda3\\envs\\tf\\lib\\site-packages\\music21\\midi\\translate.py:863: TranslateWarning: Unable to determine instrument from <music21.midi.MidiEvent SEQUENCE_TRACK_NAME, track=0, channel=None, data=b'W\\xe4chterlied Op12, No. 3'>; getting generic Instrument\n",
      "  warnings.warn(\n"
     ]
    },
    {
     "name": "stdout",
     "output_type": "stream",
     "text": [
      "(144, 'dataset\\\\grieg\\\\grieg_waechter.mid', 'E', 'major')\n",
      "(145, 'dataset\\\\grieg\\\\grieg_walzer.mid', 'A', 'minor')\n"
     ]
    },
    {
     "name": "stderr",
     "output_type": "stream",
     "text": [
      "C:\\Users\\sajjan\\anaconda3\\envs\\tf\\lib\\site-packages\\music21\\midi\\translate.py:863: TranslateWarning: Unable to determine instrument from <music21.midi.MidiEvent SEQUENCE_TRACK_NAME, track=0, channel=None, data=b'Grieg: Lyrische St\\xfccke Op. 43 Nr. 2 - Einsamer Wanderer'>; getting generic Instrument\n",
      "  warnings.warn(\n"
     ]
    },
    {
     "name": "stdout",
     "output_type": "stream",
     "text": [
      "(146, 'dataset\\\\grieg\\\\grieg_wanderer.mid', 'B', 'minor')\n"
     ]
    },
    {
     "name": "stderr",
     "output_type": "stream",
     "text": [
      "C:\\Users\\sajjan\\anaconda3\\envs\\tf\\lib\\site-packages\\music21\\midi\\translate.py:863: TranslateWarning: Unable to determine instrument from <music21.midi.MidiEvent SEQUENCE_TRACK_NAME, track=5, channel=None, data=b'Copyright \\xa9 1998 by Bernd Krueger'>; getting generic Instrument\n",
      "  warnings.warn(\n"
     ]
    },
    {
     "name": "stdout",
     "output_type": "stream",
     "text": [
      "(147, 'dataset\\\\grieg\\\\grieg_wedding.mid', 'G', 'major')\n",
      "(148, 'dataset\\\\grieg\\\\grieg_zwerge.mid', 'D', 'minor')\n",
      "(149, 'dataset\\\\haydn\\\\haydn_33_1.mid', 'D', 'major')\n",
      "(150, 'dataset\\\\haydn\\\\haydn_33_2.mid', 'F', 'major')\n",
      "(151, 'dataset\\\\haydn\\\\haydn_33_3.mid', 'D', 'minor')\n"
     ]
    },
    {
     "name": "stderr",
     "output_type": "stream",
     "text": [
      "C:\\Users\\sajjan\\anaconda3\\envs\\tf\\lib\\site-packages\\music21\\midi\\translate.py:863: TranslateWarning: Unable to determine instrument from <music21.midi.MidiEvent SEQUENCE_TRACK_NAME, track=5, channel=None, data=b'Copyright \\xa9 2009 by Bernd Krueger'>; getting generic Instrument\n",
      "  warnings.warn(\n"
     ]
    },
    {
     "name": "stdout",
     "output_type": "stream",
     "text": [
      "(152, 'dataset\\\\haydn\\\\haydn_35_1.mid', 'C', 'major')\n",
      "(153, 'dataset\\\\haydn\\\\haydn_35_2.mid', 'F', 'major')\n",
      "(154, 'dataset\\\\haydn\\\\haydn_35_3.mid', 'C', 'major')\n",
      "(155, 'dataset\\\\haydn\\\\haydn_43_1.mid', 'A-', 'major')\n",
      "(156, 'dataset\\\\haydn\\\\haydn_43_2.mid', 'A-', 'major')\n",
      "(157, 'dataset\\\\haydn\\\\haydn_43_3.mid', 'A-', 'major')\n",
      "(158, 'dataset\\\\haydn\\\\haydn_7_1.mid', 'C', 'major')\n",
      "(159, 'dataset\\\\haydn\\\\haydn_7_2.mid', 'C', 'major')\n",
      "(160, 'dataset\\\\haydn\\\\haydn_7_3.mid', 'C', 'major')\n",
      "(161, 'dataset\\\\haydn\\\\haydn_8_1.mid', 'G', 'major')\n",
      "(162, 'dataset\\\\haydn\\\\haydn_8_2.mid', 'G', 'major')\n",
      "(163, 'dataset\\\\haydn\\\\haydn_8_3.mid', 'G', 'major')\n",
      "(164, 'dataset\\\\haydn\\\\haydn_8_4.mid', 'G', 'major')\n",
      "(165, 'dataset\\\\haydn\\\\haydn_9_1.mid', 'F', 'major')\n",
      "(166, 'dataset\\\\haydn\\\\haydn_9_2.mid', 'F', 'major')\n",
      "(167, 'dataset\\\\haydn\\\\haydn_9_3.mid', 'F', 'major')\n"
     ]
    },
    {
     "name": "stderr",
     "output_type": "stream",
     "text": [
      "C:\\Users\\sajjan\\anaconda3\\envs\\tf\\lib\\site-packages\\music21\\midi\\translate.py:863: TranslateWarning: Unable to determine instrument from <music21.midi.MidiEvent SEQUENCE_TRACK_NAME, track=5, channel=None, data=b'Copyright \\xa9 1998 by Bernd Kr\\xfcger'>; getting generic Instrument\n",
      "  warnings.warn(\n"
     ]
    },
    {
     "name": "stdout",
     "output_type": "stream",
     "text": [
      "(168, 'dataset\\\\haydn\\\\hay_40_1.mid', 'G', 'major')\n",
      "(169, 'dataset\\\\haydn\\\\hay_40_2.mid', 'G', 'major')\n"
     ]
    }
   ],
   "source": [
    "tonic_mode_all = []\n",
    "for i, name in enumerate(music_files):\n",
    "    try:\n",
    "        parsed_score = converter.parse(name)\n",
    "        key_of_one = parsed_score.analyze('key')\n",
    "        tonic_mode_all.append((i, name, key_of_one.tonic.name, key_of_one.mode))\n",
    "    except:\n",
    "        print(f'Error at {i}')\n",
    "        tonic_mode_all.append((i, name, 'NAN', 'NAN'))\n",
    "        continue\n",
    "    print(f'{tonic_mode_all[i]}')"
   ]
  },
  {
   "cell_type": "code",
   "execution_count": null,
   "metadata": {
    "scrolled": true
   },
   "outputs": [
    {
     "name": "stdout",
     "output_type": "stream",
     "text": [
      "1\n",
      "2\n",
      "3\n",
      "4\n",
      "5\n",
      "6\n",
      "7\n",
      "8\n",
      "9\n",
      "10\n",
      "11\n",
      "12\n",
      "13\n",
      "14\n",
      "15\n",
      "16\n",
      "17\n",
      "18\n",
      "19\n",
      "20\n",
      "21\n",
      "22\n",
      "23\n",
      "24\n",
      "25\n",
      "26\n",
      "27\n",
      "28\n",
      "29\n",
      "30\n",
      "31\n",
      "32\n",
      "33\n",
      "Error at 33\n",
      "34\n",
      "35\n",
      "36\n",
      "37\n",
      "38\n",
      "39\n",
      "40\n",
      "Error at 40\n",
      "41\n",
      "42\n",
      "43\n",
      "44\n",
      "45\n",
      "46\n",
      "47\n",
      "48\n",
      "49\n",
      "50\n",
      "51\n",
      "52\n",
      "53\n",
      "54\n",
      "55\n",
      "56\n",
      "Error at 56\n",
      "57\n",
      "58\n",
      "59\n",
      "60\n",
      "61\n",
      "62\n",
      "Error at 62\n",
      "63\n",
      "64\n",
      "65\n",
      "66\n",
      "67\n",
      "68\n",
      "69\n"
     ]
    },
    {
     "name": "stderr",
     "output_type": "stream",
     "text": [
      "C:\\Users\\sajjan\\anaconda3\\envs\\tf\\lib\\site-packages\\music21\\midi\\translate.py:863: TranslateWarning: Unable to determine instrument from <music21.midi.MidiEvent SEQUENCE_TRACK_NAME, track=4, channel=None, data=b'Copyright \\xa9 2002 by Bernd Krueger'>; getting generic Instrument\n",
      "  warnings.warn(\n"
     ]
    },
    {
     "name": "stdout",
     "output_type": "stream",
     "text": [
      "70\n"
     ]
    },
    {
     "name": "stderr",
     "output_type": "stream",
     "text": [
      "C:\\Users\\sajjan\\anaconda3\\envs\\tf\\lib\\site-packages\\music21\\midi\\translate.py:863: TranslateWarning: Unable to determine instrument from <music21.midi.MidiEvent SEQUENCE_TRACK_NAME, track=4, channel=None, data=b'Copyright \\xa9 1997 by Bernd Krueger'>; getting generic Instrument\n",
      "  warnings.warn(\n"
     ]
    },
    {
     "name": "stdout",
     "output_type": "stream",
     "text": [
      "71\n",
      "72\n",
      "Error at 72\n",
      "73\n",
      "74\n",
      "75\n",
      "76\n"
     ]
    }
   ],
   "source": [
    "'''tonic_mode_all2 = []\n",
    "iter = 0\n",
    "for i in music_files:\n",
    "    try:\n",
    "        parsed_score = converter.parse(i)\n",
    "        key_of_one = parsed_score.analyze('Krumhansl')\n",
    "        tonic_mode_all2.append((key_of_one.tonic.name, key_of_one.mode))\n",
    "    except:\n",
    "        print(f'Error at {iter}')\n",
    "        continue\n",
    "    iter+=1\n",
    "    print(iter)\n",
    "    \n",
    "'''"
   ]
  },
  {
   "cell_type": "code",
   "execution_count": 60,
   "metadata": {},
   "outputs": [
    {
     "name": "stdout",
     "output_type": "stream",
     "text": [
      "('B', 'minor')\n",
      "('F#', 'minor')\n",
      "('E', 'minor')\n",
      "('D', 'minor')\n",
      "('B-', 'major')\n"
     ]
    }
   ],
   "source": []
  },
  {
   "cell_type": "code",
   "execution_count": null,
   "metadata": {},
   "outputs": [],
   "source": []
  },
  {
   "cell_type": "code",
   "execution_count": 58,
   "metadata": {},
   "outputs": [
    {
     "name": "stdout",
     "output_type": "stream",
     "text": [
      "('G', 'minor')\n",
      "('A-', 'major')\n",
      "('A', 'minor')\n",
      "('C', 'minor')\n",
      "('F', 'minor')\n",
      "('F', 'major')\n",
      "('A', 'minor')\n",
      "('C#', 'minor')\n",
      "('C#', 'major')\n",
      "('B', 'major')\n",
      "('B-', 'minor')\n",
      "('B-', 'minor')\n",
      "('B-', 'minor')\n",
      "('A-', 'major')\n",
      "('C#', 'major')\n",
      "('B-', 'major')\n",
      "('A', 'minor')\n",
      "('A-', 'major')\n",
      "('C#', 'major')\n",
      "('C', 'major')\n",
      "('C', 'minor')\n",
      "('C#', 'minor')\n",
      "('G', 'minor')\n",
      "('B-', 'minor')\n",
      "('C#', 'major')\n",
      "('D', 'minor')\n",
      "('F#', 'minor')\n",
      "('F', 'major')\n",
      "('C', 'minor')\n",
      "('D', 'major')\n",
      "('G', 'major')\n",
      "('F', 'major')\n",
      "('G', 'major')\n"
     ]
    }
   ],
   "source": []
  },
  {
   "cell_type": "code",
   "execution_count": 61,
   "metadata": {},
   "outputs": [
    {
     "name": "stdout",
     "output_type": "stream",
     "text": [
      "1\n",
      "2\n",
      "3\n",
      "4\n",
      "5\n"
     ]
    }
   ],
   "source": [
    "tonic_mode_all3 = []\n",
    "iter = 0\n",
    "for i in music_files[135:140]:\n",
    "    \n",
    "    try:\n",
    "        parsed_score = converter.parse(i)\n",
    "        key_of_one = parsed_score.analyze('AardenEssen')\n",
    "        tonic_mode_all3.append((key_of_one.tonic.name, key_of_one.mode))\n",
    "    except:\n",
    "        print(f'Error at {iter}')\n",
    "        continue\n",
    "    iter+=1\n",
    "    print(iter)"
   ]
  },
  {
   "cell_type": "code",
   "execution_count": 62,
   "metadata": {},
   "outputs": [
    {
     "name": "stdout",
     "output_type": "stream",
     "text": [
      "('B', 'minor')\n",
      "('F#', 'minor')\n",
      "('E', 'minor')\n",
      "('G', 'minor')\n",
      "('E-', 'minor')\n"
     ]
    }
   ],
   "source": [
    "for i in range(len(tonic_mode_all3)):\n",
    "    print(tonic_mode_all3[i])"
   ]
  },
  {
   "cell_type": "code",
   "execution_count": 64,
   "metadata": {},
   "outputs": [
    {
     "data": {
      "text/plain": [
       "\"\\n\\ndemo_location = 'dorian_demo.midi'\\nparsed_score = converter.parse(i)\\nkey_of_one = parsed_score.analyze('key')\\nprint((key_of_one.tonic.name, key_of_one.mode))\\n\\n\\n\""
      ]
     },
     "execution_count": 64,
     "metadata": {},
     "output_type": "execute_result"
    }
   ],
   "source": [
    "'''\n",
    "\n",
    "demo_location = 'dorian_demo.midi'\n",
    "parsed_score = converter.parse(i)\n",
    "key_of_one = parsed_score.analyze('key')\n",
    "print((key_of_one.tonic.name, key_of_one.mode))\n",
    "\n",
    "\n",
    "'''"
   ]
  },
  {
   "cell_type": "code",
   "execution_count": null,
   "metadata": {},
   "outputs": [],
   "source": []
  },
  {
   "cell_type": "code",
   "execution_count": null,
   "metadata": {},
   "outputs": [],
   "source": []
  },
  {
   "cell_type": "code",
   "execution_count": null,
   "metadata": {},
   "outputs": [],
   "source": []
  },
  {
   "cell_type": "code",
   "execution_count": 5,
   "metadata": {},
   "outputs": [
    {
     "ename": "AttributeError",
     "evalue": "'str' object has no attribute 'chordify'",
     "output_type": "error",
     "traceback": [
      "\u001b[1;31m---------------------------------------------------------------------------\u001b[0m",
      "\u001b[1;31mAttributeError\u001b[0m                            Traceback (most recent call last)",
      "\u001b[1;32m~\\AppData\\Local\\Temp\\ipykernel_16776\\2810806014.py\u001b[0m in \u001b[0;36m<module>\u001b[1;34m\u001b[0m\n\u001b[1;32m----> 1\u001b[1;33m \u001b[0ma\u001b[0m \u001b[1;33m=\u001b[0m \u001b[0mconverter\u001b[0m\u001b[1;33m.\u001b[0m\u001b[0mparse\u001b[0m\u001b[1;33m(\u001b[0m\u001b[0mmusic_files\u001b[0m\u001b[1;33m[\u001b[0m\u001b[1;36m0\u001b[0m\u001b[1;33m]\u001b[0m\u001b[1;33m.\u001b[0m\u001b[0mchordify\u001b[0m\u001b[1;33m(\u001b[0m\u001b[1;33m)\u001b[0m\u001b[1;33m)\u001b[0m\u001b[1;33m\u001b[0m\u001b[1;33m\u001b[0m\u001b[0m\n\u001b[0m",
      "\u001b[1;31mAttributeError\u001b[0m: 'str' object has no attribute 'chordify'"
     ]
    }
   ],
   "source": []
  },
  {
   "cell_type": "code",
   "execution_count": null,
   "metadata": {},
   "outputs": [],
   "source": []
  },
  {
   "cell_type": "code",
   "execution_count": null,
   "metadata": {},
   "outputs": [],
   "source": []
  },
  {
   "cell_type": "code",
   "execution_count": null,
   "metadata": {},
   "outputs": [],
   "source": []
  },
  {
   "cell_type": "code",
   "execution_count": 5,
   "metadata": {},
   "outputs": [],
   "source": [
    "def get_chords(music_files):\n",
    "    chords = []\n",
    "    for file_no, filename in enumerate(music_files):\n",
    "        chords.append(converter.parse(filename).chordify())\n",
    "        #print(f'Happening of {file_no}')\n",
    "    \n",
    "    return chords"
   ]
  },
  {
   "cell_type": "code",
   "execution_count": 6,
   "metadata": {},
   "outputs": [],
   "source": [
    "a = music_files[:20]\n",
    "#get_chords(music_files[:10])"
   ]
  },
  {
   "cell_type": "code",
   "execution_count": 7,
   "metadata": {
    "scrolled": true
   },
   "outputs": [],
   "source": [
    "p = get_chords(a)"
   ]
  },
  {
   "cell_type": "code",
   "execution_count": 23,
   "metadata": {},
   "outputs": [
    {
     "data": {
      "text/plain": [
       "[<music21.stream.Part 0x245511049a0>,\n",
       " <music21.stream.Part 0x2455cdd8730>,\n",
       " <music21.stream.Part 0x2455d2c06a0>,\n",
       " <music21.stream.Part 0x2455d7e9c70>,\n",
       " <music21.stream.Part 0x245615744c0>,\n",
       " <music21.stream.Part 0x245624f1ca0>,\n",
       " <music21.stream.Part 0x2455d745a90>,\n",
       " <music21.stream.Part 0x24564978cd0>,\n",
       " <music21.stream.Part 0x2456602bd30>,\n",
       " <music21.stream.Part 0x24569c8bdf0>,\n",
       " <music21.stream.Part 0x24561c1d430>,\n",
       " <music21.stream.Part 0x2456a0a2250>,\n",
       " <music21.stream.Part 0x2456eb20520>,\n",
       " <music21.stream.Part 0x2456f813ac0>,\n",
       " <music21.stream.Part 0x24573d0ea30>,\n",
       " <music21.stream.Part 0x2456605b880>,\n",
       " <music21.stream.Part 0x24574cda5b0>,\n",
       " <music21.stream.Part 0x2457cd90f70>,\n",
       " <music21.stream.Part 0x245007377c0>,\n",
       " <music21.stream.Part 0x245028791c0>]"
      ]
     },
     "execution_count": 23,
     "metadata": {},
     "output_type": "execute_result"
    }
   ],
   "source": [
    "p"
   ]
  },
  {
   "cell_type": "code",
   "execution_count": 8,
   "metadata": {},
   "outputs": [],
   "source": [
    "one = p[0]"
   ]
  },
  {
   "cell_type": "code",
   "execution_count": 9,
   "metadata": {},
   "outputs": [],
   "source": [
    "from music21 import chord, duration"
   ]
  },
  {
   "cell_type": "markdown",
   "metadata": {},
   "source": [
    "Classifying the music into different modes\n",
    "- firstly, let's code for major mode"
   ]
  },
  {
   "cell_type": "code",
   "execution_count": 11,
   "metadata": {},
   "outputs": [
    {
     "data": {
      "text/plain": [
       "[<music21.stream.Part 0x245511049a0>,\n",
       " <music21.stream.Part 0x2455cdd8730>,\n",
       " <music21.stream.Part 0x2455d2c06a0>,\n",
       " <music21.stream.Part 0x2455d7e9c70>,\n",
       " <music21.stream.Part 0x245615744c0>]"
      ]
     },
     "execution_count": 11,
     "metadata": {},
     "output_type": "execute_result"
    }
   ],
   "source": [
    "p[:5]"
   ]
  },
  {
   "cell_type": "code",
   "execution_count": 33,
   "metadata": {},
   "outputs": [],
   "source": [
    "#this is just a demo; it does the same thing as later one\n",
    "\n",
    "def get_chords_with_duration(chordified_data):\n",
    "    a = []\n",
    "    for i in chordified_data.flat:\n",
    "        if isinstance(i, chord.Chord):\n",
    "            a.append([n1.nameWithOctave for n1 in i.pitches])\n",
    "            chord_name = \".\".join([n.nameWithOctave for n in i.pitches])\n",
    "    return a"
   ]
  },
  {
   "cell_type": "code",
   "execution_count": 34,
   "metadata": {},
   "outputs": [],
   "source": [
    "chords_demo_one = get_chords_with_duration(one)"
   ]
  },
  {
   "cell_type": "code",
   "execution_count": 35,
   "metadata": {},
   "outputs": [],
   "source": [
    "def round_chord_durations(number):\n",
    "    if(number>1.25):\n",
    "        return 2\n",
    "    if(number>.30):\n",
    "        return 1.25\n",
    "    if(number>.10):\n",
    "        return 0.3\n",
    "    return 0.1"
   ]
  },
  {
   "cell_type": "markdown",
   "metadata": {},
   "source": [
    "For chord and duration of a single song(music file)"
   ]
  },
  {
   "cell_type": "code",
   "execution_count": 36,
   "metadata": {},
   "outputs": [
    {
     "name": "stdout",
     "output_type": "stream",
     "text": [
      "<music21.metadata.Metadata object at 0x2455d730790>\n",
      "Piano right: Piano right\n",
      "Piano\n",
      "<music21.clef.TrebleClef>\n",
      "<music21.tempo.MetronomeMark moderate Quarter=93.43>\n",
      "F major\n",
      "<music21.meter.TimeSignature 3/4>\n",
      "<music21.note.Rest eighth>\n",
      "<music21.chord.Chord A3 A5>\n",
      "<music21.tempo.MetronomeMark Quarter=97.1>\n",
      "<music21.chord.Chord E4 E6>\n",
      "<music21.tempo.MetronomeMark allegretto Quarter=106.5>\n",
      "<music21.chord.Chord E4 E6>\n",
      "<music21.tempo.MetronomeMark Quarter=112.5>\n",
      "<music21.chord.Chord D4 E4 D6 E6>\n",
      "<music21.tempo.MetronomeMark Quarter=111.5>\n",
      "<music21.tempo.MetronomeMark Quarter=114.5>\n",
      "<music21.chord.Chord D4 D6>\n",
      "<music21.tempo.MetronomeMark Quarter=112.5>\n",
      "<music21.chord.Chord C4 C6>\n",
      "<music21.tempo.MetronomeMark allegretto Quarter=109.5>\n",
      "<music21.chord.Chord D4 D6>\n",
      "<music21.tempo.MetronomeMark animato Quarter=119.0>\n",
      "<music21.chord.Chord E4 E6>\n",
      "<music21.tempo.MetronomeMark Quarter=123.0>\n",
      "<music21.chord.Chord F4 F6>\n",
      "<music21.tempo.MetronomeMark allegro moderato Quarter=127.5>\n",
      "<music21.chord.Chord G4 G6>\n",
      "<music21.tempo.MetronomeMark animato Quarter=118.0>\n",
      "<music21.chord.Chord E4 E6>\n",
      "<music21.tempo.MetronomeMark animato Quarter=119.0>\n",
      "<music21.chord.Chord F4 F6>\n",
      "<music21.tempo.MetronomeMark allegretto Quarter=108.0>\n",
      "<music21.chord.Chord E4 E6>\n",
      "<music21.chord.Chord D4 E4 D6 E6>\n",
      "<music21.tempo.MetronomeMark Quarter=103.5>\n",
      "<music21.chord.Chord D4 D6>\n",
      "<music21.tempo.MetronomeMark Quarter=99.5>\n",
      "<music21.chord.Chord C4 C6>\n",
      "<music21.chord.Chord B-3 B-5>\n",
      "<music21.tempo.MetronomeMark moderate Quarter=92.91>\n",
      "<music21.chord.Chord A2>\n",
      "<music21.tempo.MetronomeMark Quarter=105.53>\n",
      "<music21.chord.Chord A2>\n",
      "<music21.tempo.MetronomeMark animato Quarter=120.0>\n",
      "<music21.chord.Chord E3 A3>\n",
      "<music21.tempo.MetronomeMark animato Quarter=121.0>\n",
      "<music21.chord.Chord A3 C#4>\n",
      "<music21.tempo.MetronomeMark Quarter=123.5>\n",
      "<music21.chord.Chord C#4 E4>\n",
      "<music21.tempo.MetronomeMark Quarter=124.5>\n",
      "<music21.chord.Chord E4 A4>\n",
      "<music21.tempo.MetronomeMark Quarter=122.5>\n",
      "<music21.chord.Chord A4 C#5>\n",
      "<music21.tempo.MetronomeMark allegro moderato Quarter=128.0>\n",
      "<music21.chord.Chord C#5 E5>\n",
      "<music21.tempo.MetronomeMark Quarter=125.0>\n",
      "<music21.chord.Chord C#4 A4>\n",
      "<music21.tempo.MetronomeMark Quarter=135.5>\n",
      "<music21.chord.Chord E4 C#5>\n",
      "<music21.tempo.MetronomeMark allegro Quarter=130.5>\n",
      "<music21.chord.Chord A4 E5>\n",
      "<music21.tempo.MetronomeMark allegro moderato Quarter=127.0>\n",
      "<music21.chord.Chord C#5 A5>\n",
      "<music21.tempo.MetronomeMark Quarter=124.0>\n",
      "<music21.chord.Chord E5 C#6>\n",
      "<music21.tempo.MetronomeMark allegro Quarter=130.5>\n",
      "<music21.chord.Chord A5 E6>\n",
      "<music21.tempo.MetronomeMark allegro moderato Quarter=126.5>\n",
      "<music21.tempo.MetronomeMark allegro moderato Quarter=126.0>\n",
      "<music21.chord.Chord E5 C#6>\n",
      "<music21.tempo.MetronomeMark Quarter=125.5>\n",
      "<music21.tempo.MetronomeMark Quarter=125.0>\n",
      "<music21.tempo.MetronomeMark Quarter=124.5>\n",
      "<music21.tempo.MetronomeMark Quarter=124.0>\n",
      "<music21.chord.Chord C#5 A5>\n",
      "<music21.tempo.MetronomeMark Quarter=123.5>\n",
      "<music21.tempo.MetronomeMark Quarter=123.0>\n",
      "<music21.tempo.MetronomeMark Quarter=122.5>\n",
      "<music21.chord.Chord A4 E5>\n",
      "<music21.tempo.MetronomeMark animato Quarter=122.0>\n",
      "<music21.tempo.MetronomeMark animato Quarter=121.5>\n",
      "<music21.tempo.MetronomeMark animato Quarter=121.0>\n",
      "<music21.tempo.MetronomeMark animato Quarter=120.5>\n",
      "<music21.chord.Chord E4 C#5>\n",
      "<music21.tempo.MetronomeMark animato Quarter=120.0>\n",
      "<music21.tempo.MetronomeMark animato Quarter=119.5>\n",
      "<music21.tempo.MetronomeMark animato Quarter=119.0>\n",
      "<music21.tempo.MetronomeMark animato Quarter=118.5>\n",
      "<music21.chord.Chord C#4 A4>\n",
      "<music21.tempo.MetronomeMark animato Quarter=118.0>\n",
      "<music21.tempo.MetronomeMark allegretto Quarter=110.0>\n",
      "<music21.tempo.MetronomeMark animato Quarter=122.0>\n",
      "<music21.chord.Chord A4 E5>\n",
      "<music21.tempo.MetronomeMark Quarter=117.5>\n",
      "<music21.chord.Chord E4 C#5>\n",
      "<music21.tempo.MetronomeMark Quarter=114.0>\n",
      "<music21.chord.Chord C#4 A4>\n",
      "<music21.tempo.MetronomeMark Quarter=110.5>\n",
      "<music21.tempo.MetronomeMark allegretto Quarter=110.0>\n",
      "<music21.tempo.MetronomeMark allegretto Quarter=109.5>\n",
      "<music21.tempo.MetronomeMark allegretto Quarter=109.0>\n",
      "<music21.chord.Chord A3 E4>\n",
      "<music21.tempo.MetronomeMark allegretto Quarter=108.5>\n",
      "<music21.tempo.MetronomeMark allegretto Quarter=108.0>\n",
      "<music21.tempo.MetronomeMark allegretto Quarter=107.5>\n",
      "<music21.tempo.MetronomeMark allegretto Quarter=107.0>\n",
      "<music21.tempo.MetronomeMark allegretto Quarter=106.5>\n",
      "<music21.tempo.MetronomeMark allegretto Quarter=106.0>\n",
      "<music21.chord.Chord A3 C#4>\n",
      "<music21.tempo.MetronomeMark Quarter=105.5>\n",
      "<music21.tempo.MetronomeMark Quarter=105.0>\n",
      "<music21.tempo.MetronomeMark Quarter=104.5>\n",
      "<music21.tempo.MetronomeMark Quarter=104.0>\n",
      "<music21.tempo.MetronomeMark Quarter=103.5>\n",
      "<music21.tempo.MetronomeMark Quarter=103.0>\n",
      "<music21.chord.Chord E3 A3>\n",
      "<music21.tempo.MetronomeMark Quarter=102.5>\n",
      "<music21.tempo.MetronomeMark Quarter=102.0>\n",
      "<music21.tempo.MetronomeMark Quarter=101.5>\n",
      "<music21.tempo.MetronomeMark Quarter=96.06>\n",
      "<music21.tempo.MetronomeMark Quarter=95.53>\n",
      "<music21.chord.Chord A2>\n",
      "<music21.tempo.MetronomeMark Quarter=95.01>\n",
      "<music21.chord.Chord A2>\n",
      "<music21.tempo.MetronomeMark moderate Quarter=93.43>\n",
      "<music21.chord.Chord A3 A5>\n",
      "<music21.tempo.MetronomeMark Quarter=97.1>\n",
      "<music21.chord.Chord E4 E6>\n",
      "<music21.tempo.MetronomeMark allegretto Quarter=107.0>\n",
      "<music21.chord.Chord E4 E6>\n",
      "<music21.tempo.MetronomeMark Quarter=112.5>\n",
      "<music21.chord.Chord D4 E4 D6 E6>\n",
      "<music21.tempo.MetronomeMark Quarter=114.5>\n",
      "<music21.chord.Chord D4 D6>\n",
      "<music21.tempo.MetronomeMark Quarter=112.0>\n",
      "<music21.chord.Chord C4 C6>\n",
      "<music21.tempo.MetronomeMark Quarter=110.5>\n",
      "<music21.chord.Chord D4 D6>\n",
      "<music21.tempo.MetronomeMark Quarter=117.0>\n",
      "<music21.chord.Chord E4 E6>\n",
      "<music21.tempo.MetronomeMark animato Quarter=121.5>\n",
      "<music21.chord.Chord F4 F6>\n",
      "<music21.tempo.MetronomeMark Quarter=123.5>\n",
      "<music21.chord.Chord G4 G6>\n",
      "<music21.tempo.MetronomeMark Quarter=115.5>\n",
      "<music21.chord.Chord E4 E6>\n",
      "<music21.tempo.MetronomeMark Quarter=117.5>\n",
      "<music21.chord.Chord F4 F6>\n",
      "<music21.tempo.MetronomeMark allegretto Quarter=106.5>\n",
      "<music21.chord.Chord E4 E6>\n",
      "<music21.tempo.MetronomeMark Quarter=113.5>\n",
      "<music21.chord.Chord D4 E4 D6 E6>\n",
      "<music21.tempo.MetronomeMark Quarter=99.5>\n",
      "<music21.chord.Chord D4 D6>\n",
      "<music21.tempo.MetronomeMark Quarter=97.0>\n",
      "<music21.chord.Chord C4 C6>\n",
      "<music21.chord.Chord B-3 B-5>\n",
      "<music21.tempo.MetronomeMark Quarter=113.5>\n",
      "<music21.chord.Chord A3 A5>\n",
      "<music21.tempo.MetronomeMark animato Quarter=122.0>\n",
      "<music21.chord.Chord B-3 B-5>\n",
      "<music21.tempo.MetronomeMark animato Quarter=119.0>\n",
      "<music21.chord.Chord C4 C6>\n",
      "<music21.tempo.MetronomeMark Quarter=117.0>\n",
      "<music21.chord.Chord D4 D6>\n",
      "<music21.tempo.MetronomeMark Quarter=114.5>\n",
      "<music21.chord.Chord F4 F6>\n",
      "<music21.tempo.MetronomeMark Quarter=105.5>\n",
      "<music21.tempo.MetronomeMark Quarter=114.5>\n",
      "<music21.chord.Chord D4 E4 D6 E6>\n",
      "<music21.tempo.MetronomeMark Quarter=103.5>\n",
      "<music21.chord.Chord D4 D6>\n",
      "<music21.tempo.MetronomeMark Quarter=100.5>\n",
      "<music21.chord.Chord C4 C6>\n",
      "<music21.chord.Chord B-3 B-5>\n",
      "<music21.tempo.MetronomeMark Quarter=115.5>\n",
      "<music21.chord.Chord A3 A5>\n",
      "<music21.tempo.MetronomeMark animato Quarter=121.0>\n",
      "<music21.chord.Chord B-3 B-5>\n",
      "<music21.tempo.MetronomeMark animato Quarter=120.5>\n",
      "<music21.chord.Chord C4 C6>\n",
      "<music21.tempo.MetronomeMark Quarter=123.0>\n",
      "<music21.chord.Chord D4 D6>\n",
      "<music21.tempo.MetronomeMark animato Quarter=121.0>\n",
      "<music21.chord.Chord E4 E6>\n",
      "<music21.tempo.MetronomeMark Quarter=113.5>\n",
      "<music21.chord.Chord G4 G6>\n",
      "<music21.tempo.MetronomeMark Quarter=103.0>\n",
      "<music21.chord.Chord F4 F6>\n",
      "<music21.tempo.MetronomeMark Quarter=112.5>\n",
      "<music21.chord.Chord D4 E4 D6 E6>\n",
      "<music21.tempo.MetronomeMark allegretto Quarter=110.0>\n",
      "<music21.chord.Chord D4 D6>\n",
      "<music21.tempo.MetronomeMark allegretto Quarter=110.0>\n",
      "<music21.chord.Chord C4 C6>\n",
      "<music21.tempo.MetronomeMark Quarter=105.0>\n",
      "<music21.chord.Chord B-3 B-5>\n",
      "<music21.tempo.MetronomeMark Quarter=102.0>\n",
      "<music21.chord.Chord D4 D6>\n",
      "<music21.chord.Chord C#4 C#6>\n",
      "<music21.tempo.MetronomeMark moderate Quarter=92.5>\n",
      "<music21.chord.Chord A2>\n",
      "<music21.tempo.MetronomeMark allegro Quarter=130.5>\n",
      "<music21.chord.Chord A2 C#4 B-4>\n",
      "<music21.chord.Chord A2 C#4 A4>\n",
      "<music21.tempo.MetronomeMark Quarter=117.5>\n",
      "<music21.chord.Chord E3>\n",
      "<music21.tempo.MetronomeMark allegro Quarter=132.5>\n",
      "<music21.chord.Chord E3 C#4 B-4>\n",
      "<music21.tempo.MetronomeMark allegro Quarter=133.0>\n",
      "<music21.tempo.MetronomeMark allegro Quarter=133.5>\n",
      "<music21.chord.Chord E3 C#4 A4>\n",
      "<music21.tempo.MetronomeMark allegro Quarter=134.0>\n",
      "<music21.tempo.MetronomeMark Quarter=134.5>\n",
      "<music21.tempo.MetronomeMark Quarter=135.0>\n",
      "<music21.chord.Chord A3>\n",
      "<music21.tempo.MetronomeMark Quarter=135.5>\n",
      "<music21.chord.Chord A3 C#4 B-4>\n",
      "<music21.tempo.MetronomeMark Quarter=136.0>\n",
      "<music21.tempo.MetronomeMark Quarter=136.5>\n",
      "<music21.chord.Chord A3 C#4 A4>\n",
      "<music21.tempo.MetronomeMark Quarter=137.0>\n",
      "<music21.tempo.MetronomeMark Quarter=137.5>\n",
      "<music21.tempo.MetronomeMark allegro Quarter=133.0>\n",
      "<music21.chord.Chord A2>\n",
      "<music21.tempo.MetronomeMark allegrissimo Quarter=140.0>\n",
      "<music21.chord.Chord A2 D4 A4>\n",
      "<music21.chord.Chord A2 D4 G4>\n",
      "<music21.tempo.MetronomeMark Quarter=137.5>\n",
      "<music21.tempo.MetronomeMark molto allegro Quarter=143.0>\n",
      "<music21.chord.Chord E3>\n",
      "<music21.chord.Chord E3 D4 A4>\n",
      "<music21.chord.Chord E3 D4 G4>\n",
      "<music21.tempo.MetronomeMark molto allegro Quarter=145.5>\n",
      "<music21.chord.Chord B-3>\n",
      "<music21.chord.Chord B-3 D4 A4>\n",
      "<music21.tempo.MetronomeMark allegro moderato Quarter=129.0>\n",
      "<music21.tempo.MetronomeMark allegro moderato Quarter=128.5>\n",
      "<music21.chord.Chord B-3 D4 G4>\n",
      "<music21.tempo.MetronomeMark allegro moderato Quarter=128.0>\n",
      "<music21.tempo.MetronomeMark allegro moderato Quarter=127.5>\n",
      "<music21.tempo.MetronomeMark allegro moderato Quarter=127.0>\n",
      "<music21.tempo.MetronomeMark Quarter=99.74>\n",
      "<music21.chord.Chord A2>\n",
      "<music21.tempo.MetronomeMark allegro moderato Quarter=128.5>\n",
      "<music21.chord.Chord A2 C#4 B-4>\n",
      "<music21.chord.Chord A2 C#4 A4>\n",
      "<music21.tempo.MetronomeMark allegro Quarter=132.5>\n",
      "<music21.chord.Chord E3>\n",
      "<music21.tempo.MetronomeMark allegro Quarter=133.0>\n",
      "<music21.tempo.MetronomeMark allegro Quarter=133.5>\n",
      "<music21.chord.Chord E3 C#4 B-4>\n",
      "<music21.tempo.MetronomeMark allegro Quarter=134.0>\n",
      "<music21.chord.Chord E3 C#4 A4>\n",
      "<music21.tempo.MetronomeMark Quarter=134.5>\n",
      "<music21.tempo.MetronomeMark Quarter=135.0>\n",
      "<music21.tempo.MetronomeMark Quarter=135.5>\n",
      "<music21.chord.Chord A3>\n",
      "<music21.tempo.MetronomeMark Quarter=136.0>\n",
      "<music21.chord.Chord A3 C#4 B-4>\n",
      "<music21.tempo.MetronomeMark Quarter=136.5>\n",
      "<music21.tempo.MetronomeMark Quarter=137.0>\n",
      "<music21.chord.Chord A3 C#4 A4>\n",
      "<music21.tempo.MetronomeMark Quarter=137.5>\n",
      "<music21.tempo.MetronomeMark allegrissimo Quarter=138.0>\n",
      "<music21.tempo.MetronomeMark Quarter=124.0>\n",
      "<music21.chord.Chord A2>\n",
      "<music21.tempo.MetronomeMark Quarter=137.0>\n",
      "<music21.tempo.MetronomeMark allegrissimo Quarter=138.0>\n",
      "<music21.chord.Chord A2 D4 B-4>\n",
      "<music21.tempo.MetronomeMark allegrissimo Quarter=138.5>\n",
      "<music21.chord.Chord A2 D4 A4>\n",
      "<music21.tempo.MetronomeMark allegrissimo Quarter=139.0>\n",
      "<music21.tempo.MetronomeMark allegrissimo Quarter=138.5>\n",
      "<music21.chord.Chord E3>\n",
      "<music21.tempo.MetronomeMark allegrissimo Quarter=138.0>\n",
      "<music21.tempo.MetronomeMark Quarter=137.5>\n",
      "<music21.tempo.MetronomeMark Quarter=137.0>\n",
      "<music21.chord.Chord E3 D4 A4>\n",
      "<music21.tempo.MetronomeMark Quarter=136.5>\n",
      "<music21.tempo.MetronomeMark Quarter=136.0>\n",
      "<music21.tempo.MetronomeMark Quarter=135.5>\n",
      "<music21.tempo.MetronomeMark Quarter=135.0>\n",
      "<music21.chord.Chord E3 D4 G4>\n",
      "<music21.tempo.MetronomeMark Quarter=134.5>\n",
      "<music21.tempo.MetronomeMark allegro Quarter=134.0>\n",
      "<music21.tempo.MetronomeMark allegro Quarter=133.5>\n",
      "<music21.tempo.MetronomeMark allegro Quarter=133.0>\n",
      "<music21.tempo.MetronomeMark allegro Quarter=132.5>\n",
      "<music21.tempo.MetronomeMark allegro Quarter=132.0>\n",
      "<music21.chord.Chord B-3>\n",
      "<music21.tempo.MetronomeMark allegro Quarter=131.5>\n",
      "<music21.tempo.MetronomeMark allegro Quarter=131.0>\n",
      "<music21.tempo.MetronomeMark allegro Quarter=130.5>\n",
      "<music21.tempo.MetronomeMark allegro moderato Quarter=130.0>\n",
      "<music21.chord.Chord B-3 D4 G4>\n",
      "<music21.tempo.MetronomeMark allegro moderato Quarter=129.5>\n",
      "<music21.tempo.MetronomeMark allegro moderato Quarter=129.0>\n",
      "<music21.tempo.MetronomeMark allegro moderato Quarter=128.5>\n",
      "<music21.tempo.MetronomeMark allegro moderato Quarter=128.0>\n",
      "<music21.chord.Chord B-3 D4 E4>\n",
      "<music21.tempo.MetronomeMark allegro moderato Quarter=127.5>\n",
      "<music21.tempo.MetronomeMark allegro moderato Quarter=127.0>\n",
      "<music21.tempo.MetronomeMark allegro moderato Quarter=126.5>\n",
      "<music21.tempo.MetronomeMark allegro moderato Quarter=126.0>\n",
      "<music21.tempo.MetronomeMark Quarter=100.69>\n",
      "<music21.chord.Chord A2>\n",
      "<music21.tempo.MetronomeMark allegro Quarter=130.5>\n",
      "<music21.chord.Chord A2 C#4 B-4>\n",
      "<music21.chord.Chord A2 C#4 A4>\n",
      "<music21.tempo.MetronomeMark allegro Quarter=133.5>\n",
      "<music21.chord.Chord E3>\n",
      "<music21.chord.Chord E3 C#4 B-4>\n",
      "<music21.chord.Chord E3 C#4 A4>\n",
      "<music21.chord.Chord A3>\n",
      "<music21.chord.Chord A3 C#4 B-4>\n",
      "<music21.chord.Chord A3 C#4 A4>\n",
      "<music21.tempo.MetronomeMark Quarter=116.0>\n",
      "<music21.chord.Chord F2>\n",
      "<music21.tempo.MetronomeMark allegro moderato Quarter=126.5>\n",
      "<music21.chord.Chord F2 A3 G4>\n",
      "<music21.chord.Chord F2 A3 F4>\n",
      "<music21.tempo.MetronomeMark allegro Quarter=132.5>\n",
      "<music21.chord.Chord C3>\n",
      "<music21.chord.Chord C3 A3 G4>\n",
      "<music21.chord.Chord C3 A3 F4>\n",
      "<music21.tempo.MetronomeMark Quarter=124.5>\n",
      "<music21.chord.Chord A3>\n",
      "<music21.chord.Chord A3 G4>\n",
      "<music21.tempo.MetronomeMark animato Quarter=122.0>\n",
      "<music21.chord.Chord A3 G4>\n",
      "<music21.chord.Chord A3 F4>\n",
      "<music21.tempo.MetronomeMark allegretto Quarter=107.0>\n",
      "<music21.chord.Chord C3>\n",
      "<music21.tempo.MetronomeMark allegro moderato Quarter=126.0>\n",
      "<music21.chord.Chord C3 C4 F4>\n",
      "<music21.chord.Chord C3 C4 E4>\n",
      "<music21.tempo.MetronomeMark Quarter=123.0>\n",
      "<music21.chord.Chord G3>\n",
      "<music21.chord.Chord G3 C4 F4>\n",
      "<music21.chord.Chord G3 C4 E4>\n",
      "<music21.tempo.MetronomeMark animato Quarter=118.0>\n",
      "<music21.chord.Chord C4>\n",
      "<music21.chord.Chord C4 F4>\n",
      "<music21.chord.Chord C4 E4>\n",
      "<music21.tempo.MetronomeMark Quarter=117.5>\n",
      "<music21.tempo.MetronomeMark animato Quarter=118.0>\n",
      "<music21.chord.Chord G3>\n",
      "<music21.tempo.MetronomeMark Quarter=117.5>\n",
      "<music21.tempo.MetronomeMark Quarter=117.0>\n",
      "<music21.tempo.MetronomeMark Quarter=116.5>\n",
      "<music21.note.Rest 1/12ql>\n",
      "<music21.tempo.MetronomeMark Quarter=116.0>\n",
      "<music21.chord.Chord B-3 E4>\n",
      "<music21.tempo.MetronomeMark Quarter=115.5>\n",
      "<music21.tempo.MetronomeMark Quarter=115.0>\n",
      "<music21.tempo.MetronomeMark Quarter=114.5>\n",
      "<music21.chord.Chord B-3 E4>\n",
      "<music21.tempo.MetronomeMark Quarter=114.0>\n",
      "<music21.chord.Chord B-3 D4>\n",
      "<music21.tempo.MetronomeMark Quarter=113.5>\n",
      "<music21.tempo.MetronomeMark Quarter=113.0>\n",
      "<music21.tempo.MetronomeMark Quarter=112.5>\n",
      "<music21.chord.Chord B-3 D4>\n",
      "<music21.tempo.MetronomeMark Quarter=112.0>\n",
      "<music21.tempo.MetronomeMark Quarter=111.5>\n",
      "<music21.tempo.MetronomeMark Quarter=111.0>\n",
      "<music21.tempo.MetronomeMark Quarter=110.5>\n",
      "<music21.chord.Chord A3>\n",
      "<music21.tempo.MetronomeMark allegretto Quarter=110.0>\n",
      "<music21.tempo.MetronomeMark allegretto Quarter=109.5>\n",
      "<music21.tempo.MetronomeMark allegretto Quarter=109.0>\n",
      "<music21.note.Rest 1/12ql>\n",
      "<music21.tempo.MetronomeMark allegretto Quarter=108.5>\n",
      "<music21.chord.Chord B-3 E4>\n",
      "<music21.tempo.MetronomeMark allegretto Quarter=108.0>\n",
      "<music21.tempo.MetronomeMark allegretto Quarter=107.5>\n",
      "<music21.tempo.MetronomeMark allegretto Quarter=107.0>\n",
      "<music21.chord.Chord B-3 E4>\n",
      "<music21.tempo.MetronomeMark allegretto Quarter=106.5>\n",
      "<music21.chord.Chord B-3 D4>\n",
      "<music21.tempo.MetronomeMark allegretto Quarter=106.0>\n",
      "<music21.tempo.MetronomeMark Quarter=105.5>\n",
      "<music21.tempo.MetronomeMark Quarter=105.0>\n",
      "<music21.tempo.MetronomeMark Quarter=104.5>\n",
      "<music21.chord.Chord B-3 C4 D4>\n",
      "<music21.tempo.MetronomeMark Quarter=104.0>\n",
      "<music21.tempo.MetronomeMark Quarter=103.5>\n",
      "<music21.note.Rest 1/3ql>\n",
      "<music21.chord.Chord B-3 E4>\n",
      "<music21.tempo.MetronomeMark andantino Quarter=81.0>\n",
      "<music21.chord.Chord B-3 D4>\n",
      "<music21.tempo.MetronomeMark moderate Quarter=92.5>\n",
      "<music21.chord.Chord A2>\n",
      "<music21.tempo.MetronomeMark allegro Quarter=130.5>\n",
      "<music21.chord.Chord A2 C#4 B-4>\n",
      "<music21.chord.Chord A2 C#4 A4>\n",
      "<music21.tempo.MetronomeMark Quarter=117.5>\n",
      "<music21.chord.Chord E3>\n",
      "<music21.tempo.MetronomeMark allegro Quarter=132.5>\n",
      "<music21.chord.Chord E3 C#4 B-4>\n",
      "<music21.tempo.MetronomeMark allegro Quarter=133.0>\n",
      "<music21.tempo.MetronomeMark allegro Quarter=133.5>\n",
      "<music21.chord.Chord E3 C#4 A4>\n",
      "<music21.tempo.MetronomeMark allegro Quarter=134.0>\n",
      "<music21.tempo.MetronomeMark Quarter=134.5>\n",
      "<music21.tempo.MetronomeMark Quarter=135.0>\n",
      "<music21.chord.Chord A3>\n",
      "<music21.tempo.MetronomeMark Quarter=135.5>\n",
      "<music21.chord.Chord A3 C#4 B-4>\n",
      "<music21.tempo.MetronomeMark Quarter=136.0>\n",
      "<music21.tempo.MetronomeMark Quarter=136.5>\n",
      "<music21.chord.Chord A3 C#4 A4>\n",
      "<music21.tempo.MetronomeMark Quarter=137.0>\n",
      "<music21.tempo.MetronomeMark Quarter=137.5>\n",
      "<music21.tempo.MetronomeMark allegro Quarter=133.0>\n",
      "<music21.chord.Chord A2>\n",
      "<music21.tempo.MetronomeMark allegrissimo Quarter=140.0>\n",
      "<music21.chord.Chord A2 D4 A4>\n",
      "<music21.chord.Chord A2 D4 G4>\n",
      "<music21.tempo.MetronomeMark molto allegro Quarter=143.5>\n",
      "<music21.chord.Chord E3>\n",
      "<music21.chord.Chord E3 D4 A4>\n",
      "<music21.chord.Chord E3 D4 G4>\n",
      "<music21.tempo.MetronomeMark Quarter=147.0>\n",
      "<music21.chord.Chord B-3>\n",
      "<music21.chord.Chord B-3 D4 A4>\n",
      "<music21.chord.Chord B-3 D4 G4>\n",
      "<music21.tempo.MetronomeMark allegro moderato Quarter=127.5>\n",
      "<music21.tempo.MetronomeMark allegro moderato Quarter=127.0>\n",
      "<music21.tempo.MetronomeMark Quarter=99.74>\n",
      "<music21.chord.Chord A2>\n",
      "<music21.tempo.MetronomeMark allegro moderato Quarter=128.5>\n",
      "<music21.chord.Chord A2 C#4 B-4>\n",
      "<music21.chord.Chord A2 C#4 A4>\n",
      "<music21.tempo.MetronomeMark allegro Quarter=132.5>\n",
      "<music21.chord.Chord E3>\n",
      "<music21.tempo.MetronomeMark allegro Quarter=133.0>\n",
      "<music21.tempo.MetronomeMark allegro Quarter=133.5>\n",
      "<music21.chord.Chord E3 C#4 B-4>\n",
      "<music21.tempo.MetronomeMark allegro Quarter=134.0>\n",
      "<music21.chord.Chord E3 C#4 A4>\n",
      "<music21.tempo.MetronomeMark Quarter=134.5>\n",
      "<music21.tempo.MetronomeMark Quarter=135.0>\n",
      "<music21.tempo.MetronomeMark Quarter=135.5>\n",
      "<music21.chord.Chord A3>\n",
      "<music21.tempo.MetronomeMark Quarter=136.0>\n",
      "<music21.chord.Chord A3 C#4 B-4>\n",
      "<music21.tempo.MetronomeMark Quarter=136.5>\n",
      "<music21.tempo.MetronomeMark Quarter=137.0>\n",
      "<music21.chord.Chord A3 C#4 A4>\n",
      "<music21.tempo.MetronomeMark Quarter=137.5>\n",
      "<music21.tempo.MetronomeMark allegrissimo Quarter=138.0>\n",
      "<music21.tempo.MetronomeMark Quarter=124.0>\n",
      "<music21.chord.Chord A2>\n",
      "<music21.tempo.MetronomeMark Quarter=137.0>\n",
      "<music21.tempo.MetronomeMark allegrissimo Quarter=138.0>\n",
      "<music21.chord.Chord A2 D4 A4>\n",
      "<music21.tempo.MetronomeMark allegrissimo Quarter=138.5>\n",
      "<music21.chord.Chord A2 D4 G4>\n",
      "<music21.tempo.MetronomeMark allegrissimo Quarter=139.0>\n",
      "<music21.tempo.MetronomeMark allegrissimo Quarter=138.5>\n",
      "<music21.chord.Chord E3>\n",
      "<music21.tempo.MetronomeMark allegrissimo Quarter=138.0>\n",
      "<music21.tempo.MetronomeMark Quarter=137.5>\n",
      "<music21.tempo.MetronomeMark Quarter=137.0>\n",
      "<music21.chord.Chord E3 D4 A4>\n",
      "<music21.tempo.MetronomeMark Quarter=136.5>\n",
      "<music21.tempo.MetronomeMark Quarter=136.0>\n",
      "<music21.tempo.MetronomeMark Quarter=135.5>\n",
      "<music21.tempo.MetronomeMark Quarter=135.0>\n",
      "<music21.chord.Chord E3 D4 G4>\n",
      "<music21.tempo.MetronomeMark Quarter=134.5>\n",
      "<music21.tempo.MetronomeMark allegro Quarter=134.0>\n",
      "<music21.tempo.MetronomeMark allegro Quarter=133.5>\n",
      "<music21.tempo.MetronomeMark allegro Quarter=133.0>\n",
      "<music21.tempo.MetronomeMark allegro Quarter=132.5>\n",
      "<music21.tempo.MetronomeMark allegro Quarter=132.0>\n",
      "<music21.chord.Chord B-3>\n",
      "<music21.tempo.MetronomeMark allegro Quarter=131.5>\n",
      "<music21.tempo.MetronomeMark allegro Quarter=131.0>\n",
      "<music21.tempo.MetronomeMark allegro Quarter=130.5>\n",
      "<music21.tempo.MetronomeMark allegro moderato Quarter=130.0>\n",
      "<music21.chord.Chord B-3 D4 A4>\n",
      "<music21.tempo.MetronomeMark allegro moderato Quarter=129.5>\n",
      "<music21.tempo.MetronomeMark allegro moderato Quarter=129.0>\n",
      "<music21.tempo.MetronomeMark allegro moderato Quarter=128.5>\n",
      "<music21.tempo.MetronomeMark allegro moderato Quarter=128.0>\n",
      "<music21.chord.Chord B-3 D4 G4>\n",
      "<music21.tempo.MetronomeMark allegro moderato Quarter=127.5>\n",
      "<music21.tempo.MetronomeMark allegro moderato Quarter=127.0>\n",
      "<music21.tempo.MetronomeMark allegro moderato Quarter=126.5>\n",
      "<music21.tempo.MetronomeMark allegro moderato Quarter=126.0>\n",
      "<music21.tempo.MetronomeMark Quarter=100.0>\n",
      "<music21.chord.Chord A2>\n",
      "<music21.tempo.MetronomeMark allegretto Quarter=108.0>\n",
      "<music21.chord.Chord A3 A5>\n",
      "<music21.tempo.MetronomeMark Quarter=114.67>\n",
      "<music21.chord.Chord B3 B5>\n",
      "<music21.tempo.MetronomeMark Quarter=112.5>\n",
      "<music21.chord.Chord C#4 C#6>\n",
      "<music21.tempo.MetronomeMark animato Quarter=119.5>\n",
      "<music21.chord.Chord D4 D6>\n",
      "<music21.tempo.MetronomeMark Quarter=115.5>\n",
      "<music21.chord.Chord E4 E6>\n",
      "<music21.tempo.MetronomeMark animato Quarter=120.5>\n",
      "<music21.chord.Chord F4 F6>\n",
      "<music21.tempo.MetronomeMark Quarter=113.5>\n",
      "<music21.tempo.MetronomeMark Quarter=122.77>\n",
      "<music21.chord.Chord E4 F4 E6 F6>\n",
      "<music21.tempo.MetronomeMark Quarter=123.5>\n",
      "<music21.chord.Chord E4 E6>\n",
      "<music21.tempo.MetronomeMark Quarter=117.0>\n",
      "<music21.chord.Chord D4 D6>\n",
      "<music21.tempo.MetronomeMark animato Quarter=119.0>\n",
      "<music21.chord.Chord C4 C6>\n",
      "<music21.tempo.MetronomeMark animato Quarter=121.5>\n",
      "<music21.chord.Chord D4 D6>\n",
      "<music21.tempo.MetronomeMark Quarter=123.5>\n",
      "<music21.chord.Chord E4 E6>\n",
      "<music21.tempo.MetronomeMark Quarter=125.0>\n",
      "<music21.chord.Chord F4 F6>\n",
      "<music21.tempo.MetronomeMark allegro moderato Quarter=127.5>\n",
      "<music21.chord.Chord G4 G6>\n",
      "<music21.tempo.MetronomeMark animato Quarter=118.0>\n",
      "<music21.chord.Chord E4 E6>\n",
      "<music21.tempo.MetronomeMark Quarter=123.0>\n",
      "<music21.chord.Chord F4 F6>\n",
      "<music21.tempo.MetronomeMark Quarter=110.5>\n",
      "<music21.chord.Chord E4 E6>\n",
      "<music21.tempo.MetronomeMark Quarter=115.0>\n",
      "<music21.chord.Chord D4 E4 D6 E6>\n",
      "<music21.tempo.MetronomeMark Quarter=104.5>\n",
      "<music21.chord.Chord D4 D6>\n",
      "<music21.tempo.MetronomeMark Quarter=99.5>\n",
      "<music21.chord.Chord C4 C6>\n",
      "<music21.chord.Chord B-3 B-5>\n",
      "<music21.tempo.MetronomeMark allegretto Quarter=108.5>\n",
      "<music21.chord.Chord A3 A5>\n",
      "<music21.tempo.MetronomeMark Quarter=117.0>\n",
      "<music21.chord.Chord B3 B5>\n",
      "<music21.tempo.MetronomeMark animato Quarter=119.5>\n",
      "<music21.chord.Chord C#4 C#6>\n",
      "<music21.tempo.MetronomeMark Quarter=117.5>\n",
      "<music21.chord.Chord D4 D6>\n",
      "<music21.tempo.MetronomeMark Quarter=123.5>\n",
      "<music21.chord.Chord E4 E6>\n",
      "<music21.tempo.MetronomeMark animato Quarter=121.0>\n",
      "<music21.chord.Chord F4 F6>\n",
      "<music21.tempo.MetronomeMark Quarter=124.5>\n",
      "<music21.chord.Chord G4 G6>\n",
      "<music21.tempo.MetronomeMark Quarter=122.5>\n",
      "<music21.chord.Chord A4 A6>\n",
      "<music21.tempo.MetronomeMark allegro moderato Quarter=128.5>\n",
      "<music21.chord.Chord B-4 C5 B-6 C7>\n",
      "<music21.tempo.MetronomeMark allegro moderato Quarter=126.0>\n",
      "<music21.chord.Chord B-4 B-6>\n",
      "<music21.tempo.MetronomeMark animato Quarter=120.5>\n",
      "<music21.chord.Chord A4 A6>\n",
      "<music21.tempo.MetronomeMark Quarter=117.5>\n",
      "<music21.chord.Chord G4 G6>\n",
      "<music21.tempo.MetronomeMark animato Quarter=120.5>\n",
      "<music21.chord.Chord A4 A6>\n",
      "<music21.tempo.MetronomeMark animato Quarter=121.0>\n",
      "<music21.tempo.MetronomeMark Quarter=124.0>\n",
      "<music21.chord.Chord A4 A6>\n",
      "<music21.tempo.MetronomeMark animato Quarter=120.0>\n",
      "<music21.chord.Chord G4 G6>\n",
      "<music21.tempo.MetronomeMark Quarter=117.5>\n",
      "<music21.chord.Chord B-4 B-6>\n",
      "<music21.tempo.MetronomeMark Quarter=113.0>\n",
      "<music21.chord.Chord A4 A6>\n",
      "<music21.tempo.MetronomeMark animato Quarter=119.0>\n",
      "<music21.chord.Chord F4 G4 F6 G6>\n",
      "<music21.tempo.MetronomeMark animato Quarter=118.5>\n",
      "<music21.chord.Chord F4 F6>\n",
      "<music21.chord.Chord E-4 E-6>\n",
      "<music21.tempo.MetronomeMark Quarter=115.0>\n",
      "<music21.chord.Chord D4 D6>\n",
      "<music21.tempo.MetronomeMark Quarter=105.0>\n",
      "<music21.chord.Chord E4 E6>\n",
      "<music21.tempo.MetronomeMark Quarter=102.0>\n",
      "<music21.chord.Chord C4 C6>\n",
      "<music21.chord.Chord B-3 B-5>\n",
      "<music21.tempo.MetronomeMark moderate Quarter=92.5>\n",
      "<music21.chord.Chord A2>\n",
      "<music21.tempo.MetronomeMark allegro Quarter=130.5>\n",
      "<music21.chord.Chord A2 C#4 B-4>\n",
      "<music21.chord.Chord A2 C#4 A4>\n",
      "<music21.tempo.MetronomeMark Quarter=117.5>\n",
      "<music21.chord.Chord E3>\n",
      "<music21.tempo.MetronomeMark allegro Quarter=132.5>\n",
      "<music21.chord.Chord E3 C#4 B-4>\n",
      "<music21.tempo.MetronomeMark allegro Quarter=133.0>\n",
      "<music21.tempo.MetronomeMark allegro Quarter=133.5>\n",
      "<music21.chord.Chord E3 C#4 A4>\n",
      "<music21.tempo.MetronomeMark allegro Quarter=134.0>\n",
      "<music21.tempo.MetronomeMark Quarter=134.5>\n",
      "<music21.tempo.MetronomeMark Quarter=135.0>\n",
      "<music21.chord.Chord A3>\n",
      "<music21.tempo.MetronomeMark Quarter=135.5>\n",
      "<music21.chord.Chord A3 C#4 B-4>\n",
      "<music21.tempo.MetronomeMark Quarter=136.0>\n",
      "<music21.tempo.MetronomeMark Quarter=136.5>\n",
      "<music21.chord.Chord A3 C#4 A4>\n",
      "<music21.tempo.MetronomeMark Quarter=137.0>\n",
      "<music21.tempo.MetronomeMark Quarter=137.5>\n",
      "<music21.tempo.MetronomeMark allegro Quarter=133.0>\n",
      "<music21.chord.Chord A2>\n",
      "<music21.tempo.MetronomeMark allegrissimo Quarter=140.0>\n",
      "<music21.chord.Chord A2 D4 A4>\n",
      "<music21.chord.Chord A2 D4 G4>\n",
      "<music21.tempo.MetronomeMark allegrissimo Quarter=142.0>\n",
      "<music21.chord.Chord E3>\n",
      "<music21.chord.Chord E3 D4 A4>\n",
      "<music21.chord.Chord E3 D4 G4>\n",
      "<music21.tempo.MetronomeMark Quarter=147.5>\n",
      "<music21.chord.Chord B-3>\n",
      "<music21.chord.Chord B-3 D4 A4>\n",
      "<music21.tempo.MetronomeMark allegro moderato Quarter=129.0>\n",
      "<music21.tempo.MetronomeMark allegro moderato Quarter=128.5>\n",
      "<music21.chord.Chord B-3 D4 G4>\n",
      "<music21.tempo.MetronomeMark allegro moderato Quarter=128.0>\n",
      "<music21.tempo.MetronomeMark allegro moderato Quarter=127.5>\n",
      "<music21.tempo.MetronomeMark allegro moderato Quarter=127.0>\n",
      "<music21.tempo.MetronomeMark Quarter=99.74>\n",
      "<music21.chord.Chord A2>\n",
      "<music21.tempo.MetronomeMark allegro moderato Quarter=128.5>\n",
      "<music21.chord.Chord A2 C#4 B-4>\n",
      "<music21.chord.Chord A2 C#4 A4>\n",
      "<music21.tempo.MetronomeMark allegro Quarter=132.5>\n",
      "<music21.chord.Chord E3>\n",
      "<music21.tempo.MetronomeMark allegro Quarter=133.0>\n",
      "<music21.tempo.MetronomeMark allegro Quarter=133.5>\n",
      "<music21.chord.Chord E3 C#4 B-4>\n",
      "<music21.tempo.MetronomeMark allegro Quarter=134.0>\n",
      "<music21.chord.Chord E3 C#4 A4>\n",
      "<music21.tempo.MetronomeMark Quarter=134.5>\n",
      "<music21.tempo.MetronomeMark Quarter=135.0>\n",
      "<music21.tempo.MetronomeMark Quarter=135.5>\n",
      "<music21.chord.Chord A3>\n",
      "<music21.tempo.MetronomeMark Quarter=136.0>\n",
      "<music21.chord.Chord A3 C#4 B-4>\n",
      "<music21.tempo.MetronomeMark Quarter=136.5>\n",
      "<music21.tempo.MetronomeMark Quarter=137.0>\n",
      "<music21.chord.Chord A3 C#4 A4>\n",
      "<music21.tempo.MetronomeMark Quarter=137.5>\n",
      "<music21.tempo.MetronomeMark allegrissimo Quarter=138.0>\n",
      "<music21.tempo.MetronomeMark Quarter=124.0>\n",
      "<music21.chord.Chord A2>\n",
      "<music21.tempo.MetronomeMark Quarter=137.0>\n",
      "<music21.tempo.MetronomeMark allegrissimo Quarter=138.0>\n",
      "<music21.chord.Chord A2 D4 B-4>\n",
      "<music21.tempo.MetronomeMark allegrissimo Quarter=138.5>\n",
      "<music21.chord.Chord A2 D4 A4>\n",
      "<music21.tempo.MetronomeMark allegrissimo Quarter=139.0>\n",
      "<music21.tempo.MetronomeMark allegrissimo Quarter=138.5>\n",
      "<music21.chord.Chord E3>\n",
      "<music21.tempo.MetronomeMark allegrissimo Quarter=138.0>\n",
      "<music21.tempo.MetronomeMark Quarter=137.5>\n",
      "<music21.tempo.MetronomeMark Quarter=137.0>\n",
      "<music21.chord.Chord E3 D4 A4>\n",
      "<music21.tempo.MetronomeMark Quarter=136.5>\n",
      "<music21.tempo.MetronomeMark Quarter=136.0>\n",
      "<music21.tempo.MetronomeMark Quarter=135.5>\n",
      "<music21.tempo.MetronomeMark Quarter=135.0>\n",
      "<music21.chord.Chord E3 D4 G4>\n",
      "<music21.tempo.MetronomeMark Quarter=134.5>\n",
      "<music21.tempo.MetronomeMark allegro Quarter=134.0>\n",
      "<music21.tempo.MetronomeMark allegro Quarter=133.5>\n",
      "<music21.tempo.MetronomeMark allegro Quarter=133.0>\n",
      "<music21.tempo.MetronomeMark allegro Quarter=132.5>\n",
      "<music21.tempo.MetronomeMark allegro Quarter=132.0>\n",
      "<music21.chord.Chord B-3>\n",
      "<music21.tempo.MetronomeMark allegro Quarter=131.5>\n",
      "<music21.tempo.MetronomeMark allegro Quarter=131.0>\n",
      "<music21.tempo.MetronomeMark allegro Quarter=130.5>\n",
      "<music21.tempo.MetronomeMark allegro moderato Quarter=130.0>\n",
      "<music21.chord.Chord B-3 D4 G4>\n",
      "<music21.tempo.MetronomeMark allegro moderato Quarter=129.5>\n",
      "<music21.tempo.MetronomeMark allegro moderato Quarter=129.0>\n",
      "<music21.tempo.MetronomeMark allegro moderato Quarter=128.5>\n",
      "<music21.tempo.MetronomeMark allegro moderato Quarter=128.0>\n",
      "<music21.chord.Chord B-3 D4 E4>\n",
      "<music21.tempo.MetronomeMark allegro moderato Quarter=127.5>\n",
      "<music21.tempo.MetronomeMark allegro moderato Quarter=127.0>\n",
      "<music21.tempo.MetronomeMark allegro moderato Quarter=126.5>\n",
      "<music21.tempo.MetronomeMark allegro moderato Quarter=126.0>\n",
      "<music21.tempo.MetronomeMark Quarter=100.69>\n",
      "<music21.chord.Chord A2>\n",
      "<music21.tempo.MetronomeMark allegro Quarter=130.5>\n",
      "<music21.chord.Chord A2 C#4 B-4>\n",
      "<music21.chord.Chord A2 C#4 A4>\n",
      "<music21.tempo.MetronomeMark Quarter=135.0>\n",
      "<music21.chord.Chord E3>\n",
      "<music21.chord.Chord E3 C#4 B-4>\n",
      "<music21.chord.Chord E3 C#4 A4>\n",
      "<music21.tempo.MetronomeMark allegro Quarter=133.5>\n",
      "<music21.chord.Chord A3>\n",
      "<music21.chord.Chord A3 C#4 B-4>\n",
      "<music21.chord.Chord A3 C#4 A4>\n",
      "<music21.tempo.MetronomeMark Quarter=116.0>\n",
      "<music21.chord.Chord F2>\n",
      "<music21.tempo.MetronomeMark allegro moderato Quarter=130.0>\n",
      "<music21.chord.Chord F2 A3 G4>\n",
      "<music21.chord.Chord F2 A3 F4>\n",
      "<music21.tempo.MetronomeMark allegro Quarter=133.5>\n",
      "<music21.chord.Chord C3>\n",
      "<music21.chord.Chord C3 A3 G4>\n",
      "<music21.chord.Chord C3 A3 F4>\n",
      "<music21.tempo.MetronomeMark allegro moderato Quarter=126.0>\n",
      "<music21.chord.Chord A3>\n",
      "<music21.chord.Chord A3 G4>\n",
      "<music21.tempo.MetronomeMark Quarter=123.0>\n",
      "<music21.chord.Chord A3 G4>\n",
      "<music21.chord.Chord A3 F4>\n",
      "<music21.tempo.MetronomeMark Quarter=110.5>\n",
      "<music21.chord.Chord C3>\n",
      "<music21.tempo.MetronomeMark allegro moderato Quarter=128.0>\n",
      "<music21.chord.Chord C3 C4 F4>\n",
      "<music21.chord.Chord C3 C4 E4>\n",
      "<music21.tempo.MetronomeMark Quarter=125.5>\n",
      "<music21.chord.Chord G3>\n",
      "<music21.chord.Chord G3 C4 F4>\n",
      "<music21.chord.Chord G3 C4 E4>\n",
      "<music21.tempo.MetronomeMark animato Quarter=118.0>\n",
      "<music21.chord.Chord C4>\n",
      "<music21.chord.Chord C4 F4>\n",
      "<music21.chord.Chord C4 E4>\n",
      "<music21.tempo.MetronomeMark Quarter=117.5>\n",
      "<music21.tempo.MetronomeMark animato Quarter=118.0>\n",
      "<music21.chord.Chord G3>\n",
      "<music21.tempo.MetronomeMark Quarter=117.5>\n",
      "<music21.tempo.MetronomeMark Quarter=117.0>\n",
      "<music21.tempo.MetronomeMark Quarter=116.5>\n",
      "<music21.note.Rest 1/12ql>\n",
      "<music21.tempo.MetronomeMark Quarter=116.0>\n",
      "<music21.chord.Chord B-3 E4>\n",
      "<music21.tempo.MetronomeMark Quarter=115.5>\n",
      "<music21.tempo.MetronomeMark Quarter=115.0>\n",
      "<music21.tempo.MetronomeMark Quarter=114.5>\n",
      "<music21.chord.Chord B-3 E4>\n",
      "<music21.tempo.MetronomeMark Quarter=114.0>\n",
      "<music21.chord.Chord B-3 D4>\n",
      "<music21.tempo.MetronomeMark Quarter=113.5>\n",
      "<music21.tempo.MetronomeMark Quarter=113.0>\n",
      "<music21.tempo.MetronomeMark Quarter=112.5>\n",
      "<music21.chord.Chord B-3 D4>\n",
      "<music21.tempo.MetronomeMark Quarter=112.0>\n",
      "<music21.tempo.MetronomeMark Quarter=111.5>\n",
      "<music21.tempo.MetronomeMark Quarter=111.0>\n",
      "<music21.tempo.MetronomeMark Quarter=110.5>\n",
      "<music21.chord.Chord A3>\n",
      "<music21.tempo.MetronomeMark allegretto Quarter=110.0>\n",
      "<music21.tempo.MetronomeMark allegretto Quarter=109.5>\n",
      "<music21.tempo.MetronomeMark allegretto Quarter=109.0>\n",
      "<music21.note.Rest 1/12ql>\n",
      "<music21.tempo.MetronomeMark allegretto Quarter=108.5>\n",
      "<music21.chord.Chord B-3 E4>\n",
      "<music21.tempo.MetronomeMark allegretto Quarter=108.0>\n",
      "<music21.tempo.MetronomeMark allegretto Quarter=107.5>\n",
      "<music21.tempo.MetronomeMark allegretto Quarter=107.0>\n",
      "<music21.chord.Chord B-3 E4>\n",
      "<music21.tempo.MetronomeMark allegretto Quarter=106.5>\n",
      "<music21.chord.Chord B-3 D4>\n",
      "<music21.tempo.MetronomeMark allegretto Quarter=106.0>\n",
      "<music21.tempo.MetronomeMark Quarter=105.5>\n",
      "<music21.tempo.MetronomeMark Quarter=105.0>\n",
      "<music21.tempo.MetronomeMark Quarter=104.5>\n",
      "<music21.chord.Chord B-3 C4 D4>\n",
      "<music21.tempo.MetronomeMark Quarter=104.0>\n",
      "<music21.tempo.MetronomeMark Quarter=103.5>\n",
      "<music21.note.Rest 1/3ql>\n",
      "<music21.chord.Chord B-3 E4>\n",
      "<music21.tempo.MetronomeMark maestoso Quarter=87.0>\n",
      "<music21.chord.Chord B-3 D4>\n",
      "<music21.tempo.MetronomeMark allegretto Quarter=106.0>\n",
      "<music21.chord.Chord A2>\n",
      "<music21.tempo.MetronomeMark allegretto Quarter=109.0>\n",
      "<music21.chord.Chord E3>\n",
      "<music21.chord.Chord A3 C#4 E4>\n",
      "<music21.tempo.MetronomeMark Quarter=96.58>\n",
      "<music21.tempo.MetronomeMark Quarter=111.0>\n",
      "<music21.chord.Chord D3>\n",
      "<music21.tempo.MetronomeMark Quarter=111.5>\n",
      "<music21.chord.Chord E3>\n",
      "<music21.tempo.MetronomeMark Quarter=112.0>\n",
      "<music21.chord.Chord F3>\n",
      "<music21.tempo.MetronomeMark Quarter=112.5>\n",
      "<music21.chord.Chord G3 B-3 D4 E4>\n",
      "<music21.tempo.MetronomeMark Quarter=113.0>\n",
      "<music21.chord.Chord A3 B-3 D4 E4>\n",
      "<music21.chord.Chord A3>\n",
      "<music21.tempo.MetronomeMark Quarter=113.5>\n",
      "<music21.chord.Chord B-3>\n",
      "<music21.tempo.MetronomeMark Quarter=114.0>\n",
      "<music21.tempo.MetronomeMark Quarter=114.0>\n",
      "<music21.tempo.MetronomeMark Quarter=113.5>\n",
      "<music21.chord.Chord C4>\n",
      "<music21.tempo.MetronomeMark Quarter=112.5>\n",
      "<music21.tempo.MetronomeMark Quarter=112.0>\n",
      "<music21.chord.Chord C4>\n",
      "<music21.tempo.MetronomeMark Quarter=111.0>\n",
      "<music21.chord.Chord B-3>\n",
      "<music21.tempo.MetronomeMark Quarter=110.5>\n",
      "<music21.tempo.MetronomeMark allegretto Quarter=109.5>\n",
      "<music21.tempo.MetronomeMark allegretto Quarter=109.0>\n",
      "<music21.chord.Chord B-3>\n",
      "<music21.tempo.MetronomeMark allegretto Quarter=108.0>\n",
      "<music21.chord.Chord A3>\n",
      "<music21.tempo.MetronomeMark allegretto Quarter=107.5>\n",
      "<music21.tempo.MetronomeMark allegretto Quarter=106.5>\n",
      "<music21.chord.Chord A3>\n",
      "<music21.tempo.MetronomeMark allegretto Quarter=106.0>\n",
      "<music21.tempo.MetronomeMark Quarter=105.0>\n",
      "<music21.chord.Chord A2>\n",
      "<music21.tempo.MetronomeMark allegretto Quarter=107.0>\n",
      "<music21.chord.Chord E3>\n",
      "<music21.tempo.MetronomeMark Quarter=100.0>\n",
      "<music21.chord.Chord A3 C#4 E4>\n",
      "<music21.tempo.MetronomeMark moderate Quarter=93.96>\n",
      "<music21.tempo.MetronomeMark Quarter=100.0>\n",
      "<music21.chord.Chord D3>\n",
      "<music21.tempo.MetronomeMark Quarter=100.5>\n",
      "<music21.chord.Chord D3>\n",
      "<music21.tempo.MetronomeMark Quarter=101.0>\n",
      "<music21.chord.Chord E3>\n",
      "<music21.tempo.MetronomeMark Quarter=101.5>\n",
      "<music21.tempo.MetronomeMark Quarter=102.0>\n",
      "<music21.chord.Chord E3>\n",
      "<music21.tempo.MetronomeMark Quarter=102.5>\n",
      "<music21.chord.Chord F3>\n",
      "<music21.tempo.MetronomeMark Quarter=103.0>\n",
      "<music21.chord.Chord F3>\n",
      "<music21.tempo.MetronomeMark Quarter=103.5>\n",
      "<music21.tempo.MetronomeMark Quarter=104.0>\n",
      "<music21.tempo.MetronomeMark Quarter=103.5>\n",
      "<music21.chord.Chord G3 B-3 D4 E4>\n",
      "<music21.tempo.MetronomeMark Quarter=102.5>\n",
      "<music21.tempo.MetronomeMark Quarter=101.5>\n",
      "<music21.tempo.MetronomeMark Quarter=101.0>\n",
      "<music21.chord.Chord A3 B-3 D4 E4>\n",
      "<music21.tempo.MetronomeMark Quarter=100.0>\n",
      "<music21.tempo.MetronomeMark Quarter=99.0>\n",
      "<music21.tempo.MetronomeMark Quarter=98.5>\n",
      "<music21.chord.Chord A3>\n",
      "<music21.tempo.MetronomeMark Quarter=97.5>\n",
      "<music21.chord.Chord B-3>\n",
      "<music21.tempo.MetronomeMark Quarter=96.5>\n",
      "<music21.tempo.MetronomeMark Quarter=96.0>\n",
      "<music21.chord.Chord B-3>\n",
      "<music21.tempo.MetronomeMark Quarter=95.0>\n",
      "<music21.tempo.MetronomeMark moderate Quarter=94.0>\n",
      "<music21.tempo.MetronomeMark moderate Quarter=93.5>\n",
      "<music21.chord.Chord C4>\n",
      "<music21.tempo.MetronomeMark moderate Quarter=92.5>\n",
      "<music21.tempo.MetronomeMark moderate Quarter=91.5>\n",
      "<music21.chord.Chord C4>\n",
      "<music21.tempo.MetronomeMark moderate Quarter=91.0>\n",
      "<music21.chord.Chord B-3>\n",
      "<music21.tempo.MetronomeMark maestoso Quarter=90.0>\n",
      "<music21.tempo.MetronomeMark maestoso Quarter=89.0>\n",
      "<music21.tempo.MetronomeMark maestoso Quarter=88.18>\n",
      "<music21.chord.Chord B-3>\n",
      "<music21.tempo.MetronomeMark maestoso Quarter=88.18>\n",
      "<music21.chord.Chord A3>\n",
      "<music21.tempo.MetronomeMark andante moderato Quarter=83.99>\n",
      "<music21.tempo.MetronomeMark andantino Quarter=79.26>\n",
      "<music21.chord.Chord A3>\n",
      "<music21.tempo.MetronomeMark Quarter=75.06>\n",
      "<music21.tempo.MetronomeMark andante Quarter=70.34>\n",
      "<music21.chord.Chord G#3 D4 B-4 E5>\n",
      "<music21.tempo.MetronomeMark Quarter=102.5>\n",
      "<music21.chord.Chord B-3 B-5>\n",
      "<music21.tempo.MetronomeMark allegretto Quarter=110.0>\n",
      "<music21.chord.Chord B-3 B-5>\n",
      "<music21.tempo.MetronomeMark allegretto Quarter=106.5>\n",
      "<music21.chord.Chord C4 C6>\n",
      "<music21.tempo.MetronomeMark Quarter=111.0>\n",
      "<music21.chord.Chord D4 D6>\n",
      "<music21.tempo.MetronomeMark allegretto Quarter=107.5>\n",
      "<music21.chord.Chord F4 F6>\n",
      "<music21.tempo.MetronomeMark Quarter=113.0>\n",
      "<music21.chord.Chord D4 D6>\n",
      "<music21.tempo.MetronomeMark Quarter=114.5>\n",
      "<music21.chord.Chord C4 C6>\n",
      "<music21.chord.Chord C4 D4 C6 D6>\n",
      "<music21.tempo.MetronomeMark Quarter=114.0>\n",
      "<music21.chord.Chord C4 C6>\n",
      "<music21.tempo.MetronomeMark Quarter=111.5>\n",
      "<music21.chord.Chord B-3 B-5>\n",
      "<music21.chord.Chord F3 F5>\n",
      "<music21.tempo.MetronomeMark moderate Quarter=92.39>\n",
      "<music21.chord.Chord B-3 B-5>\n",
      "<music21.chord.Chord A3 A5>\n",
      "<music21.tempo.MetronomeMark Quarter=94.5>\n",
      "<music21.chord.Chord A3 A5>\n",
      "<music21.tempo.MetronomeMark Quarter=95.0>\n",
      "<music21.chord.Chord G#3 G#5>\n",
      "<music21.chord.Chord F3 F5>\n",
      "<music21.tempo.MetronomeMark moderate Quarter=92.5>\n",
      "<music21.chord.Chord E3 E5>\n",
      "<music21.chord.Chord D3 D5>\n",
      "<music21.tempo.MetronomeMark Quarter=94.5>\n",
      "<music21.chord.Chord A2>\n",
      "<music21.tempo.MetronomeMark Quarter=97.41>\n",
      "<music21.chord.Chord E3 A3>\n",
      "<music21.tempo.MetronomeMark Quarter=100.75>\n",
      "<music21.chord.Chord A3 C#4>\n",
      "<music21.tempo.MetronomeMark Quarter=105.0>\n",
      "<music21.chord.Chord C#4 E4>\n",
      "<music21.tempo.MetronomeMark allegretto Quarter=106.5>\n",
      "<music21.chord.Chord E4 A4>\n",
      "<music21.tempo.MetronomeMark Quarter=102.0>\n",
      "<music21.chord.Chord A4 C#5>\n",
      "<music21.tempo.MetronomeMark Quarter=104.57>\n",
      "<music21.chord.Chord C#5 E5>\n",
      "<music21.tempo.MetronomeMark Quarter=101.22>\n",
      "<music21.chord.Chord C#4 A4>\n",
      "<music21.tempo.MetronomeMark Quarter=103.61>\n",
      "<music21.chord.Chord E4 C#5>\n",
      "<music21.tempo.MetronomeMark Quarter=105.0>\n",
      "<music21.chord.Chord A4 E5>\n",
      "<music21.tempo.MetronomeMark allegretto Quarter=106.0>\n",
      "<music21.chord.Chord C#5 A5>\n",
      "<music21.tempo.MetronomeMark Quarter=102.5>\n",
      "<music21.chord.Chord E5 C#6>\n",
      "<music21.tempo.MetronomeMark Quarter=100.27>\n",
      "<music21.chord.Chord A5 E6>\n",
      "<music21.tempo.MetronomeMark Quarter=94.54>\n",
      "<music21.chord.Chord C#4 A4>\n",
      "<music21.tempo.MetronomeMark Quarter=96.92>\n",
      "<music21.chord.Chord E4 C#5>\n",
      "<music21.tempo.MetronomeMark moderate Quarter=92.15>\n",
      "<music21.chord.Chord A4 E5>\n",
      "<music21.tempo.MetronomeMark moderate Quarter=93.58>\n",
      "<music21.chord.Chord C#5 A5>\n",
      "<music21.tempo.MetronomeMark maestoso Quarter=87.72>\n",
      "<music21.chord.Chord E5 C#6>\n",
      "<music21.tempo.MetronomeMark moderate Quarter=90.22>\n",
      "<music21.chord.Chord A5 E6>\n",
      "<music21.tempo.MetronomeMark maestoso Quarter=87.72>\n",
      "<music21.chord.Chord C#5 A5>\n",
      "<music21.tempo.MetronomeMark maestoso Quarter=87.23>\n",
      "<music21.tempo.MetronomeMark maestoso Quarter=86.71>\n",
      "<music21.tempo.MetronomeMark maestoso Quarter=86.22>\n",
      "<music21.chord.Chord E5 C#6>\n",
      "<music21.tempo.MetronomeMark Quarter=85.71>\n",
      "<music21.tempo.MetronomeMark Quarter=85.21>\n",
      "<music21.tempo.MetronomeMark andante moderato Quarter=84.71>\n",
      "<music21.chord.Chord A5 E6>\n",
      "<music21.tempo.MetronomeMark andante moderato Quarter=84.2>\n",
      "<music21.tempo.MetronomeMark andante moderato Quarter=83.71>\n",
      "<music21.tempo.MetronomeMark andante moderato Quarter=83.2>\n",
      "<music21.chord.Chord C#6 A6>\n",
      "<music21.tempo.MetronomeMark andante moderato Quarter=82.71>\n",
      "<music21.tempo.MetronomeMark andante moderato Quarter=82.21>\n",
      "<music21.tempo.MetronomeMark andantino Quarter=81.7>\n",
      "<music21.chord.Chord E6 C#7>\n",
      "<music21.tempo.MetronomeMark andantino Quarter=81.2>\n",
      "<music21.tempo.MetronomeMark andantino Quarter=80.7>\n",
      "<music21.tempo.MetronomeMark andantino Quarter=80.19>\n",
      "<music21.tempo.MetronomeMark moderate Quarter=92.91>\n",
      "<music21.chord.Chord A4 E5 C#6 A6 E7 A7>\n",
      "<music21.tempo.MetronomeMark andantino Quarter=80.0>\n",
      "<music21.note.Rest dotted-half>\n",
      "<music21.bar.Barline type=final>\n"
     ]
    }
   ],
   "source": [
    "#contents of immense musical data under flat method of music metadata after chordified! \n",
    "for i in one.flat:\n",
    "    print(i)"
   ]
  },
  {
   "cell_type": "code",
   "execution_count": 37,
   "metadata": {},
   "outputs": [],
   "source": [
    "def get_chord_duration_data(indv_midi_chordified):\n",
    "    chord_duration_data = []\n",
    "    for element in indv_midi_chordified.flat:\n",
    "        if isinstance(element, chord.Chord):\n",
    "            chord_duration = round_chord_durations(element.duration.quarterLength)\n",
    "            chord_name = \".\".join([n.nameWithOctave for n in element.pitches])\n",
    "            chord_duration_data.append((chord_name, chord_duration))\n",
    "    return chord_duration_data"
   ]
  },
  {
   "cell_type": "code",
   "execution_count": 39,
   "metadata": {},
   "outputs": [
    {
     "data": {
      "text/plain": [
       "397"
      ]
     },
     "execution_count": 39,
     "metadata": {},
     "output_type": "execute_result"
    }
   ],
   "source": [
    "one_ch_dur_data = get_chord_duration_data(one)\n",
    "len(one_ch_dur_data)"
   ]
  },
  {
   "cell_type": "code",
   "execution_count": null,
   "metadata": {},
   "outputs": [],
   "source": []
  },
  {
   "cell_type": "code",
   "execution_count": 40,
   "metadata": {},
   "outputs": [
    {
     "name": "stdout",
     "output_type": "stream",
     "text": [
      "[['A3', 'A5'], ['E4', 'E6'], ['E4', 'E6'], ['D4', 'E4', 'D6', 'E6'], ['D4', 'D6'], ['C4', 'C6'], ['D4', 'D6'], ['E4', 'E6'], ['F4', 'F6'], ['G4', 'G6'], ['E4', 'E6'], ['F4', 'F6'], ['E4', 'E6'], ['D4', 'E4', 'D6', 'E6'], ['D4', 'D6'], ['C4', 'C6'], ['B-3', 'B-5'], ['A2'], ['A2'], ['E3', 'A3'], ['A3', 'C#4'], ['C#4', 'E4'], ['E4', 'A4'], ['A4', 'C#5'], ['C#5', 'E5'], ['C#4', 'A4'], ['E4', 'C#5'], ['A4', 'E5'], ['C#5', 'A5'], ['E5', 'C#6'], ['A5', 'E6'], ['E5', 'C#6'], ['C#5', 'A5'], ['A4', 'E5'], ['E4', 'C#5'], ['C#4', 'A4'], ['A4', 'E5'], ['E4', 'C#5'], ['C#4', 'A4'], ['A3', 'E4'], ['A3', 'C#4'], ['E3', 'A3'], ['A2'], ['A2'], ['A3', 'A5'], ['E4', 'E6'], ['E4', 'E6'], ['D4', 'E4', 'D6', 'E6'], ['D4', 'D6'], ['C4', 'C6'], ['D4', 'D6'], ['E4', 'E6'], ['F4', 'F6'], ['G4', 'G6'], ['E4', 'E6'], ['F4', 'F6'], ['E4', 'E6'], ['D4', 'E4', 'D6', 'E6'], ['D4', 'D6'], ['C4', 'C6'], ['B-3', 'B-5'], ['A3', 'A5'], ['B-3', 'B-5'], ['C4', 'C6'], ['D4', 'D6'], ['F4', 'F6'], ['D4', 'E4', 'D6', 'E6'], ['D4', 'D6'], ['C4', 'C6'], ['B-3', 'B-5'], ['A3', 'A5'], ['B-3', 'B-5'], ['C4', 'C6'], ['D4', 'D6'], ['E4', 'E6'], ['G4', 'G6'], ['F4', 'F6'], ['D4', 'E4', 'D6', 'E6'], ['D4', 'D6'], ['C4', 'C6'], ['B-3', 'B-5'], ['D4', 'D6'], ['C#4', 'C#6'], ['A2'], ['A2', 'C#4', 'B-4'], ['A2', 'C#4', 'A4'], ['E3'], ['E3', 'C#4', 'B-4'], ['E3', 'C#4', 'A4'], ['A3'], ['A3', 'C#4', 'B-4'], ['A3', 'C#4', 'A4'], ['A2'], ['A2', 'D4', 'A4'], ['A2', 'D4', 'G4'], ['E3'], ['E3', 'D4', 'A4'], ['E3', 'D4', 'G4'], ['B-3'], ['B-3', 'D4', 'A4'], ['B-3', 'D4', 'G4'], ['A2'], ['A2', 'C#4', 'B-4'], ['A2', 'C#4', 'A4'], ['E3'], ['E3', 'C#4', 'B-4'], ['E3', 'C#4', 'A4'], ['A3'], ['A3', 'C#4', 'B-4'], ['A3', 'C#4', 'A4'], ['A2'], ['A2', 'D4', 'B-4'], ['A2', 'D4', 'A4'], ['E3'], ['E3', 'D4', 'A4'], ['E3', 'D4', 'G4'], ['B-3'], ['B-3', 'D4', 'G4'], ['B-3', 'D4', 'E4'], ['A2'], ['A2', 'C#4', 'B-4'], ['A2', 'C#4', 'A4'], ['E3'], ['E3', 'C#4', 'B-4'], ['E3', 'C#4', 'A4'], ['A3'], ['A3', 'C#4', 'B-4'], ['A3', 'C#4', 'A4'], ['F2'], ['F2', 'A3', 'G4'], ['F2', 'A3', 'F4'], ['C3'], ['C3', 'A3', 'G4'], ['C3', 'A3', 'F4'], ['A3'], ['A3', 'G4'], ['A3', 'G4'], ['A3', 'F4'], ['C3'], ['C3', 'C4', 'F4'], ['C3', 'C4', 'E4'], ['G3'], ['G3', 'C4', 'F4'], ['G3', 'C4', 'E4'], ['C4'], ['C4', 'F4'], ['C4', 'E4'], ['G3'], ['B-3', 'E4'], ['B-3', 'E4'], ['B-3', 'D4'], ['B-3', 'D4'], ['A3'], ['B-3', 'E4'], ['B-3', 'E4'], ['B-3', 'D4'], ['B-3', 'C4', 'D4'], ['B-3', 'E4'], ['B-3', 'D4'], ['A2'], ['A2', 'C#4', 'B-4'], ['A2', 'C#4', 'A4'], ['E3'], ['E3', 'C#4', 'B-4'], ['E3', 'C#4', 'A4'], ['A3'], ['A3', 'C#4', 'B-4'], ['A3', 'C#4', 'A4'], ['A2'], ['A2', 'D4', 'A4'], ['A2', 'D4', 'G4'], ['E3'], ['E3', 'D4', 'A4'], ['E3', 'D4', 'G4'], ['B-3'], ['B-3', 'D4', 'A4'], ['B-3', 'D4', 'G4'], ['A2'], ['A2', 'C#4', 'B-4'], ['A2', 'C#4', 'A4'], ['E3'], ['E3', 'C#4', 'B-4'], ['E3', 'C#4', 'A4'], ['A3'], ['A3', 'C#4', 'B-4'], ['A3', 'C#4', 'A4'], ['A2'], ['A2', 'D4', 'A4'], ['A2', 'D4', 'G4'], ['E3'], ['E3', 'D4', 'A4'], ['E3', 'D4', 'G4'], ['B-3'], ['B-3', 'D4', 'A4'], ['B-3', 'D4', 'G4'], ['A2'], ['A3', 'A5'], ['B3', 'B5'], ['C#4', 'C#6'], ['D4', 'D6'], ['E4', 'E6'], ['F4', 'F6'], ['E4', 'F4', 'E6', 'F6'], ['E4', 'E6'], ['D4', 'D6'], ['C4', 'C6'], ['D4', 'D6'], ['E4', 'E6'], ['F4', 'F6'], ['G4', 'G6'], ['E4', 'E6'], ['F4', 'F6'], ['E4', 'E6'], ['D4', 'E4', 'D6', 'E6'], ['D4', 'D6'], ['C4', 'C6'], ['B-3', 'B-5'], ['A3', 'A5'], ['B3', 'B5'], ['C#4', 'C#6'], ['D4', 'D6'], ['E4', 'E6'], ['F4', 'F6'], ['G4', 'G6'], ['A4', 'A6'], ['B-4', 'C5', 'B-6', 'C7'], ['B-4', 'B-6'], ['A4', 'A6'], ['G4', 'G6'], ['A4', 'A6'], ['A4', 'A6'], ['G4', 'G6'], ['B-4', 'B-6'], ['A4', 'A6'], ['F4', 'G4', 'F6', 'G6'], ['F4', 'F6'], ['E-4', 'E-6'], ['D4', 'D6'], ['E4', 'E6'], ['C4', 'C6'], ['B-3', 'B-5'], ['A2'], ['A2', 'C#4', 'B-4'], ['A2', 'C#4', 'A4'], ['E3'], ['E3', 'C#4', 'B-4'], ['E3', 'C#4', 'A4'], ['A3'], ['A3', 'C#4', 'B-4'], ['A3', 'C#4', 'A4'], ['A2'], ['A2', 'D4', 'A4'], ['A2', 'D4', 'G4'], ['E3'], ['E3', 'D4', 'A4'], ['E3', 'D4', 'G4'], ['B-3'], ['B-3', 'D4', 'A4'], ['B-3', 'D4', 'G4'], ['A2'], ['A2', 'C#4', 'B-4'], ['A2', 'C#4', 'A4'], ['E3'], ['E3', 'C#4', 'B-4'], ['E3', 'C#4', 'A4'], ['A3'], ['A3', 'C#4', 'B-4'], ['A3', 'C#4', 'A4'], ['A2'], ['A2', 'D4', 'B-4'], ['A2', 'D4', 'A4'], ['E3'], ['E3', 'D4', 'A4'], ['E3', 'D4', 'G4'], ['B-3'], ['B-3', 'D4', 'G4'], ['B-3', 'D4', 'E4'], ['A2'], ['A2', 'C#4', 'B-4'], ['A2', 'C#4', 'A4'], ['E3'], ['E3', 'C#4', 'B-4'], ['E3', 'C#4', 'A4'], ['A3'], ['A3', 'C#4', 'B-4'], ['A3', 'C#4', 'A4'], ['F2'], ['F2', 'A3', 'G4'], ['F2', 'A3', 'F4'], ['C3'], ['C3', 'A3', 'G4'], ['C3', 'A3', 'F4'], ['A3'], ['A3', 'G4'], ['A3', 'G4'], ['A3', 'F4'], ['C3'], ['C3', 'C4', 'F4'], ['C3', 'C4', 'E4'], ['G3'], ['G3', 'C4', 'F4'], ['G3', 'C4', 'E4'], ['C4'], ['C4', 'F4'], ['C4', 'E4'], ['G3'], ['B-3', 'E4'], ['B-3', 'E4'], ['B-3', 'D4'], ['B-3', 'D4'], ['A3'], ['B-3', 'E4'], ['B-3', 'E4'], ['B-3', 'D4'], ['B-3', 'C4', 'D4'], ['B-3', 'E4'], ['B-3', 'D4'], ['A2'], ['E3'], ['A3', 'C#4', 'E4'], ['D3'], ['E3'], ['F3'], ['G3', 'B-3', 'D4', 'E4'], ['A3', 'B-3', 'D4', 'E4'], ['A3'], ['B-3'], ['C4'], ['C4'], ['B-3'], ['B-3'], ['A3'], ['A3'], ['A2'], ['E3'], ['A3', 'C#4', 'E4'], ['D3'], ['D3'], ['E3'], ['E3'], ['F3'], ['F3'], ['G3', 'B-3', 'D4', 'E4'], ['A3', 'B-3', 'D4', 'E4'], ['A3'], ['B-3'], ['B-3'], ['C4'], ['C4'], ['B-3'], ['B-3'], ['A3'], ['A3'], ['G#3', 'D4', 'B-4', 'E5'], ['B-3', 'B-5'], ['B-3', 'B-5'], ['C4', 'C6'], ['D4', 'D6'], ['F4', 'F6'], ['D4', 'D6'], ['C4', 'C6'], ['C4', 'D4', 'C6', 'D6'], ['C4', 'C6'], ['B-3', 'B-5'], ['F3', 'F5'], ['B-3', 'B-5'], ['A3', 'A5'], ['A3', 'A5'], ['G#3', 'G#5'], ['F3', 'F5'], ['E3', 'E5'], ['D3', 'D5'], ['A2'], ['E3', 'A3'], ['A3', 'C#4'], ['C#4', 'E4'], ['E4', 'A4'], ['A4', 'C#5'], ['C#5', 'E5'], ['C#4', 'A4'], ['E4', 'C#5'], ['A4', 'E5'], ['C#5', 'A5'], ['E5', 'C#6'], ['A5', 'E6'], ['C#4', 'A4'], ['E4', 'C#5'], ['A4', 'E5'], ['C#5', 'A5'], ['E5', 'C#6'], ['A5', 'E6'], ['C#5', 'A5'], ['E5', 'C#6'], ['A5', 'E6'], ['C#6', 'A6'], ['E6', 'C#7'], ['A4', 'E5', 'C#6', 'A6', 'E7', 'A7']]\n"
     ]
    }
   ],
   "source": [
    "one_notes_separated = []\n",
    "for notes, notes_dur in one_ch_dur_data:\n",
    "    separate_notes = notes.split('.')\n",
    "    one_notes_separated.append(separate_notes)\n",
    "    \n",
    "print(one_notes_separated)"
   ]
  },
  {
   "cell_type": "code",
   "execution_count": null,
   "metadata": {},
   "outputs": [],
   "source": []
  },
  {
   "cell_type": "code",
   "execution_count": null,
   "metadata": {},
   "outputs": [],
   "source": []
  },
  {
   "cell_type": "code",
   "execution_count": null,
   "metadata": {},
   "outputs": [],
   "source": []
  },
  {
   "cell_type": "markdown",
   "metadata": {},
   "source": [
    "This is for chords of all music files appended at the same time of length 24k "
   ]
  },
  {
   "cell_type": "code",
   "execution_count": 21,
   "metadata": {},
   "outputs": [],
   "source": [
    "def processed_chords(just_chords):\n",
    "    processed_chords = []\n",
    "    for i, chord_metadata in enumerate(just_chords):\n",
    "        for element in chord_metadata.flat:\n",
    "            if isinstance(element, chord.Chord):\n",
    "                chord_duration = round_chord_durations(element.duration.quarterLength)\n",
    "                chord_name = chord_name = \".\".join([n.nameWithOctave for n in element.pitches])\n",
    "                processed_chords.append((chord_name, chord_duration))\n",
    "        print(f'{i}')\n",
    "    return processed_chords"
   ]
  },
  {
   "cell_type": "code",
   "execution_count": 25,
   "metadata": {},
   "outputs": [
    {
     "name": "stdout",
     "output_type": "stream",
     "text": [
      "0\n",
      "1\n",
      "2\n",
      "3\n",
      "4\n",
      "5\n",
      "6\n",
      "7\n",
      "8\n",
      "9\n",
      "10\n",
      "11\n",
      "12\n",
      "13\n",
      "14\n",
      "15\n",
      "16\n",
      "17\n",
      "18\n",
      "19\n"
     ]
    },
    {
     "data": {
      "text/plain": [
       "24549"
      ]
     },
     "execution_count": 25,
     "metadata": {},
     "output_type": "execute_result"
    }
   ],
   "source": [
    "chords_dur = processed_chords(p)\n",
    "len(chords_dur)"
   ]
  },
  {
   "cell_type": "code",
   "execution_count": null,
   "metadata": {},
   "outputs": [],
   "source": []
  },
  {
   "cell_type": "code",
   "execution_count": null,
   "metadata": {},
   "outputs": [],
   "source": []
  },
  {
   "cell_type": "code",
   "execution_count": null,
   "metadata": {},
   "outputs": [],
   "source": []
  },
  {
   "cell_type": "code",
   "execution_count": null,
   "metadata": {},
   "outputs": [],
   "source": [
    "\\"
   ]
  },
  {
   "cell_type": "markdown",
   "metadata": {},
   "source": [
    "THIS IS DONE ROUGHLYYYYYY"
   ]
  },
  {
   "cell_type": "code",
   "execution_count": null,
   "metadata": {},
   "outputs": [],
   "source": []
  },
  {
   "cell_type": "code",
   "execution_count": null,
   "metadata": {},
   "outputs": [],
   "source": []
  },
  {
   "cell_type": "code",
   "execution_count": null,
   "metadata": {},
   "outputs": [],
   "source": []
  },
  {
   "cell_type": "code",
   "execution_count": 11,
   "metadata": {},
   "outputs": [],
   "source": [
    "def round_chord_durations(number):\n",
    "    if(number>1.25):\n",
    "        return 2\n",
    "    if(number>.30):\n",
    "        return 1.25\n",
    "    if(number>.10):\n",
    "        return 0.3\n",
    "    return 0.1"
   ]
  },
  {
   "cell_type": "code",
   "execution_count": 12,
   "metadata": {
    "scrolled": false
   },
   "outputs": [],
   "source": [
    "a = []\n",
    "for i in one.flat:\n",
    "    if isinstance(i, chord.Chord):\n",
    "        a.append([n1.nameWithOctave for n1 in i.pitches])\n",
    "        chord_name = \".\".join([n.nameWithOctave for n in i.pitches])\n",
    "        #print(f'{chord_name},->  {i.duration.quarterLength}')"
   ]
  },
  {
   "cell_type": "code",
   "execution_count": 13,
   "metadata": {},
   "outputs": [],
   "source": [
    "temp1 = one.flat[0]"
   ]
  },
  {
   "cell_type": "code",
   "execution_count": 14,
   "metadata": {},
   "outputs": [],
   "source": [
    "if isinstance(temp1, chord.Chord):\n",
    "    print(temp1.duration.quarterlength)"
   ]
  },
  {
   "cell_type": "code",
   "execution_count": null,
   "metadata": {},
   "outputs": [],
   "source": []
  },
  {
   "cell_type": "code",
   "execution_count": 15,
   "metadata": {},
   "outputs": [],
   "source": [
    "def processed_chords(just_chords):\n",
    "    processed_chords = []\n",
    "    for i, chord_metadata in enumerate(just_chords):\n",
    "        for element in chord_metadata.flat:\n",
    "            if isinstance(element, chord.Chord):\n",
    "                chord_duration = round_chord_durations(element.duration.quarterLength)\n",
    "                chord_name = chord_name = \".\".join([n.nameWithOctave for n in element.pitches])\n",
    "                processed_chords.append((chord_name, chord_duration))\n",
    "        print(f'{i}')\n",
    "    return processed_chords"
   ]
  },
  {
   "cell_type": "code",
   "execution_count": 16,
   "metadata": {},
   "outputs": [
    {
     "name": "stdout",
     "output_type": "stream",
     "text": [
      "0\n",
      "1\n",
      "2\n",
      "3\n",
      "4\n",
      "5\n",
      "6\n",
      "7\n",
      "8\n",
      "9\n",
      "10\n",
      "11\n",
      "12\n",
      "13\n",
      "14\n",
      "15\n",
      "16\n",
      "17\n",
      "18\n",
      "19\n"
     ]
    }
   ],
   "source": [
    "ready_chords = processed_chords(p)"
   ]
  },
  {
   "cell_type": "markdown",
   "metadata": {},
   "source": [
    "Getting notes from the chords"
   ]
  },
  {
   "cell_type": "code",
   "execution_count": 39,
   "metadata": {},
   "outputs": [],
   "source": [
    "from music21 import note, stream, instrument\n",
    "import time"
   ]
  },
  {
   "cell_type": "code",
   "execution_count": 40,
   "metadata": {},
   "outputs": [
    {
     "name": "stdout",
     "output_type": "stream",
     "text": [
      "Requirement already satisfied: midi2audio in c:\\users\\sajjan\\anaconda3\\envs\\tf\\lib\\site-packages (0.1.1)\n"
     ]
    }
   ],
   "source": [
    "!pip install midi2audio"
   ]
  },
  {
   "cell_type": "code",
   "execution_count": 41,
   "metadata": {},
   "outputs": [],
   "source": [
    "from midi2audio import FluidSynth"
   ]
  },
  {
   "cell_type": "code",
   "execution_count": 42,
   "metadata": {},
   "outputs": [],
   "source": [
    "def chords_to_midi(ready_chords):\n",
    "    midi_stream = stream.Stream()\n",
    "    midi_audio = []\n",
    "    for notes, notes_duration in ready_chords:\n",
    "        chord_notes = []\n",
    "\n",
    "        separate_notes = notes.split('.')\n",
    "        notes_duration = duration.Duration(notes_duration)\n",
    "        #print(new_note, notes_duration)\n",
    "        for new_note in separate_notes:\n",
    "            good_note = note.Note(new_note)\n",
    "            good_note.storedInstrument = instrument.Violoncello()\n",
    "            chord_notes.append(good_note)\n",
    "\n",
    "        new_chord = chord.Chord(chord_notes)\n",
    "\n",
    "        midi_audio.append(new_chord)\n",
    "\n",
    "    midi_stream = midi_stream.chordify()\n",
    "\n",
    "    timestr = time.strftime(\"%Y%m%d-%H%M%S\")\n",
    "    new_file = 'output-' + timestr + '.mid'\n",
    "    return midi_stream.write('midi', fp=new_file)\n"
   ]
  },
  {
   "cell_type": "code",
   "execution_count": 43,
   "metadata": {},
   "outputs": [],
   "source": [
    "midi_music = chords_to_midi(ready_chords)"
   ]
  },
  {
   "cell_type": "code",
   "execution_count": 44,
   "metadata": {},
   "outputs": [
    {
     "ename": "FileNotFoundError",
     "evalue": "[WinError 2] The system cannot find the file specified",
     "output_type": "error",
     "traceback": [
      "\u001b[1;31m---------------------------------------------------------------------------\u001b[0m",
      "\u001b[1;31mFileNotFoundError\u001b[0m                         Traceback (most recent call last)",
      "\u001b[1;32m~\\AppData\\Local\\Temp\\ipykernel_16776\\426553450.py\u001b[0m in \u001b[0;36m<module>\u001b[1;34m\u001b[0m\n\u001b[1;32m----> 1\u001b[1;33m \u001b[0mFluidSynth\u001b[0m\u001b[1;33m(\u001b[0m\u001b[1;33m)\u001b[0m\u001b[1;33m.\u001b[0m\u001b[0mmidi_to_audio\u001b[0m\u001b[1;33m(\u001b[0m\u001b[0mmidi_music\u001b[0m\u001b[1;33m,\u001b[0m \u001b[1;34m\"music.wav\"\u001b[0m\u001b[1;33m)\u001b[0m\u001b[1;33m\u001b[0m\u001b[1;33m\u001b[0m\u001b[0m\n\u001b[0m",
      "\u001b[1;32m~\\anaconda3\\envs\\tf\\lib\\site-packages\\midi2audio.py\u001b[0m in \u001b[0;36mmidi_to_audio\u001b[1;34m(self, midi_file, audio_file)\u001b[0m\n\u001b[0;32m     44\u001b[0m \u001b[1;33m\u001b[0m\u001b[0m\n\u001b[0;32m     45\u001b[0m     \u001b[1;32mdef\u001b[0m \u001b[0mmidi_to_audio\u001b[0m\u001b[1;33m(\u001b[0m\u001b[0mself\u001b[0m\u001b[1;33m,\u001b[0m \u001b[0mmidi_file\u001b[0m\u001b[1;33m,\u001b[0m \u001b[0maudio_file\u001b[0m\u001b[1;33m)\u001b[0m\u001b[1;33m:\u001b[0m\u001b[1;33m\u001b[0m\u001b[1;33m\u001b[0m\u001b[0m\n\u001b[1;32m---> 46\u001b[1;33m         \u001b[0msubprocess\u001b[0m\u001b[1;33m.\u001b[0m\u001b[0mcall\u001b[0m\u001b[1;33m(\u001b[0m\u001b[1;33m[\u001b[0m\u001b[1;34m'fluidsynth'\u001b[0m\u001b[1;33m,\u001b[0m \u001b[1;34m'-ni'\u001b[0m\u001b[1;33m,\u001b[0m \u001b[0mself\u001b[0m\u001b[1;33m.\u001b[0m\u001b[0msound_font\u001b[0m\u001b[1;33m,\u001b[0m \u001b[0mmidi_file\u001b[0m\u001b[1;33m,\u001b[0m \u001b[1;34m'-F'\u001b[0m\u001b[1;33m,\u001b[0m \u001b[0maudio_file\u001b[0m\u001b[1;33m,\u001b[0m \u001b[1;34m'-r'\u001b[0m\u001b[1;33m,\u001b[0m \u001b[0mstr\u001b[0m\u001b[1;33m(\u001b[0m\u001b[0mself\u001b[0m\u001b[1;33m.\u001b[0m\u001b[0msample_rate\u001b[0m\u001b[1;33m)\u001b[0m\u001b[1;33m]\u001b[0m\u001b[1;33m)\u001b[0m\u001b[1;33m\u001b[0m\u001b[1;33m\u001b[0m\u001b[0m\n\u001b[0m\u001b[0;32m     47\u001b[0m \u001b[1;33m\u001b[0m\u001b[0m\n\u001b[0;32m     48\u001b[0m     \u001b[1;32mdef\u001b[0m \u001b[0mplay_midi\u001b[0m\u001b[1;33m(\u001b[0m\u001b[0mself\u001b[0m\u001b[1;33m,\u001b[0m \u001b[0mmidi_file\u001b[0m\u001b[1;33m)\u001b[0m\u001b[1;33m:\u001b[0m\u001b[1;33m\u001b[0m\u001b[1;33m\u001b[0m\u001b[0m\n",
      "\u001b[1;32m~\\anaconda3\\envs\\tf\\lib\\subprocess.py\u001b[0m in \u001b[0;36mcall\u001b[1;34m(timeout, *popenargs, **kwargs)\u001b[0m\n\u001b[0;32m    347\u001b[0m     \u001b[0mretcode\u001b[0m \u001b[1;33m=\u001b[0m \u001b[0mcall\u001b[0m\u001b[1;33m(\u001b[0m\u001b[1;33m[\u001b[0m\u001b[1;34m\"ls\"\u001b[0m\u001b[1;33m,\u001b[0m \u001b[1;34m\"-l\"\u001b[0m\u001b[1;33m]\u001b[0m\u001b[1;33m)\u001b[0m\u001b[1;33m\u001b[0m\u001b[1;33m\u001b[0m\u001b[0m\n\u001b[0;32m    348\u001b[0m     \"\"\"\n\u001b[1;32m--> 349\u001b[1;33m     \u001b[1;32mwith\u001b[0m \u001b[0mPopen\u001b[0m\u001b[1;33m(\u001b[0m\u001b[1;33m*\u001b[0m\u001b[0mpopenargs\u001b[0m\u001b[1;33m,\u001b[0m \u001b[1;33m**\u001b[0m\u001b[0mkwargs\u001b[0m\u001b[1;33m)\u001b[0m \u001b[1;32mas\u001b[0m \u001b[0mp\u001b[0m\u001b[1;33m:\u001b[0m\u001b[1;33m\u001b[0m\u001b[1;33m\u001b[0m\u001b[0m\n\u001b[0m\u001b[0;32m    350\u001b[0m         \u001b[1;32mtry\u001b[0m\u001b[1;33m:\u001b[0m\u001b[1;33m\u001b[0m\u001b[1;33m\u001b[0m\u001b[0m\n\u001b[0;32m    351\u001b[0m             \u001b[1;32mreturn\u001b[0m \u001b[0mp\u001b[0m\u001b[1;33m.\u001b[0m\u001b[0mwait\u001b[0m\u001b[1;33m(\u001b[0m\u001b[0mtimeout\u001b[0m\u001b[1;33m=\u001b[0m\u001b[0mtimeout\u001b[0m\u001b[1;33m)\u001b[0m\u001b[1;33m\u001b[0m\u001b[1;33m\u001b[0m\u001b[0m\n",
      "\u001b[1;32m~\\anaconda3\\envs\\tf\\lib\\subprocess.py\u001b[0m in \u001b[0;36m__init__\u001b[1;34m(self, args, bufsize, executable, stdin, stdout, stderr, preexec_fn, close_fds, shell, cwd, env, universal_newlines, startupinfo, creationflags, restore_signals, start_new_session, pass_fds, user, group, extra_groups, encoding, errors, text, umask)\u001b[0m\n\u001b[0;32m    949\u001b[0m                             encoding=encoding, errors=errors)\n\u001b[0;32m    950\u001b[0m \u001b[1;33m\u001b[0m\u001b[0m\n\u001b[1;32m--> 951\u001b[1;33m             self._execute_child(args, executable, preexec_fn, close_fds,\n\u001b[0m\u001b[0;32m    952\u001b[0m                                 \u001b[0mpass_fds\u001b[0m\u001b[1;33m,\u001b[0m \u001b[0mcwd\u001b[0m\u001b[1;33m,\u001b[0m \u001b[0menv\u001b[0m\u001b[1;33m,\u001b[0m\u001b[1;33m\u001b[0m\u001b[1;33m\u001b[0m\u001b[0m\n\u001b[0;32m    953\u001b[0m                                 \u001b[0mstartupinfo\u001b[0m\u001b[1;33m,\u001b[0m \u001b[0mcreationflags\u001b[0m\u001b[1;33m,\u001b[0m \u001b[0mshell\u001b[0m\u001b[1;33m,\u001b[0m\u001b[1;33m\u001b[0m\u001b[1;33m\u001b[0m\u001b[0m\n",
      "\u001b[1;32m~\\anaconda3\\envs\\tf\\lib\\subprocess.py\u001b[0m in \u001b[0;36m_execute_child\u001b[1;34m(self, args, executable, preexec_fn, close_fds, pass_fds, cwd, env, startupinfo, creationflags, shell, p2cread, p2cwrite, c2pread, c2pwrite, errread, errwrite, unused_restore_signals, unused_gid, unused_gids, unused_uid, unused_umask, unused_start_new_session)\u001b[0m\n\u001b[0;32m   1418\u001b[0m             \u001b[1;31m# Start the process\u001b[0m\u001b[1;33m\u001b[0m\u001b[1;33m\u001b[0m\u001b[0m\n\u001b[0;32m   1419\u001b[0m             \u001b[1;32mtry\u001b[0m\u001b[1;33m:\u001b[0m\u001b[1;33m\u001b[0m\u001b[1;33m\u001b[0m\u001b[0m\n\u001b[1;32m-> 1420\u001b[1;33m                 hp, ht, pid, tid = _winapi.CreateProcess(executable, args,\n\u001b[0m\u001b[0;32m   1421\u001b[0m                                          \u001b[1;31m# no special security\u001b[0m\u001b[1;33m\u001b[0m\u001b[1;33m\u001b[0m\u001b[0m\n\u001b[0;32m   1422\u001b[0m                                          \u001b[1;32mNone\u001b[0m\u001b[1;33m,\u001b[0m \u001b[1;32mNone\u001b[0m\u001b[1;33m,\u001b[0m\u001b[1;33m\u001b[0m\u001b[1;33m\u001b[0m\u001b[0m\n",
      "\u001b[1;31mFileNotFoundError\u001b[0m: [WinError 2] The system cannot find the file specified"
     ]
    }
   ],
   "source": [
    "FluidSynth().midi_to_audio(midi_music, \"music.wav\")"
   ]
  },
  {
   "cell_type": "code",
   "execution_count": null,
   "metadata": {},
   "outputs": [],
   "source": []
  }
 ],
 "metadata": {
  "kernelspec": {
   "display_name": "Python 3 (ipykernel)",
   "language": "python",
   "name": "python3"
  },
  "language_info": {
   "codemirror_mode": {
    "name": "ipython",
    "version": 3
   },
   "file_extension": ".py",
   "mimetype": "text/x-python",
   "name": "python",
   "nbconvert_exporter": "python",
   "pygments_lexer": "ipython3",
   "version": "3.9.13"
  },
  "vscode": {
   "interpreter": {
    "hash": "a50afa644c776f7a2a60a52e60e30bd38a1de8f1520052de409d0e9c4f2415b8"
   }
  }
 },
 "nbformat": 4,
 "nbformat_minor": 2
}
