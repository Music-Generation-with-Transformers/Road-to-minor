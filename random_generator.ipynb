{
 "cells": [
  {
   "cell_type": "code",
   "execution_count": 7,
   "metadata": {},
   "outputs": [],
   "source": [
    "Chromatic = [1,2,3,4,5,6,7,8,9,10,11,12]\n",
    "Ionian = [1,3,5,6,8,10,12]\n",
    "Dorian = [1,3,4,6,8,10,11]\n",
    "Phrygian = [1,2,4,6,8,9,11]\n",
    "Lydian = [1,3,5,7,8,10,12]\n",
    "Mixolydian = [1,3,5,6,8,10,11]\n",
    "Aeolian = [1,3,4,6,8,9,11]\n",
    "Locrian = [1,2,4,6,7,9,11]\n",
    "\n"
   ]
  },
  {
   "cell_type": "code",
   "execution_count": 8,
   "metadata": {},
   "outputs": [],
   "source": [
    "keyList = ['C', 'C#', 'D', 'D#', 'E', 'F', 'F#', 'G', 'G#', 'A', 'A#', 'B']\n",
    "new_keyList = []\n",
    "# looping thru all letters\n",
    "for key in keyList:\n",
    "    # add capital letter to list\n",
    "    new_keyList.append(key)\n",
    "    # add corresponding small letter\n",
    "    new_keyList.append(key.lower())\n",
    "\n",
    "\n",
    "\n",
    "\n",
    "\n",
    "# update the keylist with both small and capital \n",
    "keyList = new_keyList\n",
    "#list of lists of modes\n",
    "modeList = [Ionian, Dorian, Phrygian, Lydian, Mixolydian, Aeolian, Locrian]\n"
   ]
  },
  {
   "cell_type": "code",
   "execution_count": 10,
   "metadata": {},
   "outputs": [
    {
     "ename": "AttributeError",
     "evalue": "'list' object has no attribute '__name__'",
     "output_type": "error",
     "traceback": [
      "\u001b[1;31m---------------------------------------------------------------------------\u001b[0m",
      "\u001b[1;31mAttributeError\u001b[0m                            Traceback (most recent call last)",
      "Cell \u001b[1;32mIn[10], line 13\u001b[0m\n\u001b[0;32m     10\u001b[0m modeNameList \u001b[39m=\u001b[39m []\n\u001b[0;32m     11\u001b[0m \u001b[39mfor\u001b[39;00m var \u001b[39min\u001b[39;00m modeList:\n\u001b[0;32m     12\u001b[0m     \u001b[39m# add the variable name to the list\u001b[39;00m\n\u001b[1;32m---> 13\u001b[0m     modeNameList\u001b[39m.\u001b[39mappend(var\u001b[39m.\u001b[39;49m\u001b[39m__name__\u001b[39;49m)\n\u001b[0;32m     14\u001b[0m mode \u001b[39m=\u001b[39m \u001b[39m'\u001b[39m\u001b[39mabc\u001b[39m\u001b[39m'\u001b[39m\n\u001b[0;32m     15\u001b[0m \u001b[39mwhile\u001b[39;00m mode \u001b[39mnot\u001b[39;00m \u001b[39min\u001b[39;00m modeNameList:\n",
      "\u001b[1;31mAttributeError\u001b[0m: 'list' object has no attribute '__name__'"
     ]
    }
   ],
   "source": [
    "key= 'h'\n",
    "while key not in keyList:\n",
    "    key = input('enter the key')\n",
    "    if key not in keyList:\n",
    "        print ('invalid key in music, plz try again') \n",
    "\n",
    "\n",
    "\n",
    "\n",
    "modeNameList = []\n",
    "for var in modeList:\n",
    "    # add the variable name to the list\n",
    "    modeNameList.append(var.__name__)\n",
    "mode = 'abc'\n",
    "while mode not in modeNameList:\n",
    "    mode = input('enter the mode')\n",
    "    lowercase_text = mode.lower()\n",
    "    # make first letter capital\n",
    "    mode = lowercase_text.capitalize()\n",
    "    if mode not in modeNameList:\n",
    "        print('you entered non sense mode, plz enter the fundamental mode only with correct spelling if you have not')\n",
    "\n",
    "    \n",
    "\n",
    "\n",
    "\n",
    "\n",
    "\n",
    "\n",
    "# input time Signature\n",
    "timeSig=0\n",
    "while timeSig not in [1,2]:\n",
    "    timeSig = input('enter the time signature: \\n 1. 4/4 \\n 2. 3/4')\n",
    "    if timeSig not in [1,2]:\n",
    "        print ('invalid input, plz choose the options only') \n",
    "tempo = input('enter the tempo in beats per minute')\n",
    "duration = input('enter the time duration in seconds')\n"
   ]
  },
  {
   "cell_type": "code",
   "execution_count": 12,
   "metadata": {},
   "outputs": [
    {
     "ename": "AttributeError",
     "evalue": "'int' object has no attribute '__name__'",
     "output_type": "error",
     "traceback": [
      "\u001b[1;31m---------------------------------------------------------------------------\u001b[0m",
      "\u001b[1;31mAttributeError\u001b[0m                            Traceback (most recent call last)",
      "Cell \u001b[1;32mIn[12], line 2\u001b[0m\n\u001b[0;32m      1\u001b[0m a\u001b[39m=\u001b[39m\u001b[39m5\u001b[39m\n\u001b[1;32m----> 2\u001b[0m a\u001b[39m.\u001b[39;49m\u001b[39m__name__\u001b[39;49m\n",
      "\u001b[1;31mAttributeError\u001b[0m: 'int' object has no attribute '__name__'"
     ]
    }
   ],
   "source": []
  }
 ],
 "metadata": {
  "kernelspec": {
   "display_name": "Python 3",
   "language": "python",
   "name": "python3"
  },
  "language_info": {
   "codemirror_mode": {
    "name": "ipython",
    "version": 3
   },
   "file_extension": ".py",
   "mimetype": "text/x-python",
   "name": "python",
   "nbconvert_exporter": "python",
   "pygments_lexer": "ipython3",
   "version": "3.10.4"
  },
  "orig_nbformat": 4,
  "vscode": {
   "interpreter": {
    "hash": "928db57fa97364b9b019f963370c1fdf7d3044b94bbfb1c70c9a3a5d485d1578"
   }
  }
 },
 "nbformat": 4,
 "nbformat_minor": 2
}
