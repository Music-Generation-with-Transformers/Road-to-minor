{
 "cells": [
  {
   "cell_type": "code",
   "execution_count": 1,
   "id": "5af35a69",
   "metadata": {},
   "outputs": [],
   "source": [
    "import random, glob\n",
    "import numpy as np"
   ]
  },
  {
   "cell_type": "code",
   "execution_count": null,
   "id": "2a0cba92",
   "metadata": {},
   "outputs": [],
   "source": []
  },
  {
   "cell_type": "code",
   "execution_count": 2,
   "id": "0ab29d77",
   "metadata": {},
   "outputs": [
    {
     "name": "stdout",
     "output_type": "stream",
     "text": [
      "A random song ['dataset\\\\liszt\\\\liz_rhap02.mid']\n"
     ]
    }
   ],
   "source": [
    "music_files = [a for a in glob.glob(\"dataset/*/*\")]\n",
    "print(\"A random song\", random.sample(music_files, 1))"
   ]
  },
  {
   "cell_type": "code",
   "execution_count": 3,
   "id": "a5c7edc1",
   "metadata": {},
   "outputs": [],
   "source": [
    "from music21 import midi\n",
    "def play_midi_file(midi_file_name):\n",
    "    mf = midi.MidiFile()\n",
    "\n",
    "    mf.open(midi_file_name) # path='abc.midi'\n",
    "    mf.read()\n",
    "    mf.close()\n",
    "    s = midi.translate.midiFileToStream(mf)\n",
    "    s.show('midi')"
   ]
  },
  {
   "cell_type": "code",
   "execution_count": 4,
   "id": "d42c2289",
   "metadata": {},
   "outputs": [
    {
     "data": {
      "text/plain": [
       "300"
      ]
     },
     "execution_count": 4,
     "metadata": {},
     "output_type": "execute_result"
    }
   ],
   "source": [
    "len(music_files)"
   ]
  },
  {
   "cell_type": "code",
   "execution_count": 5,
   "id": "e11293f1",
   "metadata": {},
   "outputs": [],
   "source": [
    "from music21 import converter,corpus, chord"
   ]
  },
  {
   "cell_type": "code",
   "execution_count": null,
   "id": "af922c1e",
   "metadata": {},
   "outputs": [],
   "source": [
    "\n"
   ]
  },
  {
   "cell_type": "code",
   "execution_count": null,
   "id": "888d0766",
   "metadata": {},
   "outputs": [],
   "source": []
  },
  {
   "cell_type": "code",
   "execution_count": null,
   "id": "dbc683b2",
   "metadata": {},
   "outputs": [],
   "source": [
    "\n"
   ]
  },
  {
   "cell_type": "code",
   "execution_count": null,
   "id": "32dcea26",
   "metadata": {},
   "outputs": [],
   "source": []
  },
  {
   "cell_type": "code",
   "execution_count": null,
   "id": "023fb8f9",
   "metadata": {},
   "outputs": [],
   "source": []
  },
  {
   "cell_type": "code",
   "execution_count": null,
   "id": "b502fc7d",
   "metadata": {},
   "outputs": [],
   "source": []
  },
  {
   "cell_type": "code",
   "execution_count": 6,
   "id": "1c6fa5dd",
   "metadata": {},
   "outputs": [],
   "source": [
    "def get_score(music_files):\n",
    "    scores = []\n",
    "    for file_no, filename in enumerate(music_files):\n",
    "        try:\n",
    "            scores.append(converter.parse(filename))\n",
    "            print(f'Happening of {file_no}', \"filename = \", filename)\n",
    "            \n",
    "        except:\n",
    "            print(f'Happening of {file_no}', \"filename = \", filename)\n",
    "            print(\"file failed!!!!!\")\n",
    "            continue\n",
    "    return scores"
   ]
  },
  {
   "cell_type": "code",
   "execution_count": 7,
   "id": "69988308",
   "metadata": {},
   "outputs": [],
   "source": [
    "music_files_5 = music_files[:25]\n",
    "#get_chords(music_files[:10])"
   ]
  },
  {
   "cell_type": "code",
   "execution_count": 8,
   "id": "1bfc0e3a",
   "metadata": {
    "scrolled": true
   },
   "outputs": [
    {
     "name": "stderr",
     "output_type": "stream",
     "text": [
      "c:\\Users\\Dell\\anaconda3\\lib\\site-packages\\music21\\midi\\translate.py:863: TranslateWarning: Unable to determine instrument from <music21.midi.MidiEvent SEQUENCE_TRACK_NAME, track=4, channel=None, data=b'Copyright \\xa9 2001 by Bernd Kr\\xfcger'>; getting generic Instrument\n",
      "  warnings.warn(\n"
     ]
    },
    {
     "name": "stdout",
     "output_type": "stream",
     "text": [
      "Happening of 0 filename =  dataset\\albeniz\\alb_esp1.mid\n",
      "Happening of 1 filename =  dataset\\albeniz\\alb_esp1.song\n",
      "file failed!!!!!\n",
      "Happening of 2 filename =  dataset\\albeniz\\alb_esp2.mid\n",
      "Happening of 3 filename =  dataset\\albeniz\\alb_esp3.mid\n",
      "Happening of 4 filename =  dataset\\albeniz\\alb_esp4.mid\n",
      "Happening of 5 filename =  dataset\\albeniz\\alb_esp5.mid\n",
      "Happening of 6 filename =  dataset\\albeniz\\alb_esp6.mid\n",
      "Happening of 7 filename =  dataset\\albeniz\\alb_se1.mid\n",
      "Happening of 8 filename =  dataset\\albeniz\\alb_se2.mid\n",
      "Happening of 9 filename =  dataset\\albeniz\\alb_se3.mid\n",
      "Happening of 10 filename =  dataset\\albeniz\\alb_se4.mid\n",
      "Happening of 11 filename =  dataset\\albeniz\\alb_se5.mid\n",
      "Happening of 12 filename =  dataset\\albeniz\\alb_se6.mid\n",
      "Happening of 13 filename =  dataset\\albeniz\\alb_se7.mid\n",
      "Happening of 14 filename =  dataset\\albeniz\\alb_se8.mid\n"
     ]
    },
    {
     "name": "stderr",
     "output_type": "stream",
     "text": [
      "c:\\Users\\Dell\\anaconda3\\lib\\site-packages\\music21\\midi\\translate.py:863: TranslateWarning: Unable to determine instrument from <music21.midi.MidiEvent SEQUENCE_TRACK_NAME, track=8, channel=None, data=b'Copyright 2004 by Bernd Kr\\xfcger.'>; getting generic Instrument\n",
      "  warnings.warn(\n"
     ]
    },
    {
     "name": "stdout",
     "output_type": "stream",
     "text": [
      "Happening of 15 filename =  dataset\\bach\\bach_846.mid\n"
     ]
    },
    {
     "name": "stderr",
     "output_type": "stream",
     "text": [
      "c:\\Users\\Dell\\anaconda3\\lib\\site-packages\\music21\\midi\\translate.py:863: TranslateWarning: Unable to determine instrument from <music21.midi.MidiEvent SEQUENCE_TRACK_NAME, track=7, channel=None, data=b'Copyright 2004 by Bernd Kr\\xfcger.'>; getting generic Instrument\n",
      "  warnings.warn(\n"
     ]
    },
    {
     "name": "stdout",
     "output_type": "stream",
     "text": [
      "Happening of 16 filename =  dataset\\bach\\bach_847.mid\n"
     ]
    },
    {
     "name": "stderr",
     "output_type": "stream",
     "text": [
      "c:\\Users\\Dell\\anaconda3\\lib\\site-packages\\music21\\midi\\translate.py:863: TranslateWarning: Unable to determine instrument from <music21.midi.MidiEvent SEQUENCE_TRACK_NAME, track=0, channel=None, data=b'Pr\\xe4ludium und Fuge in D-Dur, BWV 850'>; getting generic Instrument\n",
      "  warnings.warn(\n",
      "c:\\Users\\Dell\\anaconda3\\lib\\site-packages\\music21\\midi\\translate.py:863: TranslateWarning: Unable to determine instrument from <music21.midi.MidiEvent SEQUENCE_TRACK_NAME, track=8, channel=None, data=b'Copyright 1997 by Bernd Kr\\xfcger.'>; getting generic Instrument\n",
      "  warnings.warn(\n"
     ]
    },
    {
     "name": "stdout",
     "output_type": "stream",
     "text": [
      "Happening of 17 filename =  dataset\\bach\\bach_850.mid\n"
     ]
    },
    {
     "name": "stderr",
     "output_type": "stream",
     "text": [
      "c:\\Users\\Dell\\anaconda3\\lib\\site-packages\\music21\\midi\\translate.py:863: TranslateWarning: Unable to determine instrument from <music21.midi.MidiEvent SEQUENCE_TRACK_NAME, track=4, channel=None, data=b'Copyright \\xa9 2000 by Bernd Kr\\xfcger'>; getting generic Instrument\n",
      "  warnings.warn(\n"
     ]
    },
    {
     "name": "stdout",
     "output_type": "stream",
     "text": [
      "Happening of 18 filename =  dataset\\balakir\\islamei.mid\n"
     ]
    },
    {
     "name": "stderr",
     "output_type": "stream",
     "text": [
      "c:\\Users\\Dell\\anaconda3\\lib\\site-packages\\music21\\midi\\translate.py:863: TranslateWarning: Unable to determine instrument from <music21.midi.MidiEvent SEQUENCE_TRACK_NAME, track=5, channel=None, data=b'Copyright \\xa9 2001 by Bernd Kr\\xfcger'>; getting generic Instrument\n",
      "  warnings.warn(\n"
     ]
    },
    {
     "name": "stdout",
     "output_type": "stream",
     "text": [
      "Happening of 19 filename =  dataset\\beeth\\appass_1.mid\n",
      "Happening of 20 filename =  dataset\\beeth\\appass_2.mid\n",
      "Happening of 21 filename =  dataset\\beeth\\appass_3.mid\n"
     ]
    },
    {
     "name": "stderr",
     "output_type": "stream",
     "text": [
      "c:\\Users\\Dell\\anaconda3\\lib\\site-packages\\music21\\midi\\translate.py:863: TranslateWarning: Unable to determine instrument from <music21.midi.MidiEvent SEQUENCE_TRACK_NAME, track=5, channel=None, data=b'Copyright \\xa9 2008 by Bernd Krueger'>; getting generic Instrument\n",
      "  warnings.warn(\n"
     ]
    },
    {
     "name": "stdout",
     "output_type": "stream",
     "text": [
      "Happening of 22 filename =  dataset\\beeth\\beethoven_hammerklavier_1.mid\n",
      "Happening of 23 filename =  dataset\\beeth\\beethoven_hammerklavier_2.mid\n",
      "Happening of 24 filename =  dataset\\beeth\\beethoven_hammerklavier_3.mid\n"
     ]
    }
   ],
   "source": [
    "score_of_all_musics = get_score(music_files_5)"
   ]
  },
  {
   "cell_type": "code",
   "execution_count": null,
   "id": "cb58b3d8",
   "metadata": {},
   "outputs": [],
   "source": []
  },
  {
   "cell_type": "code",
   "execution_count": 9,
   "id": "16f73f91",
   "metadata": {},
   "outputs": [
    {
     "data": {
      "text/plain": [
       "[<music21.stream.Score 0x1af8f456460>,\n",
       " <music21.stream.Score 0x1af8fc35610>,\n",
       " <music21.stream.Score 0x1af91d5cb50>,\n",
       " <music21.stream.Score 0x1af8f5e0880>,\n",
       " <music21.stream.Score 0x1af8f659b50>,\n",
       " <music21.stream.Score 0x1af93eb8a90>,\n",
       " <music21.stream.Score 0x1af93f7fca0>,\n",
       " <music21.stream.Score 0x1af95e8c730>,\n",
       " <music21.stream.Score 0x1af98810ca0>,\n",
       " <music21.stream.Score 0x1af98cbff10>,\n",
       " <music21.stream.Score 0x1af98c0b250>,\n",
       " <music21.stream.Score 0x1af9835bac0>,\n",
       " <music21.stream.Score 0x1af9c163880>,\n",
       " <music21.stream.Score 0x1af9758b190>,\n",
       " <music21.stream.Score 0x1afa093ce50>,\n",
       " <music21.stream.Score 0x1afa081e280>,\n",
       " <music21.stream.Score 0x1afa1019a00>,\n",
       " <music21.stream.Score 0x1afa42af6d0>,\n",
       " <music21.stream.Score 0x1afab917910>,\n",
       " <music21.stream.Score 0x1afa1ac4d00>,\n",
       " <music21.stream.Score 0x1afb20169a0>,\n",
       " <music21.stream.Score 0x1afa2dc99a0>,\n",
       " <music21.stream.Score 0x1afb52100d0>,\n",
       " <music21.stream.Score 0x1afb7d44340>]"
      ]
     },
     "execution_count": 9,
     "metadata": {},
     "output_type": "execute_result"
    }
   ],
   "source": [
    "# Write the new MIDI file\n",
    "score_of_all_musics"
   ]
  },
  {
   "cell_type": "code",
   "execution_count": null,
   "id": "b006039f",
   "metadata": {},
   "outputs": [],
   "source": []
  },
  {
   "cell_type": "code",
   "execution_count": 10,
   "id": "27412097",
   "metadata": {},
   "outputs": [],
   "source": [
    "from music21 import chord, duration"
   ]
  },
  {
   "cell_type": "markdown",
   "id": "e41d56f1",
   "metadata": {},
   "source": [
    "Classifying the music into different modes\n",
    "- firstly, let's code for major mode"
   ]
  },
  {
   "cell_type": "code",
   "execution_count": 11,
   "id": "632e2bd3",
   "metadata": {},
   "outputs": [],
   "source": [
    "from music21 import *"
   ]
  },
  {
   "cell_type": "code",
   "execution_count": null,
   "id": "57475a0a",
   "metadata": {},
   "outputs": [],
   "source": []
  },
  {
   "cell_type": "code",
   "execution_count": null,
   "id": "e7211e87",
   "metadata": {},
   "outputs": [],
   "source": []
  },
  {
   "cell_type": "code",
   "execution_count": 12,
   "id": "90dd654e",
   "metadata": {},
   "outputs": [],
   "source": [
    "def round_chord_durations(number):\n",
    "    if(number>1.25):\n",
    "        return 2\n",
    "    if(number>.30):\n",
    "        return 1.25\n",
    "    if(number>.10):\n",
    "        return 0.3\n",
    "    return 0.1"
   ]
  },
  {
   "cell_type": "code",
   "execution_count": 13,
   "id": "c87cb308",
   "metadata": {},
   "outputs": [],
   "source": [
    "def round_tempo(number):\n",
    "    if(number>=20 and number<40):\n",
    "        return 30\n",
    "    if(number>=40 and number<60):\n",
    "        return 50\n",
    "    if(number>=60 and number<76):\n",
    "        return 70\n",
    "    if(number>=76 and number<108):\n",
    "        return 92\n",
    "    if(number>=108 and number<120):\n",
    "        return 104\n",
    "    if(number>=120 and number<168):\n",
    "        return 144\n",
    "    if(number>=168 and number<200):\n",
    "        return 184\n",
    "    if(number>=200):\n",
    "        return 210"
   ]
  },
  {
   "cell_type": "markdown",
   "id": "6226faee",
   "metadata": {},
   "source": [
    "For chord and duration of a single song(music file)"
   ]
  },
  {
   "cell_type": "code",
   "execution_count": 14,
   "id": "85a64fca",
   "metadata": {},
   "outputs": [],
   "source": [
    "mapping_dict_tempo= {}\n",
    "mapping_dict_tempo.update({'30':1})\n",
    "mapping_dict_tempo.update({'50':2})\n",
    "mapping_dict_tempo.update({'70':3})\n",
    "mapping_dict_tempo.update({'92':4})\n",
    "mapping_dict_tempo.update({'104':5})\n",
    "mapping_dict_tempo.update({'144':6})\n",
    "mapping_dict_tempo.update({'184':7})\n",
    "mapping_dict_tempo.update({'210':8})"
   ]
  },
  {
   "cell_type": "code",
   "execution_count": 15,
   "id": "05aa3d85",
   "metadata": {
    "scrolled": true
   },
   "outputs": [],
   "source": [
    "mapping_dict = {}\n",
    "all_note_list0 = [\"C\",\"C#\",\"D\",\"D#\",\"E\",\"F\",\"F#\", \"G\",\"G#\", \"A\",\"A#\", \"B\" ]\n",
    "all_note_list1 = [\"C\",\"D-\",\"D\",\"E-\",\"E\",\"F\",\"G-\", \"G\",\"A-\", \"A\",\"B-\", \"B\" ]\n",
    "\n",
    "assigning_index = 1\n",
    "for each_octave in range(0 , 9): \n",
    "    for each_note in range (0, len(all_note_list0)):\n",
    "        #print(each_note)\n",
    "        \n",
    "        temp_dict0 = { all_note_list0[each_note] + str(each_octave) : assigning_index }\n",
    "        temp_dict1 = { all_note_list1[each_note] + str(each_octave) : assigning_index }\n",
    "        mapping_dict.update(temp_dict0)\n",
    "        mapping_dict.update(temp_dict1)\n",
    "        assigning_index += 1\n",
    "\n",
    "mapping_dict.update({\"<SOC>\"  : assigning_index})\n",
    "mapping_dict.update({\"<EOC>\"  : assigning_index + 1})\n",
    "mapping_dict.update({'0': assigning_index + 1})\n",
    "mapping_dict.update({'0.1': assigning_index + 1})\n",
    "mapping_dict.update({'0.3': assigning_index + 1})\n",
    "mapping_dict.update({'1.25': assigning_index + 1})\n",
    "mapping_dict.update({'2': assigning_index + 1})"
   ]
  },
  {
   "cell_type": "code",
   "execution_count": 16,
   "id": "0fe708b8",
   "metadata": {},
   "outputs": [
    {
     "data": {
      "text/plain": [
       "{'C0': 1,\n",
       " 'C#0': 2,\n",
       " 'D-0': 2,\n",
       " 'D0': 3,\n",
       " 'D#0': 4,\n",
       " 'E-0': 4,\n",
       " 'E0': 5,\n",
       " 'F0': 6,\n",
       " 'F#0': 7,\n",
       " 'G-0': 7,\n",
       " 'G0': 8,\n",
       " 'G#0': 9,\n",
       " 'A-0': 9,\n",
       " 'A0': 10,\n",
       " 'A#0': 11,\n",
       " 'B-0': 11,\n",
       " 'B0': 12,\n",
       " 'C1': 13,\n",
       " 'C#1': 14,\n",
       " 'D-1': 14,\n",
       " 'D1': 15,\n",
       " 'D#1': 16,\n",
       " 'E-1': 16,\n",
       " 'E1': 17,\n",
       " 'F1': 18,\n",
       " 'F#1': 19,\n",
       " 'G-1': 19,\n",
       " 'G1': 20,\n",
       " 'G#1': 21,\n",
       " 'A-1': 21,\n",
       " 'A1': 22,\n",
       " 'A#1': 23,\n",
       " 'B-1': 23,\n",
       " 'B1': 24,\n",
       " 'C2': 25,\n",
       " 'C#2': 26,\n",
       " 'D-2': 26,\n",
       " 'D2': 27,\n",
       " 'D#2': 28,\n",
       " 'E-2': 28,\n",
       " 'E2': 29,\n",
       " 'F2': 30,\n",
       " 'F#2': 31,\n",
       " 'G-2': 31,\n",
       " 'G2': 32,\n",
       " 'G#2': 33,\n",
       " 'A-2': 33,\n",
       " 'A2': 34,\n",
       " 'A#2': 35,\n",
       " 'B-2': 35,\n",
       " 'B2': 36,\n",
       " 'C3': 37,\n",
       " 'C#3': 38,\n",
       " 'D-3': 38,\n",
       " 'D3': 39,\n",
       " 'D#3': 40,\n",
       " 'E-3': 40,\n",
       " 'E3': 41,\n",
       " 'F3': 42,\n",
       " 'F#3': 43,\n",
       " 'G-3': 43,\n",
       " 'G3': 44,\n",
       " 'G#3': 45,\n",
       " 'A-3': 45,\n",
       " 'A3': 46,\n",
       " 'A#3': 47,\n",
       " 'B-3': 47,\n",
       " 'B3': 48,\n",
       " 'C4': 49,\n",
       " 'C#4': 50,\n",
       " 'D-4': 50,\n",
       " 'D4': 51,\n",
       " 'D#4': 52,\n",
       " 'E-4': 52,\n",
       " 'E4': 53,\n",
       " 'F4': 54,\n",
       " 'F#4': 55,\n",
       " 'G-4': 55,\n",
       " 'G4': 56,\n",
       " 'G#4': 57,\n",
       " 'A-4': 57,\n",
       " 'A4': 58,\n",
       " 'A#4': 59,\n",
       " 'B-4': 59,\n",
       " 'B4': 60,\n",
       " 'C5': 61,\n",
       " 'C#5': 62,\n",
       " 'D-5': 62,\n",
       " 'D5': 63,\n",
       " 'D#5': 64,\n",
       " 'E-5': 64,\n",
       " 'E5': 65,\n",
       " 'F5': 66,\n",
       " 'F#5': 67,\n",
       " 'G-5': 67,\n",
       " 'G5': 68,\n",
       " 'G#5': 69,\n",
       " 'A-5': 69,\n",
       " 'A5': 70,\n",
       " 'A#5': 71,\n",
       " 'B-5': 71,\n",
       " 'B5': 72,\n",
       " 'C6': 73,\n",
       " 'C#6': 74,\n",
       " 'D-6': 74,\n",
       " 'D6': 75,\n",
       " 'D#6': 76,\n",
       " 'E-6': 76,\n",
       " 'E6': 77,\n",
       " 'F6': 78,\n",
       " 'F#6': 79,\n",
       " 'G-6': 79,\n",
       " 'G6': 80,\n",
       " 'G#6': 81,\n",
       " 'A-6': 81,\n",
       " 'A6': 82,\n",
       " 'A#6': 83,\n",
       " 'B-6': 83,\n",
       " 'B6': 84,\n",
       " 'C7': 85,\n",
       " 'C#7': 86,\n",
       " 'D-7': 86,\n",
       " 'D7': 87,\n",
       " 'D#7': 88,\n",
       " 'E-7': 88,\n",
       " 'E7': 89,\n",
       " 'F7': 90,\n",
       " 'F#7': 91,\n",
       " 'G-7': 91,\n",
       " 'G7': 92,\n",
       " 'G#7': 93,\n",
       " 'A-7': 93,\n",
       " 'A7': 94,\n",
       " 'A#7': 95,\n",
       " 'B-7': 95,\n",
       " 'B7': 96,\n",
       " 'C8': 97,\n",
       " 'C#8': 98,\n",
       " 'D-8': 98,\n",
       " 'D8': 99,\n",
       " 'D#8': 100,\n",
       " 'E-8': 100,\n",
       " 'E8': 101,\n",
       " 'F8': 102,\n",
       " 'F#8': 103,\n",
       " 'G-8': 103,\n",
       " 'G8': 104,\n",
       " 'G#8': 105,\n",
       " 'A-8': 105,\n",
       " 'A8': 106,\n",
       " 'A#8': 107,\n",
       " 'B-8': 107,\n",
       " 'B8': 108,\n",
       " '<SOC>': 109,\n",
       " '<EOC>': 110,\n",
       " '0': 110,\n",
       " '0.1': 110,\n",
       " '0.3': 110,\n",
       " '1.25': 110,\n",
       " '2': 110}"
      ]
     },
     "execution_count": 16,
     "metadata": {},
     "output_type": "execute_result"
    }
   ],
   "source": [
    "mapping_dict"
   ]
  },
  {
   "cell_type": "code",
   "execution_count": 17,
   "id": "401b876f",
   "metadata": {},
   "outputs": [],
   "source": [
    "mapping_dict_duration= {}\n",
    "\n",
    "mapping_dict_duration.update({'0': 0})\n",
    "mapping_dict_duration.update({'0.1': 1})\n",
    "mapping_dict_duration.update({'0.3': 2})\n",
    "mapping_dict_duration.update({'1.25': 3})\n",
    "mapping_dict_duration.update({'2': 4})"
   ]
  },
  {
   "cell_type": "code",
   "execution_count": 18,
   "id": "8f6b6818",
   "metadata": {
    "scrolled": true
   },
   "outputs": [
    {
     "data": {
      "text/plain": [
       "{'0': 0, '0.1': 1, '0.3': 2, '1.25': 3, '2': 4}"
      ]
     },
     "execution_count": 18,
     "metadata": {},
     "output_type": "execute_result"
    }
   ],
   "source": [
    "mapping_dict_duration"
   ]
  },
  {
   "cell_type": "code",
   "execution_count": 19,
   "id": "345a2256",
   "metadata": {},
   "outputs": [],
   "source": [
    "mapping_dict_tempo= {}\n",
    "mapping_dict_tempo.update({'None':0})\n",
    "mapping_dict_tempo.update({'30':1})\n",
    "mapping_dict_tempo.update({'50':2})\n",
    "mapping_dict_tempo.update({'70':3})\n",
    "mapping_dict_tempo.update({'92':4})\n",
    "mapping_dict_tempo.update({'104':5})\n",
    "mapping_dict_tempo.update({'144':6})\n",
    "mapping_dict_tempo.update({'184':7})\n",
    "mapping_dict_tempo.update({'210':8})"
   ]
  },
  {
   "cell_type": "code",
   "execution_count": 20,
   "id": "507846b2",
   "metadata": {},
   "outputs": [
    {
     "data": {
      "text/plain": [
       "{'None': 0,\n",
       " '30': 1,\n",
       " '50': 2,\n",
       " '70': 3,\n",
       " '92': 4,\n",
       " '104': 5,\n",
       " '144': 6,\n",
       " '184': 7,\n",
       " '210': 8}"
      ]
     },
     "execution_count": 20,
     "metadata": {},
     "output_type": "execute_result"
    }
   ],
   "source": [
    "mapping_dict_tempo"
   ]
  },
  {
   "cell_type": "code",
   "execution_count": null,
   "id": "be940480",
   "metadata": {},
   "outputs": [],
   "source": []
  },
  {
   "cell_type": "code",
   "execution_count": null,
   "id": "30b31d62",
   "metadata": {},
   "outputs": [],
   "source": []
  },
  {
   "cell_type": "code",
   "execution_count": 21,
   "id": "c6879488",
   "metadata": {},
   "outputs": [],
   "source": [
    "no_of_tracks_all_music = []"
   ]
  },
  {
   "cell_type": "code",
   "execution_count": 55,
   "id": "3161a6a4",
   "metadata": {},
   "outputs": [],
   "source": [
    "def get_chord_and_duration_data(individual_score):\n",
    "    no_of_tracks = len(individual_score.parts)\n",
    "    no_of_tracks_all_music.append(no_of_tracks)\n",
    "    print(no_of_tracks)\n",
    "    no_of_allowed_track =2\n",
    "    temp_no_of_track=0\n",
    "    #print([x for x in individual_score.parts.getInstruments()])\n",
    "    \n",
    "    flags=[0,0,0,0]\n",
    "    duration_sequence = []\n",
    "    note_and_chord_sequence =[]\n",
    "    temp_seq_0=[]\n",
    "    temp_seq_1=[]\n",
    "    \n",
    "    \n",
    "    \n",
    "    note_and_chord_duration =[]   ## not for now:\n",
    "    all_tempo= []\n",
    "    \n",
    "    #to see the number of tracks:\n",
    "    #print(len(individual_score.parts))\n",
    "    count_chord =0\n",
    "    count_note =0\n",
    "    count_rest=0\n",
    "    count_tempo=0\n",
    "\n",
    "    \n",
    "    recent_tempo= 0\n",
    "    latest_element = individual_score.flat[0]\n",
    "    for element in individual_score.flat:\n",
    "        \n",
    "        #print (\"latest = \", latest_element ,\"  element = \", element)\n",
    "        \n",
    "        if(temp_no_of_track == 0):\n",
    "            note_and_chord_sequence = temp_seq_0\n",
    "        if(temp_no_of_track == 1):\n",
    "            note_and_chord_sequence = temp_seq_1\n",
    "            \n",
    "            \n",
    "        if (temp_no_of_track >=2) and (type(latest_element) == type(element)):\n",
    "            temp_no_of_track=0\n",
    "            \n",
    "            continue\n",
    "        else:\n",
    "            \n",
    "            #print(\"ok element = \", element, type(element))\n",
    "\n",
    "            temp_list = []\n",
    "            if isinstance(element, chord.Chord):\n",
    "#                 flags[0] = flags[0] + 1\n",
    "#                 if (flags[0] <= no_of_allowed_track):\n",
    "                    count_chord +=1\n",
    "                    \n",
    "                    note_and_chord_sequence.append('<SOC>') ## Start of Chord\n",
    "                    [note_and_chord_sequence.append(pitch.nameWithOctave) for pitch in element.pitches]\n",
    "                    note_and_chord_sequence.append('<EOC>') ## End of Chord\n",
    "\n",
    "                    chord_duration =str(round_chord_durations(element.duration.quarterLength))\n",
    "                    note_and_chord_sequence.append(chord_duration)\n",
    "                    #print (type(element.duration.quarterLength))\n",
    "                    \n",
    "                    \n",
    "                    #duration_sequence.append(chord_duration)\n",
    "                    count_note += len(element.pitches) + 3\n",
    "                        \n",
    "\n",
    "                    #print(((pitch.nameWithOctave) for pitch in element.pitches), chord_duration)\n",
    "                    \n",
    "                    if(count_tempo < count_note):\n",
    "                        for x in range (0, count_note- count_tempo):\n",
    "                                all_tempo.append(recent_tempo)\n",
    "                                count_tempo += 1\n",
    "                        \n",
    "                        \n",
    "                    if (count_tempo > count_note):\n",
    "                        for x in range (0, count_tempo- count_note):\n",
    "                                all_tempo.pop()\n",
    "                                count_tempo -= 1\n",
    "                        \n",
    "                        \n",
    "#                 elif (flags[0] > no_of_tracks):\n",
    "#                     flags[0] = 0\n",
    "\n",
    "\n",
    "\n",
    "\n",
    "            elif isinstance(element, note.Note):\n",
    "#                 flags[1] = flags[1] + 1\n",
    "#                 if (flags[1] <= no_of_allowed_track):\n",
    "                    count_note +=2\n",
    "                    [note_and_chord_sequence.append(pitch.nameWithOctave) for pitch in element.pitches]\n",
    "\n",
    "                    note_duration = str(round_chord_durations(element.duration.quarterLength))\n",
    "                    note_and_chord_sequence.append(note_duration)\n",
    "                    \n",
    "                    if(count_tempo < count_note):\n",
    "                        all_tempo.append(recent_tempo)\n",
    "                        all_tempo.append(recent_tempo)\n",
    "                        count_tempo += 2\n",
    "                    if (count_tempo > count_note):\n",
    "                        all_tempo.pop()\n",
    "                        all_tempo.pop()\n",
    "                        count_tempo -=2 \n",
    "                    #duration_sequence.append(note_duration)\n",
    "                    #print(((pitch.nameWithOctave) for pitch in element.pitches), note_duration)\n",
    "#                 elif (flags[1] == no_of_tracks):\n",
    "#                     flags[1] =0\n",
    "\n",
    "\n",
    "            elif isinstance(element, note.Rest):\n",
    "                rest_note_name = element.name\n",
    "                #print(rest_note_name)\n",
    "#                 flags[3] = flags[3] + 1\n",
    "#                 if (flags[3] <= no_of_allowed_track):\n",
    "                count_rest +=1\n",
    "\n",
    "                [note_and_chord_sequence.append(pitch.nameWithOctave) for pitch in element.pitches]\n",
    "\n",
    "                note_duration = str(round_chord_durations(element.duration.quarterLength))\n",
    "                note_and_chord_sequence.append(note_duration)\n",
    "\n",
    "                    #duration_sequence.append(note_duration)\n",
    "                    #print(((pitch.nameWithOctave) for pitch in element.pitches), note_duration)\n",
    "#                 elif (flags[3] == no_of_tracks):\n",
    "#                     flags[3] =0\n",
    "\n",
    "\n",
    "            elif isinstance(element, tempo.MetronomeMark):\n",
    "#                 flags[2] = flags[2] + 1\n",
    "#                 if (flags[2] <= no_of_allowed_track):\n",
    "                    \n",
    "                    count_tempo += 2\n",
    "                    tempo_bpm = element.getQuarterBPM()\n",
    "                    #note_and_chord_sequence.append(str(round_tempo(tempo_bpm)))\n",
    "                    recent_tempo = str(round_tempo(tempo_bpm))\n",
    "                    if(recent_tempo == None):\n",
    "                        print(element)\n",
    "                        \n",
    "                    all_tempo.append(recent_tempo)\n",
    "                    all_tempo.append(recent_tempo)\n",
    "                    #print(tempo_bpm)\n",
    "#                 elif (flags[2] >= no_of_tracks):\n",
    "#                     flags[2] =0\n",
    "                    \n",
    "            elif isinstance(element, bar.Barline):\n",
    "                if(count_tempo < count_note):\n",
    "                        all_tempo.append(recent_tempo)\n",
    "                        all_tempo.append(recent_tempo)\n",
    "                        count_tempo += 2\n",
    "                if (count_tempo > count_note):\n",
    "                        all_tempo.pop()\n",
    "                        all_tempo.pop()\n",
    "                        count_tempo -=2 \n",
    "                break\n",
    "            \n",
    "            else:\n",
    "                \n",
    "\n",
    "        latest_element = element\n",
    "        temp_no_of_track +=1\n",
    "            \n",
    "    print(\"end\\n\\n\\n\\n\\n\\n\")\n",
    "    print(\"chord = \", count_chord )\n",
    "    print(\"note = \", count_note )\n",
    "    print(\"rest = \", count_rest )\n",
    "    print(\"tempo = \", count_tempo )\n",
    "    #print(\"tempo ko lagi = \" ,np.quantile(all_tempo, .25), np.quantile(all_tempo, .50), np.quantile(all_tempo, .75) )\n",
    "    #print(\"tempo ko lagi max min = \" ,np.max(all_tempo) , np.min(all_tempo)  )\n",
    "    #print(note_and_chord_sequence)\n",
    "    return temp_seq_0, temp_seq_1"
   ]
  },
  {
   "cell_type": "code",
   "execution_count": 56,
   "id": "56d13107",
   "metadata": {
    "scrolled": false
   },
   "outputs": [],
   "source": [
    "#get_chord_and_duration_data(score_of_all_musics[0])"
   ]
  },
  {
   "cell_type": "code",
   "execution_count": 57,
   "id": "628c1fe2",
   "metadata": {},
   "outputs": [
    {
     "name": "stdout",
     "output_type": "stream",
     "text": [
      "2\n",
      "end\n",
      "\n",
      "\n",
      "\n",
      "\n",
      "\n",
      "\n",
      "chord =  27\n",
      "note =  1095\n",
      "rest =  146\n",
      "tempo =  1095\n",
      "2\n",
      "end\n",
      "\n",
      "\n",
      "\n",
      "\n",
      "\n",
      "\n",
      "chord =  124\n",
      "note =  1327\n",
      "rest =  118\n",
      "tempo =  1327\n",
      "2\n",
      "end\n",
      "\n",
      "\n",
      "\n",
      "\n",
      "\n",
      "\n",
      "chord =  198\n",
      "note =  2324\n",
      "rest =  499\n",
      "tempo =  2324\n",
      "2\n",
      "end\n",
      "\n",
      "\n",
      "\n",
      "\n",
      "\n",
      "\n",
      "chord =  262\n",
      "note =  2732\n",
      "rest =  302\n",
      "tempo =  2732\n",
      "2\n",
      "end\n",
      "\n",
      "\n",
      "\n",
      "\n",
      "\n",
      "\n",
      "chord =  175\n",
      "note =  1773\n",
      "rest =  60\n",
      "tempo =  1773\n",
      "2\n",
      "end\n",
      "\n",
      "\n",
      "\n",
      "\n",
      "\n",
      "\n",
      "chord =  335\n",
      "note =  2941\n",
      "rest =  146\n",
      "tempo =  2941\n",
      "2\n",
      "end\n",
      "\n",
      "\n",
      "\n",
      "\n",
      "\n",
      "\n",
      "chord =  433\n",
      "note =  3887\n",
      "rest =  169\n",
      "tempo =  3887\n",
      "2\n",
      "end\n",
      "\n",
      "\n",
      "\n",
      "\n",
      "\n",
      "\n",
      "chord =  446\n",
      "note =  4040\n",
      "rest =  142\n",
      "tempo =  4040\n",
      "2\n",
      "end\n",
      "\n",
      "\n",
      "\n",
      "\n",
      "\n",
      "\n",
      "chord =  523\n",
      "note =  5146\n",
      "rest =  528\n",
      "tempo =  5146\n",
      "2\n",
      "end\n",
      "\n",
      "\n",
      "\n",
      "\n",
      "\n",
      "\n",
      "chord =  590\n",
      "note =  4172\n",
      "rest =  379\n",
      "tempo =  4172\n",
      "2\n",
      "end\n",
      "\n",
      "\n",
      "\n",
      "\n",
      "\n",
      "\n",
      "chord =  601\n",
      "note =  5136\n",
      "rest =  1582\n",
      "tempo =  5138\n",
      "2\n",
      "end\n",
      "\n",
      "\n",
      "\n",
      "\n",
      "\n",
      "\n",
      "chord =  911\n",
      "note =  6673\n",
      "rest =  688\n",
      "tempo =  6673\n",
      "2\n",
      "end\n",
      "\n",
      "\n",
      "\n",
      "\n",
      "\n",
      "\n",
      "chord =  611\n",
      "note =  4553\n",
      "rest =  735\n",
      "tempo =  4559\n",
      "2\n",
      "end\n",
      "\n",
      "\n",
      "\n",
      "\n",
      "\n",
      "\n",
      "chord =  523\n",
      "note =  4612\n",
      "rest =  176\n",
      "tempo =  4612\n",
      "6\n",
      "end\n",
      "\n",
      "\n",
      "\n",
      "\n",
      "\n",
      "\n",
      "chord =  36\n",
      "note =  2020\n",
      "rest =  1012\n",
      "tempo =  2034\n",
      "5\n",
      "end\n",
      "\n",
      "\n",
      "\n",
      "\n",
      "\n",
      "\n",
      "chord =  230\n",
      "note =  3181\n",
      "rest =  1312\n",
      "tempo =  3181\n",
      "6\n",
      "end\n",
      "\n",
      "\n",
      "\n",
      "\n",
      "\n",
      "\n",
      "chord =  142\n",
      "note =  2445\n",
      "rest =  894\n",
      "tempo =  2445\n",
      "2\n",
      "end\n",
      "\n",
      "\n",
      "\n",
      "\n",
      "\n",
      "\n",
      "chord =  2244\n",
      "note =  15308\n",
      "rest =  1952\n",
      "tempo =  15308\n",
      "2\n",
      "end\n",
      "\n",
      "\n",
      "\n",
      "\n",
      "\n",
      "\n",
      "chord =  941\n",
      "note =  11206\n",
      "rest =  1256\n",
      "tempo =  11206\n",
      "2\n",
      "end\n",
      "\n",
      "\n",
      "\n",
      "\n",
      "\n",
      "\n",
      "chord =  508\n",
      "note =  3764\n",
      "rest =  286\n",
      "tempo =  3764\n",
      "2\n",
      "end\n",
      "\n",
      "\n",
      "\n",
      "\n",
      "\n",
      "\n",
      "chord =  1114\n",
      "note =  13130\n",
      "rest =  1198\n",
      "tempo =  13130\n",
      "2\n",
      "end\n",
      "\n",
      "\n",
      "\n",
      "\n",
      "\n",
      "\n",
      "chord =  1659\n",
      "note =  14792\n",
      "rest =  1253\n",
      "tempo =  14792\n",
      "2\n",
      "end\n",
      "\n",
      "\n",
      "\n",
      "\n",
      "\n",
      "\n",
      "chord =  701\n",
      "note =  4171\n",
      "rest =  528\n",
      "tempo =  4171\n",
      "2\n",
      "end\n",
      "\n",
      "\n",
      "\n",
      "\n",
      "\n",
      "\n",
      "chord =  1522\n",
      "note =  9874\n",
      "rest =  775\n",
      "tempo =  9878\n"
     ]
    }
   ],
   "source": [
    "chords_and_duration_data_all_music= []\n",
    "duration_sequence_all_music = []\n",
    "for one_score in score_of_all_musics:\n",
    "    note_and_chord_sequence, all_tempo = get_chord_and_duration_data(one_score)\n",
    "    chords_and_duration_data_all_music.append((note_and_chord_sequence))\n",
    "    duration_sequence_all_music.append(all_tempo)\n"
   ]
  },
  {
   "cell_type": "code",
   "execution_count": 58,
   "id": "25b8b9ce",
   "metadata": {},
   "outputs": [
    {
     "data": {
      "text/plain": [
       "24"
      ]
     },
     "execution_count": 58,
     "metadata": {},
     "output_type": "execute_result"
    }
   ],
   "source": [
    "# this is the main data:\n",
    "len(chords_and_duration_data_all_music)\n",
    "#np.asarray(chords_and_duration_data_all_music).shape"
   ]
  },
  {
   "cell_type": "code",
   "execution_count": 59,
   "id": "59a78d0f",
   "metadata": {},
   "outputs": [
    {
     "data": {
      "text/plain": [
       "517"
      ]
     },
     "execution_count": 59,
     "metadata": {},
     "output_type": "execute_result"
    }
   ],
   "source": [
    "len(chords_and_duration_data_all_music[0])"
   ]
  },
  {
   "cell_type": "code",
   "execution_count": 60,
   "id": "859b7f97",
   "metadata": {},
   "outputs": [
    {
     "data": {
      "text/plain": [
       "724"
      ]
     },
     "execution_count": 60,
     "metadata": {},
     "output_type": "execute_result"
    }
   ],
   "source": [
    "len(duration_sequence_all_music[0])"
   ]
  },
  {
   "cell_type": "code",
   "execution_count": null,
   "id": "12166977",
   "metadata": {},
   "outputs": [],
   "source": [
    "track_frequency_dict= {x: no_of_tracks_all_music.count(x) for x in no_of_tracks_all_music}"
   ]
  },
  {
   "cell_type": "code",
   "execution_count": null,
   "id": "61ef2fa0",
   "metadata": {},
   "outputs": [],
   "source": [
    "track_frequency_dict"
   ]
  },
  {
   "cell_type": "code",
   "execution_count": null,
   "id": "1c076e86",
   "metadata": {},
   "outputs": [],
   "source": []
  },
  {
   "cell_type": "code",
   "execution_count": null,
   "id": "7206e80c",
   "metadata": {},
   "outputs": [],
   "source": []
  },
  {
   "cell_type": "markdown",
   "id": "aba7d973",
   "metadata": {},
   "source": [
    "from Tonic_mode_all, separating major and minor songs "
   ]
  },
  {
   "cell_type": "code",
   "execution_count": null,
   "id": "4f642b8e",
   "metadata": {},
   "outputs": [],
   "source": []
  },
  {
   "cell_type": "code",
   "execution_count": null,
   "id": "f319209c",
   "metadata": {},
   "outputs": [],
   "source": []
  },
  {
   "cell_type": "code",
   "execution_count": null,
   "id": "3bba9e10",
   "metadata": {},
   "outputs": [],
   "source": [
    "all_major_songs_chords_and_duration = []\n",
    "all_minor_songs_chords_and_duration = []\n",
    "for i in range(len(tonic_mode_all)):\n",
    "    if(tonic_mode_all[i][-1] == 'major'):\n",
    "        try:\n",
    "            all_major_songs_chords_and_duration.append(chords_and_duration_data_all_music[i])\n",
    "        except:\n",
    "            all_major_songs_chords_and_duration.append('NANNNNNN')\n",
    "    else:\n",
    "        try:\n",
    "            all_minor_songs_chords_and_duration.append(chords_and_duration_data_all_music[i])\n",
    "        except:\n",
    "             all_minor_songs_chords_and_duration.append('NANNNNNN')"
   ]
  },
  {
   "cell_type": "code",
   "execution_count": null,
   "id": "dcb4e5b0",
   "metadata": {},
   "outputs": [],
   "source": [
    "len(all_minor_songs_chords_and_duration), #minor_songs_chords_with_duration, len(minor_songs_chords_with_duration)"
   ]
  },
  {
   "cell_type": "code",
   "execution_count": null,
   "id": "d613e503",
   "metadata": {},
   "outputs": [],
   "source": [
    "major_dataset = all_major_songs_chords_and_duration \n",
    "minor_dataset = all_minor_songs_chords_and_duration"
   ]
  },
  {
   "cell_type": "code",
   "execution_count": null,
   "id": "fb99c737",
   "metadata": {},
   "outputs": [],
   "source": [
    "#just a reference code\n",
    "#major_dataset\n",
    "#y=np.array(major_dataset)\n",
    "#unique = set(major_dataset_all)\n",
    "#unique2 = set(minor_dataset_all)"
   ]
  },
  {
   "cell_type": "code",
   "execution_count": null,
   "id": "2a7e8e60",
   "metadata": {},
   "outputs": [],
   "source": [
    "chords_and_duration_data_all_music[0][0]"
   ]
  },
  {
   "cell_type": "code",
   "execution_count": null,
   "id": "23c92548",
   "metadata": {},
   "outputs": [],
   "source": [
    "main_dataset = chords_and_duration_data_all_music[:100]\n",
    "main_dataset_duration = duration_sequence_all_music[:100]"
   ]
  },
  {
   "cell_type": "code",
   "execution_count": null,
   "id": "61c9e5aa",
   "metadata": {},
   "outputs": [],
   "source": [
    "len(main_dataset_duration)"
   ]
  },
  {
   "cell_type": "markdown",
   "id": "0354fbfd",
   "metadata": {},
   "source": [
    "* Data preparation stage"
   ]
  },
  {
   "cell_type": "code",
   "execution_count": null,
   "id": "258c7c4c",
   "metadata": {},
   "outputs": [],
   "source": [
    "main_dataset[0]"
   ]
  },
  {
   "cell_type": "code",
   "execution_count": null,
   "id": "a7ee86b5",
   "metadata": {},
   "outputs": [],
   "source": []
  },
  {
   "cell_type": "code",
   "execution_count": null,
   "id": "bf0cab53",
   "metadata": {},
   "outputs": [],
   "source": []
  },
  {
   "cell_type": "code",
   "execution_count": null,
   "id": "783b14c8",
   "metadata": {},
   "outputs": [],
   "source": [
    "#  !jupyter notebook --NotebookApp.iopub_data_rate_limit=1.0e10"
   ]
  },
  {
   "cell_type": "code",
   "execution_count": null,
   "id": "c421ba3e",
   "metadata": {},
   "outputs": [],
   "source": [
    "#dataset preparation with respect to no of timesteps:\n",
    "no_of_timesteps = 60\n",
    "x = []\n",
    "y = []\n",
    "\n",
    "## CD stands for chord and duration.\n",
    "for each_music_with_CD in main_dataset:\n",
    "    for each_CD in range(0, len(each_music_with_CD) - no_of_timesteps,  1):\n",
    "        \n",
    "        ## preparing input and output sequences:\n",
    "        input_ = each_music_with_CD[each_CD:each_CD + no_of_timesteps]\n",
    "        output = each_music_with_CD[each_CD + no_of_timesteps]\n",
    "        x.append(input_)\n",
    "        y.append(output)\n",
    "        \n",
    "x=np.array(x)\n",
    "y=np.array(y)"
   ]
  },
  {
   "cell_type": "code",
   "execution_count": null,
   "id": "99fcb73d",
   "metadata": {},
   "outputs": [],
   "source": [
    "x.shape"
   ]
  },
  {
   "cell_type": "code",
   "execution_count": null,
   "id": "edebe52e",
   "metadata": {},
   "outputs": [],
   "source": [
    "y.shape"
   ]
  },
  {
   "cell_type": "code",
   "execution_count": null,
   "id": "ca5b84cd",
   "metadata": {},
   "outputs": [],
   "source": [
    "no_of_timesteps = 60\n",
    "x_duration = []\n",
    "y_duration = []\n",
    "\n",
    "## CD stands for chord and duration.\n",
    "\n",
    "for each_music_with_CD in main_dataset_duration:\n",
    "    for each_CD in range(0, len(each_music_with_CD) - no_of_timesteps,  1):\n",
    "        \n",
    "        ## preparing input and output sequences:\n",
    "        input_duration = each_music_with_CD[each_CD:each_CD + no_of_timesteps]\n",
    "        output_duration = each_music_with_CD[each_CD + no_of_timesteps]\n",
    "        #print(input_)\n",
    "        \n",
    "       \n",
    "        \n",
    "        x_duration.append(input_duration)\n",
    "        y_duration.append(output_duration)\n",
    "        \n",
    "x_duration =np.array(x_duration)\n",
    "y_duration =np.array(y_duration)"
   ]
  },
  {
   "cell_type": "code",
   "execution_count": null,
   "id": "0d8151fc",
   "metadata": {},
   "outputs": [],
   "source": [
    "x_duration.shape"
   ]
  },
  {
   "cell_type": "code",
   "execution_count": null,
   "id": "1d6ea8a7",
   "metadata": {},
   "outputs": [],
   "source": [
    "def get_size(row):\n",
    "    return len(row)\n",
    "\n",
    "\n",
    "vectorized_get_size = np.vectorize(get_size)\n",
    "\n",
    "\n",
    "max_size = np.amax(vectorized_get_size(x))\n",
    "\n",
    "print(max_size)"
   ]
  },
  {
   "cell_type": "code",
   "execution_count": null,
   "id": "3dc8d666",
   "metadata": {},
   "outputs": [],
   "source": []
  },
  {
   "cell_type": "code",
   "execution_count": null,
   "id": "61daa4e1",
   "metadata": {},
   "outputs": [],
   "source": [
    "x.shape, x_duration.shape"
   ]
  },
  {
   "cell_type": "code",
   "execution_count": null,
   "id": "3fbb7a0b",
   "metadata": {},
   "outputs": [],
   "source": []
  },
  {
   "cell_type": "code",
   "execution_count": null,
   "id": "219c7d36",
   "metadata": {},
   "outputs": [],
   "source": []
  },
  {
   "cell_type": "code",
   "execution_count": null,
   "id": "911998e3",
   "metadata": {},
   "outputs": [],
   "source": [
    "y.shape"
   ]
  },
  {
   "cell_type": "code",
   "execution_count": null,
   "id": "0c1eb2ff",
   "metadata": {},
   "outputs": [],
   "source": [
    "x.shape"
   ]
  },
  {
   "cell_type": "code",
   "execution_count": null,
   "id": "0afc6c16",
   "metadata": {
    "scrolled": true
   },
   "outputs": [],
   "source": [
    "mapping_dict = {}\n",
    "all_note_list0 = [\"C\",\"C#\",\"D\",\"D#\",\"E\",\"F\",\"F#\", \"G\",\"G#\", \"A\",\"A#\", \"B\" ]\n",
    "all_note_list1 = [\"C\",\"D-\",\"D\",\"E-\",\"E\",\"F\",\"G-\", \"G\",\"A-\", \"A\",\"B-\", \"B\" ]\n",
    "\n",
    "assigning_index = 1\n",
    "for each_octave in range(0 , 9): \n",
    "    for each_note in range (0, len(all_note_list0)):\n",
    "        #print(each_note)\n",
    "        \n",
    "        temp_dict0 = { all_note_list0[each_note] + str(each_octave) : assigning_index }\n",
    "        temp_dict1 = { all_note_list1[each_note] + str(each_octave) : assigning_index }\n",
    "        mapping_dict.update(temp_dict0)\n",
    "        mapping_dict.update(temp_dict1)\n",
    "        assigning_index += 1\n",
    "\n",
    "mapping_dict.update({\"<SOC>\"  : assigning_index})\n",
    "mapping_dict.update({\"<EOC>\"  : assigning_index + 1})\n",
    "mapping_dict.update({'0': assigning_index + 1})\n",
    "mapping_dict.update({'0.1': assigning_index + 1})\n",
    "mapping_dict.update({'0.3': assigning_index + 1})\n",
    "mapping_dict.update({'1.25': assigning_index + 1})\n",
    "mapping_dict.update({'2': assigning_index + 1})\n"
   ]
  },
  {
   "cell_type": "code",
   "execution_count": null,
   "id": "63dd5586",
   "metadata": {
    "scrolled": false
   },
   "outputs": [],
   "source": [
    "mapping_dict"
   ]
  },
  {
   "cell_type": "code",
   "execution_count": null,
   "id": "8fa9e931",
   "metadata": {},
   "outputs": [],
   "source": [
    "mapping_dict_duration= {}\n",
    "\n",
    "mapping_dict_duration.update({'0': 0})\n",
    "mapping_dict_duration.update({'0.1': 1})\n",
    "mapping_dict_duration.update({'0.3': 2})\n",
    "mapping_dict_duration.update({'1.25': 3})\n",
    "mapping_dict_duration.update({'2': 4})"
   ]
  },
  {
   "cell_type": "code",
   "execution_count": null,
   "id": "1f8e05f9",
   "metadata": {
    "scrolled": true
   },
   "outputs": [],
   "source": [
    "mapping_dict_duration"
   ]
  },
  {
   "cell_type": "code",
   "execution_count": null,
   "id": "716c29c5",
   "metadata": {},
   "outputs": [],
   "source": []
  },
  {
   "cell_type": "code",
   "execution_count": null,
   "id": "3d1b2a5b",
   "metadata": {},
   "outputs": [],
   "source": [
    "#preparing input sequences::\n",
    "\n",
    "x_seq=[]\n",
    "for each_row in x:\n",
    "    temp=[]\n",
    "    for each_piece in each_row:\n",
    "        #assigning unique integer to every note\n",
    "        temp.append(mapping_dict[each_piece])\n",
    "    x_seq.append(temp)\n",
    "    \n",
    "x_seq = np.array(x_seq)\n",
    "x_seq.shape"
   ]
  },
  {
   "cell_type": "code",
   "execution_count": null,
   "id": "11a355fb",
   "metadata": {},
   "outputs": [],
   "source": [
    "x_duration[52664]"
   ]
  },
  {
   "cell_type": "code",
   "execution_count": null,
   "id": "df59f827",
   "metadata": {
    "scrolled": true
   },
   "outputs": [],
   "source": [
    "#preparing input_duration sequences::\n",
    "\n",
    "x_seq_duration=[]\n",
    "\n",
    "for each_row in x_duration:\n",
    "    temp=[]\n",
    "    \n",
    "    \n",
    "    for each_piece in each_row:\n",
    "        #assigning unique integer to every note\n",
    "        #print(each_piece)\n",
    "        temp.append(mapping_dict_tempo[each_piece])\n",
    "    x_seq_duration.append(temp)\n",
    "    \n",
    "    \n",
    "x_seq_duration = np.array(x_seq_duration)\n",
    "x_seq_duration.shape"
   ]
  },
  {
   "cell_type": "code",
   "execution_count": null,
   "id": "7e391530",
   "metadata": {},
   "outputs": [],
   "source": []
  },
  {
   "cell_type": "code",
   "execution_count": null,
   "id": "f021d180",
   "metadata": {},
   "outputs": [],
   "source": [
    "x_seq"
   ]
  },
  {
   "cell_type": "code",
   "execution_count": null,
   "id": "5fc1e1c6",
   "metadata": {},
   "outputs": [],
   "source": [
    "y_seq=np.array([mapping_dict[i] for i in y])\n",
    "y_seq.shape"
   ]
  },
  {
   "cell_type": "code",
   "execution_count": null,
   "id": "aef20d25",
   "metadata": {},
   "outputs": [],
   "source": [
    "y_seq_duration=np.array([mapping_dict_tempo[i] for i in y_duration])\n",
    "y_seq_duration.shape"
   ]
  },
  {
   "cell_type": "code",
   "execution_count": null,
   "id": "51a921b7",
   "metadata": {},
   "outputs": [],
   "source": []
  },
  {
   "cell_type": "code",
   "execution_count": null,
   "id": "52200ecd",
   "metadata": {},
   "outputs": [],
   "source": [
    "# preserving 80% of the data for training and the rest 20% for the evaluation:\n",
    "\n",
    "from sklearn.model_selection import train_test_split\n",
    "x_train, x_val, y_train, y_val = train_test_split(x_seq,y_seq,test_size=0.2,random_state=0)"
   ]
  },
  {
   "cell_type": "code",
   "execution_count": null,
   "id": "9ff4bd16",
   "metadata": {},
   "outputs": [],
   "source": [
    "y_val.shape"
   ]
  },
  {
   "cell_type": "code",
   "execution_count": null,
   "id": "643e448c",
   "metadata": {},
   "outputs": [],
   "source": [
    "# preserving 80% of the data for training and the rest 20% for the evaluation:\n",
    "\n",
    "x_train_duration, x_val_duration, y_train_duration, y_val_duration = train_test_split(x_seq_duration,y_seq_duration,test_size=0.2,random_state=0)"
   ]
  },
  {
   "cell_type": "code",
   "execution_count": null,
   "id": "2a390a7d",
   "metadata": {},
   "outputs": [],
   "source": [
    "len(x_train)"
   ]
  },
  {
   "cell_type": "code",
   "execution_count": null,
   "id": "159070c6",
   "metadata": {},
   "outputs": [],
   "source": [
    "x_train.shape"
   ]
  },
  {
   "cell_type": "code",
   "execution_count": null,
   "id": "7b37adea",
   "metadata": {},
   "outputs": [],
   "source": [
    "x_train[20]"
   ]
  },
  {
   "cell_type": "code",
   "execution_count": null,
   "id": "c0d8cfaf",
   "metadata": {},
   "outputs": [],
   "source": [
    "x_train_duration"
   ]
  },
  {
   "cell_type": "markdown",
   "id": "1d81053e",
   "metadata": {},
   "source": [
    "# model building phase:"
   ]
  },
  {
   "cell_type": "code",
   "execution_count": null,
   "id": "4a99592e",
   "metadata": {},
   "outputs": [],
   "source": [
    "import tensorflow as tf"
   ]
  },
  {
   "cell_type": "code",
   "execution_count": null,
   "id": "bf407dc5",
   "metadata": {},
   "outputs": [],
   "source": [
    "tf.config.experimental.list_physical_devices()"
   ]
  },
  {
   "cell_type": "code",
   "execution_count": null,
   "id": "9c78a79b",
   "metadata": {},
   "outputs": [],
   "source": [
    "tf.__version__"
   ]
  },
  {
   "cell_type": "code",
   "execution_count": null,
   "id": "820e9833",
   "metadata": {},
   "outputs": [],
   "source": [
    "from keras.layers import *\n",
    "from keras.models import *\n",
    "from keras.callbacks import *\n",
    "import keras.backend as K\n",
    "from tensorflow import keras"
   ]
  },
  {
   "cell_type": "code",
   "execution_count": null,
   "id": "13862e38",
   "metadata": {},
   "outputs": [],
   "source": [
    "\n",
    "K.clear_session()\n",
    "model = Sequential()\n",
    "    \n",
    "#embedding layer\n",
    "model.add(Embedding(len(mapping_dict), 100, input_length=32,trainable=True)) \n",
    "\n",
    "model.add(Conv1D(64,3, padding='causal',activation='relu'))\n",
    "model.add(Dropout(0.2))\n",
    "model.add(MaxPool1D(2))\n",
    "    \n",
    "model.add(Conv1D(128,3,activation='relu',dilation_rate=2,padding='causal'))\n",
    "model.add(Dropout(0.2))\n",
    "model.add(MaxPool1D(2))\n",
    "\n",
    "model.add(Conv1D(256,3,activation='relu',dilation_rate=4,padding='causal'))\n",
    "model.add(Dropout(0.2))\n",
    "model.add(MaxPool1D(2))\n",
    "          \n",
    "#model.add(Conv1D(256,5,activation='relu'))    \n",
    "model.add(GlobalMaxPool1D())\n",
    "    \n",
    "model.add(Dense(256, activation='relu'))\n",
    "model.add(Dense(len(mapping_dict), activation='softmax'))\n",
    "    \n",
    "model.compile(loss='sparse_categorical_crossentropy', optimizer='adam')\n",
    "\n",
    "model.summary()"
   ]
  },
  {
   "cell_type": "code",
   "execution_count": null,
   "id": "1e5ce237",
   "metadata": {},
   "outputs": [],
   "source": [
    "def lstm():\n",
    "    K.clear_session()\n",
    "    model = Sequential()\n",
    "    #embedding layer\n",
    "    model.add(Input(shape= (None,)))\n",
    "    model.add(Embedding(len(mapping_dict), 100,trainable=True)) \n",
    "    \n",
    "    model.add(LSTM(128, return_sequences =True))\n",
    "    model.add(LSTM(64, return_sequences =True))\n",
    "    \n",
    "    \n",
    "    \n",
    "    model.add(LSTM(32))\n",
    "    model.add(Dropout(0.2))\n",
    "    \n",
    "    model.add(Dense(64))\n",
    "    model.add(Activation('relu'))\n",
    "\n",
    "    model.add(Dense(len(mapping_dict), activation='softmax'))\n",
    "    model.compile(loss='sparse_categorical_crossentropy', optimizer='adam',metrics=['accuracy'])\n",
    "    return model"
   ]
  },
  {
   "cell_type": "code",
   "execution_count": null,
   "id": "fd1b8e26",
   "metadata": {},
   "outputs": [],
   "source": [
    "model = lstm()\n",
    "model.summary()"
   ]
  },
  {
   "cell_type": "code",
   "execution_count": null,
   "id": "845494fc",
   "metadata": {},
   "outputs": [],
   "source": [
    "uniqueValues = len(set(mapping_dict.values()))"
   ]
  },
  {
   "cell_type": "code",
   "execution_count": null,
   "id": "7b447d2d",
   "metadata": {},
   "outputs": [],
   "source": [
    "uniqueValues"
   ]
  },
  {
   "cell_type": "code",
   "execution_count": null,
   "id": "8a3d011a",
   "metadata": {},
   "outputs": [],
   "source": [
    "mapping_dict, len(mapping_dict)"
   ]
  },
  {
   "cell_type": "code",
   "execution_count": null,
   "id": "5c1a5f7d",
   "metadata": {},
   "outputs": [],
   "source": [
    "mapping_dict_tempo"
   ]
  },
  {
   "cell_type": "code",
   "execution_count": null,
   "id": "59a7b8ed",
   "metadata": {},
   "outputs": [],
   "source": [
    "def functional_lstm():\n",
    "    #embedding layer\n",
    "    note_and_chord_input = Input(shape=(60,), name=\"note_and_chord_input\")\n",
    "    duration_input = Input(shape = (60,), name = \"tempo_input\")\n",
    "    embedding_features = Embedding(len(mapping_dict), 100,trainable=True, name=\"embedding_notes\")(note_and_chord_input)\n",
    "    lstm, last_hidden, last_cell = LSTM(512, return_sequences = True, return_state = True) (embedding_features)\n",
    "    embedding_tempo = Embedding(len(mapping_dict), 100,trainable=True, name=\"embedding_tempo\")(duration_input)\n",
    "    lstm_tempo, last_hidden_tempo, last_cell_tempo = LSTM(512, return_sequences= True, return_state=True, \n",
    "            name=\"lstm_tempo\")(embedding_tempo, initial_state= [last_hidden, last_cell])\n",
    "    \n",
    "    after_dropout =Dropout(0.3)(lstm)\n",
    "    after_dropout_tempo =Dropout(0.3)(lstm_tempo)\n",
    "    \n",
    "    #main lstm layers:\n",
    "    \n",
    "    lstm_1, last_hidden_1, last_cell_1 = LSTM(512, return_sequences= True, \n",
    "                    return_state=True)(after_dropout, initial_state=[last_hidden_tempo, last_cell_tempo]) \n",
    "    after_dropout_1 =Dropout(0.3)(lstm_1)\n",
    "    lstm_2 = LSTM(512)(after_dropout_1)\n",
    "    lstm_tempo_1= LSTM(512, name=\"lstm_tempo_1\")(after_dropout_tempo, initial_state= [last_hidden_1, last_cell_1])\n",
    "    \n",
    "    #join both path\n",
    "    x = concatenate([lstm_2, lstm_tempo_1])   \n",
    "    after_dropout_2 =Dropout(0.3) (x)\n",
    "    dense_notes = Dense(256) (after_dropout_2)\n",
    "    dense_duration = Dense(128)(after_dropout_2)\n",
    "    \n",
    "    output_notes = Dense(len(set(mapping_dict.values())), activation = 'softmax', name=\"output_notes\") (dense_notes)\n",
    "    output_duration = Dense(len(mapping_dict_tempo), activation = 'softmax', name=\"output_tempo\") (dense_duration)\n",
    "    \n",
    "    model = keras.Model(\n",
    "    inputs=[note_and_chord_input, duration_input],\n",
    "    outputs=[output_notes, output_duration])\n",
    "    model.compile(\n",
    "            optimizer='adam',\n",
    "            metrics=['accuracy'],\n",
    "            loss={\n",
    "            \"output_notes\": 'sparse_categorical_crossentropy',\n",
    "            \"output_tempo\": 'sparse_categorical_crossentropy',},\n",
    "            loss_weights={\"output_notes\": 1.0, \"output_tempo\" : 0.4},)\n",
    "    return model\n",
    "    "
   ]
  },
  {
   "cell_type": "code",
   "execution_count": null,
   "id": "ceedbfee",
   "metadata": {},
   "outputs": [],
   "source": [
    "model = functional_lstm()\n",
    "model.summary()"
   ]
  },
  {
   "cell_type": "code",
   "execution_count": null,
   "id": "9a43e120",
   "metadata": {},
   "outputs": [],
   "source": []
  },
  {
   "cell_type": "code",
   "execution_count": null,
   "id": "ef00f190",
   "metadata": {},
   "outputs": [],
   "source": [
    "!pip install pydot"
   ]
  },
  {
   "cell_type": "code",
   "execution_count": null,
   "id": "9d75426c",
   "metadata": {},
   "outputs": [],
   "source": [
    "keras.utils.plot_model(model, \"my_first_model_without_tempo.png\", show_shapes=True)"
   ]
  },
  {
   "cell_type": "code",
   "execution_count": null,
   "id": "a90c84d4",
   "metadata": {},
   "outputs": [],
   "source": [
    "[print(i.shape, i.dtype) for i in model.inputs]\n",
    "[print(o.shape, o.dtype) for o in model.outputs]\n",
    "#[print(l.name, l.input_shape, l.dtype) for l in model.layers]"
   ]
  },
  {
   "cell_type": "code",
   "execution_count": null,
   "id": "17398dbe",
   "metadata": {},
   "outputs": [],
   "source": [
    "np.array([0]).shape"
   ]
  },
  {
   "cell_type": "code",
   "execution_count": null,
   "id": "91c1186f",
   "metadata": {},
   "outputs": [],
   "source": [
    "!pip install h5py"
   ]
  },
  {
   "cell_type": "code",
   "execution_count": null,
   "id": "ac8c0745",
   "metadata": {},
   "outputs": [],
   "source": [
    "import h5py"
   ]
  },
  {
   "cell_type": "code",
   "execution_count": null,
   "id": "782c3d87",
   "metadata": {},
   "outputs": [],
   "source": [
    "#defining call back to save the best model during training>\n",
    "mc1 = ModelCheckpoint('models/best_model_25_songs_with_tempo-60.h5', monitor='val_accuracy', mode='min', save_best_only=False,verbose=1, metrics=[tf.keras.metrics.Accuracy()])"
   ]
  },
  {
   "cell_type": "code",
   "execution_count": null,
   "id": "c288515b",
   "metadata": {},
   "outputs": [],
   "source": []
  },
  {
   "cell_type": "code",
   "execution_count": null,
   "id": "238242df",
   "metadata": {},
   "outputs": [],
   "source": [
    "import numpy as np\n",
    "import tensorflow as tf\n",
    "from tensorflow import keras\n",
    "from tensorflow.keras import layers"
   ]
  },
  {
   "cell_type": "code",
   "execution_count": null,
   "id": "0e726100",
   "metadata": {},
   "outputs": [],
   "source": [
    "num_words= 71\n",
    "#x_train = np.random.randint(num_words, size=(6771, 10))\n",
    "padded_inputs = tf.keras.preprocessing.sequence.pad_sequences(\n",
    "    x_train, padding=\"post\"\n",
    ")\n",
    "padded_inputs_val = tf.keras.preprocessing.sequence.pad_sequences(\n",
    "    x_val, padding=\"post\"\n",
    ")"
   ]
  },
  {
   "cell_type": "code",
   "execution_count": null,
   "id": "cf3c80d4",
   "metadata": {},
   "outputs": [],
   "source": [
    "padded_inputs_duration = tf.keras.preprocessing.sequence.pad_sequences(\n",
    "    x_train_duration, padding=\"post\"\n",
    ")\n",
    "padded_inputs_val_duration = tf.keras.preprocessing.sequence.pad_sequences(\n",
    "    x_val_duration, padding=\"post\"\n",
    ")"
   ]
  },
  {
   "cell_type": "code",
   "execution_count": null,
   "id": "554e4555",
   "metadata": {},
   "outputs": [],
   "source": []
  },
  {
   "cell_type": "code",
   "execution_count": null,
   "id": "8f55686b",
   "metadata": {},
   "outputs": [],
   "source": [
    "len(padded_inputs[0]), len(x_train[0]), len(x_train_duration[0])"
   ]
  },
  {
   "cell_type": "code",
   "execution_count": null,
   "id": "bbf0b862",
   "metadata": {},
   "outputs": [],
   "source": [
    "x_train[0], padded_inputs[0]"
   ]
  },
  {
   "cell_type": "code",
   "execution_count": null,
   "id": "6561013a",
   "metadata": {},
   "outputs": [],
   "source": [
    "len(padded_inputs_val[0])"
   ]
  },
  {
   "cell_type": "code",
   "execution_count": null,
   "id": "25d903e6",
   "metadata": {},
   "outputs": [],
   "source": [
    "history = model.fit(\n",
    "    {\"note_and_chord_input\": np.array(x_train), \"tempo_input\": np.array(x_train_duration)},\n",
    "    {\"output_notes\": np.array(y_train), \"output_tempo\": np.array(y_train_duration)},\n",
    "    validation_data=(\n",
    "        {\"note_and_chord_input\": np.array(x_val), \"tempo_input\": np.array(x_val_duration)},\n",
    "    ),\n",
    "    epochs=50,\n",
    "    batch_size=128,\n",
    "    verbose=1, callbacks=[mc1, tensorboard_callback]\n",
    ")"
   ]
  },
  {
   "cell_type": "code",
   "execution_count": null,
   "id": "c4455375",
   "metadata": {},
   "outputs": [],
   "source": []
  },
  {
   "cell_type": "code",
   "execution_count": null,
   "id": "cda6dfff",
   "metadata": {},
   "outputs": [],
   "source": []
  },
  {
   "cell_type": "code",
   "execution_count": null,
   "id": "c84895dc",
   "metadata": {},
   "outputs": [],
   "source": [
    "# Print accuracy and loss for each epoch\n",
    "print(history.history['accuracy'])\n",
    "print(history.history['val_accuracy'])"
   ]
  },
  {
   "cell_type": "code",
   "execution_count": null,
   "id": "23842a5a",
   "metadata": {},
   "outputs": [],
   "source": [
    "# Print accuracy and loss for each epoch\n",
    "history.history['accuracy']"
   ]
  },
  {
   "cell_type": "code",
   "execution_count": null,
   "id": "ecaedf7c",
   "metadata": {},
   "outputs": [],
   "source": []
  },
  {
   "cell_type": "code",
   "execution_count": null,
   "id": "7eebcb49",
   "metadata": {},
   "outputs": [],
   "source": [
    "\n"
   ]
  },
  {
   "cell_type": "code",
   "execution_count": null,
   "id": "8fac1494",
   "metadata": {},
   "outputs": [],
   "source": [
    "\n",
    "    "
   ]
  },
  {
   "cell_type": "code",
   "execution_count": null,
   "id": "b37c4f8c",
   "metadata": {},
   "outputs": [],
   "source": [
    "len(pad_given_input(x_train[0],31))"
   ]
  },
  {
   "cell_type": "code",
   "execution_count": null,
   "id": "cb001cbc",
   "metadata": {},
   "outputs": [],
   "source": []
  },
  {
   "cell_type": "code",
   "execution_count": null,
   "id": "684476aa",
   "metadata": {},
   "outputs": [],
   "source": [
    "\n",
    "\n"
   ]
  },
  {
   "cell_type": "code",
   "execution_count": null,
   "id": "56393485",
   "metadata": {},
   "outputs": [],
   "source": [
    "random_music = padded_inputs[41]"
   ]
  },
  {
   "cell_type": "code",
   "execution_count": null,
   "id": "100d35e5",
   "metadata": {},
   "outputs": [],
   "source": [
    "random_music = random_music.reshape(1,no_of_timesteps)"
   ]
  },
  {
   "cell_type": "code",
   "execution_count": null,
   "id": "1bc122d9",
   "metadata": {},
   "outputs": [],
   "source": [
    "base_input = x_train[0]"
   ]
  },
  {
   "cell_type": "code",
   "execution_count": null,
   "id": "6117002c",
   "metadata": {},
   "outputs": [],
   "source": [
    "padded_inputs[0]"
   ]
  },
  {
   "cell_type": "code",
   "execution_count": null,
   "id": "d01cd1af",
   "metadata": {},
   "outputs": [],
   "source": []
  },
  {
   "cell_type": "code",
   "execution_count": null,
   "id": "52c208d6",
   "metadata": {},
   "outputs": [],
   "source": [
    "y_pred1= np.argmax(prob1[0][0],axis=0)\n",
    "y_pred1"
   ]
  },
  {
   "cell_type": "code",
   "execution_count": null,
   "id": "71629ac7",
   "metadata": {},
   "outputs": [],
   "source": [
    "import numpy as np\n",
    "import random\n",
    "ind = np.random.randint(0,len(x_val)-1)\n",
    "random_music = x_train[ind]\n",
    "random_music"
   ]
  },
  {
   "cell_type": "code",
   "execution_count": null,
   "id": "2e9613dc",
   "metadata": {},
   "outputs": [],
   "source": [
    "input_list = random_music.tolist()\n",
    "input_list"
   ]
  },
  {
   "cell_type": "code",
   "execution_count": null,
   "id": "58cd9187",
   "metadata": {},
   "outputs": [],
   "source": [
    "predicted_CD_input = [unique_x_int_to_CD[i] for i in input_list[0]]\n",
    "predicted_CD_input"
   ]
  },
  {
   "cell_type": "code",
   "execution_count": null,
   "id": "d082a521",
   "metadata": {},
   "outputs": [],
   "source": [
    "p =pred_out_to_midi(predicted_CD_input)\n",
    "p"
   ]
  },
  {
   "cell_type": "code",
   "execution_count": null,
   "id": "815f86e5",
   "metadata": {},
   "outputs": [],
   "source": [
    "def pad_given_input(given_input, no_of_timesteps):\n",
    "    temp_padded_list = given_input.copy()\n",
    "    if (len(temp_padded_list) >= no_of_timesteps ):\n",
    "        return np.array(temp_padded_list[:no_of_timesteps])\n",
    "    \n",
    "    for x in range (len(temp_padded_list) , no_of_timesteps):\n",
    "        temp_padded_list.append(0)\n",
    "    return np.array(temp_padded_list)"
   ]
  },
  {
   "cell_type": "code",
   "execution_count": null,
   "id": "4bd457cf",
   "metadata": {},
   "outputs": [],
   "source": [
    "base_input = x_train[25].copy()\n",
    "base_input_duration = x_train_duration[205]\n",
    "base_input , base_input_duration"
   ]
  },
  {
   "cell_type": "code",
   "execution_count": null,
   "id": "2f935918",
   "metadata": {},
   "outputs": [],
   "source": [
    "latest_padded = pad_given_input (base_input, no_of_timesteps)\n",
    "latest_reshaped = np.array(latest_padded.reshape(1, no_of_timesteps))\n",
    "latest_reshaped"
   ]
  },
  {
   "cell_type": "code",
   "execution_count": null,
   "id": "9f7094be",
   "metadata": {},
   "outputs": [],
   "source": [
    "print(base_input)"
   ]
  },
  {
   "cell_type": "code",
   "execution_count": null,
   "id": "3e4189cf",
   "metadata": {},
   "outputs": [],
   "source": []
  },
  {
   "cell_type": "code",
   "execution_count": null,
   "id": "39fdd33b",
   "metadata": {},
   "outputs": [],
   "source": [
    "#testing the prediction of the model:\n",
    "from keras.models import load_model\n",
    "model = load_model('models/best_model_songs_with_tempo-60.h5')\n",
    "no_of_timesteps = 60\n",
    "predictions_note=[]\n",
    "predictions_duration=[]\n",
    "\n",
    "for i in range(50):\n",
    "\n",
    "    base_input = base_input.reshape(1,no_of_timesteps)\n",
    "    base_input_duration = base_input_duration.reshape(1,no_of_timesteps)\n",
    "    \n",
    "    prob_all  =  model.predict(\n",
    "        {\"note_and_chord_input\":base_input,\n",
    "         \"tempo_input\": base_input_duration}, verbose =0\n",
    "        )\n",
    "    \n",
    "    pred_note = np.argmax (prob_all[0][0], axis = 0)\n",
    "    pred_duration = np.argmax (prob_all[1][0], axis = 0)\n",
    "    predictions_note.append(pred_note)\n",
    "    predictions_duration.append(pred_duration)\n",
    "    \n",
    "    # ready the next base_input\n",
    "    base_input = np.insert(base_input[0],len(base_input[0]),pred_note)\n",
    "    base_input = base_input[1:]\n",
    "    base_input_duration = np.insert(base_input_duration[0],len(base_input_duration[0]),pred_duration)\n",
    "    base_input_duration = base_input_duration[1:]\n",
    "    \n",
    "    \n",
    "    \n"
   ]
  },
  {
   "cell_type": "code",
   "execution_count": null,
   "id": "62916fab",
   "metadata": {},
   "outputs": [],
   "source": [
    "predictions_note, predictions_duration"
   ]
  },
  {
   "cell_type": "code",
   "execution_count": null,
   "id": "b7132015",
   "metadata": {},
   "outputs": [],
   "source": [
    "\n",
    "#for evaluation:\n",
    "\n",
    "no_of_timesteps = 60\n",
    "y_val_pred_notes = []\n",
    "y_val_duration_pred_notes = []\n",
    "\n",
    "for x in range(0, 10):\n",
    "    \n",
    "    base_input = x_val[x]\n",
    "    base_input_duration = x_val_duration[x]\n",
    "\n",
    "    base_input = base_input.reshape(1,no_of_timesteps)\n",
    "    base_input_duration = base_input_duration.reshape(1,no_of_timesteps)\n",
    "    print(\"random music = \", base_input)\n",
    "    \n",
    "    \n",
    "    prob_all  =  model.predict(\n",
    "        {\"note_and_chord_input\":base_input,\n",
    "         \"duration_input\": base_input_duration}, verbose =0\n",
    "        )\n",
    "    \n",
    "    pred_note = np.argmax (prob_all[0][0], axis = 0)\n",
    "    pred_duration = np.argmax (prob_all[1][0], axis = 0)\n",
    "    y_val_pred_notes.append(pred_note)\n",
    "    y_val_duration_pred_notes.append(pred_duration)\n",
    "    \n",
    "    \n",
    "    \n",
    "    \n",
    "    \n",
    "    \n"
   ]
  },
  {
   "cell_type": "code",
   "execution_count": null,
   "id": "038a8040",
   "metadata": {},
   "outputs": [],
   "source": [
    "from sklearn.metrics import confusion_matrix\n",
    "from sklearn.metrics import ConfusionMatrixDisplay, classification_report\n",
    "import matplotlib.pyplot as plt"
   ]
  },
  {
   "cell_type": "code",
   "execution_count": null,
   "id": "6c283d5b",
   "metadata": {},
   "outputs": [],
   "source": [
    "y_val, np.array(y_val_pred_notes)"
   ]
  },
  {
   "cell_type": "code",
   "execution_count": null,
   "id": "7402ec06",
   "metadata": {},
   "outputs": [],
   "source": [
    "from sklearn.metrics import confusion_matrix\n",
    "from sklearn.metrics import ConfusionMatrixDisplay, classification_report\n",
    "import matplotlib.pyplot as plt\n",
    "\n",
    "cm_ionian = confusion_matrix(y_val,np.array(y_val_pred_notes) )\n",
    "\n",
    "display = ConfusionMatrixDisplay(confusion_matrix=cm_ionian,labels=labels)\n",
    "display.plot(cmap=plt.cm.Blues)\n",
    "plt.show()\n",
    "print(classification_report(y_val,np.array(y_val_pred_notes)))"
   ]
  },
  {
   "cell_type": "code",
   "execution_count": null,
   "id": "3229c82e",
   "metadata": {},
   "outputs": [],
   "source": []
  },
  {
   "cell_type": "code",
   "execution_count": null,
   "id": "c22afa0d",
   "metadata": {},
   "outputs": [],
   "source": []
  },
  {
   "cell_type": "code",
   "execution_count": null,
   "id": "ddce4925",
   "metadata": {},
   "outputs": [],
   "source": []
  },
  {
   "cell_type": "code",
   "execution_count": null,
   "id": "b0875d78",
   "metadata": {},
   "outputs": [],
   "source": [
    "#intergers back to notes\n",
    "unique_x_int_to_CD = dict((number, note_) for number, note_ in enumerate(mapping_dict)) \n",
    "unique_x_int_to_CD\n",
    "#intergers back to duration\n",
    "unique_x_int_to_CD_duration = dict((number, note_) for number, note_ in enumerate(mapping_dict_duration)) \n",
    "unique_x_int_to_CD_duration"
   ]
  },
  {
   "cell_type": "code",
   "execution_count": null,
   "id": "03d32d47",
   "metadata": {},
   "outputs": [],
   "source": [
    "predicted_CD = [unique_x_int_to_CD[i] for i in predictions_note]\n",
    "predicted_CD_duration = [unique_x_int_to_CD_duration[i] for i in predictions_duration]\n"
   ]
  },
  {
   "cell_type": "code",
   "execution_count": null,
   "id": "4cec4493",
   "metadata": {},
   "outputs": [],
   "source": [
    "predicted_CD, type(predicted_CD_duration)\n",
    "for x in range(0, len(predicted_CD)):\n",
    "    print(predicted_CD[x], \"  \", predicted_CD_duration[x])"
   ]
  },
  {
   "cell_type": "code",
   "execution_count": null,
   "id": "9be8be52",
   "metadata": {},
   "outputs": [],
   "source": []
  },
  {
   "cell_type": "code",
   "execution_count": null,
   "id": "35972a75",
   "metadata": {},
   "outputs": [],
   "source": []
  },
  {
   "cell_type": "code",
   "execution_count": null,
   "id": "4ba3c0d4",
   "metadata": {},
   "outputs": [],
   "source": []
  },
  {
   "cell_type": "code",
   "execution_count": null,
   "id": "6e9e3287",
   "metadata": {},
   "outputs": [],
   "source": [
    "predicted_CD[0][0].isdigit()\n",
    "def round_chord_durations(number):\n",
    "    if(number>1.25):\n",
    "        return 2\n",
    "    if(number>.30):\n",
    "        return 1.25\n",
    "    if(number>.10):\n",
    "        return 0.3\n",
    "    return 0.1"
   ]
  },
  {
   "cell_type": "code",
   "execution_count": null,
   "id": "319bd2cc",
   "metadata": {},
   "outputs": [],
   "source": [
    "def pred_out_to_midi(pred_output, pred_output_duration):\n",
    "    \n",
    "    #generate new score                  \n",
    "    midi_stream = stream.Stream()\n",
    "    rounded_durations = ['0.1', '0.3', '1.25', '2'] \n",
    "    \n",
    "    \n",
    "    for i in range(0, len(pred_output)):\n",
    "        \n",
    "        print(i, \" =  \",pred_output[i])\n",
    "        \n",
    "        if pred_output[i] == '<SOC>':\n",
    "            i = i+1\n",
    "            new_chord = []\n",
    "            while((len(pred_output) > i ) and pred_output[i] != '<EOC>'):\n",
    "                #print(pred_output[i])\n",
    "                if (not pred_output[i][0].isdigit()): \n",
    "                    new_chord.append(pred_output[i])\n",
    "                    i= i+1\n",
    "            #out of while loop i.e end of one chord:\n",
    "            # Parse and add a chord to the stream\n",
    "            \n",
    "            \n",
    "            #to see if there exists the duration:\n",
    "            if ((len(pred_output) > i+1 ) and pred_output[i +1][0].isdigit()):\n",
    "                d = duration.Duration(float(pred_output[i+1]))\n",
    "                i= i+1\n",
    "            else:\n",
    "                d= duration.Duration(float(random.choice(rounded_durations)))\n",
    "                \n",
    "            c = chord.Chord(new_chord)\n",
    "            c.duration = d\n",
    "            midi_stream.append(c)\n",
    "        \n",
    "        if ((len(pred_output) > i ) and pred_output[i] ==  '<EOC>'):\n",
    "            continue\n",
    "        \n",
    "       \n",
    "            \n",
    "            \n",
    "        \n",
    "        if ((len(pred_output) > i ) and (not pred_output[i][0].isdigit())):\n",
    "            # Parse and add a note to the stream\n",
    "             #to see if there exists the duration:\n",
    "            n = note.Note(pred_output[i])\n",
    "            if( (len(pred_output) > i + 1)):\n",
    "                \n",
    "                if (pred_output[i +1][0].isdigit()):\n",
    "                    d = duration.Duration(float(pred_output[i+1]))\n",
    "                    i= i+1\n",
    "                else:\n",
    "                    d= duration.Duration(float(random.choice(rounded_durations)))\n",
    "            else:\n",
    "                    d= duration.Duration(float(random.choice(rounded_durations)))\n",
    "                \n",
    "            \n",
    "            n.duration = d\n",
    "            midi_stream.append(n)\n",
    "            \n",
    "            \n",
    "        \n",
    "        else : #else it is digit\n",
    "            print(\"c\")\n",
    "            #if(int(pred_output[i]) >= 20):\n",
    "             #   t = tempo.MetronomeMark(number=int(pred_output[i]))\n",
    "              #  midi_stream.append(t)\n",
    "           \n",
    "            \n",
    "            # midi_score.append(midi_score.flat.duration.quarterLength(1.5) )\n",
    "        \n",
    "    # Save the stream to a MIDI file\n",
    "    midi_stream.write('midi', fp='outputs/input_test.mid')\n",
    "            \n",
    "    return midi_stream  "
   ]
  },
  {
   "cell_type": "code",
   "execution_count": null,
   "id": "5c8d26a3",
   "metadata": {},
   "outputs": [],
   "source": [
    "p =pred_out_to_midi(predicted_CD)\n",
    "p"
   ]
  },
  {
   "cell_type": "code",
   "execution_count": null,
   "id": "4e0c58e9",
   "metadata": {},
   "outputs": [],
   "source": [
    "#generate new stream                  \n",
    "midi_stream = stream.Stream()\n",
    "\n",
    "midi_stream\n",
    "#converter.parse(midi_stream)\n"
   ]
  },
  {
   "cell_type": "code",
   "execution_count": null,
   "id": "066839dd",
   "metadata": {},
   "outputs": [],
   "source": []
  },
  {
   "cell_type": "code",
   "execution_count": null,
   "id": "b8f8bcf4",
   "metadata": {},
   "outputs": [],
   "source": []
  },
  {
   "cell_type": "code",
   "execution_count": null,
   "id": "cfa8b1f0",
   "metadata": {},
   "outputs": [],
   "source": [
    "import time\n",
    "def pred_out_to_midi(pred_output, initial_ts, initial_tempo):\n",
    "    \n",
    "    #generate new score                  \n",
    "    midi_stream = stream.Stream()\n",
    "    rounded_durations = ['0.1', '0.3', '1.25', '2'] \n",
    "    \n",
    "    ts_numerator, ts_denominator = initial_ts.split('/')\n",
    "    new_ts = meter.TimeSignature(f'{ts_numerator}/{ts_denominator}')\n",
    "    midi_stream.insert(0, new_ts)\n",
    "    midi_stream.insert(0, tempo.MetronomeMark(number = initial_tempo))\n",
    "    \n",
    "    count=0\n",
    "    for i in range(0, len(pred_output)):\n",
    "        #print(pred_output[i])\n",
    "        j=0\n",
    "        \n",
    "        if pred_output[i] == '<SOC>':\n",
    "            i = i+1\n",
    "            new_chord = []\n",
    "            while((len(pred_output) > i ) and pred_output[i] != '<EOC>' and j<3):\n",
    "                #print(pred_output[i])\n",
    "                if (not pred_output[i][0].isdigit()): \n",
    "                    new_chord.append(pred_output[i])\n",
    "                    i= i+1\n",
    "                    j=j+1\n",
    "            #out of while loop i.e end of one chord:\n",
    "            # Parse and add a chord to the stream\n",
    "            \n",
    "            \n",
    "            #to see if there exists the duration:\n",
    "            if ((len(pred_output) > i+1 ) and '.' in pred_output[i +1]):\n",
    "                d = duration.Duration(float(pred_output[i+1]))\n",
    "                i= i+1\n",
    "            else:\n",
    "                d= duration.Duration(float(random.choice(rounded_durations)))\n",
    "                \n",
    "            try:\n",
    "                c = chord.Chord(new_chord)\n",
    "                c.duration = d\n",
    "                midi_stream.append(c)\n",
    "            except:\n",
    "                print(f'o-o{new_chord}')\n",
    "        \n",
    "        \n",
    "        elif ((len(pred_output) > i ) and pred_output[i] ==  '<EOC>'):\n",
    "            continue\n",
    "        \n",
    "       \n",
    "            \n",
    "            \n",
    "        \n",
    "        elif((len(pred_output)>i ) and '.' not in pred_output[i]):\n",
    "            # Parse and add a note to the stream\n",
    "             #to see if there exists the duration:\n",
    "            try:\n",
    "                n = note.Note(pred_output[i])\n",
    "                if( (len(pred_output) > i + 1)):\n",
    "\n",
    "                    if ('.' in pred_output[i +1]):\n",
    "                        d = duration.Duration(float(pred_output[i+1]))\n",
    "                        i= i+1\n",
    "                    else:\n",
    "                        d= duration.Duration(float(random.choice(rounded_durations)))\n",
    "                else:\n",
    "                        d= duration.Duration(float(random.choice(rounded_durations)))\n",
    "            except:\n",
    "                continue\n",
    "            \n",
    "            n.duration = d\n",
    "            midi_stream.append(n)\n",
    "            \n",
    "        \n",
    "        \n",
    "        else : #else it is digit\n",
    "            print(f\"c{count}\\t {pred_output[i]}\")\n",
    "            count = count+1\n",
    "            #if(int(pred_output[i]) >= 20):\n",
    "             #   t = tempo.MetronomeMark(number=int(pred_output[i]))\n",
    "              #  midi_stream.append(t)\n",
    "           \n",
    "            \n",
    "            # midi_score.append(midi_score.flat.duration.quarterLength(1.5) )\n",
    "        \n",
    "    # Save the stream to a MIDI file\n",
    "    timestr = time.strftime(\"%Y%m%d-%H%M%S\")\n",
    "    new_file = 'output-' + timestr + '.mid'\n",
    "    return midi_stream.write('midi', fp=new_file) "
   ]
  },
  {
   "cell_type": "code",
   "execution_count": null,
   "id": "2b038b0a",
   "metadata": {},
   "outputs": [],
   "source": []
  },
  {
   "cell_type": "code",
   "execution_count": null,
   "id": "6c5463da",
   "metadata": {},
   "outputs": [],
   "source": [
    "import random, glob\n",
    "import numpy as np"
   ]
  },
  {
   "cell_type": "code",
   "execution_count": null,
   "id": "c20ca49b",
   "metadata": {},
   "outputs": [],
   "source": [
    "music_files = [a for a in glob.glob(\"dataset/*/*\")]\n",
    "print(\"A random song\", random.sample(music_files, 1))"
   ]
  },
  {
   "cell_type": "code",
   "execution_count": null,
   "id": "014d940f",
   "metadata": {},
   "outputs": [],
   "source": [
    "len(music_files)"
   ]
  },
  {
   "cell_type": "code",
   "execution_count": null,
   "id": "beed673c",
   "metadata": {},
   "outputs": [],
   "source": [
    "from music21 import midi\n",
    "def play_midi_file(midi_file_name):\n",
    "    mf = midi.MidiFile()\n",
    "\n",
    "    mf.open(midi_file_name) # path='abc.midi'\n",
    "    mf.read()\n",
    "    mf.close()\n",
    "    s = midi.translate.midiFileToStream(mf)\n",
    "    s.show('midi')"
   ]
  },
  {
   "cell_type": "code",
   "execution_count": null,
   "id": "1a8c0621",
   "metadata": {},
   "outputs": [],
   "source": [
    "# for seeing output from chords and given duration:\n",
    "def get_music_midi_from_chords_and_duration(input_chords):\n",
    "    midi_stream = stream.Stream()\n",
    "\n",
    "    for note_pattern, duration_pattern in input_chords:\n",
    "        notes_in_chord = note_pattern.split('.')\n",
    "        \n",
    "        chord_notes = []\n",
    "        for current_note in notes_in_chord:\n",
    "            new_note = note.Note(current_note)\n",
    "            new_note.duration = duration.Duration(duration_pattern)\n",
    "            new_note.storedInstrument = instrument.Violoncello()\n",
    "            chord_notes.append(new_note)\n",
    "        new_chord = chord.Chord(chord_notes)\n",
    "        \n",
    "        midi_stream.append(new_chord)\n",
    "\n",
    "        new_tempo = tempo.MetronomeMark(number=50)\n",
    "            \n",
    "        midi_stream.append(new_tempo)\n",
    "\n",
    "    midi_stream = midi_stream.chordify()\n",
    "    timestr = time.strftime(\"%Y%m%d-%H%M%S\")\n",
    "    new_file = 'output-' + timestr + '.mid'\n",
    "    return midi_stream.write('midi', fp=new_file)"
   ]
  },
  {
   "cell_type": "code",
   "execution_count": null,
   "id": "df94fd32",
   "metadata": {},
   "outputs": [],
   "source": []
  }
 ],
 "metadata": {
  "kernelspec": {
   "display_name": "Python 3 (ipykernel)",
   "language": "python",
   "name": "python3"
  },
  "language_info": {
   "codemirror_mode": {
    "name": "ipython",
    "version": 3
   },
   "file_extension": ".py",
   "mimetype": "text/x-python",
   "name": "python",
   "nbconvert_exporter": "python",
   "pygments_lexer": "ipython3",
   "version": "3.9.7"
  },
  "vscode": {
   "interpreter": {
    "hash": "7303fbe1d540c2411722e40fc90ca18a247d9c2c4a9150e00788ac7a8a4de1b6"
   }
  }
 },
 "nbformat": 4,
 "nbformat_minor": 5
}
