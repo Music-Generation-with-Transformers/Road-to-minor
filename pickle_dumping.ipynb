{
 "cells": [
  {
   "cell_type": "code",
   "execution_count": null,
   "metadata": {},
   "outputs": [],
   "source": [
    "import random, glob\n",
    "import numpy as np\n",
    "import pandas as pd \n",
    "from music21 import *\n",
    "import music21"
   ]
  },
  {
   "cell_type": "code",
   "execution_count": null,
   "metadata": {},
   "outputs": [],
   "source": [
    "import pickle"
   ]
  },
  {
   "cell_type": "code",
   "execution_count": null,
   "metadata": {},
   "outputs": [],
   "source": [
    "music_files =[a for a in glob.glob(\"*/dataset/*/*/*\")]\n",
    "print(\"A random song\", random.sample(music_files, 1))"
   ]
  },
  {
   "cell_type": "code",
   "execution_count": null,
   "metadata": {},
   "outputs": [],
   "source": [
    "len(music_files)"
   ]
  },
  {
   "cell_type": "code",
   "execution_count": 19,
   "metadata": {},
   "outputs": [],
   "source": [
    "def get_score(music_files):\n",
    "    chords = []\n",
    "    for file_no, filename in enumerate(music_files):\n",
    "        try:\n",
    "            chords.append((filename, converter.parse(filename)))\n",
    "            print(f'Happening of {file_no}', \"filename = \", filename)\n",
    "            \n",
    "        except:\n",
    "            print(f'Happening of {file_no}', \"filename = \", filename)\n",
    "            print(\"file failed!!!!!\")\n",
    "            continue\n",
    "        \n",
    "    \n",
    "    return chords"
   ]
  },
  {
   "cell_type": "code",
   "execution_count": null,
   "metadata": {},
   "outputs": [],
   "source": [
    "all_parsed=[]"
   ]
  },
  {
   "cell_type": "code",
   "execution_count": null,
   "metadata": {},
   "outputs": [],
   "source": [
    "all_parsed.extend(get_score(music_files[:200]))"
   ]
  },
  {
   "cell_type": "code",
   "execution_count": null,
   "metadata": {},
   "outputs": [],
   "source": [
    "with open('all_songs_1866_jn_0_200.pickle', 'wb') as f:\n",
    "    pickle.dump(all_parsed, f)"
   ]
  },
  {
   "cell_type": "code",
   "execution_count": null,
   "metadata": {},
   "outputs": [],
   "source": [
    "all_parsed.extend(get_score(music_files[200:400]))"
   ]
  },
  {
   "cell_type": "code",
   "execution_count": null,
   "metadata": {},
   "outputs": [],
   "source": [
    "with open('all_songs_1866_jn_200_400.pickle', 'wb') as f:\n",
    "    pickle.dump(all_parsed, f)"
   ]
  },
  {
   "cell_type": "code",
   "execution_count": null,
   "metadata": {},
   "outputs": [],
   "source": [
    "all_parsed = get_score(music_files[400:600])\n",
    "with open('all_songs_1866_jn_400_600.pickle', 'wb') as f:\n",
    "    pickle.dump(all_parsed, f)"
   ]
  },
  {
   "cell_type": "code",
   "execution_count": null,
   "metadata": {},
   "outputs": [],
   "source": [
    "all_parsed = get_score(music_files[600_800])\n",
    "with open('all_songs_1866_jn_600_800.pickle', 'wb') as f:\n",
    "    pickle.dump(all_parsed, f)"
   ]
  },
  {
   "cell_type": "code",
   "execution_count": null,
   "metadata": {},
   "outputs": [],
   "source": [
    "all_parsed.extend(get_score(music_files[800:1000]))"
   ]
  },
  {
   "cell_type": "code",
   "execution_count": null,
   "metadata": {},
   "outputs": [],
   "source": [
    "all_parsed.extend(get_score(music_files[1000:1200]))"
   ]
  },
  {
   "cell_type": "code",
   "execution_count": null,
   "metadata": {},
   "outputs": [],
   "source": [
    "all_parsed.extend(get_score(music_files[1200:1500]))"
   ]
  },
  {
   "cell_type": "code",
   "execution_count": null,
   "metadata": {},
   "outputs": [],
   "source": [
    "all_parsed.extend(get_score(music_files[1500:]))"
   ]
  },
  {
   "cell_type": "code",
   "execution_count": null,
   "metadata": {},
   "outputs": [],
   "source": [
    "all_parsed"
   ]
  },
  {
   "cell_type": "code",
   "execution_count": null,
   "metadata": {},
   "outputs": [],
   "source": [
    "\n",
    "with open('all_songs_1866_jn.pickle', 'wb') as f:\n",
    "    pickle.dump(all_parsed, f)"
   ]
  },
  {
   "cell_type": "code",
   "execution_count": null,
   "metadata": {},
   "outputs": [],
   "source": [
    "with open('all_songs_1866_jn_200_400.pickle', 'rb') as f:\n",
    "    temp2 = pickle.load(f)"
   ]
  },
  {
   "cell_type": "code",
   "execution_count": null,
   "metadata": {},
   "outputs": [],
   "source": [
    "len(temp2)"
   ]
  },
  {
   "cell_type": "code",
   "execution_count": null,
   "metadata": {},
   "outputs": [],
   "source": [
    "temp3 = []"
   ]
  },
  {
   "cell_type": "code",
   "execution_count": null,
   "metadata": {},
   "outputs": [],
   "source": [
    "temp3.extend(temp2)"
   ]
  },
  {
   "cell_type": "code",
   "execution_count": 14,
   "metadata": {},
   "outputs": [],
   "source": [
    "a = pd.read_csv('songs_with_root_and_mode.csv')\n",
    "l =[]\n",
    "for i in range(len(a)):\n",
    "    if(a.iloc[i, 4]=='Harmonic_minor'):\n",
    "        l.append((a.iloc[i, 2], a.iloc[i, 3]))"
   ]
  },
  {
   "cell_type": "code",
   "execution_count": 15,
   "metadata": {},
   "outputs": [
    {
     "name": "stdout",
     "output_type": "stream",
     "text": [
      "A random song ['after mid-term\\\\dataset\\\\295\\\\borodin\\\\bor_ps6.mid']\n"
     ]
    }
   ],
   "source": [
    "music_files =[a for a in glob.glob(\"*/dataset/*/*/*\")]\n",
    "print(\"A random song\", random.sample(music_files, 1))"
   ]
  },
  {
   "cell_type": "code",
   "execution_count": 20,
   "metadata": {},
   "outputs": [],
   "source": [
    "temp_scores = []\n",
    "for i in range(len(music_files)):\n",
    "    for j in range(len(l)):\n",
    "        if(music_files[i]== l[j][0]):\n",
    "            temp_scores.append(music_files[i])"
   ]
  },
  {
   "cell_type": "code",
   "execution_count": 21,
   "metadata": {},
   "outputs": [
    {
     "data": {
      "text/plain": [
       "240"
      ]
     },
     "execution_count": 21,
     "metadata": {},
     "output_type": "execute_result"
    }
   ],
   "source": [
    "len(temp_scores)"
   ]
  },
  {
   "cell_type": "code",
   "execution_count": 22,
   "metadata": {},
   "outputs": [
    {
     "name": "stdout",
     "output_type": "stream",
     "text": [
      "Happening of 0 filename =  after mid-term\\dataset\\295\\albeniz\\alb_esp1.mid\n",
      "Happening of 1 filename =  after mid-term\\dataset\\295\\albeniz\\alb_esp3.mid\n",
      "Happening of 2 filename =  after mid-term\\dataset\\295\\albeniz\\alb_se1.mid\n",
      "Happening of 3 filename =  after mid-term\\dataset\\295\\albeniz\\alb_se4.mid\n",
      "Happening of 4 filename =  after mid-term\\dataset\\295\\albeniz\\alb_se5.mid\n",
      "Happening of 5 filename =  after mid-term\\dataset\\295\\bach\\bach_847.mid\n",
      "Happening of 6 filename =  after mid-term\\dataset\\295\\balakir\\islamei.mid\n",
      "Happening of 7 filename =  after mid-term\\dataset\\295\\beeth\\appass_1.mid\n",
      "Happening of 8 filename =  after mid-term\\dataset\\295\\beeth\\beethoven_hammerklavier_3.mid\n",
      "Happening of 9 filename =  after mid-term\\dataset\\295\\beeth\\pathetique_2.mid\n",
      "Happening of 10 filename =  after mid-term\\dataset\\295\\brahms\\br_im5.mid\n",
      "Happening of 11 filename =  after mid-term\\dataset\\295\\burgm\\burg_gewitter.mid\n",
      "Happening of 12 filename =  after mid-term\\dataset\\295\\chopin\\chpn-p14.mid\n",
      "Happening of 13 filename =  after mid-term\\dataset\\295\\chopin\\chpn-p15.mid\n",
      "Happening of 14 filename =  after mid-term\\dataset\\295\\chopin\\chpn-p16.mid\n",
      "Happening of 15 filename =  after mid-term\\dataset\\295\\chopin\\chpn-p20.mid\n",
      "Happening of 16 filename =  after mid-term\\dataset\\295\\chopin\\chpn-p21.mid\n",
      "Happening of 17 filename =  after mid-term\\dataset\\295\\chopin\\chpn-p6.mid\n",
      "Happening of 18 filename =  after mid-term\\dataset\\295\\chopin\\chpn-p8.mid\n",
      "Happening of 19 filename =  after mid-term\\dataset\\295\\chopin\\chpn_op10_e12.mid\n",
      "Happening of 20 filename =  after mid-term\\dataset\\295\\chopin\\chpn_op25_e4.mid\n",
      "Happening of 21 filename =  after mid-term\\dataset\\295\\chopin\\chpn_op27_1.mid\n",
      "Happening of 22 filename =  after mid-term\\dataset\\295\\chopin\\chpn_op33_4.mid\n",
      "Happening of 23 filename =  after mid-term\\dataset\\295\\chopin\\chpn_op35_4.mid\n",
      "Happening of 24 filename =  after mid-term\\dataset\\295\\chopin\\chpn_op66.mid\n",
      "Happening of 25 filename =  after mid-term\\dataset\\295\\grieg\\grieg_brooklet.mid\n",
      "Happening of 26 filename =  after mid-term\\dataset\\295\\grieg\\grieg_halling.mid\n",
      "Happening of 27 filename =  after mid-term\\dataset\\295\\haydn\\haydn_33_3.mid\n",
      "Happening of 28 filename =  after mid-term\\dataset\\295\\haydn\\haydn_7_2.mid\n",
      "Happening of 29 filename =  after mid-term\\dataset\\295\\liszt\\liz_et4.mid\n",
      "Happening of 30 filename =  after mid-term\\dataset\\295\\liszt\\liz_et6.mid\n",
      "Happening of 31 filename =  after mid-term\\dataset\\295\\liszt\\liz_et_trans4.mid\n",
      "Happening of 32 filename =  after mid-term\\dataset\\295\\liszt\\liz_et_trans8.mid\n",
      "Happening of 33 filename =  after mid-term\\dataset\\295\\liszt\\liz_rhap09.mid\n",
      "Happening of 34 filename =  after mid-term\\dataset\\295\\mendelssohn\\mendel_op30_2.mid\n",
      "Happening of 35 filename =  after mid-term\\dataset\\295\\mendelssohn\\mendel_op53_5.mid\n",
      "Happening of 36 filename =  after mid-term\\dataset\\295\\mendelssohn\\mendel_op62_5.mid\n",
      "Happening of 37 filename =  after mid-term\\dataset\\295\\mozart\\mz_331_3.mid\n",
      "Happening of 38 filename =  after mid-term\\dataset\\295\\muss\\muss_6.mid\n",
      "Happening of 39 filename =  after mid-term\\dataset\\295\\schubert\\schubert_D850_1.mid\n",
      "Happening of 40 filename =  after mid-term\\dataset\\295\\schubert\\schubert_D935_3.mid\n",
      "Happening of 41 filename =  after mid-term\\dataset\\295\\schubert\\schub_d960_1.mid\n",
      "Happening of 42 filename =  after mid-term\\dataset\\295\\schubert\\schuim-2.mid\n",
      "Happening of 43 filename =  after mid-term\\dataset\\295\\schubert\\schu_143_1.mid\n",
      "Happening of 44 filename =  after mid-term\\dataset\\295\\tschai\\ty_august.mid\n",
      "Happening of 45 filename =  after mid-term\\dataset\\295\\tschai\\ty_juni.mid\n",
      "Happening of 46 filename =  after mid-term\\dataset\\295\\tschai\\ty_maerz.mid\n",
      "Happening of 47 filename =  after mid-term\\dataset\\295\\tschai\\ty_oktober.mid\n",
      "Happening of 48 filename =  after mid-term\\dataset\\dataset\\2004\\MIDI-Unprocessed_SMF_05_R1_2004_01_ORIG_MID--AUDIO_05_R1_2004_02_Track02_wav.midi\n",
      "Happening of 49 filename =  after mid-term\\dataset\\dataset\\2004\\MIDI-Unprocessed_SMF_13_01_2004_01-05_ORIG_MID--AUDIO_13_R1_2004_02_Track02_wav.midi\n",
      "Happening of 50 filename =  after mid-term\\dataset\\dataset\\2004\\MIDI-Unprocessed_SMF_17_R1_2004_04_ORIG_MID--AUDIO_17_R1_2004_09_Track09_wav.midi\n",
      "Happening of 51 filename =  after mid-term\\dataset\\dataset\\2004\\MIDI-Unprocessed_XP_03_R1_2004_01-02_ORIG_MID--AUDIO_03_R1_2004_02_Track02_wav.midi\n",
      "Happening of 52 filename =  after mid-term\\dataset\\dataset\\2004\\MIDI-Unprocessed_XP_04_R1_2004_01-02_ORIG_MID--AUDIO_04_R1_2004_01_Track01_wav.midi\n",
      "Happening of 53 filename =  after mid-term\\dataset\\dataset\\2004\\MIDI-Unprocessed_XP_04_R1_2004_06_ORIG_MID--AUDIO_04_R1_2004_08_Track08_wav.midi\n",
      "Happening of 54 filename =  after mid-term\\dataset\\dataset\\2004\\MIDI-Unprocessed_XP_08_R1_2004_04-06_ORIG_MID--AUDIO_08_R1_2004_05_Track05_wav--2.midi\n",
      "Happening of 55 filename =  after mid-term\\dataset\\dataset\\2004\\MIDI-Unprocessed_XP_14_R2_2004_01_ORIG_MID--AUDIO_14_R2_2004_01_Track01_wav.midi\n",
      "Happening of 56 filename =  after mid-term\\dataset\\dataset\\2004\\MIDI-Unprocessed_XP_15_R1_2004_01-02_ORIG_MID--AUDIO_15_R1_2004_02_Track02_wav.midi\n",
      "Happening of 57 filename =  after mid-term\\dataset\\dataset\\2004\\MIDI-Unprocessed_XP_15_R1_2004_04_ORIG_MID--AUDIO_15_R1_2004_04_Track04_wav.midi\n",
      "Happening of 58 filename =  after mid-term\\dataset\\dataset\\2004\\MIDI-Unprocessed_XP_16_R2_2004_01_ORIG_MID--AUDIO_16_R2_2004_01_Track01_wav.midi\n",
      "Happening of 59 filename =  after mid-term\\dataset\\dataset\\2004\\MIDI-Unprocessed_XP_17_R2_2004_01_ORIG_MID--AUDIO_17_R2_2004_03_Track03_wav.midi\n",
      "Happening of 60 filename =  after mid-term\\dataset\\dataset\\2004\\MIDI-Unprocessed_XP_18_R1_2004_01-02_ORIG_MID--AUDIO_18_R1_2004_04_Track04_wav.midi\n",
      "Happening of 61 filename =  after mid-term\\dataset\\dataset\\2004\\MIDI-Unprocessed_XP_21_R1_2004_02_ORIG_MID--AUDIO_21_R1_2004_02_Track02_wav.midi\n",
      "Happening of 62 filename =  after mid-term\\dataset\\dataset\\2004\\MIDI-Unprocessed_XP_21_R1_2004_03_ORIG_MID--AUDIO_21_R1_2004_04_Track04_wav.midi\n",
      "Happening of 63 filename =  after mid-term\\dataset\\dataset\\2006\\MIDI-Unprocessed_01_R2_2006_01_ORIG_MID--AUDIO_01_R2_2006_02_Track02_wav.midi\n",
      "Happening of 64 filename =  after mid-term\\dataset\\dataset\\2006\\MIDI-Unprocessed_03_R1_2006_01-05_ORIG_MID--AUDIO_03_R1_2006_05_Track05_wav.midi\n",
      "Happening of 65 filename =  after mid-term\\dataset\\dataset\\2006\\MIDI-Unprocessed_04_R1_2006_01-04_ORIG_MID--AUDIO_04_R1_2006_04_Track04_wav.midi\n",
      "Happening of 66 filename =  after mid-term\\dataset\\dataset\\2006\\MIDI-Unprocessed_05_R2_2006_01_ORIG_MID--AUDIO_05_R2_2006_01_Track01_wav.midi\n",
      "Happening of 67 filename =  after mid-term\\dataset\\dataset\\2006\\MIDI-Unprocessed_07_R1_2006_01-04_ORIG_MID--AUDIO_07_R1_2006_01_Track01_wav.midi\n",
      "Happening of 68 filename =  after mid-term\\dataset\\dataset\\2006\\MIDI-Unprocessed_07_R2_2006_01_ORIG_MID--AUDIO_07_R2_2006_02_Track02_wav.midi\n",
      "Happening of 69 filename =  after mid-term\\dataset\\dataset\\2006\\MIDI-Unprocessed_08_R1_2006_01-04_ORIG_MID--AUDIO_08_R1_2006_Disk1_02_Track02_wav.midi\n",
      "Happening of 70 filename =  after mid-term\\dataset\\dataset\\2006\\MIDI-Unprocessed_08_R2_2006_01_ORIG_MID--AUDIO_08_R2_2006_02_Track02_wav.midi\n",
      "Happening of 71 filename =  after mid-term\\dataset\\dataset\\2006\\MIDI-Unprocessed_09_R1_2006_01-04_ORIG_MID--AUDIO_09_R1_2006_03_Track03_wav.midi\n",
      "Happening of 72 filename =  after mid-term\\dataset\\dataset\\2006\\MIDI-Unprocessed_09_R2_2006_01_ORIG_MID--AUDIO_09_R2_2006_01_Track01_wav.midi\n",
      "Happening of 73 filename =  after mid-term\\dataset\\dataset\\2006\\MIDI-Unprocessed_11_R1_2006_01-06_ORIG_MID--AUDIO_11_R1_2006_01_Track01_wav.midi\n",
      "Happening of 74 filename =  after mid-term\\dataset\\dataset\\2006\\MIDI-Unprocessed_12_R1_2006_01-08_ORIG_MID--AUDIO_12_R1_2006_07_Track07_wav.midi\n",
      "Happening of 75 filename =  after mid-term\\dataset\\dataset\\2006\\MIDI-Unprocessed_13_R1_2006_01-06_ORIG_MID--AUDIO_13_R1_2006_05_Track05_wav.midi\n",
      "Happening of 76 filename =  after mid-term\\dataset\\dataset\\2006\\MIDI-Unprocessed_15_R1_2006_01-05_ORIG_MID--AUDIO_15_R1_2006_02_Track02_wav.midi\n",
      "Happening of 77 filename =  after mid-term\\dataset\\dataset\\2006\\MIDI-Unprocessed_16_R2_2006_01_ORIG_MID--AUDIO_16_R2_2006_01_Track01_wav.midi\n",
      "Happening of 78 filename =  after mid-term\\dataset\\dataset\\2006\\MIDI-Unprocessed_18_R1_2006_01-05_ORIG_MID--AUDIO_18_R1_2006_05_Track05_wav.midi\n",
      "Happening of 79 filename =  after mid-term\\dataset\\dataset\\2006\\MIDI-Unprocessed_20_R1_2006_01-04_ORIG_MID--AUDIO_20_R1_2006_01_Track01_wav.midi\n",
      "Happening of 80 filename =  after mid-term\\dataset\\dataset\\2006\\MIDI-Unprocessed_21_R1_2006_01-04_ORIG_MID--AUDIO_21_R1_2006_02_Track02_wav.midi\n",
      "Happening of 81 filename =  after mid-term\\dataset\\dataset\\2006\\MIDI-Unprocessed_22_R1_2006_01-04_ORIG_MID--AUDIO_22_R1_2006_02_Track02_wav.midi\n",
      "Happening of 82 filename =  after mid-term\\dataset\\dataset\\2006\\MIDI-Unprocessed_22_R2_2006_01_ORIG_MID--AUDIO_22_R2_2006_03_Track03_wav.midi\n",
      "Happening of 83 filename =  after mid-term\\dataset\\dataset\\2006\\MIDI-Unprocessed_22_R2_2006_01_ORIG_MID--AUDIO_22_R2_2006_04_Track04_wav.midi\n",
      "Happening of 84 filename =  after mid-term\\dataset\\dataset\\2006\\MIDI-Unprocessed_23_R2_2006_01_ORIG_MID--AUDIO_23_R2_2006_03_Track03_wav.midi\n",
      "Happening of 85 filename =  after mid-term\\dataset\\dataset\\2006\\MIDI-Unprocessed_23_R2_2006_01_ORIG_MID--AUDIO_23_R2_2006_04_Track04_wav.midi\n",
      "Happening of 86 filename =  after mid-term\\dataset\\dataset\\2008\\MIDI-Unprocessed_02_R2_2008_01-05_ORIG_MID--AUDIO_02_R2_2008_wav--1.midi\n",
      "Happening of 87 filename =  after mid-term\\dataset\\dataset\\2008\\MIDI-Unprocessed_03_R1_2008_01-04_ORIG_MID--AUDIO_03_R1_2008_wav--2.midi\n",
      "Happening of 88 filename =  after mid-term\\dataset\\dataset\\2008\\MIDI-Unprocessed_04_R1_2008_01-04_ORIG_MID--AUDIO_04_R1_2008_wav--4.midi\n",
      "Happening of 89 filename =  after mid-term\\dataset\\dataset\\2008\\MIDI-Unprocessed_04_R3_2008_01-07_ORIG_MID--AUDIO_04_R3_2008_wav--4.midi\n",
      "Happening of 90 filename =  after mid-term\\dataset\\dataset\\2008\\MIDI-Unprocessed_05_R1_2008_01-04_ORIG_MID--AUDIO_05_R1_2008_wav--4.midi\n",
      "Happening of 91 filename =  after mid-term\\dataset\\dataset\\2008\\MIDI-Unprocessed_07_R1_2008_01-04_ORIG_MID--AUDIO_07_R1_2008_wav--3.midi\n",
      "Happening of 92 filename =  after mid-term\\dataset\\dataset\\2008\\MIDI-Unprocessed_09_R1_2008_01-05_ORIG_MID--AUDIO_09_R1_2008_wav--4.midi\n",
      "Happening of 93 filename =  after mid-term\\dataset\\dataset\\2008\\MIDI-Unprocessed_09_R2_2008_01-05_ORIG_MID--AUDIO_09_R2_2008_wav--1.midi\n",
      "Happening of 94 filename =  after mid-term\\dataset\\dataset\\2008\\MIDI-Unprocessed_12_R2_2008_01-04_ORIG_MID--AUDIO_12_R2_2008_wav--2.midi\n",
      "Happening of 95 filename =  after mid-term\\dataset\\dataset\\2008\\MIDI-Unprocessed_13_R1_2008_01-04_ORIG_MID--AUDIO_13_R1_2008_wav--4.midi\n",
      "Happening of 96 filename =  after mid-term\\dataset\\dataset\\2008\\MIDI-Unprocessed_14_R1_2008_01-05_ORIG_MID--AUDIO_14_R1_2008_wav--3.midi\n",
      "Happening of 97 filename =  after mid-term\\dataset\\dataset\\2008\\MIDI-Unprocessed_16_R1_2008_01-04_ORIG_MID--AUDIO_16_R1_2008_wav--4.midi\n",
      "Happening of 98 filename =  after mid-term\\dataset\\dataset\\2009\\MIDI-Unprocessed_03_R1_2009_03-08_ORIG_MID--AUDIO_03_R1_2009_03_R1_2009_06_WAV.midi\n",
      "Happening of 99 filename =  after mid-term\\dataset\\dataset\\2009\\MIDI-Unprocessed_08_R2_2009_01_ORIG_MID--AUDIO_08_R2_2009_08_R2_2009_03_WAV.midi\n",
      "Happening of 100 filename =  after mid-term\\dataset\\dataset\\2009\\MIDI-Unprocessed_09_R2_2009_01_ORIG_MID--AUDIO_09_R2_2009_09_R2_2009_02_WAV.midi\n",
      "Happening of 101 filename =  after mid-term\\dataset\\dataset\\2009\\MIDI-Unprocessed_09_R2_2009_01_ORIG_MID--AUDIO_09_R2_2009_09_R2_2009_03_WAV.midi\n",
      "Happening of 102 filename =  after mid-term\\dataset\\dataset\\2009\\MIDI-Unprocessed_09_R2_2009_01_ORIG_MID--AUDIO_09_R2_2009_09_R2_2009_04_WAV.midi\n",
      "Happening of 103 filename =  after mid-term\\dataset\\dataset\\2009\\MIDI-Unprocessed_10_R2_2009_01_ORIG_MID--AUDIO_10_R2_2009_10_R2_2009_01_WAV.midi\n",
      "Happening of 104 filename =  after mid-term\\dataset\\dataset\\2009\\MIDI-Unprocessed_16_R1_2009_03-06_ORIG_MID--AUDIO_16_R1_2009_16_R1_2009_03_WAV.midi\n",
      "Happening of 105 filename =  after mid-term\\dataset\\dataset\\2009\\MIDI-Unprocessed_16_R2_2009_01_ORIG_MID--AUDIO_16_R2_2009_16_R2_2009_02_WAV.midi\n",
      "Happening of 106 filename =  after mid-term\\dataset\\dataset\\2009\\MIDI-Unprocessed_19_R2_2009_01_ORIG_MID--AUDIO_19_R2_2009_19_R2_2009_03_WAV.midi\n",
      "Happening of 107 filename =  after mid-term\\dataset\\dataset\\2009\\MIDI-Unprocessed_20_R1_2009_06-07_ORIG_MID--AUDIO_20_R1_2009_20_R1_2009_06_WAV.midi\n",
      "Happening of 108 filename =  after mid-term\\dataset\\dataset\\2009\\MIDI-Unprocessed_21_R2_2009_01_ORIG_MID--AUDIO_21_R2_2009_21_R2_2009_01_WAV.midi\n",
      "Happening of 109 filename =  after mid-term\\dataset\\dataset\\2011\\MIDI-Unprocessed_01_R1_2011_MID--AUDIO_R1-D1_06_Track06_wav.midi\n",
      "Happening of 110 filename =  after mid-term\\dataset\\dataset\\2011\\MIDI-Unprocessed_02_R1_2011_MID--AUDIO_R1-D1_08_Track08_wav.midi\n",
      "Happening of 111 filename =  after mid-term\\dataset\\dataset\\2011\\MIDI-Unprocessed_02_R1_2011_MID--AUDIO_R1-D1_10_Track10_wav.midi\n",
      "Happening of 112 filename =  after mid-term\\dataset\\dataset\\2011\\MIDI-Unprocessed_03_R2_2011_MID--AUDIO_R2-D1_06_Track06_wav.midi\n",
      "Happening of 113 filename =  after mid-term\\dataset\\dataset\\2011\\MIDI-Unprocessed_03_R3_2011_MID--AUDIO_R3-D1_07_Track07_wav.midi\n",
      "Happening of 114 filename =  after mid-term\\dataset\\dataset\\2011\\MIDI-Unprocessed_05_R1_2011_MID--AUDIO_R1-D2_08_Track08_wav.midi\n",
      "Happening of 115 filename =  after mid-term\\dataset\\dataset\\2011\\MIDI-Unprocessed_05_R1_2011_MID--AUDIO_R1-D2_12_Track12_wav.midi\n",
      "Happening of 116 filename =  after mid-term\\dataset\\dataset\\2011\\MIDI-Unprocessed_06_R2_2011_MID--AUDIO_R2-D2_06_Track06_wav.midi\n",
      "Happening of 117 filename =  after mid-term\\dataset\\dataset\\2011\\MIDI-Unprocessed_07_R1_2011_MID--AUDIO_R1-D3_05_Track05_wav.midi\n",
      "Happening of 118 filename =  after mid-term\\dataset\\dataset\\2011\\MIDI-Unprocessed_10_R2_2011_MID--AUDIO_R2-D3_10_Track10_wav.midi\n",
      "Happening of 119 filename =  after mid-term\\dataset\\dataset\\2011\\MIDI-Unprocessed_12_R2_2011_MID--AUDIO_R2-D4_03_Track03_wav.midi\n",
      "Happening of 120 filename =  after mid-term\\dataset\\dataset\\2011\\MIDI-Unprocessed_12_R2_2011_MID--AUDIO_R2-D4_05_Track05_wav.midi\n",
      "Happening of 121 filename =  after mid-term\\dataset\\dataset\\2011\\MIDI-Unprocessed_14_R1_2011_MID--AUDIO_R1-D6_04_Track04_wav.midi\n",
      "Happening of 122 filename =  after mid-term\\dataset\\dataset\\2011\\MIDI-Unprocessed_16_R1_2011_MID--AUDIO_R1-D6_15_Track15_wav.midi\n",
      "Happening of 123 filename =  after mid-term\\dataset\\dataset\\2011\\MIDI-Unprocessed_17_R2_2011_MID--AUDIO_R2-D5_04_Track04_wav.midi\n",
      "Happening of 124 filename =  after mid-term\\dataset\\dataset\\2011\\MIDI-Unprocessed_17_R3_2011_MID--AUDIO_R3-D6_06_Track06_wav.midi\n",
      "Happening of 125 filename =  after mid-term\\dataset\\dataset\\2011\\MIDI-Unprocessed_20_R1_2011_MID--AUDIO_R1-D8_04_Track04_wav.midi\n",
      "Happening of 126 filename =  after mid-term\\dataset\\dataset\\2011\\MIDI-Unprocessed_21_R1_2011_MID--AUDIO_R1-D8_08_Track08_wav.midi\n",
      "Happening of 127 filename =  after mid-term\\dataset\\dataset\\2011\\MIDI-Unprocessed_21_R1_2011_MID--AUDIO_R1-D8_10_Track10_wav.midi\n",
      "Happening of 128 filename =  after mid-term\\dataset\\dataset\\2011\\MIDI-Unprocessed_22_R1_2011_MID--AUDIO_R1-D8_11_Track11_wav.midi\n",
      "Happening of 129 filename =  after mid-term\\dataset\\dataset\\2011\\MIDI-Unprocessed_22_R2_2011_MID--AUDIO_R2-D5_08_Track08_wav.midi\n",
      "Happening of 130 filename =  after mid-term\\dataset\\dataset\\2011\\MIDI-Unprocessed_22_R2_2011_MID--AUDIO_R2-D5_10_Track10_wav.midi\n",
      "Happening of 131 filename =  after mid-term\\dataset\\dataset\\2011\\MIDI-Unprocessed_24_R1_2011_MID--AUDIO_R1-D9_11_Track11_wav.midi\n",
      "Happening of 132 filename =  after mid-term\\dataset\\dataset\\2011\\MIDI-Unprocessed_25_R1_2011_MID--AUDIO_R1-D9_15_Track15_wav.midi\n",
      "Happening of 133 filename =  after mid-term\\dataset\\dataset\\2011\\MIDI-Unprocessed_25_R2_2011_MID--AUDIO_R2-D6_08_Track08_wav.midi\n",
      "Happening of 134 filename =  after mid-term\\dataset\\dataset\\2013\\ORIG-MIDI_01_7_6_13_Group__MID--AUDIO_01_R1_2013_wav--4.midi\n",
      "Happening of 135 filename =  after mid-term\\dataset\\dataset\\2013\\ORIG-MIDI_01_7_6_13_Group__MID--AUDIO_04_R1_2013_wav--3.midi\n",
      "Happening of 136 filename =  after mid-term\\dataset\\dataset\\2013\\ORIG-MIDI_01_7_7_13_Group__MID--AUDIO_11_R1_2013_wav--4.midi\n",
      "Happening of 137 filename =  after mid-term\\dataset\\dataset\\2013\\ORIG-MIDI_01_7_8_13_Group__MID--AUDIO_02_R2_2013_wav--1.midi\n",
      "Happening of 138 filename =  after mid-term\\dataset\\dataset\\2013\\ORIG-MIDI_01_7_8_13_Group__MID--AUDIO_03_R2_2013_wav--2.midi\n",
      "Happening of 139 filename =  after mid-term\\dataset\\dataset\\2013\\ORIG-MIDI_01_7_8_13_Group__MID--AUDIO_07_R2_2013_wav--1.midi\n",
      "Happening of 140 filename =  after mid-term\\dataset\\dataset\\2013\\ORIG-MIDI_02_7_6_13_Group__MID--AUDIO_06_R1_2013_wav--4.midi\n",
      "Happening of 141 filename =  after mid-term\\dataset\\dataset\\2013\\ORIG-MIDI_02_7_6_13_Group__MID--AUDIO_08_R1_2013_wav--5.midi\n",
      "Happening of 142 filename =  after mid-term\\dataset\\dataset\\2013\\ORIG-MIDI_02_7_8_13_Group__MID--AUDIO_08_R2_2013_wav--1.midi\n",
      "Happening of 143 filename =  after mid-term\\dataset\\dataset\\2013\\ORIG-MIDI_02_7_8_13_Group__MID--AUDIO_11_R2_2013_wav--1.midi\n",
      "Happening of 144 filename =  after mid-term\\dataset\\dataset\\2013\\ORIG-MIDI_02_7_8_13_Group__MID--AUDIO_12_R2_2013_wav--2.midi\n",
      "Happening of 145 filename =  after mid-term\\dataset\\dataset\\2013\\ORIG-MIDI_02_7_8_13_Group__MID--AUDIO_14_R2_2013_wav--1.midi\n",
      "Happening of 146 filename =  after mid-term\\dataset\\dataset\\2013\\ORIG-MIDI_03_7_6_13_Group__MID--AUDIO_10_R1_2013_wav--4.midi\n",
      "Happening of 147 filename =  after mid-term\\dataset\\dataset\\2013\\ORIG-MIDI_03_7_8_13_Group__MID--AUDIO_18_R2_2013_wav--1.midi\n",
      "Happening of 148 filename =  after mid-term\\dataset\\dataset\\2013\\ORIG-MIDI_03_7_8_13_Group__MID--AUDIO_19_R2_2013_wav--1.midi\n",
      "Happening of 149 filename =  after mid-term\\dataset\\dataset\\2014\\MIDI-UNPROCESSED_04-05_R1_2014_MID--AUDIO_04_R1_2014_wav--1.midi\n",
      "Happening of 150 filename =  after mid-term\\dataset\\dataset\\2014\\MIDI-UNPROCESSED_04-05_R1_2014_MID--AUDIO_05_R1_2014_wav--6.midi\n",
      "Happening of 151 filename =  after mid-term\\dataset\\dataset\\2014\\MIDI-UNPROCESSED_04-07-08-10-12-15-17_R2_2014_MID--AUDIO_12_R2_2014_wav.midi\n",
      "Happening of 152 filename =  after mid-term\\dataset\\dataset\\2014\\MIDI-UNPROCESSED_06-08_R1_2014_MID--AUDIO_07_R1_2014_wav--7.midi\n",
      "Happening of 153 filename =  after mid-term\\dataset\\dataset\\2014\\MIDI-UNPROCESSED_09-10_R1_2014_MID--AUDIO_10_R1_2014_wav--1.midi\n",
      "Happening of 154 filename =  after mid-term\\dataset\\dataset\\2014\\MIDI-UNPROCESSED_11-13_R1_2014_MID--AUDIO_13_R1_2014_wav--3.midi\n",
      "Happening of 155 filename =  after mid-term\\dataset\\dataset\\2014\\MIDI-UNPROCESSED_16-18_R1_2014_MID--AUDIO_18_R1_2014_wav--2.midi\n",
      "Happening of 156 filename =  after mid-term\\dataset\\dataset\\2014\\MIDI-UNPROCESSED_19-20_R1_2014_MID--AUDIO_19_R1_2014_wav--2.midi\n",
      "Happening of 157 filename =  after mid-term\\dataset\\dataset\\2015\\MIDI-Unprocessed_R1_D1-1-8_mid--AUDIO-from_mp3_05_R1_2015_wav--4.midi\n",
      "Happening of 158 filename =  after mid-term\\dataset\\dataset\\2015\\MIDI-Unprocessed_R1_D1-1-8_mid--AUDIO-from_mp3_06_R1_2015_wav--6.midi\n",
      "Happening of 159 filename =  after mid-term\\dataset\\dataset\\2015\\MIDI-Unprocessed_R1_D1-1-8_mid--AUDIO-from_mp3_08_R1_2015_wav--1.midi\n",
      "Happening of 160 filename =  after mid-term\\dataset\\dataset\\2015\\MIDI-Unprocessed_R1_D2-13-20_mid--AUDIO-from_mp3_13_R1_2015_wav--5.midi\n",
      "Happening of 161 filename =  after mid-term\\dataset\\dataset\\2015\\MIDI-Unprocessed_R1_D2-13-20_mid--AUDIO-from_mp3_14_R1_2015_wav--3.midi\n",
      "Happening of 162 filename =  after mid-term\\dataset\\dataset\\2015\\MIDI-Unprocessed_R1_D2-13-20_mid--AUDIO-from_mp3_17_R1_2015_wav--4.midi\n",
      "Happening of 163 filename =  after mid-term\\dataset\\dataset\\2015\\MIDI-Unprocessed_R1_D2-21-22_mid--AUDIO-from_mp3_22_R1_2015_wav--3.midi\n",
      "Happening of 164 filename =  after mid-term\\dataset\\dataset\\2015\\MIDI-Unprocessed_R2_D1-2-3-6-7-8-11_mid--AUDIO-from_mp3_07_R2_2015_wav--3.midi\n",
      "Happening of 165 filename =  after mid-term\\dataset\\dataset\\2015\\MIDI-Unprocessed_R2_D1-2-3-6-7-8-11_mid--AUDIO-from_mp3_08_R2_2015_wav--2.midi\n",
      "Happening of 166 filename =  after mid-term\\dataset\\dataset\\2015\\MIDI-Unprocessed_R2_D2-12-13-15_mid--AUDIO-from_mp3_13_R2_2015_wav--4.midi\n",
      "Happening of 167 filename =  after mid-term\\dataset\\dataset\\2015\\MIDI-Unprocessed_R2_D2-19-21-22_mid--AUDIO-from_mp3_21_R2_2015_wav--1.midi\n",
      "Happening of 168 filename =  after mid-term\\dataset\\dataset\\2015\\MIDI-Unprocessed_R2_D2-19-21-22_mid--AUDIO-from_mp3_21_R2_2015_wav--3.midi\n",
      "Happening of 169 filename =  after mid-term\\dataset\\dataset\\2015\\MIDI-Unprocessed_R2_D2-19-21-22_mid--AUDIO-from_mp3_22_R2_2015_wav--1.midi\n",
      "Happening of 170 filename =  after mid-term\\dataset\\dataset\\2017\\MIDI-Unprocessed_045_PIANO045_MID--AUDIO-split_07-06-17_Piano-e_2-01_wav--2.midi\n",
      "Happening of 171 filename =  after mid-term\\dataset\\dataset\\2017\\MIDI-Unprocessed_045_PIANO045_MID--AUDIO-split_07-06-17_Piano-e_2-01_wav--4.midi\n",
      "Happening of 172 filename =  after mid-term\\dataset\\dataset\\2017\\MIDI-Unprocessed_050_PIANO050_MID--AUDIO-split_07-06-17_Piano-e_3-01_wav--2.midi\n",
      "Happening of 173 filename =  after mid-term\\dataset\\dataset\\2017\\MIDI-Unprocessed_050_PIANO050_MID--AUDIO-split_07-06-17_Piano-e_3-01_wav--3.midi\n",
      "Happening of 174 filename =  after mid-term\\dataset\\dataset\\2017\\MIDI-Unprocessed_054_PIANO054_MID--AUDIO-split_07-07-17_Piano-e_1-02_wav--4.midi\n",
      "Happening of 175 filename =  after mid-term\\dataset\\dataset\\2017\\MIDI-Unprocessed_055_PIANO055_MID--AUDIO-split_07-07-17_Piano-e_1-04_wav--3.midi\n",
      "Happening of 176 filename =  after mid-term\\dataset\\dataset\\2017\\MIDI-Unprocessed_057_PIANO057_MID--AUDIO-split_07-07-17_Piano-e_1-07_wav--3.midi\n",
      "Happening of 177 filename =  after mid-term\\dataset\\dataset\\2017\\MIDI-Unprocessed_058_PIANO058_MID--AUDIO-split_07-07-17_Piano-e_2-02_wav--5.midi\n",
      "Happening of 178 filename =  after mid-term\\dataset\\dataset\\2017\\MIDI-Unprocessed_060_PIANO060_MID--AUDIO-split_07-07-17_Piano-e_2-04_wav--2.midi\n",
      "Happening of 179 filename =  after mid-term\\dataset\\dataset\\2017\\MIDI-Unprocessed_070_PIANO070_MID--AUDIO-split_07-08-17_Piano-e_1-02_wav--1.midi\n",
      "Happening of 180 filename =  after mid-term\\dataset\\dataset\\2017\\MIDI-Unprocessed_074_PIANO074_MID--AUDIO-split_07-08-17_Piano-e_2-04_wav--2.midi\n",
      "Happening of 181 filename =  after mid-term\\dataset\\dataset\\2017\\MIDI-Unprocessed_080_PIANO080_MID--AUDIO-split_07-09-17_Piano-e_1-06_wav--1.midi\n",
      "Happening of 182 filename =  after mid-term\\dataset\\dataset\\2018\\MIDI-Unprocessed_Chamber3_MID--AUDIO_10_R3_2018_wav--2.midi\n",
      "Happening of 183 filename =  after mid-term\\dataset\\dataset\\2018\\MIDI-Unprocessed_Recital1-3_MID--AUDIO_03_R1_2018_wav--5.midi\n",
      "Happening of 184 filename =  after mid-term\\dataset\\dataset\\2018\\MIDI-Unprocessed_Recital17-19_MID--AUDIO_19_R1_2018_wav--6.midi\n",
      "Happening of 185 filename =  after mid-term\\dataset\\dataset\\2018\\MIDI-Unprocessed_Recital5-7_MID--AUDIO_07_R1_2018_wav--4.midi\n",
      "Happening of 186 filename =  after mid-term\\dataset\\dataset\\2018\\MIDI-Unprocessed_Recital8_MID--AUDIO_08_R1_2018_wav--2.midi\n",
      "Happening of 187 filename =  after mid-term\\dataset\\dataset\\2018\\MIDI-Unprocessed_Recital8_MID--AUDIO_08_R1_2018_wav--4.midi\n",
      "Happening of 188 filename =  after mid-term\\dataset\\dataset\\2018\\MIDI-Unprocessed_Recital9-11_MID--AUDIO_09_R1_2018_wav--4.midi\n",
      "Happening of 189 filename =  after mid-term\\dataset\\dataset\\2018\\MIDI-Unprocessed_Recital9-11_MID--AUDIO_10_R1_2018_wav--5.midi\n",
      "Happening of 190 filename =  after mid-term\\dataset\\dataset\\2018\\MIDI-Unprocessed_Schubert4-6_MID--AUDIO_09_R2_2018_wav.midi\n",
      "Happening of 191 filename =  after mid-term\\dataset\\dataset\\2018\\MIDI-Unprocessed_Schubert4-6_MID--AUDIO_10_R2_2018_wav.midi\n"
     ]
    },
    {
     "name": "stderr",
     "output_type": "stream",
     "text": [
      "c:\\Users\\sajjan\\anaconda3\\envs\\tf\\lib\\site-packages\\music21\\midi\\translate.py:863: TranslateWarning: Unable to determine instrument from <music21.midi.MidiEvent SEQUENCE_TRACK_NAME, track=4, channel=None, data=b'Copyright \\xa9 2001 by Bernd Kr\\xfcger'>; getting generic Instrument\n",
      "  warnings.warn(\n"
     ]
    },
    {
     "name": "stdout",
     "output_type": "stream",
     "text": [
      "Happening of 192 filename =  after mid-term\\dataset\\dataset\\albeniz\\alb_esp1.mid\n",
      "Happening of 193 filename =  after mid-term\\dataset\\dataset\\albeniz\\alb_esp3.mid\n",
      "Happening of 194 filename =  after mid-term\\dataset\\dataset\\albeniz\\alb_se1.mid\n",
      "Happening of 195 filename =  after mid-term\\dataset\\dataset\\albeniz\\alb_se4.mid\n",
      "Happening of 196 filename =  after mid-term\\dataset\\dataset\\albeniz\\alb_se5.mid\n"
     ]
    },
    {
     "name": "stderr",
     "output_type": "stream",
     "text": [
      "c:\\Users\\sajjan\\anaconda3\\envs\\tf\\lib\\site-packages\\music21\\midi\\translate.py:863: TranslateWarning: Unable to determine instrument from <music21.midi.MidiEvent SEQUENCE_TRACK_NAME, track=7, channel=None, data=b'Copyright 2004 by Bernd Kr\\xfcger.'>; getting generic Instrument\n",
      "  warnings.warn(\n"
     ]
    },
    {
     "name": "stdout",
     "output_type": "stream",
     "text": [
      "Happening of 197 filename =  after mid-term\\dataset\\dataset\\bach\\bach_847.mid\n"
     ]
    },
    {
     "name": "stderr",
     "output_type": "stream",
     "text": [
      "c:\\Users\\sajjan\\anaconda3\\envs\\tf\\lib\\site-packages\\music21\\midi\\translate.py:863: TranslateWarning: Unable to determine instrument from <music21.midi.MidiEvent SEQUENCE_TRACK_NAME, track=4, channel=None, data=b'Copyright \\xa9 2000 by Bernd Kr\\xfcger'>; getting generic Instrument\n",
      "  warnings.warn(\n"
     ]
    },
    {
     "name": "stdout",
     "output_type": "stream",
     "text": [
      "Happening of 198 filename =  after mid-term\\dataset\\dataset\\balakir\\islamei.mid\n"
     ]
    },
    {
     "name": "stderr",
     "output_type": "stream",
     "text": [
      "c:\\Users\\sajjan\\anaconda3\\envs\\tf\\lib\\site-packages\\music21\\midi\\translate.py:863: TranslateWarning: Unable to determine instrument from <music21.midi.MidiEvent SEQUENCE_TRACK_NAME, track=5, channel=None, data=b'Copyright \\xa9 2001 by Bernd Kr\\xfcger'>; getting generic Instrument\n",
      "  warnings.warn(\n"
     ]
    },
    {
     "name": "stdout",
     "output_type": "stream",
     "text": [
      "Happening of 199 filename =  after mid-term\\dataset\\dataset\\beeth\\appass_1.mid\n"
     ]
    },
    {
     "name": "stderr",
     "output_type": "stream",
     "text": [
      "c:\\Users\\sajjan\\anaconda3\\envs\\tf\\lib\\site-packages\\music21\\midi\\translate.py:863: TranslateWarning: Unable to determine instrument from <music21.midi.MidiEvent SEQUENCE_TRACK_NAME, track=5, channel=None, data=b'Copyright \\xa9 2008 by Bernd Krueger'>; getting generic Instrument\n",
      "  warnings.warn(\n"
     ]
    },
    {
     "name": "stdout",
     "output_type": "stream",
     "text": [
      "Happening of 200 filename =  after mid-term\\dataset\\dataset\\beeth\\beethoven_hammerklavier_3.mid\n"
     ]
    },
    {
     "name": "stderr",
     "output_type": "stream",
     "text": [
      "c:\\Users\\sajjan\\anaconda3\\envs\\tf\\lib\\site-packages\\music21\\midi\\translate.py:863: TranslateWarning: Unable to determine instrument from <music21.midi.MidiEvent SEQUENCE_TRACK_NAME, track=6, channel=None, data=b'Beethoven Sonata No. 8 C minor, Grand Sonate path\\xe9tique 2. Movement'>; getting generic Instrument\n",
      "  warnings.warn(\n",
      "c:\\Users\\sajjan\\anaconda3\\envs\\tf\\lib\\site-packages\\music21\\midi\\translate.py:863: TranslateWarning: Unable to determine instrument from <music21.midi.MidiEvent SEQUENCE_TRACK_NAME, track=7, channel=None, data=b'Copyright \\xa9 2003 by Bernd Krueger'>; getting generic Instrument\n",
      "  warnings.warn(\n"
     ]
    },
    {
     "name": "stdout",
     "output_type": "stream",
     "text": [
      "Happening of 201 filename =  after mid-term\\dataset\\dataset\\beeth\\pathetique_2.mid\n"
     ]
    },
    {
     "name": "stderr",
     "output_type": "stream",
     "text": [
      "c:\\Users\\sajjan\\anaconda3\\envs\\tf\\lib\\site-packages\\music21\\midi\\translate.py:863: TranslateWarning: Unable to determine instrument from <music21.midi.MidiEvent SEQUENCE_TRACK_NAME, track=5, channel=None, data=b'Copyright \\xa9 2005 by Bernd Kr\\xfcger'>; getting generic Instrument\n",
      "  warnings.warn(\n"
     ]
    },
    {
     "name": "stdout",
     "output_type": "stream",
     "text": [
      "Happening of 202 filename =  after mid-term\\dataset\\dataset\\brahms\\br_im5.mid\n"
     ]
    },
    {
     "name": "stderr",
     "output_type": "stream",
     "text": [
      "c:\\Users\\sajjan\\anaconda3\\envs\\tf\\lib\\site-packages\\music21\\midi\\translate.py:863: TranslateWarning: Unable to determine instrument from <music21.midi.MidiEvent SEQUENCE_TRACK_NAME, track=4, channel=None, data=b'Copyright \\xa9 2004 by Bernd Kr\\xfcger'>; getting generic Instrument\n",
      "  warnings.warn(\n"
     ]
    },
    {
     "name": "stdout",
     "output_type": "stream",
     "text": [
      "Happening of 203 filename =  after mid-term\\dataset\\dataset\\burgm\\burg_gewitter.mid\n"
     ]
    },
    {
     "name": "stderr",
     "output_type": "stream",
     "text": [
      "c:\\Users\\sajjan\\anaconda3\\envs\\tf\\lib\\site-packages\\music21\\midi\\translate.py:863: TranslateWarning: Unable to determine instrument from <music21.midi.MidiEvent SEQUENCE_TRACK_NAME, track=4, channel=None, data=b'Copyright \\xa9 2002 by Bernd Krueger'>; getting generic Instrument\n",
      "  warnings.warn(\n"
     ]
    },
    {
     "name": "stdout",
     "output_type": "stream",
     "text": [
      "Happening of 204 filename =  after mid-term\\dataset\\dataset\\chopin\\chpn-p14.mid\n",
      "Happening of 205 filename =  after mid-term\\dataset\\dataset\\chopin\\chpn-p15.mid\n",
      "Happening of 206 filename =  after mid-term\\dataset\\dataset\\chopin\\chpn-p16.mid\n",
      "Happening of 207 filename =  after mid-term\\dataset\\dataset\\chopin\\chpn-p20.mid\n",
      "Happening of 208 filename =  after mid-term\\dataset\\dataset\\chopin\\chpn-p21.mid\n",
      "Happening of 209 filename =  after mid-term\\dataset\\dataset\\chopin\\chpn-p6.mid\n"
     ]
    },
    {
     "name": "stderr",
     "output_type": "stream",
     "text": [
      "c:\\Users\\sajjan\\anaconda3\\envs\\tf\\lib\\site-packages\\music21\\midi\\translate.py:863: TranslateWarning: Unable to determine instrument from <music21.midi.MidiEvent SEQUENCE_TRACK_NAME, track=5, channel=None, data=b'Copyright \\xa9 1997 by Bernd Krueger'>; getting generic Instrument\n",
      "  warnings.warn(\n"
     ]
    },
    {
     "name": "stdout",
     "output_type": "stream",
     "text": [
      "Happening of 210 filename =  after mid-term\\dataset\\dataset\\chopin\\chpn-p8.mid\n"
     ]
    },
    {
     "name": "stderr",
     "output_type": "stream",
     "text": [
      "c:\\Users\\sajjan\\anaconda3\\envs\\tf\\lib\\site-packages\\music21\\midi\\translate.py:863: TranslateWarning: Unable to determine instrument from <music21.midi.MidiEvent SEQUENCE_TRACK_NAME, track=0, channel=None, data=b'Et\\xfcde Nr. 12'>; getting generic Instrument\n",
      "  warnings.warn(\n",
      "c:\\Users\\sajjan\\anaconda3\\envs\\tf\\lib\\site-packages\\music21\\midi\\translate.py:863: TranslateWarning: Unable to determine instrument from <music21.midi.MidiEvent SEQUENCE_TRACK_NAME, track=4, channel=None, data=b'Copyright \\xa9 1999 by Bernd Kr\\xfcger'>; getting generic Instrument\n",
      "  warnings.warn(\n"
     ]
    },
    {
     "name": "stdout",
     "output_type": "stream",
     "text": [
      "Happening of 211 filename =  after mid-term\\dataset\\dataset\\chopin\\chpn_op10_e12.mid\n"
     ]
    },
    {
     "name": "stderr",
     "output_type": "stream",
     "text": [
      "c:\\Users\\sajjan\\anaconda3\\envs\\tf\\lib\\site-packages\\music21\\midi\\translate.py:863: TranslateWarning: Unable to determine instrument from <music21.midi.MidiEvent SEQUENCE_TRACK_NAME, track=4, channel=None, data=b'Copyright \\xa9 2003 by Bernd Krueger'>; getting generic Instrument\n",
      "  warnings.warn(\n"
     ]
    },
    {
     "name": "stdout",
     "output_type": "stream",
     "text": [
      "Happening of 212 filename =  after mid-term\\dataset\\dataset\\chopin\\chpn_op25_e4.mid\n",
      "Happening of 213 filename =  after mid-term\\dataset\\dataset\\chopin\\chpn_op27_1.mid\n",
      "Happening of 214 filename =  after mid-term\\dataset\\dataset\\chopin\\chpn_op33_4.mid\n"
     ]
    },
    {
     "name": "stderr",
     "output_type": "stream",
     "text": [
      "c:\\Users\\sajjan\\anaconda3\\envs\\tf\\lib\\site-packages\\music21\\midi\\translate.py:863: TranslateWarning: Unable to determine instrument from <music21.midi.MidiEvent SEQUENCE_TRACK_NAME, track=4, channel=None, data=b'Copyright \\xa9 2002 by Bernd Kr\\xfcger'>; getting generic Instrument\n",
      "  warnings.warn(\n"
     ]
    },
    {
     "name": "stdout",
     "output_type": "stream",
     "text": [
      "Happening of 215 filename =  after mid-term\\dataset\\dataset\\chopin\\chpn_op35_4.mid\n",
      "Happening of 216 filename =  after mid-term\\dataset\\dataset\\chopin\\chpn_op66.mid\n"
     ]
    },
    {
     "name": "stderr",
     "output_type": "stream",
     "text": [
      "c:\\Users\\sajjan\\anaconda3\\envs\\tf\\lib\\site-packages\\music21\\midi\\translate.py:863: TranslateWarning: Unable to determine instrument from <music21.midi.MidiEvent SEQUENCE_TRACK_NAME, track=0, channel=None, data=b'Grieg: Lyrische St\\xfccke, B\\xe4chlein, Opus 62 Nr. 4'>; getting generic Instrument\n",
      "  warnings.warn(\n",
      "c:\\Users\\sajjan\\anaconda3\\envs\\tf\\lib\\site-packages\\music21\\midi\\translate.py:863: TranslateWarning: Unable to determine instrument from <music21.midi.MidiEvent SEQUENCE_TRACK_NAME, track=5, channel=None, data=b'Copyright \\xa9 2010 by Bernd Krueger'>; getting generic Instrument\n",
      "  warnings.warn(\n"
     ]
    },
    {
     "name": "stdout",
     "output_type": "stream",
     "text": [
      "Happening of 217 filename =  after mid-term\\dataset\\dataset\\grieg\\grieg_brooklet.mid\n"
     ]
    },
    {
     "name": "stderr",
     "output_type": "stream",
     "text": [
      "c:\\Users\\sajjan\\anaconda3\\envs\\tf\\lib\\site-packages\\music21\\midi\\translate.py:863: TranslateWarning: Unable to determine instrument from <music21.midi.MidiEvent SEQUENCE_TRACK_NAME, track=0, channel=None, data=b'Grieg: Lyrische St\\xfccke Book II Opus 38 Nr. 4 - Halling'>; getting generic Instrument\n",
      "  warnings.warn(\n",
      "c:\\Users\\sajjan\\anaconda3\\envs\\tf\\lib\\site-packages\\music21\\midi\\translate.py:863: TranslateWarning: Unable to determine instrument from <music21.midi.MidiEvent SEQUENCE_TRACK_NAME, track=5, channel=None, data=b'Copyright \\xa9 2007 by Bernd Krueger'>; getting generic Instrument\n",
      "  warnings.warn(\n"
     ]
    },
    {
     "name": "stdout",
     "output_type": "stream",
     "text": [
      "Happening of 218 filename =  after mid-term\\dataset\\dataset\\grieg\\grieg_halling.mid\n",
      "Happening of 219 filename =  after mid-term\\dataset\\dataset\\haydn\\haydn_33_3.mid\n",
      "Happening of 220 filename =  after mid-term\\dataset\\dataset\\haydn\\haydn_7_2.mid\n",
      "Happening of 221 filename =  after mid-term\\dataset\\dataset\\liszt\\liz_et4.mid\n"
     ]
    },
    {
     "name": "stderr",
     "output_type": "stream",
     "text": [
      "c:\\Users\\sajjan\\anaconda3\\envs\\tf\\lib\\site-packages\\music21\\midi\\translate.py:863: TranslateWarning: Unable to determine instrument from <music21.midi.MidiEvent SEQUENCE_TRACK_NAME, track=5, channel=None, data=b'Copyright \\xa9 2004 by Bernd Kr\\xfcger'>; getting generic Instrument\n",
      "  warnings.warn(\n"
     ]
    },
    {
     "name": "stdout",
     "output_type": "stream",
     "text": [
      "Happening of 222 filename =  after mid-term\\dataset\\dataset\\liszt\\liz_et6.mid\n"
     ]
    },
    {
     "name": "stderr",
     "output_type": "stream",
     "text": [
      "c:\\Users\\sajjan\\anaconda3\\envs\\tf\\lib\\site-packages\\music21\\midi\\translate.py:863: TranslateWarning: Unable to determine instrument from <music21.midi.MidiEvent SEQUENCE_TRACK_NAME, track=5, channel=None, data=b'Copyright \\xa9 2006 by Bernd Krueger'>; getting generic Instrument\n",
      "  warnings.warn(\n"
     ]
    },
    {
     "name": "stdout",
     "output_type": "stream",
     "text": [
      "Happening of 223 filename =  after mid-term\\dataset\\dataset\\liszt\\liz_et_trans4.mid\n",
      "Happening of 224 filename =  after mid-term\\dataset\\dataset\\liszt\\liz_et_trans8.mid\n",
      "Happening of 225 filename =  after mid-term\\dataset\\dataset\\liszt\\liz_rhap09.mid\n",
      "Happening of 226 filename =  after mid-term\\dataset\\dataset\\mendelssohn\\mendel_op30_2.mid\n",
      "Happening of 227 filename =  after mid-term\\dataset\\dataset\\mendelssohn\\mendel_op53_5.mid\n",
      "Happening of 228 filename =  after mid-term\\dataset\\dataset\\mendelssohn\\mendel_op62_5.mid\n",
      "Happening of 229 filename =  after mid-term\\dataset\\dataset\\mozart\\mz_331_3.mid\n"
     ]
    },
    {
     "name": "stderr",
     "output_type": "stream",
     "text": [
      "c:\\Users\\sajjan\\anaconda3\\envs\\tf\\lib\\site-packages\\music21\\midi\\translate.py:863: TranslateWarning: Unable to determine instrument from <music21.midi.MidiEvent SEQUENCE_TRACK_NAME, track=5, channel=None, data=b'Copyright \\xa9 2000 by Bernd Kr\\xfcger'>; getting generic Instrument\n",
      "  warnings.warn(\n"
     ]
    },
    {
     "name": "stdout",
     "output_type": "stream",
     "text": [
      "Happening of 230 filename =  after mid-term\\dataset\\dataset\\muss\\muss_6.mid\n"
     ]
    },
    {
     "name": "stderr",
     "output_type": "stream",
     "text": [
      "c:\\Users\\sajjan\\anaconda3\\envs\\tf\\lib\\site-packages\\music21\\midi\\translate.py:863: TranslateWarning: Unable to determine instrument from <music21.midi.MidiEvent SEQUENCE_TRACK_NAME, track=5, channel=None, data=b'Copyright \\xa9 2009 by Bernd Krueger'>; getting generic Instrument\n",
      "  warnings.warn(\n"
     ]
    },
    {
     "name": "stdout",
     "output_type": "stream",
     "text": [
      "Happening of 231 filename =  after mid-term\\dataset\\dataset\\schubert\\schubert_D850_1.mid\n",
      "Happening of 232 filename =  after mid-term\\dataset\\dataset\\schubert\\schubert_D935_3.mid\n"
     ]
    },
    {
     "name": "stderr",
     "output_type": "stream",
     "text": [
      "c:\\Users\\sajjan\\anaconda3\\envs\\tf\\lib\\site-packages\\music21\\midi\\translate.py:863: TranslateWarning: Unable to determine instrument from <music21.midi.MidiEvent SEQUENCE_TRACK_NAME, track=5, channel=None, data=b'Copyright \\xa9 2002 by Bernd Kr\\xfcger'>; getting generic Instrument\n",
      "  warnings.warn(\n"
     ]
    },
    {
     "name": "stdout",
     "output_type": "stream",
     "text": [
      "Happening of 233 filename =  after mid-term\\dataset\\dataset\\schubert\\schub_d960_1.mid\n"
     ]
    },
    {
     "name": "stderr",
     "output_type": "stream",
     "text": [
      "c:\\Users\\sajjan\\anaconda3\\envs\\tf\\lib\\site-packages\\music21\\midi\\translate.py:863: TranslateWarning: Unable to determine instrument from <music21.midi.MidiEvent SEQUENCE_TRACK_NAME, track=4, channel=None, data=b'Copyright \\xa9 1997 by Bernd Krueger'>; getting generic Instrument\n",
      "  warnings.warn(\n"
     ]
    },
    {
     "name": "stdout",
     "output_type": "stream",
     "text": [
      "Happening of 234 filename =  after mid-term\\dataset\\dataset\\schubert\\schuim-2.mid\n",
      "Happening of 235 filename =  after mid-term\\dataset\\dataset\\schubert\\schu_143_1.mid\n",
      "Happening of 236 filename =  after mid-term\\dataset\\dataset\\tschai\\ty_august.mid\n",
      "Happening of 237 filename =  after mid-term\\dataset\\dataset\\tschai\\ty_juni.mid\n",
      "Happening of 238 filename =  after mid-term\\dataset\\dataset\\tschai\\ty_maerz.mid\n",
      "Happening of 239 filename =  after mid-term\\dataset\\dataset\\tschai\\ty_oktober.mid\n"
     ]
    }
   ],
   "source": [
    "all_parsed = get_score(temp_scores)\n",
    "with open('Harmonic_minor.pickle', 'wb') as f:\n",
    "    pickle.dump(all_parsed, f)"
   ]
  },
  {
   "cell_type": "code",
   "execution_count": null,
   "metadata": {},
   "outputs": [],
   "source": [
    "temp3"
   ]
  },
  {
   "cell_type": "code",
   "execution_count": null,
   "metadata": {},
   "outputs": [],
   "source": [
    "temp3.extend(temp2)"
   ]
  },
  {
   "cell_type": "code",
   "execution_count": null,
   "metadata": {},
   "outputs": [],
   "source": [
    "new_list = []\n",
    "for i in temp3:\n",
    "    new_list.extend()"
   ]
  },
  {
   "cell_type": "code",
   "execution_count": null,
   "metadata": {},
   "outputs": [],
   "source": [
    "def round_tempo(number):\n",
    "    if(number>=20 and number<40):\n",
    "        return 30\n",
    "    if(number>=40 and number<60):\n",
    "        return 50\n",
    "    if(number>=60 and number<76):\n",
    "        return 70\n",
    "    if(number>=76 and number<108):\n",
    "        return 92\n",
    "    if(number>=108 and number<120):\n",
    "        return 104\n",
    "    if(number>=120 and number<168):\n",
    "        return 144\n",
    "    if(number>=168 and number<200):\n",
    "        return 184\n",
    "    if(number>=200):\n",
    "        return 210"
   ]
  },
  {
   "cell_type": "code",
   "execution_count": null,
   "metadata": {},
   "outputs": [],
   "source": [
    "def round_chord_durations(number):\n",
    "    if(number>1.25):\n",
    "        return 2\n",
    "    if(number>.30):\n",
    "        return 1.25\n",
    "    if(number>.10):\n",
    "        return 0.3\n",
    "    return 0.1"
   ]
  },
  {
   "cell_type": "code",
   "execution_count": null,
   "metadata": {},
   "outputs": [],
   "source": [
    "def get_chord_and_duration_data(individual_score):\n",
    "    no_of_tracks = len(individual_score.parts)\n",
    "    flags=[0,0,0,0]\n",
    "    chord_duration_data = []\n",
    "    note_and_chord_sequence =[]\n",
    "    \n",
    "    note_and_chord_duration =[]   ## not for now:\n",
    "    all_tempo= []\n",
    "    \n",
    "    #to see the number of tracks:\n",
    "    #print(len(individual_score.parts))\n",
    "    \n",
    "    for element in individual_score.flat:\n",
    "        #print(\"element = \", element, type(element))\n",
    "        \n",
    "        \n",
    "        if isinstance(element, chord.Chord):\n",
    "            flags[0] = flags[0] + 1\n",
    "            if (flags[0] == 1):\n",
    "                note_and_chord_sequence.append('<SOC>') ## Start of Chord\n",
    "                [note_and_chord_sequence.append(pitch.nameWithOctave) for pitch in element.pitches]\n",
    "                note_and_chord_sequence.append('<EOC>') ## End of Chord\n",
    "\n",
    "                chord_duration =str(round_chord_durations(element.duration.quarterLength))\n",
    "                #print (type(element.duration.quarterLength))\n",
    "                note_and_chord_sequence.append(chord_duration)\n",
    "                #print(((pitch.nameWithOctave) for pitch in element.pitches), chord_duration)\n",
    "            elif (flags[0] == no_of_tracks):\n",
    "                flags[0] =0\n",
    "            \n",
    "            \n",
    "            \n",
    "            \n",
    "        elif isinstance(element, note.Note):\n",
    "            flags[1] = flags[1] + 1\n",
    "            if (flags[1] == 1):\n",
    "                [note_and_chord_sequence.append(pitch.nameWithOctave) for pitch in element.pitches]\n",
    "\n",
    "                note_duration = str(round_chord_durations(element.duration.quarterLength))\n",
    "                note_and_chord_sequence.append(note_duration)\n",
    "                #print(((pitch.nameWithOctave) for pitch in element.pitches), note_duration)\n",
    "            elif (flags[1] == no_of_tracks):\n",
    "                flags[1] =0\n",
    "        \n",
    "        \n",
    "        elif isinstance(element, note.Rest):\n",
    "            rest_note_name = element.name\n",
    "            #print(rest_note_name)\n",
    "            \n",
    "            \n",
    "        elif isinstance(element, tempo.MetronomeMark):\n",
    "            flags[2] = flags[2] + 1\n",
    "            if (flags[2] == 1):\n",
    "                tempo_bpm = element.getQuarterBPM()\n",
    "                #note_and_chord_sequence.append(str(round_tempo(tempo_bpm)))\n",
    "                #all_tempo.append(tempo_bpm)\n",
    "                #print(tempo_bpm)\n",
    "            elif (flags[2] == no_of_tracks):\n",
    "                flags[2] =0\n",
    "       \n",
    "        elif isinstance(element,meter.TimeSignature):\n",
    "            flags[3] = flags[3]+1\n",
    "            if(flags[3]==1):\n",
    "                current_time_signature = element.ratioString\n",
    "                #note_and_chord_sequence.append('TS')\n",
    "                #note_and_chord_sequence.append(current_time_signature)\n",
    "            elif(flags[3] == no_of_tracks):\n",
    "                flags[3]= 0\n",
    "            \n",
    "    \n",
    "    #print(\"tempo ko lagi = \" ,np.quantile(all_tempo, .25), np.quantile(all_tempo, .50), np.quantile(all_tempo, .75) )\n",
    "    #print(\"tempo ko lagi max min = \" ,np.max(all_tempo) , np.min(all_tempo)  )\n",
    "    #print(note_and_chord_sequence)\n",
    "    return note_and_chord_sequence"
   ]
  },
  {
   "cell_type": "code",
   "execution_count": null,
   "metadata": {},
   "outputs": [],
   "source": [
    "a_temp2 = get_chord_and_duration_data(temp2)"
   ]
  },
  {
   "cell_type": "code",
   "execution_count": null,
   "metadata": {},
   "outputs": [],
   "source": [
    "a_temp = get_chord_and_duration_data(temp)"
   ]
  },
  {
   "cell_type": "code",
   "execution_count": null,
   "metadata": {},
   "outputs": [],
   "source": [
    "len(a_temp), len(a_temp2)"
   ]
  },
  {
   "cell_type": "code",
   "execution_count": null,
   "metadata": {},
   "outputs": [],
   "source": []
  }
 ],
 "metadata": {
  "kernelspec": {
   "display_name": "Python 3 (ipykernel)",
   "language": "python",
   "name": "python3"
  },
  "language_info": {
   "codemirror_mode": {
    "name": "ipython",
    "version": 3
   },
   "file_extension": ".py",
   "mimetype": "text/x-python",
   "name": "python",
   "nbconvert_exporter": "python",
   "pygments_lexer": "ipython3",
   "version": "3.9.16"
  },
  "vscode": {
   "interpreter": {
    "hash": "a50afa644c776f7a2a60a52e60e30bd38a1de8f1520052de409d0e9c4f2415b8"
   }
  }
 },
 "nbformat": 4,
 "nbformat_minor": 2
}
