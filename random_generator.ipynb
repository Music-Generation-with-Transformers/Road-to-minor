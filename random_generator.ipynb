{
 "cells": [
  {
   "cell_type": "code",
   "execution_count": 7,
   "metadata": {},
   "outputs": [],
   "source": [
    "Chromatic = [1,2,3,4,5,6,7,8,9,10,11,12]\n",
    "Ionian = [1,3,5,6,8,10,12]\n",
    "Dorian = [1,3,4,6,8,10,11]\n",
    "Phrygian = [1,2,4,6,8,9,11]\n",
    "Lydian = [1,3,5,7,8,10,12]\n",
    "Mixolydian = [1,3,5,6,8,10,11]\n",
    "Aeolian = [1,3,4,6,8,9,11]\n",
    "Locrian = [1,2,4,6,7,9,11]\n",
    "\n"
   ]
  },
  {
   "cell_type": "code",
   "execution_count": 8,
   "metadata": {},
   "outputs": [],
   "source": [
    "keyList = ['C', 'C#', 'D', 'D#', 'E', 'F', 'F#', 'G', 'G#', 'A', 'A#', 'B']\n",
    "new_keyList = []\n",
    "# looping thru all letters\n",
    "for key in keyList:\n",
    "    # add capital letter to list\n",
    "    new_keyList.append(key)\n",
    "    # add corresponding small letter\n",
    "    new_keyList.append(key.lower())\n",
    "\n",
    "\n",
    "\n",
    "\n",
    "\n",
    "# update the keylist with both small and capital \n",
    "keyList = new_keyList\n",
    "#list of lists of modes\n",
    "modeList = [Ionian, Dorian, Phrygian, Lydian, Mixolydian, Aeolian, Locrian]\n",
    "modeNameList = ['Ionian', 'Dorian', 'Phrygian', 'Lydian', 'Mixolydian', 'Aeolian', 'Locrian']\n"
   ]
  },
  {
   "cell_type": "code",
   "execution_count": 9,
   "metadata": {},
   "outputs": [],
   "source": [
    "while True:\n",
    "    key = input('enter the key')\n",
    "    if key in keyList:\n",
    "        break\n",
    "    else:\n",
    "        print ('invalid key in music, plz try again') \n",
    "\n",
    "\n",
    "\n",
    "\n",
    "\n",
    "while True:\n",
    "    mode = input('enter the mode')\n",
    "    lowercase_text = mode.lower()\n",
    "    # make first letter capital\n",
    "    mode = lowercase_text.capitalize()\n",
    "    if mode in modeNameList:\n",
    "        \n",
    "        break\n",
    "    else:\n",
    "        print('you entered non sense mode, plz enter the fundamental mode only with correct spelling if you have not')\n",
    "    \n",
    "\n",
    "\n",
    "\n",
    "\n",
    "\n",
    "\n",
    "# input time Signature\n",
    "options =['1','2']\n",
    "while True:\n",
    "    timeSig = input('enter the time signature: \\n 1. 4/4 \\n 2. 3/4')\n",
    "    if timeSig in options:\n",
    "        break\n",
    "    else:\n",
    "        print ('invalid input, plz choose the options only') \n",
    "\n",
    "tempo = input('enter the tempo in beats per minute')\n",
    "duration = input('enter the time duration in seconds')\n"
   ]
  },
  {
   "cell_type": "code",
   "execution_count": 10,
   "metadata": {},
   "outputs": [
    {
     "name": "stdout",
     "output_type": "stream",
     "text": [
      "c Dorian 1 100 10\n"
     ]
    }
   ],
   "source": [
    "print(key,mode,timeSig,tempo,duration)"
   ]
  },
  {
   "cell_type": "code",
   "execution_count": 11,
   "metadata": {},
   "outputs": [
    {
     "name": "stdout",
     "output_type": "stream",
     "text": [
      "Requirement already satisfied: librosa in c:\\users\\prabin\\appdata\\local\\programs\\python\\python310\\lib\\site-packages (0.9.2)\n",
      "Requirement already satisfied: packaging>=20.0 in c:\\users\\prabin\\appdata\\local\\programs\\python\\python310\\lib\\site-packages (from librosa) (23.0)\n",
      "Requirement already satisfied: resampy>=0.2.2 in c:\\users\\prabin\\appdata\\local\\programs\\python\\python310\\lib\\site-packages (from librosa) (0.4.2)\n",
      "Requirement already satisfied: numba>=0.45.1 in c:\\users\\prabin\\appdata\\local\\programs\\python\\python310\\lib\\site-packages (from librosa) (0.56.4)\n",
      "Requirement already satisfied: soundfile>=0.10.2 in c:\\users\\prabin\\appdata\\local\\programs\\python\\python310\\lib\\site-packages (from librosa) (0.11.0)\n",
      "Requirement already satisfied: joblib>=0.14 in c:\\users\\prabin\\appdata\\local\\programs\\python\\python310\\lib\\site-packages (from librosa) (1.2.0)\n",
      "Requirement already satisfied: scipy>=1.2.0 in c:\\users\\prabin\\appdata\\local\\programs\\python\\python310\\lib\\site-packages (from librosa) (1.10.0)\n",
      "Requirement already satisfied: decorator>=4.0.10 in c:\\users\\prabin\\appdata\\local\\programs\\python\\python310\\lib\\site-packages (from librosa) (5.1.1)\n",
      "Requirement already satisfied: pooch>=1.0 in c:\\users\\prabin\\appdata\\local\\programs\\python\\python310\\lib\\site-packages (from librosa) (1.6.0)\n",
      "Requirement already satisfied: scikit-learn>=0.19.1 in c:\\users\\prabin\\appdata\\local\\programs\\python\\python310\\lib\\site-packages (from librosa) (1.2.0)\n",
      "Requirement already satisfied: audioread>=2.1.9 in c:\\users\\prabin\\appdata\\local\\programs\\python\\python310\\lib\\site-packages (from librosa) (3.0.0)\n",
      "Requirement already satisfied: numpy>=1.17.0 in c:\\users\\prabin\\appdata\\local\\programs\\python\\python310\\lib\\site-packages (from librosa) (1.23.5)\n",
      "Requirement already satisfied: setuptools in c:\\users\\prabin\\appdata\\local\\programs\\python\\python310\\lib\\site-packages (from numba>=0.45.1->librosa) (58.1.0)\n",
      "Requirement already satisfied: llvmlite<0.40,>=0.39.0dev0 in c:\\users\\prabin\\appdata\\local\\programs\\python\\python310\\lib\\site-packages (from numba>=0.45.1->librosa) (0.39.1)\n",
      "Requirement already satisfied: requests>=2.19.0 in c:\\users\\prabin\\appdata\\local\\programs\\python\\python310\\lib\\site-packages (from pooch>=1.0->librosa) (2.28.2)\n",
      "Requirement already satisfied: appdirs>=1.3.0 in c:\\users\\prabin\\appdata\\local\\programs\\python\\python310\\lib\\site-packages (from pooch>=1.0->librosa) (1.4.4)\n",
      "Requirement already satisfied: threadpoolctl>=2.0.0 in c:\\users\\prabin\\appdata\\local\\programs\\python\\python310\\lib\\site-packages (from scikit-learn>=0.19.1->librosa) (3.1.0)\n",
      "Requirement already satisfied: cffi>=1.0 in c:\\users\\prabin\\appdata\\local\\programs\\python\\python310\\lib\\site-packages (from soundfile>=0.10.2->librosa) (1.15.1)\n",
      "Requirement already satisfied: pycparser in c:\\users\\prabin\\appdata\\local\\programs\\python\\python310\\lib\\site-packages (from cffi>=1.0->soundfile>=0.10.2->librosa) (2.21)\n",
      "Requirement already satisfied: urllib3<1.27,>=1.21.1 in c:\\users\\prabin\\appdata\\local\\programs\\python\\python310\\lib\\site-packages (from requests>=2.19.0->pooch>=1.0->librosa) (1.26.14)\n",
      "Requirement already satisfied: charset-normalizer<4,>=2 in c:\\users\\prabin\\appdata\\local\\programs\\python\\python310\\lib\\site-packages (from requests>=2.19.0->pooch>=1.0->librosa) (3.0.1)\n",
      "Requirement already satisfied: idna<4,>=2.5 in c:\\users\\prabin\\appdata\\local\\programs\\python\\python310\\lib\\site-packages (from requests>=2.19.0->pooch>=1.0->librosa) (3.4)\n",
      "Requirement already satisfied: certifi>=2017.4.17 in c:\\users\\prabin\\appdata\\local\\programs\\python\\python310\\lib\\site-packages (from requests>=2.19.0->pooch>=1.0->librosa) (2022.12.7)\n",
      "Note: you may need to restart the kernel to use updated packages.\n"
     ]
    }
   ],
   "source": [
    "pip install librosa\n"
   ]
  },
  {
   "cell_type": "code",
   "execution_count": 12,
   "metadata": {},
   "outputs": [],
   "source": [
    "import librosa as lib\n",
    "import librosa.display\n"
   ]
  },
  {
   "cell_type": "code",
   "execution_count": 14,
   "metadata": {},
   "outputs": [],
   "source": [
    "duration = int(duration)\n",
    "tempo = int(tempo)\n",
    "beats = (duration/60) * tempo"
   ]
  },
  {
   "cell_type": "code",
   "execution_count": null,
   "metadata": {},
   "outputs": [],
   "source": []
  }
 ],
 "metadata": {
  "kernelspec": {
   "display_name": "Python 3",
   "language": "python",
   "name": "python3"
  },
  "language_info": {
   "codemirror_mode": {
    "name": "ipython",
    "version": 3
   },
   "file_extension": ".py",
   "mimetype": "text/x-python",
   "name": "python",
   "nbconvert_exporter": "python",
   "pygments_lexer": "ipython3",
   "version": "3.10.4 (tags/v3.10.4:9d38120, Mar 23 2022, 23:13:41) [MSC v.1929 64 bit (AMD64)]"
  },
  "orig_nbformat": 4,
  "vscode": {
   "interpreter": {
    "hash": "928db57fa97364b9b019f963370c1fdf7d3044b94bbfb1c70c9a3a5d485d1578"
   }
  }
 },
 "nbformat": 4,
 "nbformat_minor": 2
}
