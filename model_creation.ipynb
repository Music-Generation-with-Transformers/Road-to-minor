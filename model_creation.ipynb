{
 "cells": [
  {
   "cell_type": "code",
   "execution_count": 1,
   "id": "a34c33f4",
   "metadata": {},
   "outputs": [],
   "source": [
    "from music21 import *\n",
    "import random, glob"
   ]
  },
  {
   "cell_type": "code",
   "execution_count": 73,
   "id": "9184e27e",
   "metadata": {},
   "outputs": [],
   "source": [
    "#defining function to read MIDI files\n",
    "def read_midi(file):\n",
    "    \n",
    "    print(\"Loading Music File:\",file)\n",
    "    \n",
    "    notes=[]\n",
    "    chords=[]\n",
    "    notes_to_parse = None\n",
    "    \n",
    "    #parsing a midi file\n",
    "    midi = converter.parse(file)\n",
    "    print(\"midi : \" ,midi )\n",
    "  \n",
    "    #grouping based on different instruments\n",
    "    s2 = instrument.partitionByInstrument(midi)\n",
    "    #print(\"s2 = \", s2.parts)\n",
    "\n",
    "    #Looping over all the instruments\n",
    "    for part in s2.parts:\n",
    "        print(\"part = \", part)\n",
    "    \n",
    "        #select elements of only piano\n",
    "        if 'Piano' in str(part): \n",
    "        \n",
    "            notes_to_parse = part.recurse()\n",
    "            print(\"notes_to_parse = \" , notes_to_parse)\n",
    "      \n",
    "            #finding whether a particular element is note or a chord\n",
    "            for element in notes_to_parse:\n",
    "                \n",
    "                #print(\"element = \", element, \"  type = \", type(element))\n",
    "                \n",
    "                #note\n",
    "                if isinstance(element, note.Note):\n",
    "                    #print(\"Note done here\")\n",
    "                    notes.append(str(element.pitch))\n",
    "                \n",
    "                #chord\n",
    "                elif isinstance(element, chord.Chord):\n",
    "                    #print(\"chord done\")\n",
    "                    #print(\"element = \", element, \"  type = \", type(element))\n",
    "                    #print(\"element.normalOrder = \",element.normalOrder )\n",
    "                    #for n in element.normalOrder:\n",
    "                        #print(\"n = \" ,n)\n",
    "                    notes.append('.'.join(str(n) for n in element.normalOrder))\n",
    "                    \n",
    "    \n",
    "    #print(notes,\"change\")\n",
    "    #print(chords)\n",
    "    print(notes)\n",
    "    \n",
    "    return np.array(notes)"
   ]
  },
  {
   "cell_type": "code",
   "execution_count": 74,
   "id": "f0137734",
   "metadata": {},
   "outputs": [
    {
     "name": "stdout",
     "output_type": "stream",
     "text": [
      "Loading Music File: dataset/bach\\bach_846.mid\n",
      "midi :  <music21.stream.Score 0x25dcfdc3880>\n",
      "part =  <music21.stream.Part Piano right>\n",
      "notes_to_parse =  <music21.stream.iterator.RecursiveIterator for Part:Piano right @:0>\n",
      "part =  <music21.stream.Part Piano>\n",
      "notes_to_parse =  <music21.stream.iterator.RecursiveIterator for Part:Piano @:0>\n",
      "part =  <music21.stream.Part Piano left>\n",
      "notes_to_parse =  <music21.stream.iterator.RecursiveIterator for Part:Piano left @:0>\n",
      "['C4', 'E4', 'G4', 'C5', 'E5', 'G4', 'C5', 'E5', 'C4', 'E4', 'G4', 'C5', 'E5', 'G4', 'C5', 'E5', 'C4', 'D4', 'A4', 'D5', 'F5', 'A4', 'D5', 'F5', 'C4', 'D4', 'A4', 'D5', 'F5', 'A4', 'D5', 'F5', 'B3', 'D4', 'G4', 'D5', 'F5', 'G4', 'D5', 'F5', 'B3', 'D4', 'G4', 'D5', 'F5', 'G4', 'D5', 'F5', 'C4', 'E4', 'G4', 'C5', 'E5', 'G4', 'C5', 'E5', 'C4', 'E4', 'G4', 'C5', 'E5', 'G4', 'C5', 'E5', 'C4', 'E4', 'A4', 'E5', 'A5', 'A4', 'E5', 'A5', 'C4', 'E4', 'A4', 'E5', 'A5', 'A4', 'E5', 'A5', 'C4', 'D4', 'F#4', 'A4', 'D5', 'F#4', 'A4', 'D5', 'C4', 'D4', 'F#4', 'A4', 'D5', 'F#4', 'A4', 'D5', 'B3', 'D4', 'G4', 'D5', 'G5', 'G4', 'D5', 'G5', 'B3', 'D4', 'G4', 'D5', 'G5', 'G4', 'D5', 'G5', 'B3', 'C4', 'E4', 'G4', 'C5', 'E4', 'G4', 'C5', 'B3', 'C4', 'E4', 'G4', 'C5', 'E4', 'G4', 'C5', 'A3', 'C4', 'E4', 'G4', 'C5', 'E4', 'G4', 'C5', 'A3', 'C4', 'E4', 'G4', 'C5', 'E4', 'G4', 'C5', 'D3', 'A3', 'D4', 'F#4', 'C5', 'D4', 'F#4', 'C5', 'D3', 'A3', 'D4', 'F#4', 'C5', 'D4', 'F#4', 'C5', 'G3', 'B3', 'D4', 'G4', 'B4', 'D4', 'G4', 'B4', 'G3', 'B3', 'D4', 'G4', 'B4', 'D4', 'G4', 'B4', 'G3', 'B-3', 'E4', 'G4', 'C#5', 'E4', 'G4', 'C#5', 'G3', 'B-3', 'E4', 'G4', 'C#5', 'E4', 'G4', 'C#5', 'F3', 'A3', 'D4', 'A4', 'D5', 'D4', 'A4', 'D5', 'F3', 'A3', 'D4', 'A4', 'D5', 'D4', 'A4', 'D5', 'F3', 'G#3', 'D4', 'F4', 'B4', 'D4', 'F4', 'B4', 'F3', 'G#3', 'D4', 'F4', 'B4', 'D4', 'F4', 'B4', 'E3', 'G3', 'C4', 'G4', 'C5', 'C4', 'G4', 'C5', 'E3', 'G3', 'C4', 'G4', 'C5', 'C4', 'G4', 'C5', 'E3', 'F3', 'A3', 'C4', 'F4', 'A3', 'C4', 'F4', 'E3', 'F3', 'A3', 'C4', 'F4', 'A3', 'C4', 'F4', 'D3', 'F3', 'A3', 'C4', 'F4', 'A3', 'C4', 'F4', 'D3', 'F3', 'A3', 'C4', 'F4', 'A3', 'C4', 'F4', 'G2', 'D3', 'G3', 'B3', 'F4', 'G3', 'B3', 'F4', 'G2', 'D3', 'G3', 'B3', 'F4', 'G3', 'B3', 'F4', 'C3', 'E3', 'G3', 'C4', 'E4', 'G3', 'C4', 'E4', 'C3', 'E3', 'G3', 'C4', 'E4', 'G3', 'C4', 'E4', 'C3', 'G3', 'B-3', 'C4', 'E4', 'B-3', 'C4', 'E4', 'C3', 'G3', 'B-3', 'C4', 'E4', 'B-3', 'C4', 'E4', 'F2', 'F3', 'A3', 'C4', 'E4', 'A3', 'C4', 'E4', 'F2', 'F3', 'A3', 'C4', 'E4', 'A3', 'C4', 'E4', 'F#2', 'C3', 'A3', 'C4', 'E-4', 'A3', 'C4', 'E-4', 'F#2', 'C3', 'A3', 'C4', 'E-4', 'A3', 'C4', 'E-4', 'G#2', 'F3', 'B3', 'C4', 'D4', 'B3', 'C4', 'D4', 'G#2', 'F3', 'B3', 'C4', 'D4', 'B3', 'C4', 'D4', 'G2', 'F3', 'G3', 'B3', 'D4', 'G3', 'B3', 'D4', 'G2', 'F3', 'G3', 'B3', 'D4', 'G3', 'B3', 'D4', 'G2', 'E3', 'G3', 'C4', 'E4', 'G3', 'C4', 'E4', 'G2', 'E3', 'G3', 'C4', 'E4', 'G3', 'C4', 'E4', 'G2', 'D3', 'G3', 'C4', 'F4', 'G3', 'C4', 'F4', 'G2', 'D3', 'G3', 'C4', 'F4', 'G3', 'C4', 'F4', 'G2', 'D3', 'G3', 'B3', 'F4', 'G3', 'B3', 'F4', 'G2', 'D3', 'G3', 'B3', 'F4', 'G3', 'B3', 'F4', 'G2', 'E-3', 'A3', 'C4', 'F#4', 'A3', 'C4', 'F#4', 'G2', 'E-3', 'A3', 'C4', 'F#4', 'A3', 'C4', 'F#4', 'G2', 'E3', 'G3', 'C4', 'G4', 'G3', 'C4', 'G4', 'G2', 'E3', 'G3', 'C4', 'G4', 'G3', 'C4', 'G4', 'G2', 'D3', 'G3', 'C4', 'F4', 'G3', 'C4', 'F4', 'G2', 'D3', 'G3', 'C4', 'F4', 'G3', 'C4', 'F4', 'G2', 'D3', 'G3', 'B3', 'F4', 'G3', 'B3', 'F4', 'G2', 'D3', 'G3', 'B3', 'F4', 'G3', 'B3', 'F4', 'C2', 'C3', 'G3', 'B-3', 'E4', 'G3', 'B-3', 'E4', 'C2', 'C3', 'G3', 'B-3', 'E4', 'G3', 'B-3', 'E4', '0', 'F3', 'A3', 'C4', 'F4', 'C4', 'A3', 'C4', 'A3', 'F3', 'A3', 'F3', 'D3', 'F3', 'D3', '0.2', 'G4', 'B4', 'D5', 'F5', 'D5', 'B4', 'D5', 'B4', 'G4', 'B4', 'D4', 'F4', 'E4', 'D4', '0.4.7', '0', 'C4', 'D4', 'E4', 'F4', '5.7', 'E4', 'A4', 'D4', 'G4', 'A4', 'G4', 'F4', 'E4', 'F4', 'G4', 'E4', 'D4', 'A4', 'C4', 'D4', 'B4', 'C4', 'B3', 'C5', 'A3', 'F#4', '0.2', 'B4', 'G4', 'E5', 'A4', 'D5', 'F#4', 'E4', 'F#4', 'E5', 'D5', 'D4', 'C5', 'B4', 'G4', 'G4', 'A4', 'F4', 'G3', 'B4', 'C5', 'E4', 'A3', 'B4', 'C5', 'D4', 'B3', 'D5', 'E5', 'C4', 'C4', 'D5', 'E5', 'F#5', '0.2', 'G5', 'B3', 'B4', 'G4', 'E4', 'C5', 'G4', 'A3', 'A4', 'F4', 'D4', 'E4', 'D5', 'F4', 'C5', 'E4', 'B4', 'D4', 'A4', 'C4', 'G4', 'B3', 'F4', 'E4', 'C4', 'C3', 'G4', 'F4', 'D4', 'D3', 'E4', 'F4', 'B-3', 'E3', 'G4', 'A4', 'C4', 'A3', 'F3', 'G4', 'A4', 'F4', 'D4', 'B4', '5.7', 'C5', 'G3', 'E3', 'G4', 'F4', 'C4', 'A3', 'E4', 'F4', 'D3', 'A3', 'D4', 'B3', 'G3', 'C4', 'B4', 'G4', 'D4', 'A3', 'G3', 'F3', 'G4', 'G3', 'E3', 'F3', 'C5', 'E3', 'D3', 'D5', 'C3', 'D3', 'E5', 'G3', 'C3', 'B2', 'F5', 'A3', 'A2', 'B3', 'D3', '5.7', 'E5', 'C4', 'A3', 'A5', 'F#3', '0.2', 'D5', 'B3', 'G3', 'A3', 'G5', 'E4', 'B-3', 'G3', 'A3', 'C#3', 'A5', 'G5', 'D4', 'D3', 'F5', 'E5', 'A3', 'E4', 'A5', 'D4', 'C4', 'B3', 'E3', 'B5', 'A5', 'E4', 'G5', 'F5', 'E4', 'A3', 'B3', 'G4', 'C4', 'D4', 'A4', 'D4', 'C4', 'B3', 'B4', 'A3', 'G3', 'E5', 'C5', 'C4', 'B3', 'C4', 'F#5', '0.2', 'A3', 'G5', 'B4', 'E4', 'D4', 'E5', 'C4', 'B3', 'G5', 'A4', 'C4', 'A3', 'D5', 'B3', 'C4', 'F#5', 'D4', 'E5', 'C4', 'D5', 'B3', 'C5', 'A3', 'G5', 'B4', 'G3', 'F5', 'E5', 'G2', 'D5', 'C5', 'A2', 'D5', 'C5', 'D4', 'B2', 'B4', 'A4', 'E4', 'C3', 'C5', 'B4', 'F#4', 'A4', '0.2', 'G4', 'B2', 'E3', '7.9', 'F#4', 'A2', 'C5', 'B4', 'D3', 'A4', 'G#4', 'E4', 'E3', 'E5', 'A4', 'D3', 'C3', 'D5', 'A4', 'B2', 'B4', 'C5', 'A4', 'E3', 'B4', 'G4', 'A4', 'F#4', 'F#3', 'G#4', 'A4', 'F4', 'G#3', 'D3', 'B4', 'C5', 'E4', 'A3', 'C3', 'F#4', 'A4', 'D4', 'F3', 'G#4', '9.11', 'B4', 'G#3', 'E4', 'A4', 'F#4', 'C4', 'E3', 'B4', 'G#4', 'C5', 'A4', 'F#3', 'E3', 'G#4', 'F5', 'A4', 'B3', 'D3', 'B4', 'E5', 'G#4', 'F#4', 'C4', 'D5', 'G#4', 'B3', 'E3', 'A4', 'A3', 'B4', 'G#3', 'F3', 'C5', 'A3', 'E3', 'B4', 'D3', '11.0', 'E3', 'B4', 'G#3', 'A4', 'A4', 'A3', 'A2', 'C4', 'D4', 'E4', 'G3', 'F4', 'A3', 'B3', '5.7', 'E4', 'C4', 'A4', '0.2', 'D4', 'B3', 'G4', 'E4', 'G2', 'A3', 'A2', 'A4', 'G4', 'D4', 'B2', 'F4', 'E4', 'C3', 'G4', 'E4', 'G3', '0.2', 'A4', 'F#4', 'D4', 'B2', 'B4', 'G4', 'E3', 'C5', 'G4', 'C4', 'A2', 'F#4', 'A3', 'D3', '0.2', 'B4', 'G#4', 'E4', 'E3', 'C5', 'A4', 'D3', 'C3', 'D5', 'D4', 'B2', 'E5', 'G4', 'B-2', 'F5', 'A4', 'A2', 'B4', 'G2', '5.7', 'E5', 'C5', 'A2', 'A5', 'A3', 'F#3', '0.2', 'D5', 'B4', 'B3', 'G3', 'G5', 'E5', 'C#4', 'E3', 'A4', 'D4', 'D3', 'A5', 'G5', 'D5', 'F5', '2.4', 'E5', 'C4', 'E3', 'E5', 'A5', 'D5', 'F4', 'F3', 'C5', 'D5', 'B4', 'B3', 'G3', 'B-5', 'G5', 'E4', '7.9', 'A5', 'C#5', 'F3', 'F4', 'G5', 'D5', 'E4', 'B-3', 'F5', 'D4', 'G5', 'E5', 'C#4', 'E3', 'F5', 'G5', 'C#5', 'A3', 'E5', 'F5', 'D5', 'G5', 'B-3', '7.9', 'E5', 'A3', '5.7', 'G3', 'A5', 'A4', 'F3', 'C#5', 'E3', 'D5', 'A3', 'F3', 'G5', 'D3', '4.5', 'B3', 'G3', 'E5', 'E4', 'C#4', 'A3', 'D5', 'D5', 'F#4', 'D4', 'D3', 'G4', '2.4', 'A4', 'C4', 'F#4', '9.11', 'G4', 'B3', 'D3', 'E3', 'C5', 'E4', 'D3', 'C3', 'F#4', 'B2', 'F#4', 'A2', 'B4', 'E4', 'G2', 'D4', 'F#2', 'C4', 'E2', 'C5', 'B4', 'E3', 'A4', 'G4', 'F#3', 'F#4', 'G4', 'E4', 'G3', 'D4', 'A4', 'E4', 'C4', 'G3', 'D4', 'B4', 'C4', 'A3', 'B3', 'G3', 'C5', 'D4', 'A3', 'F#3', 'G3', 'A3', 'D3', '0.2', 'F#3', 'B4', 'G3', 'G3', 'A4', 'E5', 'G4', 'B3', 'F4', 'A4', 'E4', 'C4', 'G4', 'D5', 'F4', 'D4', 'A4', 'D5', 'G4', 'E4', 'G3', 'E5', 'D5', 'C5', '4.5', 'B4', 'D4', 'C5', 'A4', 'D5', 'B-4', 'G4', 'E5', 'F5', 'C5', 'C4', 'A3', 'G5', 'A5', 'F4', 'G5', 'F5', 'D5', 'B3', 'E5', 'G4', 'D5', 'G4', 'F4', 'C4', 'C5', 'E4', 'B4', 'G4', 'D4', 'F3', 'A3', 'G3', 'F3', 'C5', 'E4', 'E3', 'D3', 'D5', 'F4', 'D4', 'C3', 'B2', 'G4', 'C3', 'D3', 'C5', 'E4', 'G3', 'E3', 'F3', 'D4', 'G3', 'B4', 'G2', 'C5', 'E4', 'G3', 'C3', 'A4', 'C3', 'B4', 'D3', 'B-4', 'G4', 'E3', 'A4', 'F3', 'D5', 'F4', '5.7', 'G4', 'E3', 'C5', 'A4', 'A3', 'D5', 'B-4', 'D3', 'C3', 'E5', 'G3', '10.0', 'F5', 'A4', 'A3', 'D5', 'G3', 'F3', 'G4', 'E3', 'A5', 'D3', 'G5', 'C5', 'E3', 'F5', 'F3', 'E5', 'G3', 'F5', 'D5', 'A3', 'E5', 'C5', 'B-3', 'D5', 'B-4', 'G3', 'C5', 'A4', 'A3', 'C3', 'B-4', 'E3', 'A4', 'F3', 'G4', 'G3', 'F4', 'A3', 'G4', 'B3', 'F4', 'C4', 'E4', 'A3', 'D4', 'B3', '7.9', 'B4', 'C5', 'D5', 'E5', 'F5', 'G4', '0.2', 'F5', 'A4', 'C4', 'C3', '4.5', 'G5', 'A5', 'F5', 'D5', 'B5', '7.0', 'E5']\n",
      "Loading Music File: dataset/bach\\bach_847.mid\n"
     ]
    },
    {
     "name": "stdout",
     "output_type": "stream",
     "text": [
      "midi :  <music21.stream.Score 0x25dcab34070>\n",
      "part =  <music21.stream.Part Piano right>\n",
      "notes_to_parse =  <music21.stream.iterator.RecursiveIterator for Part:Piano right @:0>\n",
      "part =  <music21.stream.Part Piano>\n",
      "notes_to_parse =  <music21.stream.iterator.RecursiveIterator for Part:Piano @:0>\n",
      "part =  <music21.stream.Part Piano left>\n",
      "notes_to_parse =  <music21.stream.iterator.RecursiveIterator for Part:Piano left @:0>\n",
      "['0.3', 'C3', '5.7', 'D4', 'E-4', '3.7', '0.3', 'G3', '2.3', '5.7', '0.3', '7.0', '2.3', 'F3', 'G3', 'C4', '3.7', 'E-4', '2.3', 'F3', 'G3', 'G#4', '8.0', '4.5', 'G3', 'F4', '5.8', 'C4', 'F4', 'G#3', 'E4', 'G3', 'F4', 'G#3', 'G#4', 'C3', 'F4', 'G#3', '4.5', 'G3', 'G#3', '0.5', '5.8', '4.5', 'G3', 'G#3', 'B4', '8.0', 'F4', '3.5', '7.8', 'D4', '5.8', '3.5', 'G3', 'F4', 'G#3', '5.11', '8.0', 'E-4', 'G3', '2.5', '5.8', '3.5', 'G#3', '7.8', 'F4', 'C5', '0.3', 'G4', '5.7', '2.3', '3.7', '3.7', 'F4', 'D3', 'G4', 'E-3', 'C5', '0.3', '5.7', '2.3', '3.7', 'G3', 'G4', '2.3', '5.7', 'E-3', 'E-5', 'C3', 'G#4', 'C4', 'G4', '10.0', '3.8', '8.0', '7.8', 'B-3', 'G#4', 'C4', 'E-5', '0', 'G#4', '7.8', '10.0', 'E-4', '8.0', '7.8', 'B-3', 'G#4', 'C4', 'D5', 'C3', '4.6', '7.9', 'F#4', '6.9', 'D4', 'F#4', 'A3', '4.6', '7.9', '2.6', '9.0', '4.6', 'G3', 'A3', '2.6', 'F#3', '7.9', 'E4', 'F#4', 'A3', '2.7', '10', '6.7', '9.10', '2.7', '7.10', 'F#4', '9.10', 'G4', 'D5', '10', '6.7', '9.10', 'G4', '2.7', '7.10', '6.7', '9.10', 'C5', 'B-2', '2.4', 'G3', '5.7', 'E4', 'C4', 'E3', '2.4', 'G3', '5.7', 'E4', 'C5', '7.10', 'E4', 'D4', 'F3', '0.4', '4.7', 'E4', '5.7', 'D4', 'E4', 'G3', 'C5', 'G#2', 'F4', '7.8', '4.5', '5.8', 'C4', 'F4', 'G#3', '4.5', '7.8', 'C5', 'G#2', 'F4', '7.8', 'E4', '0.5', '5.8', '4.5', 'G#3', 'G3', 'F4', 'G#3', 'B-4', 'G#2', '3.5', '0.2', 'F4', '2.5', 'D4', '3.5', 'D3', '0.2', 'F4', '5.10', '2.8', '3.5', '0.2', 'D4', 'F3', '3.5', 'D3', '0.2', 'F4', 'B-4', '3.7', '5.7', '2.3', '3.7', 'G3', 'G4', 'E-3', '5.7', '2.3', '7.10', 'G2', 'E-3', '5.7', 'D3', '3.7', 'E-4', '5.7', 'E-3', '2.3', 'G4', '7.8', 'C3', '2.3', 'F4', 'G4', 'E-3', 'E-4', '3.8', 'G4', '5.7', 'D3', 'E-3', 'G#4', 'C3', '5.7', '2.3', 'G4', 'E-3', 'E-4', 'G#3', 'G4', 'E-3', '5.7', '2.3', 'G#4', '2.5', '0.2', '3.5', '10.2', 'G#3', '0.2', '3.5', 'D4', 'F3', 'G#4', 'D3', '0.2', 'F3', 'E-3', 'D4', 'F3', '10.2', '5.8', '0.2', '3.5', '7.10', '3.7', '8.10', 'F3', '7.8', '10.3', '5.7', '8.10', 'G3', 'G4', '3.7', '8.10', '5.7', '10.3', '7.8', 'B-3', '8.10', '5.7', 'F4', 'E-3', 'C4', 'A3', '10.0', '7.9', 'A3', '5.9', 'C4', 'B-3', '7.9', 'C4', '0.5', 'E-3', 'A3', '10.0', '7.9', '9.0', 'F3', '7.9', '10.0', 'A3', '2.5', 'D3', 'F3', 'C4', '3.5', 'D4', '11.2', 'G#3', 'F3', 'C4', '3.5', 'D4', 'F4', '2.5', '0.2', 'E-3', 'D4', '5.8', 'B3', '0.2', 'F3', '3.5', 'D4', 'F4', '0.5', '0.2', 'E3', '11.2', 'F3', 'G#3', 'D4', 'F3', '0.2', '4.5', '2.5', '0.5', '0.2', 'E3', '5.8', 'B3', '0.2', '4.5', 'D4', 'F3', '0.3', 'C3', 'E-3', 'B3', 'D3', 'C4', 'E-3', '7.0', 'F3', '2.3', 'B3', 'C4', 'E-3', 'E-4', 'B-2', 'C4', '2.3', '11.0', '3.5', 'G3', '11.0', '2.3', 'C4', 'E-3', 'F3', 'G#2', '2.3', '11.0', 'E-4', 'C3', '3.5', '0.2', 'D4', '11.0', 'E-4', 'F3', '8.0', 'E-4', '2.3', 'B2', 'C3', '3.5', '0.2', '2.3', 'B2', 'C3', '0.6', 'A2', 'E-3', 'B3', 'D3', '0.3', '0.3', '11.0', '2.3', 'C4', 'E-3', 'F#3', 'A2', 'C4', '2.3', '11.0', 'E-3', 'E-4', '0.3', '11.0', '2.3', 'C4', '0.3', 'G2', '2.3', '11.0', 'E-3', 'G3', '3.5', '11.0', 'D3', 'C4', 'E-3', 'E-4', 'G2', 'C4', '2.3', '11.0', 'E-3', 'G3', '3.5', '11.0', '2.3', 'C4', '0.6', 'G2', '2.3', 'B3', '9.0', 'E-3', '0.3', 'C4', '11.0', 'D3', 'E-3', '0.6', 'G2', '2.3', 'B3', '9.0', 'E-3', '0.3', 'C4', '11.0', 'D3', 'E-3', 'G4', 'G2', '11.0', 'E-3', '2.3', '0.2', '3.5', 'C4', '11.0', '2.3', 'G4', 'G2', 'C4', '2.3', 'B3', 'C4', 'E-3', '0.2', 'F3', 'E-3', 'B3', 'D3', 'C4', 'E-3', '8.0', '3.7', '11.0', '2.3', '0.2', 'F3', 'E-3', '11.0', 'D3', 'E-3', 'G#4', 'G2', '11.0', '2.3', '0.2', '3.5', '11.0', 'E-3', '2.3', 'C4', 'G2', 'B2', 'D3', 'F3', 'G#3', 'F3', 'E3', 'F3', 'B3', 'F3', 'D4', 'B3', 'G#3', 'F3', 'E3', 'F3', 'G2', 'C3', 'E-3', 'G3', 'C4', 'G3', 'F#3', 'G3', 'E-4', 'C4', 'G4', 'E-4', 'C4', 'G#3', 'G3', 'G#3', 'G2', 'A2', 'F#3', 'C4', 'E-4', 'C4', 'B3', 'C4', 'F#4', 'C4', 'A4', 'F#4', 'E-4', 'C4', 'B3', 'C4', 'G2', 'D5', 'C5', 'D5', 'E-5', 'C5', 'B4', 'C5', 'A4', 'C5', 'B4', 'C5', 'D5', 'B4', 'A4', 'B4', 'G4', 'G2', 'B4', 'D4', 'A4', 'C4', 'B4', 'D4', 'C5', 'E-4', 'A4', 'C4', 'G4', 'B3', 'A4', 'C4', 'F#4', 'A3', 'A4', 'C4', 'G4', 'B3', 'A4', 'C4', 'B4', 'D4', 'G4', 'B3', 'F#4', 'A3', 'G4', 'B3', 'D4', 'G3', 'G5', 'B3', 'F5', 'A3', 'G5', 'B3', 'G#5', 'C4', 'F5', 'G#3', 'E-5', 'G3', 'F5', 'G#3', 'D5', 'F3', 'F5', 'A3', 'E-5', 'G3', 'F5', 'A3', 'G5', 'B3', 'E-5', 'G3', 'D5', 'F3', 'E-5', 'G3', 'C5', 'E-3', 'E-5', 'G4', 'D5', 'F4', 'E-5', 'G4', 'F5', 'G#4', 'D5', 'F4', 'C5', 'E-4', 'D5', 'F4', 'B4', 'D4', 'D5', 'F4', 'C5', 'E-4', 'D5', 'F4', 'E-5', 'G4', 'C5', 'E-4', 'B4', 'D4', 'C5', 'E-4', 'G4', 'C4', 'C5', 'E-4', 'B4', 'D4', 'C5', 'E-4', 'G#4', 'F4', 'F5', 'D4', 'E-5', 'C4', 'F5', 'D4', 'G4', 'E-4', 'E-5', 'C4', 'D5', 'B3', 'E-5', 'C4', 'F4', 'D4', 'D5', 'B3', 'C5', 'A3', 'D5', 'B3', 'E-4', 'C4', 'C5', 'E-4', 'B4', 'D4', 'C5', 'E-4', 'G#4', 'F3', 'F4', 'D4', 'E-4', 'C4', 'F4', 'D4', 'G4', 'E-3', 'E-4', 'C4', 'D4', 'B3', 'E-4', 'C4', 'F4', 'D3', 'D4', 'B3', 'C4', 'A3', 'D4', 'B3', '0.4', '7.10.0', '0.2', '4.5.7', '8.10.0', '7.8', 'F4', '4.7', 'C4', '4.5', '5.8.0', 'F4', '5.7', '4.5', '7.8', '3.5.7', '2.3.5', '3.5', 'B3', 'C2', 'B2', 'D3', 'F3', 'G#3', 'G3', 'F3', 'B3', 'F3', 'D4', 'F3', 'B3', 'G#3', 'G3', 'F3', 'E3', 'C#4', 'B-3', 'G3', 'C4', 'G#3', 'F3', 'G#3', 'G3', 'B-3', 'G3', 'E3', 'G#3', 'F3', 'D3', 'F3', 'E3', 'G3', 'E3', 'C3', 'F3', 'D3', 'B2', 'D3', 'C2', 'G2', 'C3', 'D3', 'E3', 'G3', 'B-3', 'G3', 'G#3', 'C2', 'C3', 'C4', 'F4', 'D4', 'F4', 'G#4', 'C5', 'B4', 'C5', 'G4', 'F4', 'D4', 'E4', 'C5', 'B4', 'C5', 'G4', 'G#4', 'C5', 'B4', 'C5', 'D5', 'G4', 'C5', 'B4', 'C5', 'D5', 'F4', 'G4', 'G#4', 'G4', 'F4', 'E-4', 'C5', 'G5', 'B4', 'F#5', 'G#4', 'G5', 'G4', 'F4', 'C5', 'E-4', 'D4', 'E-5', 'C4', 'G5', 'E-5', 'F#5', 'G5', 'D5', 'A5', 'C5', 'D5', 'B-4', 'G5', 'A4', 'F#5', 'G5', 'B-4', 'A5', 'C5', 'C5', 'F#4', 'D5', 'E-5', 'G4', 'A4', 'D5', 'F#4', 'C5', 'B-4', 'G4', 'E-5', 'D5', 'E-5', 'C4', 'G4', 'D4', 'E-4', 'G#4', 'F4', 'G4', 'F5', 'G#4', 'E-5', 'F5', 'D4', 'A4', 'E-4', 'F4', 'B-4', 'G4', 'A4', 'G5', 'B-4', 'F5', 'G5', 'E-4', 'B4', 'F4', 'G4', 'C5', 'G#4', 'G4', 'D5', 'F4', 'E-5', 'E-4', 'F5', 'D4', 'C5', 'B4', 'F5', 'C5', 'E-5', 'C4', 'D5', 'B3', 'C5', 'C4', 'B-4', 'G#4', 'G3', 'G4', 'F4', 'G#3', 'G#5', 'F5', 'C4', 'B3', 'G5', 'E-5', 'C4', 'F5', 'D5', 'D4', 'E-5', 'G3', 'D5', 'G#4', 'C4', 'B3', 'E-5', 'G4', 'C4', 'F5', 'F4', 'D4', 'B4', 'G4', 'F3', 'G3', 'C5', 'F4', 'G#3', 'E-4', 'D5', 'F4', 'B4', 'D4', 'G3', 'F3', 'C5', 'G4', 'E-3', 'C4', 'G5', 'B3', 'F#5', 'A3', 'G5', 'G3', 'F3', 'D5', 'B4', 'E-3', 'D3', 'E-5', 'C5', 'C3', 'D3', 'C5', 'E-3', 'B4', 'D3', 'C5', 'C3', 'B-2', 'E5', 'G4', 'G#2', 'G2', 'F5', 'G#4', 'F2', 'B-3', 'F5', 'G#3', 'E5', 'G3', 'F5', 'F3', 'E-3', 'C5', 'A4', 'D3', 'C3', 'D5', 'B-4', 'B-2', 'C3', 'B-4', 'D3', 'A4', 'C3', 'B-4', 'B-2', 'G#2', 'D5', 'F4', 'G2', 'F2', 'E-5', 'G4', 'E-2', 'G#3', 'E-5', 'G3', 'D5', 'F3', 'E-5', 'E-3', 'C#3', 'B-4', 'G4', 'C3', 'B-2', 'C5', 'G#4', 'G#2', 'E-5', 'G#4', 'C4', 'D5', 'E-5', 'G4', 'B-3', 'F5', 'F4', 'G#3', 'B-4', 'G3', 'E-5', 'G#3', 'F3', 'D5', 'E-5', 'B-3', 'G3', 'F5', 'C4', 'G#3', 'G#4', 'D3', 'B-4', 'C5', 'G#3', 'E-3', 'G3', 'G#3', 'F3', 'B-4', 'F3', 'D3', 'G#4', 'G4', 'B-3', 'E-3', 'E-4', 'F4', 'C4', 'G#3', 'G4', 'G#4', 'B-3', 'G3', 'B-4', 'C5', 'G#3', 'F3', 'D5', 'E-5', 'B-3', 'G3', 'D5', 'C5', 'G3', 'F3', 'D5', 'E-5', 'F3', 'D3', 'F5', 'G5', 'E-3', 'C3', 'A5', 'B-5', 'F3', 'D3', 'F4', 'G4', 'C#4', 'B-3', 'G#4', 'B-4', 'C4', 'G#3', 'C5', 'D5', 'B-3', 'G3', 'E5', 'F5', 'C4', 'G#3', 'E-5', 'D5', 'G#3', 'F3', 'E-5', 'F5', 'G3', 'E-3', 'G5', 'A5', 'F3', 'D3', 'B5', 'C6', 'G3', 'E-3', 'B5', 'G4', 'A5', 'F#4', 'G5', 'G4', 'F5', 'E-5', 'C4', 'D5', 'C5', 'E-4', 'E-5', 'G4', 'C3', 'F#4', 'D5', 'G4', 'B-2', 'C5', 'A4', 'A2', 'B-4', 'D4', 'A4', 'G4', 'E-3', 'F#4', 'B-4', 'G4', 'D3', 'C5', 'A4', 'C3', 'F#4', 'C4', 'D3', 'D4', 'G4', 'E-4', 'C3', 'B-2', 'A4', 'C3', 'F#4', 'D4', 'D3', 'C4', 'G4', 'B-3', 'G2', 'D5', 'B-3', 'C5', 'A3', 'D5', 'B-3', 'D4', 'E4', 'D3', 'F#4', 'G4', 'E-3', 'A4', 'E5', 'B-4', 'C4', 'D5', 'B3', 'E5', 'C4', 'E4', 'F4', 'E3', 'G4', 'A4', 'F3', 'B-4', 'F#5', 'C5', 'D4', 'E5', 'C4', 'F#5', 'D4', 'F#4', 'G4', 'F#3', 'A4', 'B-4', 'G3', 'G4', 'E-4', 'F4', 'D4', 'G4', 'E-4', 'G2', 'G3', 'A2', 'B2', 'G#3', 'C3', 'D3', 'A4', 'F4', 'E-3', 'G4', 'E-4', 'A4', 'F4', 'A2', 'A3', 'B-2', 'C3', 'B-3', 'D3', 'E-3', 'B4', 'G4', 'F3', 'A4', 'F4', 'B4', 'G4', 'B2', 'B3', 'C3', 'D3', 'C4', 'E-3', 'F4', 'C5', 'E-4', 'B4', 'D4', 'C5', 'C4', 'B-3', 'G4', 'G#3', 'E3', 'G3', 'G#4', 'F3', 'G#3', 'C5', 'G#4', 'F2', 'B4', 'C5', 'G4', 'E-2', 'D5', 'F4', 'D2', 'G4', 'E-4', 'C5', 'D4', 'G#2', 'B4', 'C5', 'E-4', 'G2', 'D5', 'F4', 'F2', 'F4', 'B3', 'G2', 'G4', 'G#4', 'C4', 'F2', 'E-2', 'D4', 'F2', 'G4', 'B3', 'G2', 'F4', 'E-4', 'C4', 'C3', 'D3', 'C5', 'E-3', 'B4', 'D3', 'C5', 'C3', 'B-2', 'G4', 'E4', 'G#2', 'G2', 'G#4', 'F4', 'F2', 'B-3', 'F4', 'G#3', 'E4', 'G3', 'F4', 'F3', 'E-3', 'A4', 'C4', 'D3', 'C3', 'B-4', 'D4', 'B-2', 'C3', 'B-4', 'D3', 'A4', 'C3', 'B-4', 'B-2', 'G#2', 'F4', 'D4', 'G2', 'F2', 'G4', 'E-4', 'E-2', 'G#3', 'E-4', 'G3', 'D4', 'F3', 'E-4', 'E-3', 'D3', 'G4', 'B-3', 'C3', 'B-2', 'G4', 'C4', 'G#2', 'B-2', 'G#4', 'C3', 'B-4', 'B-2', 'C5', 'G#2', 'B4', 'G2', 'C5', 'F2', 'G#4', 'E-2', 'F4', 'D2', 'G3', 'D4', 'F3', 'E-4', 'E-3', 'F4', 'D3', 'E-4', 'C3', 'F4', 'B2', 'D4', 'A2', 'F4', 'B3', 'G2', 'D5', 'C5', 'D5', 'F4', 'B3', 'E-4', 'C4', 'G2', 'E-5', 'A2', 'D5', 'B2', 'E-5', 'C3', 'D3', 'G4', 'E-4', 'E-3', 'F3', 'F4', 'D4', 'G3', 'F3', 'F5', 'G#3', 'E-5', 'G3', 'F5', 'F3', 'E-3', 'G#4', 'F4', 'D3', 'C3', 'G4', 'B2', 'F5', 'E-5', 'C3', 'D5', 'B2', 'C5', 'C3', 'B4', 'A4', 'F4', 'G2', 'G4', 'C5', 'E-4', 'G#2', 'F5', 'G#4', 'C3', 'B2', 'E-5', 'G4', 'C3', 'D5', 'F4', 'D3', 'E-4', 'G2', 'G#4', 'D4', 'C3', 'B2', 'G4', 'E-4', 'C3', 'F4', 'D3', 'G4', 'B3', 'F2', 'G2', 'F4', 'C4', 'G#2', 'E-4', 'F4', 'D4', 'D4', 'B3', 'G2', 'F2', 'G#4', 'B3', 'E-2', 'G4', 'C4', 'A4', 'C4', 'E-3', 'B4', 'F4', 'D3', 'D4', 'C5', 'E-4', 'C3', 'C4', 'F4', 'G3', 'E-4', 'D4', 'B3', 'G2', 'C4', 'C4', '0', 'C5', 'B4', 'C5', 'G4', 'E4', 'G#4', 'F4', 'C5', 'B4', 'C5', 'D5', '5.8.11', 'G4', 'F4', 'C5', 'E-4', 'B4', 'D4', 'C5', 'E-4', 'D5', '5.8', 'F4', '11.2', 'G4', 'G#4', '11.2', 'G4', 'F4', 'E4', '7.0', '0', '0']\n",
      "Loading Music File: dataset/bach\\bach_850.mid\n"
     ]
    },
    {
     "name": "stdout",
     "output_type": "stream",
     "text": [
      "midi :  <music21.stream.Score 0x25dd32c5640>\n",
      "part =  <music21.stream.Part Piano right>\n",
      "notes_to_parse =  <music21.stream.iterator.RecursiveIterator for Part:Piano right @:0>\n",
      "part =  <music21.stream.Part Piano>\n",
      "notes_to_parse =  <music21.stream.iterator.RecursiveIterator for Part:Piano @:0>\n",
      "part =  <music21.stream.Part Piano left>\n",
      "notes_to_parse =  <music21.stream.iterator.RecursiveIterator for Part:Piano left @:0>\n",
      "['D3', 'D5', 'E5', 'F#5', 'A4', 'D4', 'F#5', 'E5', 'D5', 'A5', 'F#3', 'D5', 'E5', 'F#5', 'A4', 'D4', 'F#5', 'E5', 'D5', 'G5', 'E3', 'E5', 'F#5', 'G5', 'B4', 'D4', 'D5', 'C#5', 'B4', 'C#5', 'A3', 'E5', 'F#5', 'G5', 'A4', 'C#4', 'G5', 'F#5', 'E5', 'F#5', 'D3', 'D5', 'E5', 'F#5', 'A4', 'D4', 'C#5', 'B4', 'A4', 'B4', 'D3', 'D5', 'E5', 'F#5', 'B4', 'D4', 'A5', 'G#5', 'F#5', 'G#5', 'D3', 'E5', 'F#5', 'G#5', 'B4', 'G#3', 'D5', 'C#5', 'B4', 'A4', 'C#3', 'C#5', 'D5', 'E5', 'F#4', 'A3', 'E5', 'D5', 'C#5', 'D5', 'B2', 'B4', 'C#5', 'D5', 'F#4', 'A3', 'A4', 'G#4', 'F#4', 'G#4', 'E3', 'B4', 'C#5', 'D5', 'E4', 'G#3', 'D5', 'C#5', 'B4', 'C#5', 'A2', 'A4', 'B4', 'C#5', 'E4', 'A3', 'G4', 'F#4', 'E4', 'F#4', 'A2', 'A4', 'B4', 'C#5', 'F#4', 'A3', 'E5', 'E-5', 'C#5', 'E-5', 'A2', 'B4', 'C#5', 'E-5', 'F#4', 'E-3', 'A4', 'G4', 'F#4', 'E4', 'G2', 'G4', 'A4', 'B4', 'C#4', 'E3', 'D5', 'C#5', 'B4', 'B-4', 'F#2', 'E4', 'F#4', 'G4', 'C#4', 'F#3', 'G4', 'F#4', 'E4', 'D4', 'F#2', 'B4', 'C#5', 'D5', 'F#4', 'F#3', 'A4', 'G#4', 'F#4', 'F4', 'F#2', 'G#4', 'A4', 'B4', 'F4', 'F#3', 'D5', 'C#5', 'B4', 'G#5', 'F#2', 'F5', 'F#5', 'G#5', 'C#5', 'F#3', 'B5', 'A5', 'G#5', 'A5', 'F#2', 'F#5', 'G#5', 'A5', 'C#5', 'F#3', 'E5', 'E-5', 'C#5', 'E-5', 'B2', 'F#5', 'G5', 'A5', 'B4', 'E-3', 'A5', 'G5', 'F#5', 'G5', 'E2', 'E5', 'F#5', 'G5', 'B4', 'E3', 'D5', 'C5', 'B4', 'C5', 'E2', 'E-5', 'E5', 'F#5', 'A4', 'E-3', 'C5', 'B4', 'A4', 'G4', 'E2', 'E5', 'F#5', 'G5', 'B4', 'E3', 'D5', 'C#5', 'B4', 'C#5', 'A2', 'E5', 'F#5', 'G5', 'A4', 'C#3', 'G5', 'F#5', 'E5', 'F#5', 'D2', 'D5', 'E5', 'F#5', 'A4', 'D3', 'C5', 'B4', 'A4', 'B4', 'D2', 'G4', 'A4', 'B4', 'C#4', 'D3', 'B4', 'A4', 'G4', 'F#4', 'D2', 'D4', 'E4', 'F#4', 'A3', 'D3', 'C4', 'B3', 'A3', 'B3', 'D2', 'D4', 'E4', 'F#4', 'B3', 'D3', 'A4', 'G#4', 'F#4', 'G#4', 'D2', 'E4', 'F#4', 'G#4', 'B3', 'G#3', 'D4', 'C4', 'B3', 'A3', 'C3', 'C4', 'D4', 'E4', 'A3', 'F#3', 'G4', 'F#4', 'E4', 'E-4', 'B2', 'A3', 'B3', 'C4', 'A3', 'E-3', 'C4', 'B3', 'A3', 'G3', 'E3', 'E4', 'F#4', 'G4', 'B3', 'G3', 'D4', 'C#4', 'B3', 'B-3', 'B2', 'C#4', 'D4', 'E4', 'B-3', 'E3', 'G4', 'F#4', 'E4', 'C#5', 'G3', 'B-4', 'B4', 'C#5', 'F#4', 'B-3', 'E5', 'D5', 'C#5', 'D5', 'B2', 'B4', 'C#5', 'D5', 'F#4', 'B3', 'A4', 'G#4', 'F#4', 'G#4', 'E3', 'B4', 'C5', 'D5', 'E4', 'G#3', 'D5', 'C5', 'B4', 'C5', 'A2', 'A4', 'B4', 'C5', 'E4', 'A3', 'G4', 'F#4', 'E4', 'F#4', 'D3', 'A4', 'B4', 'C5', 'D4', 'F#3', 'C5', 'B4', 'A4', 'B4', 'G2', 'G4', 'A4', 'B4', 'D4', 'G3', 'B4', 'A4', 'G4', 'D5', 'B2', 'G4', 'A4', 'B4', 'D4', 'G3', 'B4', 'A4', 'G4', 'C5', 'A2', 'A4', 'B4', 'C5', 'E4', 'G3', 'G4', 'F#4', 'E4', 'F#4', 'D3', 'A4', 'B4', 'C5', 'D4', 'F#3', 'C5', 'B4', 'A4', 'B4', 'G2', 'G4', 'A4', 'B4', 'D4', 'G3', 'F#4', 'E4', 'D4', 'E4', 'G2', 'G4', 'A4', 'B4', 'E4', 'G3', 'D5', 'C#5', 'B4', 'C#5', 'G2', 'A4', 'B4', 'C#5', 'E4', 'C#3', 'G4', 'F#4', 'E4', 'D4', 'F#2', 'F#4', 'G4', 'A4', 'B3', 'D3', 'A4', 'G4', 'F#4', 'G4', 'E2', 'E4', 'F#4', 'G4', 'B3', 'D3', 'D4', 'C#4', 'B3', 'C#4', 'A2', 'E4', 'F#4', 'G4', 'A3', 'C#3', 'G4', 'F#4', 'E4', 'F#4', 'D2', 'D4', 'E4', 'F#4', 'A3', 'D3', 'F#4', 'E4', 'D4', 'A4', 'F#2', 'F#4', 'G4', 'A4', 'D4', 'A3', 'C5', 'B4', 'A4', 'B4', 'G2', 'G4', 'A4', 'B4', 'D4', 'G3', 'B4', 'A4', 'G4', 'D5', 'B2', 'B4', 'C#5', 'D5', 'G#4', 'D4', 'F5', 'E5', 'D5', 'C#5', 'A2', 'A4', 'B4', 'C#5', 'E4', 'G3', 'G4', 'F#4', 'E4', 'A4', 'F#3', 'D5', 'E5', 'F#5', 'B4', 'D3', 'A5', 'G5', 'F#5', 'G5', 'E3', 'A2', 'C#5', 'D5', 'E5', 'A4', 'C#3', 'G5', 'F#5', 'E5', 'F#5', 'D3', 'B4', 'C#5', 'D5', 'G#4', 'B2', 'F#5', 'E5', 'D5', 'C#5', 'A2', 'G4', 'E3', 'A4', 'F#3', 'B-4', 'G3', 'E4', 'C#3', 'G4', 'E3', 'F4', 'D3', 'E4', 'C#3', 'F4', 'D3', 'D5', 'F3', 'E5', 'G3', 'F5', 'A3', 'C#5', 'E3', 'E5', 'G3', 'D5', 'F3', 'C#5', 'E3', 'D5', 'F3', 'B-5', 'D3', 'A5', 'E3', 'G5', 'F3', 'F5', 'A2', 'E5', 'C3', 'D5', 'B-2', 'C#5', 'A2', 'D5', 'G#2', 'F5', 'E5', 'D5', 'B5', 'G#5', 'A5', 'B5', 'F5', 'G#2', 'D5', 'E5', 'F5', 'B4', 'G#4', 'A4', 'B4', 'E4', 'F#4', 'G#4', 'A4', 'B4', 'C#5', 'D5', 'E5', 'F5', 'A2', 'C#5', 'D5', 'A3', 'A4', 'B-4', 'G3', 'G4', 'E5', 'C#3', 'G4', 'A4', 'F3', 'F4', 'D5', 'D3', 'F4', 'G4', 'E3', 'E4', 'C#5', 'G3', 'E4', '2.5.8.9', 'B3', '2.5.8.11', 'D5', '11.1', '8.9', '4.6', '6.8', '9.11', '1.2', '4.5', '2.4', '11.1', '8.9', '4.6', 'D4', '1.4.7.10', '1.4.7.10', '2.5.8.11', '2.5.8.11', '4.9', 'D5', '9', 'E3', 'C#5', 'G3', '2.6.9', '2.6.9', '2.4', '6.7', '4.6', '2.6', 'B3', 'B3', 'A3', 'G3', 'F#3', 'G3', '9.11', 'F#3', '1.2', '11.1', '9.1', 'E3', 'F#4', 'D3', 'F#4', 'E4', 'E3', 'D4', 'C#4', 'A2', '4.6.7', 'F#4', 'A3', 'F#4', 'B3', '11.1.2', 'E4', 'G3', 'D4', 'E4', 'C#4', 'A3', 'G3', '4.6', '2.4', 'D4', 'F#3', '6.7', '4.6', '2.6', 'F#3', 'B4', 'G3', 'B4', 'E3', 'A4', 'C#4', 'A3', 'G4', 'A2', 'F#4', 'D4', 'D3', 'G#4', 'E3', '9.11', 'A4', 'C#4', 'F#3', '1.2', '11.1', '9.1', 'E3', 'F#5', 'B3', 'F#3', 'F#5', 'D3', 'E5', 'G#4', 'E3', 'D5', 'C#5', 'A4', 'A3', 'A2', '4.6.7', 'A5', 'C#5', '6.7', '9.11', '7.9', 'A5', '6.9', 'A5', 'D5', 'B4', '2.4.6', 'G5', 'D5', '4.6', '7.9', '6.7', 'G5', '4.7', 'G5', 'C#5', 'A4', '1.2.4', 'F#5', 'D5', 'A4', '2.4', '6.7', '4.6', 'E5', 'C#5', 'G4', '2.6', 'D5', 'B4', 'F#4', 'B2', 'E5', 'G4', 'B2', 'C#5', 'A4', 'E4', 'A2', 'C#5', 'G2', 'C#5', 'A4', 'D4', 'F#2', '2.4.6', '11.1', 'B4', 'D4', 'G3', '2.4', '1.2', '11.2', 'F#3', 'G5', 'C#4', 'G3', 'G5', 'E3', 'F#5', 'B-4', 'F#3', 'E5', 'D5', 'B4', 'B3', '11.1', '2.4', '1.2', '11.2', 'B5', 'G#3', 'A5', 'B5', 'G#5', 'G#5', 'D5', 'B4', 'F#5', 'G#5', 'E5', 'B4', 'G#4', 'E5', 'B4', 'G#4', 'D5', 'E5', 'C#5', 'A4', 'E4', 'C#5', 'A4', 'E4', '9.11', '1.2', '11.1', '9.1', 'A5', 'F#3', 'G5', 'A5', 'F#5', 'F#5', 'C5', 'A4', 'E5', 'F#5', 'D5', 'A4', 'F#4', 'D5', 'A4', 'F#4', 'C5', 'D5', 'B4', 'G4', 'D4', 'B4', 'G4', 'D4', '7.9', '11.0', '9.11', '7.11', '7.9', 'E3', '11.0', '9.11', '7.11', 'D3', 'E5', 'C3', 'E5', 'D5', 'D3', 'C5', 'B4', 'G3', 'C#5', 'A3', 'D5', '2.4', 'B3', '6.7', '4.6', '2.6', 'A3', 'B4', 'G3', 'B4', 'E3', 'C#5', 'A4', 'A3', 'G4', 'A2', 'D5', 'F#4', '11.1', '2.4', '1.2', 'A4', '11.2', '2.4', 'D5', 'B3', '6.7', '4.6', '2.6', 'A3', 'B5', 'G3', 'B5', 'E3', 'A5', 'C5', 'A3', 'G5', 'A2', 'F#5', 'C5', 'D3', '2.4.6', 'G5', 'B4', '7.9', 'E3', '11.0', '9.11', 'G5', '7.11', 'G5', 'A4', 'E4', 'C4', 'A5', 'E4', 'A3', 'F#5', 'D4', 'F#5', 'C4', 'D3', 'F#5', 'G4', 'B3', 'G3', '3.4', 'E5', 'B4', 'G4', '4.6', '7.9', '6.7', '4.7', 'A4', 'F#4', 'C3', 'E-5', 'C3', 'E5', 'B2', 'F#5', 'A2', 'B4', 'A4', 'F#4', 'G2', '9.0', 'F#2', 'B4', 'G4', 'E4', 'G2', 'C5', 'E4', 'F#3', 'A2', 'G4', 'E4', 'G3', 'B2', 'A3', 'F#4', 'E-4', 'B3', 'A3', '4.6', 'E4', 'G3', 'E3', '7.9', '6.7', '4.7', 'G5', 'B3', 'A3', 'B3', 'G3', 'E4', 'B3', 'G3', 'F#3', 'G3', 'C#4', 'G3', 'E3', 'C#4', 'G3', 'E3', 'D3', 'E3', 'A3', 'E3', 'C#3', '9.11', 'A3', 'E3', 'C#3', '1.2', '11.1', '9.1', 'F#5', 'A3', 'G3', 'A3', 'F#3', 'D4', 'A3', 'F#3', 'E3', 'F#3', 'B3', 'F#3', 'D3', 'B3', 'F#3', 'D3', 'C#3', 'D3', 'G3', 'D3', 'B2', '7.9', 'G3', 'D3', 'B2', '11.0', '9.11', '7.11', 'E5', 'G3', 'F#3', 'G3', 'E3', 'C#4', 'G3', 'E3', 'D3', 'E3', 'A3', 'E3', 'C#3', 'A3', 'E3', 'C#3', 'B2', 'C#3', 'F#3', 'C#3', 'A2', '6.7', 'F#3', 'C#3', 'A2', '9.11', '7.9', '6.9', 'D5', '11.1', '2.4', '1.2', 'D5', '11.2', 'D5', 'G4', '4.6', '7.9', '6.7', 'E5', '4.7', '1.2', '11.1', 'A3', 'C#5', '1.2', '11.1', '2.4', 'A3', 'F#5', 'F#4', 'D4', '2.4', '6.7', '4.6', '2.6', 'B5', 'G3', 'A5', 'B5', 'G5', 'G5', 'D5', 'B4', 'F#5', 'G5', 'E5', 'B4', 'G4', 'E5', 'B4', 'G4', 'D5', 'E5', 'C#5', 'A4', 'E4', 'C#5', '4.9', 'G3', 'G2', 'D5', 'A4', 'F#4', '6.7', '7.9', '4.6', 'D5', 'A4', 'F#4', '1.2', 'D5', 'B4', 'F#4', '11.1', '1.2', '9.11', 'E5', 'B4', 'G4', '7.11', '1.2', 'A4', 'E4', 'A2', '1.2', 'C#5', 'D5', 'A2', 'D5', 'A4', 'F#4', 'D2', '2.4.6', '11.1', 'G3', '2.4', '1.2', '11.2', 'E5', 'B4', 'E4', '1.2', '4.6', '2.4', '1.4', '9.11', 'F#3', '1.2', '11.1', '9.1', 'D5', 'A4', 'D4', '11.1', '2.4', '1.2', '11.2', '7.9', '4.6', '11.0', '7.9', '9.11', '6.7', '7.11', '4.7', '1.2', '9.11', '4.6', '1.2', '2.4', '11.1', '1.4', '9.1', '6.7', '2.4', '9.11', '6.7', '7.9', '4.6', '6.9', '2.6', 'B5', 'G4', 'C#5', 'A4', 'E4', 'G3', 'D5', 'A4', 'F#4', 'F#3', 'E5', 'C#5', 'G4', 'E3', 'F#5', 'D5', 'A4', 'D3', 'F#4', 'D4', 'A3', 'C3', 'G4', 'D4', 'B3', 'B2', 'A4', 'F#4', 'C4', 'A2', 'B4', 'G4', 'D4', 'G2', 'B4', 'D4', 'G4', 'F#2', 'C#5', 'E4', 'G4', 'E2', 'D5', 'F#4', 'A4', 'D2', 'F#4', 'D4', 'A3', 'A2', 'E4', 'C#4', 'G3', 'D4', 'A3', 'F#3', 'D2']\n"
     ]
    },
    {
     "name": "stderr",
     "output_type": "stream",
     "text": [
      "C:\\Users\\Dell\\AppData\\Local\\Temp\\ipykernel_16564\\401358140.py:17: VisibleDeprecationWarning: Creating an ndarray from ragged nested sequences (which is a list-or-tuple of lists-or-tuples-or ndarrays with different lengths or shapes) is deprecated. If you meant to do this, you must specify 'dtype=object' when creating the ndarray.\n",
      "  notes_array = np.array([read_midi(i) for i in files])\n"
     ]
    }
   ],
   "source": [
    "#for listing down the file names\n",
    "import os\n",
    "\n",
    "#Array Processing\n",
    "import numpy as np\n",
    "\n",
    "#specify the path\n",
    "path=\"dataset\"\n",
    "#files = [a for a in glob.glob(\"dataset/*/*\")]\n",
    "files = [a for a in glob.glob(\"dataset/bach/*\")]\n",
    "\n",
    "#read all the filenames\n",
    "#files=[i for i in os.listdir(path) if i.endswith(\".mid\")]\n",
    "\n",
    "#reading each midi file\n",
    "\n",
    "notes_array = np.array([read_midi(i) for i in files])\n"
   ]
  },
  {
   "cell_type": "code",
   "execution_count": 4,
   "id": "a842fab0",
   "metadata": {},
   "outputs": [
    {
     "name": "stdout",
     "output_type": "stream",
     "text": [
      "114\n"
     ]
    }
   ],
   "source": [
    "#converting 2D array into 1D array\n",
    "notes_ = [element for note_ in notes_array for element in note_]\n",
    "\n",
    "#No. of unique notes\n",
    "unique_notes = list(set(notes_))\n",
    "print(len(unique_notes))"
   ]
  },
  {
   "cell_type": "code",
   "execution_count": 5,
   "id": "83fdb544",
   "metadata": {},
   "outputs": [
    {
     "data": {
      "text/plain": [
       "(array([75., 11.,  8.,  4.,  3.,  3.,  3.,  2.,  4.,  1.]),\n",
       " array([  1. ,  23.5,  46. ,  68.5,  91. , 113.5, 136. , 158.5, 181. ,\n",
       "        203.5, 226. ]),\n",
       " <BarContainer object of 10 artists>)"
      ]
     },
     "execution_count": 5,
     "metadata": {},
     "output_type": "execute_result"
    },
    {
     "data": {
      "image/png": "[encoded data removed]",
      "text/plain": [
       "<Figure size 360x360 with 1 Axes>"
      ]
     },
     "metadata": {
      "image/png": {
       "height": 302,
       "width": 313
      },
      "needs_background": "light"
     },
     "output_type": "display_data"
    }
   ],
   "source": [
    "#importing library\n",
    "from collections import Counter\n",
    "\n",
    "#computing frequency of each note\n",
    "freq = dict(Counter(notes_))\n",
    "\n",
    "#library for visualiation\n",
    "import matplotlib.pyplot as plt\n",
    "\n",
    "#consider only the frequencies\n",
    "no=[count for _,count in freq.items()]\n",
    "\n",
    "#set the figure size\n",
    "plt.figure(figsize=(5,5))\n",
    "\n",
    "#plot\n",
    "plt.hist(no)"
   ]
  },
  {
   "cell_type": "code",
   "execution_count": 6,
   "id": "416d8a8f",
   "metadata": {},
   "outputs": [
    {
     "name": "stdout",
     "output_type": "stream",
     "text": [
      "28\n"
     ]
    }
   ],
   "source": [
    "#keeping th higher frequncy only. more than 50 for now\n",
    "frequent_notes = [note_ for note_, count in freq.items() if count>=50]\n",
    "print(len(frequent_notes))"
   ]
  },
  {
   "cell_type": "code",
   "execution_count": 81,
   "id": "71eccb13",
   "metadata": {},
   "outputs": [
    {
     "data": {
      "text/plain": [
       "(3,)"
      ]
     },
     "execution_count": 81,
     "metadata": {},
     "output_type": "execute_result"
    }
   ],
   "source": [
    "notes_array.shape"
   ]
  },
  {
   "cell_type": "code",
   "execution_count": 7,
   "id": "2df67114",
   "metadata": {},
   "outputs": [
    {
     "name": "stderr",
     "output_type": "stream",
     "text": [
      "C:\\Users\\Dell\\AppData\\Local\\Temp\\ipykernel_16564\\2871568428.py:10: VisibleDeprecationWarning: Creating an ndarray from ragged nested sequences (which is a list-or-tuple of lists-or-tuples-or ndarrays with different lengths or shapes) is deprecated. If you meant to do this, you must specify 'dtype=object' when creating the ndarray.\n",
      "  new_music = np.array(new_music)\n"
     ]
    }
   ],
   "source": [
    "new_music=[]\n",
    "\n",
    "for notes in notes_array:\n",
    "    temp=[]\n",
    "    for note_ in notes:\n",
    "        if note_ in frequent_notes:\n",
    "            temp.append(note_)            \n",
    "    new_music.append(temp)\n",
    "    \n",
    "new_music = np.array(new_music)"
   ]
  },
  {
   "cell_type": "code",
   "execution_count": 95,
   "id": "1fef2092",
   "metadata": {},
   "outputs": [
    {
     "data": {
      "text/plain": [
       "array([list(['C4', 'E4', 'G4', 'C5', 'E5', 'G4', 'C5', 'E5', 'C4', 'E4', 'G4', 'C5', 'E5', 'G4', 'C5', 'E5', 'C4', 'D4', 'A4', 'D5', 'F5', 'A4', 'D5', 'F5', 'C4', 'D4', 'A4', 'D5', 'F5', 'A4', 'D5', 'F5', 'B3', 'D4', 'G4', 'D5', 'F5', 'G4', 'D5', 'F5', 'B3', 'D4', 'G4', 'D5', 'F5', 'G4', 'D5', 'F5', 'C4', 'E4', 'G4', 'C5', 'E5', 'G4', 'C5', 'E5', 'C4', 'E4', 'G4', 'C5', 'E5', 'G4', 'C5', 'E5', 'C4', 'E4', 'A4', 'E5', 'A4', 'E5', 'C4', 'E4', 'A4', 'E5', 'A4', 'E5', 'C4', 'D4', 'F#4', 'A4', 'D5', 'F#4', 'A4', 'D5', 'C4', 'D4', 'F#4', 'A4', 'D5', 'F#4', 'A4', 'D5', 'B3', 'D4', 'G4', 'D5', 'G5', 'G4', 'D5', 'G5', 'B3', 'D4', 'G4', 'D5', 'G5', 'G4', 'D5', 'G5', 'B3', 'C4', 'E4', 'G4', 'C5', 'E4', 'G4', 'C5', 'B3', 'C4', 'E4', 'G4', 'C5', 'E4', 'G4', 'C5', 'A3', 'C4', 'E4', 'G4', 'C5', 'E4', 'G4', 'C5', 'A3', 'C4', 'E4', 'G4', 'C5', 'E4', 'G4', 'C5', 'D3', 'A3', 'D4', 'F#4', 'C5', 'D4', 'F#4', 'C5', 'D3', 'A3', 'D4', 'F#4', 'C5', 'D4', 'F#4', 'C5', 'G3', 'B3', 'D4', 'G4', 'B4', 'D4', 'G4', 'B4', 'G3', 'B3', 'D4', 'G4', 'B4', 'D4', 'G4', 'B4', 'G3', 'E4', 'G4', 'C#5', 'E4', 'G4', 'C#5', 'G3', 'E4', 'G4', 'C#5', 'E4', 'G4', 'C#5', 'F3', 'A3', 'D4', 'A4', 'D5', 'D4', 'A4', 'D5', 'F3', 'A3', 'D4', 'A4', 'D5', 'D4', 'A4', 'D5', 'F3', 'G#3', 'D4', 'F4', 'B4', 'D4', 'F4', 'B4', 'F3', 'G#3', 'D4', 'F4', 'B4', 'D4', 'F4', 'B4', 'E3', 'G3', 'C4', 'G4', 'C5', 'C4', 'G4', 'C5', 'E3', 'G3', 'C4', 'G4', 'C5', 'C4', 'G4', 'C5', 'E3', 'F3', 'A3', 'C4', 'F4', 'A3', 'C4', 'F4', 'E3', 'F3', 'A3', 'C4', 'F4', 'A3', 'C4', 'F4', 'D3', 'F3', 'A3', 'C4', 'F4', 'A3', 'C4', 'F4', 'D3', 'F3', 'A3', 'C4', 'F4', 'A3', 'C4', 'F4', 'G2', 'D3', 'G3', 'B3', 'F4', 'G3', 'B3', 'F4', 'G2', 'D3', 'G3', 'B3', 'F4', 'G3', 'B3', 'F4', 'C3', 'E3', 'G3', 'C4', 'E4', 'G3', 'C4', 'E4', 'C3', 'E3', 'G3', 'C4', 'E4', 'G3', 'C4', 'E4', 'C3', 'G3', 'C4', 'E4', 'C4', 'E4', 'C3', 'G3', 'C4', 'E4', 'C4', 'E4', 'F3', 'A3', 'C4', 'E4', 'A3', 'C4', 'E4', 'F3', 'A3', 'C4', 'E4', 'A3', 'C4', 'E4', 'C3', 'A3', 'C4', 'E-4', 'A3', 'C4', 'E-4', 'C3', 'A3', 'C4', 'E-4', 'A3', 'C4', 'E-4', 'F3', 'B3', 'C4', 'D4', 'B3', 'C4', 'D4', 'F3', 'B3', 'C4', 'D4', 'B3', 'C4', 'D4', 'G2', 'F3', 'G3', 'B3', 'D4', 'G3', 'B3', 'D4', 'G2', 'F3', 'G3', 'B3', 'D4', 'G3', 'B3', 'D4', 'G2', 'E3', 'G3', 'C4', 'E4', 'G3', 'C4', 'E4', 'G2', 'E3', 'G3', 'C4', 'E4', 'G3', 'C4', 'E4', 'G2', 'D3', 'G3', 'C4', 'F4', 'G3', 'C4', 'F4', 'G2', 'D3', 'G3', 'C4', 'F4', 'G3', 'C4', 'F4', 'G2', 'D3', 'G3', 'B3', 'F4', 'G3', 'B3', 'F4', 'G2', 'D3', 'G3', 'B3', 'F4', 'G3', 'B3', 'F4', 'G2', 'E-3', 'A3', 'C4', 'F#4', 'A3', 'C4', 'F#4', 'G2', 'E-3', 'A3', 'C4', 'F#4', 'A3', 'C4', 'F#4', 'G2', 'E3', 'G3', 'C4', 'G4', 'G3', 'C4', 'G4', 'G2', 'E3', 'G3', 'C4', 'G4', 'G3', 'C4', 'G4', 'G2', 'D3', 'G3', 'C4', 'F4', 'G3', 'C4', 'F4', 'G2', 'D3', 'G3', 'C4', 'F4', 'G3', 'C4', 'F4', 'G2', 'D3', 'G3', 'B3', 'F4', 'G3', 'B3', 'F4', 'G2', 'D3', 'G3', 'B3', 'F4', 'G3', 'B3', 'F4', 'C3', 'G3', 'E4', 'G3', 'E4', 'C3', 'G3', 'E4', 'G3', 'E4', 'F3', 'A3', 'C4', 'F4', 'C4', 'A3', 'C4', 'A3', 'F3', 'A3', 'F3', 'D3', 'F3', 'D3', 'G4', 'B4', 'D5', 'F5', 'D5', 'B4', 'D5', 'B4', 'G4', 'B4', 'D4', 'F4', 'E4', 'D4', 'C4', 'D4', 'E4', 'F4', 'E4', 'A4', 'D4', 'G4', 'A4', 'G4', 'F4', 'E4', 'F4', 'G4', 'E4', 'D4', 'A4', 'C4', 'D4', 'B4', 'C4', 'B3', 'C5', 'A3', 'F#4', 'B4', 'G4', 'E5', 'A4', 'D5', 'F#4', 'E4', 'F#4', 'E5', 'D5', 'D4', 'C5', 'B4', 'G4', 'G4', 'A4', 'F4', 'G3', 'B4', 'C5', 'E4', 'A3', 'B4', 'C5', 'D4', 'B3', 'D5', 'E5', 'C4', 'C4', 'D5', 'E5', 'F#5', 'G5', 'B3', 'B4', 'G4', 'E4', 'C5', 'G4', 'A3', 'A4', 'F4', 'D4', 'E4', 'D5', 'F4', 'C5', 'E4', 'B4', 'D4', 'A4', 'C4', 'G4', 'B3', 'F4', 'E4', 'C4', 'C3', 'G4', 'F4', 'D4', 'D3', 'E4', 'F4', 'E3', 'G4', 'A4', 'C4', 'A3', 'F3', 'G4', 'A4', 'F4', 'D4', 'B4', 'C5', 'G3', 'E3', 'G4', 'F4', 'C4', 'A3', 'E4', 'F4', 'D3', 'A3', 'D4', 'B3', 'G3', 'C4', 'B4', 'G4', 'D4', 'A3', 'G3', 'F3', 'G4', 'G3', 'E3', 'F3', 'C5', 'E3', 'D3', 'D5', 'C3', 'D3', 'E5', 'G3', 'C3', 'F5', 'A3', 'B3', 'D3', 'E5', 'C4', 'A3', 'D5', 'B3', 'G3', 'A3', 'G5', 'E4', 'G3', 'A3', 'G5', 'D4', 'D3', 'F5', 'E5', 'A3', 'E4', 'D4', 'C4', 'B3', 'E3', 'E4', 'G5', 'F5', 'E4', 'A3', 'B3', 'G4', 'C4', 'D4', 'A4', 'D4', 'C4', 'B3', 'B4', 'A3', 'G3', 'E5', 'C5', 'C4', 'B3', 'C4', 'F#5', 'A3', 'G5', 'B4', 'E4', 'D4', 'E5', 'C4', 'B3', 'G5', 'A4', 'C4', 'A3', 'D5', 'B3', 'C4', 'F#5', 'D4', 'E5', 'C4', 'D5', 'B3', 'C5', 'A3', 'G5', 'B4', 'G3', 'F5', 'E5', 'G2', 'D5', 'C5', 'D5', 'C5', 'D4', 'B4', 'A4', 'E4', 'C3', 'C5', 'B4', 'F#4', 'A4', 'G4', 'E3', 'F#4', 'C5', 'B4', 'D3', 'A4', 'G#4', 'E4', 'E3', 'E5', 'A4', 'D3', 'C3', 'D5', 'A4', 'B4', 'C5', 'A4', 'E3', 'B4', 'G4', 'A4', 'F#4', 'G#4', 'A4', 'F4', 'G#3', 'D3', 'B4', 'C5', 'E4', 'A3', 'C3', 'F#4', 'A4', 'D4', 'F3', 'G#4', 'B4', 'G#3', 'E4', 'A4', 'F#4', 'C4', 'E3', 'B4', 'G#4', 'C5', 'A4', 'E3', 'G#4', 'F5', 'A4', 'B3', 'D3', 'B4', 'E5', 'G#4', 'F#4', 'C4', 'D5', 'G#4', 'B3', 'E3', 'A4', 'A3', 'B4', 'G#3', 'F3', 'C5', 'A3', 'E3', 'B4', 'D3', 'E3', 'B4', 'G#3', 'A4', 'A4', 'A3', 'C4', 'D4', 'E4', 'G3', 'F4', 'A3', 'B3', 'E4', 'C4', 'A4', 'D4', 'B3', 'G4', 'E4', 'G2', 'A3', 'A4', 'G4', 'D4', 'F4', 'E4', 'C3', 'G4', 'E4', 'G3', 'A4', 'F#4', 'D4', 'B4', 'G4', 'E3', 'C5', 'G4', 'C4', 'F#4', 'A3', 'D3', 'B4', 'G#4', 'E4', 'E3', 'C5', 'A4', 'D3', 'C3', 'D5', 'D4', 'E5', 'G4', 'F5', 'A4', 'B4', 'G2', 'E5', 'C5', 'A3', 'D5', 'B4', 'B3', 'G3', 'G5', 'E5', 'E3', 'A4', 'D4', 'D3', 'G5', 'D5', 'F5', 'E5', 'C4', 'E3', 'E5', 'D5', 'F4', 'F3', 'C5', 'D5', 'B4', 'B3', 'G3', 'G5', 'E4', 'C#5', 'F3', 'F4', 'G5', 'D5', 'E4', 'F5', 'D4', 'G5', 'E5', 'E3', 'F5', 'G5', 'C#5', 'A3', 'E5', 'F5', 'D5', 'G5', 'E5', 'A3', 'G3', 'A4', 'F3', 'C#5', 'E3', 'D5', 'A3', 'F3', 'G5', 'D3', 'B3', 'G3', 'E5', 'E4', 'A3', 'D5', 'D5', 'F#4', 'D4', 'D3', 'G4', 'A4', 'C4', 'F#4', 'G4', 'B3', 'D3', 'E3', 'C5', 'E4', 'D3', 'C3', 'F#4', 'F#4', 'B4', 'E4', 'G2', 'D4', 'C4', 'C5', 'B4', 'E3', 'A4', 'G4', 'F#4', 'G4', 'E4', 'G3', 'D4', 'A4', 'E4', 'C4', 'G3', 'D4', 'B4', 'C4', 'A3', 'B3', 'G3', 'C5', 'D4', 'A3', 'G3', 'A3', 'D3', 'B4', 'G3', 'G3', 'A4', 'E5', 'G4', 'B3', 'F4', 'A4', 'E4', 'C4', 'G4', 'D5', 'F4', 'D4', 'A4', 'D5', 'G4', 'E4', 'G3', 'E5', 'D5', 'C5', 'B4', 'D4', 'C5', 'A4', 'D5', 'G4', 'E5', 'F5', 'C5', 'C4', 'A3', 'G5', 'F4', 'G5', 'F5', 'D5', 'B3', 'E5', 'G4', 'D5', 'G4', 'F4', 'C4', 'C5', 'E4', 'B4', 'G4', 'D4', 'F3', 'A3', 'G3', 'F3', 'C5', 'E4', 'E3', 'D3', 'D5', 'F4', 'D4', 'C3', 'G4', 'C3', 'D3', 'C5', 'E4', 'G3', 'E3', 'F3', 'D4', 'G3', 'B4', 'G2', 'C5', 'E4', 'G3', 'C3', 'A4', 'C3', 'B4', 'D3', 'G4', 'E3', 'A4', 'F3', 'D5', 'F4', 'G4', 'E3', 'C5', 'A4', 'A3', 'D5', 'D3', 'C3', 'E5', 'G3', 'F5', 'A4', 'A3', 'D5', 'G3', 'F3', 'G4', 'E3', 'D3', 'G5', 'C5', 'E3', 'F5', 'F3', 'E5', 'G3', 'F5', 'D5', 'A3', 'E5', 'C5', 'D5', 'G3', 'C5', 'A4', 'A3', 'C3', 'E3', 'A4', 'F3', 'G4', 'G3', 'F4', 'A3', 'G4', 'B3', 'F4', 'C4', 'E4', 'A3', 'D4', 'B3', 'B4', 'C5', 'D5', 'E5', 'F5', 'G4', 'F5', 'A4', 'C4', 'C3', 'G5', 'F5', 'D5', 'E5']),\n",
       "       list(['C3', 'D4', 'E-4', 'G3', 'F3', 'G3', 'C4', 'E-4', 'F3', 'G3', 'G#4', 'G3', 'F4', 'C4', 'F4', 'G#3', 'E4', 'G3', 'F4', 'G#3', 'G#4', 'C3', 'F4', 'G#3', 'G3', 'G#3', 'G3', 'G#3', 'B4', 'F4', 'D4', 'G3', 'F4', 'G#3', 'E-4', 'G3', 'G#3', 'F4', 'C5', 'G4', 'F4', 'D3', 'G4', 'E-3', 'C5', 'G3', 'G4', 'E-3', 'E-5', 'C3', 'G#4', 'C4', 'G4', 'G#4', 'C4', 'E-5', 'G#4', 'E-4', 'G#4', 'C4', 'D5', 'C3', 'F#4', 'D4', 'F#4', 'A3', 'G3', 'A3', 'E4', 'F#4', 'A3', 'F#4', 'G4', 'D5', 'G4', 'C5', 'G3', 'E4', 'C4', 'E3', 'G3', 'E4', 'C5', 'E4', 'D4', 'F3', 'E4', 'D4', 'E4', 'G3', 'C5', 'F4', 'C4', 'F4', 'G#3', 'C5', 'F4', 'E4', 'G#3', 'G3', 'F4', 'G#3', 'F4', 'D4', 'D3', 'F4', 'D4', 'F3', 'D3', 'F4', 'G3', 'G4', 'E-3', 'G2', 'E-3', 'D3', 'E-4', 'E-3', 'G4', 'C3', 'F4', 'G4', 'E-3', 'E-4', 'G4', 'D3', 'E-3', 'G#4', 'C3', 'G4', 'E-3', 'E-4', 'G#3', 'G4', 'E-3', 'G#4', 'G#3', 'D4', 'F3', 'G#4', 'D3', 'F3', 'E-3', 'D4', 'F3', 'F3', 'G3', 'G4', 'F4', 'E-3', 'C4', 'A3', 'A3', 'C4', 'C4', 'E-3', 'A3', 'F3', 'A3', 'D3', 'F3', 'C4', 'D4', 'G#3', 'F3', 'C4', 'D4', 'F4', 'E-3', 'D4', 'B3', 'F3', 'D4', 'F4', 'E3', 'F3', 'G#3', 'D4', 'F3', 'E3', 'B3', 'D4', 'F3', 'C3', 'E-3', 'B3', 'D3', 'C4', 'E-3', 'F3', 'B3', 'C4', 'E-3', 'E-4', 'C4', 'G3', 'C4', 'E-3', 'F3', 'E-4', 'C3', 'D4', 'E-4', 'F3', 'E-4', 'C3', 'C3', 'E-3', 'B3', 'D3', 'C4', 'E-3', 'C4', 'E-3', 'E-4', 'C4', 'G2', 'E-3', 'G3', 'D3', 'C4', 'E-3', 'E-4', 'G2', 'C4', 'E-3', 'G3', 'C4', 'G2', 'B3', 'E-3', 'C4', 'D3', 'E-3', 'G2', 'B3', 'E-3', 'C4', 'D3', 'E-3', 'G4', 'G2', 'E-3', 'C4', 'G4', 'G2', 'C4', 'B3', 'C4', 'E-3', 'F3', 'E-3', 'B3', 'D3', 'C4', 'E-3', 'F3', 'E-3', 'D3', 'E-3', 'G#4', 'G2', 'E-3', 'C4', 'G2', 'D3', 'F3', 'G#3', 'F3', 'E3', 'F3', 'B3', 'F3', 'D4', 'B3', 'G#3', 'F3', 'E3', 'F3', 'G2', 'C3', 'E-3', 'G3', 'C4', 'G3', 'G3', 'E-4', 'C4', 'G4', 'E-4', 'C4', 'G#3', 'G3', 'G#3', 'G2', 'C4', 'E-4', 'C4', 'B3', 'C4', 'F#4', 'C4', 'A4', 'F#4', 'E-4', 'C4', 'B3', 'C4', 'G2', 'D5', 'C5', 'D5', 'E-5', 'C5', 'B4', 'C5', 'A4', 'C5', 'B4', 'C5', 'D5', 'B4', 'A4', 'B4', 'G4', 'G2', 'B4', 'D4', 'A4', 'C4', 'B4', 'D4', 'C5', 'E-4', 'A4', 'C4', 'G4', 'B3', 'A4', 'C4', 'F#4', 'A3', 'A4', 'C4', 'G4', 'B3', 'A4', 'C4', 'B4', 'D4', 'G4', 'B3', 'F#4', 'A3', 'G4', 'B3', 'D4', 'G3', 'G5', 'B3', 'F5', 'A3', 'G5', 'B3', 'C4', 'F5', 'G#3', 'E-5', 'G3', 'F5', 'G#3', 'D5', 'F3', 'F5', 'A3', 'E-5', 'G3', 'F5', 'A3', 'G5', 'B3', 'E-5', 'G3', 'D5', 'F3', 'E-5', 'G3', 'C5', 'E-3', 'E-5', 'G4', 'D5', 'F4', 'E-5', 'G4', 'F5', 'G#4', 'D5', 'F4', 'C5', 'E-4', 'D5', 'F4', 'B4', 'D4', 'D5', 'F4', 'C5', 'E-4', 'D5', 'F4', 'E-5', 'G4', 'C5', 'E-4', 'B4', 'D4', 'C5', 'E-4', 'G4', 'C4', 'C5', 'E-4', 'B4', 'D4', 'C5', 'E-4', 'G#4', 'F4', 'F5', 'D4', 'E-5', 'C4', 'F5', 'D4', 'G4', 'E-4', 'E-5', 'C4', 'D5', 'B3', 'E-5', 'C4', 'F4', 'D4', 'D5', 'B3', 'C5', 'A3', 'D5', 'B3', 'E-4', 'C4', 'C5', 'E-4', 'B4', 'D4', 'C5', 'E-4', 'G#4', 'F3', 'F4', 'D4', 'E-4', 'C4', 'F4', 'D4', 'G4', 'E-3', 'E-4', 'C4', 'D4', 'B3', 'E-4', 'C4', 'F4', 'D3', 'D4', 'B3', 'C4', 'A3', 'D4', 'B3', 'F4', 'C4', 'F4', 'B3', 'D3', 'F3', 'G#3', 'G3', 'F3', 'B3', 'F3', 'D4', 'F3', 'B3', 'G#3', 'G3', 'F3', 'E3', 'G3', 'C4', 'G#3', 'F3', 'G#3', 'G3', 'G3', 'E3', 'G#3', 'F3', 'D3', 'F3', 'E3', 'G3', 'E3', 'C3', 'F3', 'D3', 'D3', 'G2', 'C3', 'D3', 'E3', 'G3', 'G3', 'G#3', 'C3', 'C4', 'F4', 'D4', 'F4', 'G#4', 'C5', 'B4', 'C5', 'G4', 'F4', 'D4', 'E4', 'C5', 'B4', 'C5', 'G4', 'G#4', 'C5', 'B4', 'C5', 'D5', 'G4', 'C5', 'B4', 'C5', 'D5', 'F4', 'G4', 'G#4', 'G4', 'F4', 'E-4', 'C5', 'G5', 'B4', 'F#5', 'G#4', 'G5', 'G4', 'F4', 'C5', 'E-4', 'D4', 'E-5', 'C4', 'G5', 'E-5', 'F#5', 'G5', 'D5', 'C5', 'D5', 'G5', 'A4', 'F#5', 'G5', 'C5', 'C5', 'F#4', 'D5', 'E-5', 'G4', 'A4', 'D5', 'F#4', 'C5', 'G4', 'E-5', 'D5', 'E-5', 'C4', 'G4', 'D4', 'E-4', 'G#4', 'F4', 'G4', 'F5', 'G#4', 'E-5', 'F5', 'D4', 'A4', 'E-4', 'F4', 'G4', 'A4', 'G5', 'F5', 'G5', 'E-4', 'B4', 'F4', 'G4', 'C5', 'G#4', 'G4', 'D5', 'F4', 'E-5', 'E-4', 'F5', 'D4', 'C5', 'B4', 'F5', 'C5', 'E-5', 'C4', 'D5', 'B3', 'C5', 'C4', 'G#4', 'G3', 'G4', 'F4', 'G#3', 'F5', 'C4', 'B3', 'G5', 'E-5', 'C4', 'F5', 'D5', 'D4', 'E-5', 'G3', 'D5', 'G#4', 'C4', 'B3', 'E-5', 'G4', 'C4', 'F5', 'F4', 'D4', 'B4', 'G4', 'F3', 'G3', 'C5', 'F4', 'G#3', 'E-4', 'D5', 'F4', 'B4', 'D4', 'G3', 'F3', 'C5', 'G4', 'E-3', 'C4', 'G5', 'B3', 'F#5', 'A3', 'G5', 'G3', 'F3', 'D5', 'B4', 'E-3', 'D3', 'E-5', 'C5', 'C3', 'D3', 'C5', 'E-3', 'B4', 'D3', 'C5', 'C3', 'E5', 'G4', 'G2', 'F5', 'G#4', 'F5', 'G#3', 'E5', 'G3', 'F5', 'F3', 'E-3', 'C5', 'A4', 'D3', 'C3', 'D5', 'C3', 'D3', 'A4', 'C3', 'D5', 'F4', 'G2', 'E-5', 'G4', 'G#3', 'E-5', 'G3', 'D5', 'F3', 'E-5', 'E-3', 'G4', 'C3', 'C5', 'G#4', 'E-5', 'G#4', 'C4', 'D5', 'E-5', 'G4', 'F5', 'F4', 'G#3', 'G3', 'E-5', 'G#3', 'F3', 'D5', 'E-5', 'G3', 'F5', 'C4', 'G#3', 'G#4', 'D3', 'C5', 'G#3', 'E-3', 'G3', 'G#3', 'F3', 'F3', 'D3', 'G#4', 'G4', 'E-3', 'E-4', 'F4', 'C4', 'G#3', 'G4', 'G#4', 'G3', 'C5', 'G#3', 'F3', 'D5', 'E-5', 'G3', 'D5', 'C5', 'G3', 'F3', 'D5', 'E-5', 'F3', 'D3', 'F5', 'G5', 'E-3', 'C3', 'F3', 'D3', 'F4', 'G4', 'G#4', 'C4', 'G#3', 'C5', 'D5', 'G3', 'E5', 'F5', 'C4', 'G#3', 'E-5', 'D5', 'G#3', 'F3', 'E-5', 'F5', 'G3', 'E-3', 'G5', 'F3', 'D3', 'G3', 'E-3', 'G4', 'F#4', 'G5', 'G4', 'F5', 'E-5', 'C4', 'D5', 'C5', 'E-4', 'E-5', 'G4', 'C3', 'F#4', 'D5', 'G4', 'C5', 'A4', 'D4', 'A4', 'G4', 'E-3', 'F#4', 'G4', 'D3', 'C5', 'A4', 'C3', 'F#4', 'C4', 'D3', 'D4', 'G4', 'E-4', 'C3', 'A4', 'C3', 'F#4', 'D4', 'D3', 'C4', 'G4', 'G2', 'D5', 'C5', 'A3', 'D5', 'D4', 'E4', 'D3', 'F#4', 'G4', 'E-3', 'A4', 'E5', 'C4', 'D5', 'B3', 'E5', 'C4', 'E4', 'F4', 'E3', 'G4', 'A4', 'F3', 'F#5', 'C5', 'D4', 'E5', 'C4', 'F#5', 'D4', 'F#4', 'G4', 'A4', 'G3', 'G4', 'E-4', 'F4', 'D4', 'G4', 'E-4', 'G2', 'G3', 'G#3', 'C3', 'D3', 'A4', 'F4', 'E-3', 'G4', 'E-4', 'A4', 'F4', 'A3', 'C3', 'D3', 'E-3', 'B4', 'G4', 'F3', 'A4', 'F4', 'B4', 'G4', 'B3', 'C3', 'D3', 'C4', 'E-3', 'F4', 'C5', 'E-4', 'B4', 'D4', 'C5', 'C4', 'G4', 'G#3', 'E3', 'G3', 'G#4', 'F3', 'G#3', 'C5', 'G#4', 'B4', 'C5', 'G4', 'D5', 'F4', 'G4', 'E-4', 'C5', 'D4', 'B4', 'C5', 'E-4', 'G2', 'D5', 'F4', 'F4', 'B3', 'G2', 'G4', 'G#4', 'C4', 'D4', 'G4', 'B3', 'G2', 'F4', 'E-4', 'C4', 'C3', 'D3', 'C5', 'E-3', 'B4', 'D3', 'C5', 'C3', 'G4', 'E4', 'G2', 'G#4', 'F4', 'F4', 'G#3', 'E4', 'G3', 'F4', 'F3', 'E-3', 'A4', 'C4', 'D3', 'C3', 'D4', 'C3', 'D3', 'A4', 'C3', 'F4', 'D4', 'G2', 'G4', 'E-4', 'G#3', 'E-4', 'G3', 'D4', 'F3', 'E-4', 'E-3', 'D3', 'G4', 'C3', 'G4', 'C4', 'G#4', 'C3', 'C5', 'B4', 'G2', 'C5', 'G#4', 'F4', 'G3', 'D4', 'F3', 'E-4', 'E-3', 'F4', 'D3', 'E-4', 'C3', 'F4', 'D4', 'F4', 'B3', 'G2', 'D5', 'C5', 'D5', 'F4', 'B3', 'E-4', 'C4', 'G2', 'E-5', 'D5', 'E-5', 'C3', 'D3', 'G4', 'E-4', 'E-3', 'F3', 'F4', 'D4', 'G3', 'F3', 'F5', 'G#3', 'E-5', 'G3', 'F5', 'F3', 'E-3', 'G#4', 'F4', 'D3', 'C3', 'G4', 'F5', 'E-5', 'C3', 'D5', 'C5', 'C3', 'B4', 'A4', 'F4', 'G2', 'G4', 'C5', 'E-4', 'F5', 'G#4', 'C3', 'E-5', 'G4', 'C3', 'D5', 'F4', 'D3', 'E-4', 'G2', 'G#4', 'D4', 'C3', 'G4', 'E-4', 'C3', 'F4', 'D3', 'G4', 'B3', 'G2', 'F4', 'C4', 'E-4', 'F4', 'D4', 'D4', 'B3', 'G2', 'G#4', 'B3', 'G4', 'C4', 'A4', 'C4', 'E-3', 'B4', 'F4', 'D3', 'D4', 'C5', 'E-4', 'C3', 'C4', 'F4', 'G3', 'E-4', 'D4', 'B3', 'G2', 'C4', 'C4', 'C5', 'B4', 'C5', 'G4', 'E4', 'G#4', 'F4', 'C5', 'B4', 'C5', 'D5', 'G4', 'F4', 'C5', 'E-4', 'B4', 'D4', 'C5', 'E-4', 'D5', 'F4', 'G4', 'G#4', 'G4', 'F4', 'E4']),\n",
       "       list(['D3', 'D5', 'E5', 'F#5', 'A4', 'D4', 'F#5', 'E5', 'D5', 'D5', 'E5', 'F#5', 'A4', 'D4', 'F#5', 'E5', 'D5', 'G5', 'E3', 'E5', 'F#5', 'G5', 'B4', 'D4', 'D5', 'C#5', 'B4', 'C#5', 'A3', 'E5', 'F#5', 'G5', 'A4', 'G5', 'F#5', 'E5', 'F#5', 'D3', 'D5', 'E5', 'F#5', 'A4', 'D4', 'C#5', 'B4', 'A4', 'B4', 'D3', 'D5', 'E5', 'F#5', 'B4', 'D4', 'F#5', 'D3', 'E5', 'F#5', 'B4', 'G#3', 'D5', 'C#5', 'B4', 'A4', 'C#5', 'D5', 'E5', 'F#4', 'A3', 'E5', 'D5', 'C#5', 'D5', 'B4', 'C#5', 'D5', 'F#4', 'A3', 'A4', 'G#4', 'F#4', 'G#4', 'E3', 'B4', 'C#5', 'D5', 'E4', 'G#3', 'D5', 'C#5', 'B4', 'C#5', 'A4', 'B4', 'C#5', 'E4', 'A3', 'G4', 'F#4', 'E4', 'F#4', 'A4', 'B4', 'C#5', 'F#4', 'A3', 'E5', 'E-5', 'C#5', 'E-5', 'B4', 'C#5', 'E-5', 'F#4', 'E-3', 'A4', 'G4', 'F#4', 'E4', 'G2', 'G4', 'A4', 'B4', 'E3', 'D5', 'C#5', 'B4', 'E4', 'F#4', 'G4', 'G4', 'F#4', 'E4', 'D4', 'B4', 'C#5', 'D5', 'F#4', 'A4', 'G#4', 'F#4', 'F4', 'G#4', 'A4', 'B4', 'F4', 'D5', 'C#5', 'B4', 'F5', 'F#5', 'C#5', 'F#5', 'C#5', 'E5', 'E-5', 'C#5', 'E-5', 'F#5', 'G5', 'B4', 'E-3', 'G5', 'F#5', 'G5', 'E5', 'F#5', 'G5', 'B4', 'E3', 'D5', 'C5', 'B4', 'C5', 'E-5', 'E5', 'F#5', 'A4', 'E-3', 'C5', 'B4', 'A4', 'G4', 'E5', 'F#5', 'G5', 'B4', 'E3', 'D5', 'C#5', 'B4', 'C#5', 'E5', 'F#5', 'G5', 'A4', 'G5', 'F#5', 'E5', 'F#5', 'D5', 'E5', 'F#5', 'A4', 'D3', 'C5', 'B4', 'A4', 'B4', 'G4', 'A4', 'B4', 'D3', 'B4', 'A4', 'G4', 'F#4', 'D4', 'E4', 'F#4', 'A3', 'D3', 'C4', 'B3', 'A3', 'B3', 'D4', 'E4', 'F#4', 'B3', 'D3', 'A4', 'G#4', 'F#4', 'G#4', 'E4', 'F#4', 'G#4', 'B3', 'G#3', 'D4', 'C4', 'B3', 'A3', 'C3', 'C4', 'D4', 'E4', 'A3', 'G4', 'F#4', 'E4', 'E-4', 'A3', 'B3', 'C4', 'A3', 'E-3', 'C4', 'B3', 'A3', 'G3', 'E3', 'E4', 'F#4', 'G4', 'B3', 'G3', 'D4', 'B3', 'D4', 'E4', 'E3', 'G4', 'F#4', 'E4', 'C#5', 'G3', 'B4', 'C#5', 'F#4', 'E5', 'D5', 'C#5', 'D5', 'B4', 'C#5', 'D5', 'F#4', 'B3', 'A4', 'G#4', 'F#4', 'G#4', 'E3', 'B4', 'C5', 'D5', 'E4', 'G#3', 'D5', 'C5', 'B4', 'C5', 'A4', 'B4', 'C5', 'E4', 'A3', 'G4', 'F#4', 'E4', 'F#4', 'D3', 'A4', 'B4', 'C5', 'D4', 'C5', 'B4', 'A4', 'B4', 'G2', 'G4', 'A4', 'B4', 'D4', 'G3', 'B4', 'A4', 'G4', 'D5', 'G4', 'A4', 'B4', 'D4', 'G3', 'B4', 'A4', 'G4', 'C5', 'A4', 'B4', 'C5', 'E4', 'G3', 'G4', 'F#4', 'E4', 'F#4', 'D3', 'A4', 'B4', 'C5', 'D4', 'C5', 'B4', 'A4', 'B4', 'G2', 'G4', 'A4', 'B4', 'D4', 'G3', 'F#4', 'E4', 'D4', 'E4', 'G2', 'G4', 'A4', 'B4', 'E4', 'G3', 'D5', 'C#5', 'B4', 'C#5', 'G2', 'A4', 'B4', 'C#5', 'E4', 'G4', 'F#4', 'E4', 'D4', 'F#4', 'G4', 'A4', 'B3', 'D3', 'A4', 'G4', 'F#4', 'G4', 'E4', 'F#4', 'G4', 'B3', 'D3', 'D4', 'B3', 'E4', 'F#4', 'G4', 'A3', 'G4', 'F#4', 'E4', 'F#4', 'D4', 'E4', 'F#4', 'A3', 'D3', 'F#4', 'E4', 'D4', 'A4', 'F#4', 'G4', 'A4', 'D4', 'A3', 'C5', 'B4', 'A4', 'B4', 'G2', 'G4', 'A4', 'B4', 'D4', 'G3', 'B4', 'A4', 'G4', 'D5', 'B4', 'C#5', 'D5', 'G#4', 'D4', 'F5', 'E5', 'D5', 'C#5', 'A4', 'B4', 'C#5', 'E4', 'G3', 'G4', 'F#4', 'E4', 'A4', 'D5', 'E5', 'F#5', 'B4', 'D3', 'G5', 'F#5', 'G5', 'E3', 'C#5', 'D5', 'E5', 'A4', 'G5', 'F#5', 'E5', 'F#5', 'D3', 'B4', 'C#5', 'D5', 'G#4', 'F#5', 'E5', 'D5', 'C#5', 'G4', 'E3', 'A4', 'G3', 'E4', 'G4', 'E3', 'F4', 'D3', 'E4', 'F4', 'D3', 'D5', 'F3', 'E5', 'G3', 'F5', 'A3', 'C#5', 'E3', 'E5', 'G3', 'D5', 'F3', 'C#5', 'E3', 'D5', 'F3', 'D3', 'E3', 'G5', 'F3', 'F5', 'E5', 'C3', 'D5', 'C#5', 'D5', 'F5', 'E5', 'D5', 'F5', 'D5', 'E5', 'F5', 'B4', 'G#4', 'A4', 'B4', 'E4', 'F#4', 'G#4', 'A4', 'B4', 'C#5', 'D5', 'E5', 'F5', 'C#5', 'D5', 'A3', 'A4', 'G3', 'G4', 'E5', 'G4', 'A4', 'F3', 'F4', 'D5', 'D3', 'F4', 'G4', 'E3', 'E4', 'C#5', 'G3', 'E4', 'B3', 'D5', 'D4', 'D5', 'E3', 'C#5', 'G3', 'B3', 'B3', 'A3', 'G3', 'G3', 'E3', 'F#4', 'D3', 'F#4', 'E4', 'E3', 'D4', 'F#4', 'A3', 'F#4', 'B3', 'E4', 'G3', 'D4', 'E4', 'A3', 'G3', 'D4', 'B4', 'G3', 'B4', 'E3', 'A4', 'A3', 'G4', 'F#4', 'D4', 'D3', 'G#4', 'E3', 'A4', 'E3', 'F#5', 'B3', 'F#5', 'D3', 'E5', 'G#4', 'E3', 'D5', 'C#5', 'A4', 'A3', 'C#5', 'D5', 'B4', 'G5', 'D5', 'G5', 'G5', 'C#5', 'A4', 'F#5', 'D5', 'A4', 'E5', 'C#5', 'G4', 'D5', 'B4', 'F#4', 'E5', 'G4', 'C#5', 'A4', 'E4', 'C#5', 'G2', 'C#5', 'A4', 'D4', 'B4', 'D4', 'G3', 'G5', 'G3', 'G5', 'E3', 'F#5', 'E5', 'D5', 'B4', 'B3', 'G#3', 'D5', 'B4', 'F#5', 'E5', 'B4', 'G#4', 'E5', 'B4', 'G#4', 'D5', 'E5', 'C#5', 'A4', 'E4', 'C#5', 'A4', 'E4', 'G5', 'F#5', 'F#5', 'C5', 'A4', 'E5', 'F#5', 'D5', 'A4', 'F#4', 'D5', 'A4', 'F#4', 'C5', 'D5', 'B4', 'G4', 'D4', 'B4', 'G4', 'D4', 'E3', 'D3', 'E5', 'C3', 'E5', 'D5', 'D3', 'C5', 'B4', 'G3', 'C#5', 'A3', 'D5', 'B3', 'A3', 'B4', 'G3', 'B4', 'E3', 'C#5', 'A4', 'A3', 'G4', 'D5', 'F#4', 'A4', 'D5', 'B3', 'A3', 'G3', 'E3', 'C5', 'A3', 'G5', 'F#5', 'C5', 'D3', 'G5', 'B4', 'E3', 'G5', 'G5', 'A4', 'E4', 'C4', 'E4', 'A3', 'F#5', 'D4', 'F#5', 'C4', 'D3', 'F#5', 'G4', 'B3', 'G3', 'E5', 'B4', 'G4', 'A4', 'F#4', 'C3', 'E-5', 'C3', 'E5', 'F#5', 'B4', 'A4', 'F#4', 'G2', 'B4', 'G4', 'E4', 'G2', 'C5', 'E4', 'G4', 'E4', 'G3', 'A3', 'F#4', 'E-4', 'B3', 'A3', 'E4', 'G3', 'E3', 'G5', 'B3', 'A3', 'B3', 'G3', 'E4', 'B3', 'G3', 'G3', 'G3', 'E3', 'G3', 'E3', 'D3', 'E3', 'A3', 'E3', 'A3', 'E3', 'F#5', 'A3', 'G3', 'A3', 'D4', 'A3', 'E3', 'B3', 'D3', 'B3', 'D3', 'D3', 'G3', 'D3', 'G3', 'D3', 'E5', 'G3', 'G3', 'E3', 'G3', 'E3', 'D3', 'E3', 'A3', 'E3', 'A3', 'E3', 'D5', 'D5', 'D5', 'G4', 'E5', 'A3', 'C#5', 'A3', 'F#5', 'F#4', 'D4', 'G3', 'G5', 'G5', 'D5', 'B4', 'F#5', 'G5', 'E5', 'B4', 'G4', 'E5', 'B4', 'G4', 'D5', 'E5', 'C#5', 'A4', 'E4', 'C#5', 'G3', 'G2', 'D5', 'A4', 'F#4', 'D5', 'A4', 'F#4', 'D5', 'B4', 'F#4', 'E5', 'B4', 'G4', 'A4', 'E4', 'C#5', 'D5', 'D5', 'A4', 'F#4', 'G3', 'E5', 'B4', 'E4', 'D5', 'A4', 'D4', 'G4', 'C#5', 'A4', 'E4', 'G3', 'D5', 'A4', 'F#4', 'E5', 'C#5', 'G4', 'E3', 'F#5', 'D5', 'A4', 'D3', 'F#4', 'D4', 'A3', 'C3', 'G4', 'D4', 'B3', 'A4', 'F#4', 'C4', 'B4', 'G4', 'D4', 'G2', 'B4', 'D4', 'G4', 'C#5', 'E4', 'G4', 'D5', 'F#4', 'A4', 'F#4', 'D4', 'A3', 'E4', 'G3', 'D4', 'A3'])],\n",
       "      dtype=object)"
      ]
     },
     "execution_count": 95,
     "metadata": {},
     "output_type": "execute_result"
    }
   ],
   "source": [
    "new_music"
   ]
  },
  {
   "cell_type": "code",
   "execution_count": 99,
   "id": "1f4bc366",
   "metadata": {},
   "outputs": [
    {
     "data": {
      "text/plain": [
       "(3160, 32)"
      ]
     },
     "execution_count": 99,
     "metadata": {},
     "output_type": "execute_result"
    }
   ],
   "source": [
    "no_of_timesteps = 32\n",
    "x = []\n",
    "y = []\n",
    "\n",
    "for note_ in new_music:\n",
    "    print(len(note_))\n",
    "    for i in range(0, len(note_) - no_of_timesteps, 1):\n",
    "        #print(i)\n",
    "        \n",
    "        #preparing input and output sequences\n",
    "        input_ = note_[i:i + no_of_timesteps]\n",
    "        output = note_[i + no_of_timesteps]\n",
    "        \n",
    "        x.append(input_)\n",
    "        y.append(output)\n",
    "        \n",
    "x=np.array(x)\n",
    "y=np.array(y)\n",
    "x.shape"
   ]
  },
  {
   "cell_type": "code",
   "execution_count": 90,
   "id": "f88c96be",
   "metadata": {},
   "outputs": [
    {
     "data": {
      "text/plain": [
       "['E-4',\n",
       " 'E5',\n",
       " 'A4',\n",
       " 'C3',\n",
       " 'F#5',\n",
       " 'C#5',\n",
       " 'D4',\n",
       " 'E3',\n",
       " 'G5',\n",
       " 'E-5',\n",
       " 'F5',\n",
       " 'G#4',\n",
       " 'D3',\n",
       " 'F#4',\n",
       " 'G3',\n",
       " 'F4',\n",
       " 'G4',\n",
       " 'B4',\n",
       " 'E-3',\n",
       " 'G#3',\n",
       " 'E4',\n",
       " 'A3',\n",
       " 'C4',\n",
       " 'C5',\n",
       " 'F3',\n",
       " 'G2',\n",
       " 'D5',\n",
       " 'B3']"
      ]
     },
     "execution_count": 90,
     "metadata": {},
     "output_type": "execute_result"
    }
   ],
   "source": [
    "list(set(x.ravel()))"
   ]
  },
  {
   "cell_type": "code",
   "execution_count": 96,
   "id": "3b3ef1e5",
   "metadata": {},
   "outputs": [
    {
     "data": {
      "text/plain": [
       "{'E-4': 0,\n",
       " 'E5': 1,\n",
       " 'A4': 2,\n",
       " 'C3': 3,\n",
       " 'F#5': 4,\n",
       " 'C#5': 5,\n",
       " 'D4': 6,\n",
       " 'E3': 7,\n",
       " 'G5': 8,\n",
       " 'E-5': 9,\n",
       " 'F5': 10,\n",
       " 'G#4': 11,\n",
       " 'D3': 12,\n",
       " 'F#4': 13,\n",
       " 'G3': 14,\n",
       " 'F4': 15,\n",
       " 'G4': 16,\n",
       " 'B4': 17,\n",
       " 'E-3': 18,\n",
       " 'G#3': 19,\n",
       " 'E4': 20,\n",
       " 'A3': 21,\n",
       " 'C4': 22,\n",
       " 'C5': 23,\n",
       " 'F3': 24,\n",
       " 'G2': 25,\n",
       " 'D5': 26,\n",
       " 'B3': 27}"
      ]
     },
     "execution_count": 96,
     "metadata": {},
     "output_type": "execute_result"
    }
   ],
   "source": [
    "#assigning unique integer to every notes\n",
    "unique_x = list(set(x.ravel()))\n",
    "x_note_to_int = dict((note_, number) for number, note_ in enumerate(unique_x))\n",
    "x_note_to_int"
   ]
  },
  {
   "cell_type": "code",
   "execution_count": 10,
   "id": "39df8319",
   "metadata": {},
   "outputs": [],
   "source": [
    "#preparing input sequences\n",
    "x_seq=[]\n",
    "for i in x:\n",
    "    temp=[]\n",
    "    for j in i:\n",
    "        #assigning unique integer to every note\n",
    "        temp.append(x_note_to_int[j])\n",
    "    x_seq.append(temp)\n",
    "    \n",
    "x_seq = np.array(x_seq)"
   ]
  },
  {
   "cell_type": "code",
   "execution_count": 91,
   "id": "7b8d7d3c",
   "metadata": {},
   "outputs": [
    {
     "data": {
      "text/plain": [
       "array([[22, 20, 16, ...,  2, 26, 10],\n",
       "       [20, 16, 23, ..., 26, 10, 27],\n",
       "       [16, 23,  1, ..., 10, 27,  6],\n",
       "       ...,\n",
       "       [ 7,  4, 26, ...,  6, 21, 20],\n",
       "       [ 4, 26,  2, ..., 21, 20, 14],\n",
       "       [26,  2, 12, ..., 20, 14,  6]])"
      ]
     },
     "execution_count": 91,
     "metadata": {},
     "output_type": "execute_result"
    }
   ],
   "source": [
    "x_seq"
   ]
  },
  {
   "cell_type": "code",
   "execution_count": 11,
   "id": "c59b611d",
   "metadata": {},
   "outputs": [],
   "source": [
    "# prepare the integer sequences for output data as well\n",
    "\n",
    "unique_y = list(set(y))\n",
    "y_note_to_int = dict((note_, number) for number, note_ in enumerate(unique_y)) \n",
    "y_seq=np.array([y_note_to_int[i] for i in y])"
   ]
  },
  {
   "cell_type": "code",
   "execution_count": 12,
   "id": "830b47ba",
   "metadata": {},
   "outputs": [],
   "source": [
    "# preserving 80% of the data for training and the rest 20% for the evaluation:\n",
    "\n",
    "from sklearn.model_selection import train_test_split\n",
    "x_tr, x_val, y_tr, y_val = train_test_split(x_seq,y_seq,test_size=0.2,random_state=0)"
   ]
  },
  {
   "cell_type": "code",
   "execution_count": 13,
   "id": "329348e7",
   "metadata": {},
   "outputs": [],
   "source": [
    "def lstm():\n",
    "  model = Sequential()\n",
    "  model.add(LSTM(128,return_sequences=True))\n",
    "  model.add(LSTM(128))\n",
    "  model.add(Dense(256))\n",
    "  model.add(Activation('relu'))\n",
    "  model.add(Dense(n_vocab))\n",
    "  model.add(Activation('softmax'))\n",
    "  model.compile(loss='sparse_categorical_crossentropy', optimizer='adam')\n",
    "  return model"
   ]
  },
  {
   "cell_type": "code",
   "execution_count": 14,
   "id": "f641e77a",
   "metadata": {},
   "outputs": [
    {
     "name": "stdout",
     "output_type": "stream",
     "text": [
      "Model: \"sequential\"\n",
      "_________________________________________________________________\n",
      " Layer (type)                Output Shape              Param #   \n",
      "=================================================================\n",
      " embedding (Embedding)       (None, 32, 100)           2800      \n",
      "                                                                 \n",
      " conv1d (Conv1D)             (None, 32, 64)            19264     \n",
      "                                                                 \n",
      " dropout (Dropout)           (None, 32, 64)            0         \n",
      "                                                                 \n",
      " max_pooling1d (MaxPooling1D  (None, 16, 64)           0         \n",
      " )                                                               \n",
      "                                                                 \n",
      " conv1d_1 (Conv1D)           (None, 16, 128)           24704     \n",
      "                                                                 \n",
      " dropout_1 (Dropout)         (None, 16, 128)           0         \n",
      "                                                                 \n",
      " max_pooling1d_1 (MaxPooling  (None, 8, 128)           0         \n",
      " 1D)                                                             \n",
      "                                                                 \n",
      " conv1d_2 (Conv1D)           (None, 8, 256)            98560     \n",
      "                                                                 \n",
      " dropout_2 (Dropout)         (None, 8, 256)            0         \n",
      "                                                                 \n",
      " max_pooling1d_2 (MaxPooling  (None, 4, 256)           0         \n",
      " 1D)                                                             \n",
      "                                                                 \n",
      " global_max_pooling1d (Globa  (None, 256)              0         \n",
      " lMaxPooling1D)                                                  \n",
      "                                                                 \n",
      " dense (Dense)               (None, 256)               65792     \n",
      "                                                                 \n",
      " dense_1 (Dense)             (None, 28)                7196      \n",
      "                                                                 \n",
      "=================================================================\n",
      "Total params: 218,316\n",
      "Trainable params: 218,316\n",
      "Non-trainable params: 0\n",
      "_________________________________________________________________\n"
     ]
    }
   ],
   "source": [
    "from keras.layers import *\n",
    "from keras.models import *\n",
    "from keras.callbacks import *\n",
    "import keras.backend as K\n",
    "\n",
    "K.clear_session()\n",
    "model = Sequential()\n",
    "    \n",
    "#embedding layer\n",
    "model.add(Embedding(len(unique_x), 100, input_length=32,trainable=True)) \n",
    "\n",
    "model.add(Conv1D(64,3, padding='causal',activation='relu'))\n",
    "model.add(Dropout(0.2))\n",
    "model.add(MaxPool1D(2))\n",
    "    \n",
    "model.add(Conv1D(128,3,activation='relu',dilation_rate=2,padding='causal'))\n",
    "model.add(Dropout(0.2))\n",
    "model.add(MaxPool1D(2))\n",
    "\n",
    "model.add(Conv1D(256,3,activation='relu',dilation_rate=4,padding='causal'))\n",
    "model.add(Dropout(0.2))\n",
    "model.add(MaxPool1D(2))\n",
    "          \n",
    "#model.add(Conv1D(256,5,activation='relu'))    \n",
    "model.add(GlobalMaxPool1D())\n",
    "    \n",
    "model.add(Dense(256, activation='relu'))\n",
    "model.add(Dense(len(unique_y), activation='softmax'))\n",
    "    \n",
    "model.compile(loss='sparse_categorical_crossentropy', optimizer='adam')\n",
    "\n",
    "model.summary()"
   ]
  },
  {
   "cell_type": "code",
   "execution_count": 15,
   "id": "14e76515",
   "metadata": {},
   "outputs": [
    {
     "name": "stdout",
     "output_type": "stream",
     "text": [
      "Requirement already satisfied: h5py in c:\\users\\dell\\anaconda3\\lib\\site-packages (3.8.0)\n",
      "Requirement already satisfied: numpy>=1.14.5 in c:\\users\\dell\\anaconda3\\lib\\site-packages (from h5py) (1.21.5)\n"
     ]
    }
   ],
   "source": [
    "!pip install h5py\n"
   ]
  },
  {
   "cell_type": "code",
   "execution_count": 16,
   "id": "f60dd4fa",
   "metadata": {},
   "outputs": [],
   "source": [
    "import h5py"
   ]
  },
  {
   "cell_type": "code",
   "execution_count": null,
   "id": "db11e8f7",
   "metadata": {},
   "outputs": [],
   "source": []
  },
  {
   "cell_type": "code",
   "execution_count": null,
   "id": "f1154a35",
   "metadata": {},
   "outputs": [],
   "source": []
  },
  {
   "cell_type": "code",
   "execution_count": 17,
   "id": "f66b33fd",
   "metadata": {},
   "outputs": [],
   "source": [
    "#history = model.fit(np.array(x_tr),np.array(y_tr),batch_size=128,epochs=50, \n",
    " #                   validation_data=(np.array(x_val),np.array(y_val)),verbose=1, callbacks=[mc])"
   ]
  },
  {
   "cell_type": "code",
   "execution_count": null,
   "id": "54689d59",
   "metadata": {},
   "outputs": [],
   "source": []
  },
  {
   "cell_type": "code",
   "execution_count": null,
   "id": "8f56054c",
   "metadata": {},
   "outputs": [],
   "source": []
  },
  {
   "cell_type": "code",
   "execution_count": 18,
   "id": "3082770d",
   "metadata": {},
   "outputs": [],
   "source": [
    "#loading best model\n",
    "from keras.models import load_model\n",
    "model = load_model('models/best_model.h5')"
   ]
  },
  {
   "cell_type": "code",
   "execution_count": null,
   "id": "fe921514",
   "metadata": {},
   "outputs": [],
   "source": []
  },
  {
   "cell_type": "code",
   "execution_count": 19,
   "id": "21a17843",
   "metadata": {},
   "outputs": [
    {
     "data": {
      "text/plain": [
       "array([ 2, 26,  6,  2, 26, 24, 21,  6,  2, 26,  6,  2, 26, 24, 19,  6, 15,\n",
       "       17,  6, 15, 17, 24, 19,  6, 15, 17,  6, 15, 17,  7, 14, 22])"
      ]
     },
     "execution_count": 19,
     "metadata": {},
     "output_type": "execute_result"
    }
   ],
   "source": [
    "\n",
    "import numpy as np\n",
    "import random\n",
    "ind = np.random.randint(0,len(x_val)-1)\n",
    "\n",
    "random_music = x_val[ind]\n",
    "random_music"
   ]
  },
  {
   "cell_type": "code",
   "execution_count": 20,
   "id": "5eabf32a",
   "metadata": {},
   "outputs": [
    {
     "name": "stdout",
     "output_type": "stream",
     "text": [
      "[109, 174, 183, 183, 183, 183, 183, 183, 183, 183]\n"
     ]
    }
   ],
   "source": [
    "predictions=[]\n",
    "for i in range(10):\n",
    "\n",
    "    random_music = random_music.reshape(1,no_of_timesteps)\n",
    "\n",
    "    prob  = model.predict(random_music)[0]\n",
    "    y_pred= np.argmax(prob,axis=0)\n",
    "    predictions.append(y_pred)\n",
    "\n",
    "    random_music = np.insert(random_music[0],len(random_music[0]),y_pred)\n",
    "    random_music = random_music[1:]\n",
    "    \n",
    "print(predictions)"
   ]
  },
  {
   "cell_type": "code",
   "execution_count": 25,
   "id": "c3ccfdf2",
   "metadata": {},
   "outputs": [
    {
     "data": {
      "text/plain": [
       "{0: 'E-4',\n",
       " 1: 'E5',\n",
       " 2: 'A4',\n",
       " 3: 'C3',\n",
       " 4: 'F#5',\n",
       " 5: 'C#5',\n",
       " 6: 'D4',\n",
       " 7: 'E3',\n",
       " 8: 'G5',\n",
       " 9: 'E-5',\n",
       " 10: 'F5',\n",
       " 11: 'G#4',\n",
       " 12: 'D3',\n",
       " 13: 'F#4',\n",
       " 14: 'G3',\n",
       " 15: 'F4',\n",
       " 16: 'G4',\n",
       " 17: 'B4',\n",
       " 18: 'E-3',\n",
       " 19: 'G#3',\n",
       " 20: 'E4',\n",
       " 21: 'A3',\n",
       " 22: 'C4',\n",
       " 23: 'C5',\n",
       " 24: 'F3',\n",
       " 25: 'G2',\n",
       " 26: 'D5',\n",
       " 27: 'B3'}"
      ]
     },
     "execution_count": 25,
     "metadata": {},
     "output_type": "execute_result"
    }
   ],
   "source": [
    "#intergers back to notes\n",
    "x_int_to_note = dict((number, note_) for number, note_ in enumerate(unique_x)) \n",
    "x_int_to_note"
   ]
  },
  {
   "cell_type": "code",
   "execution_count": 23,
   "id": "4bf9503a",
   "metadata": {},
   "outputs": [
    {
     "ename": "KeyError",
     "evalue": "109",
     "output_type": "error",
     "traceback": [
      "\u001b[1;31m---------------------------------------------------------------------------\u001b[0m",
      "\u001b[1;31mKeyError\u001b[0m                                  Traceback (most recent call last)",
      "Input \u001b[1;32mIn [23]\u001b[0m, in \u001b[0;36m<cell line: 1>\u001b[1;34m()\u001b[0m\n\u001b[1;32m----> 1\u001b[0m predicted_notes \u001b[38;5;241m=\u001b[39m [x_int_to_note[i] \u001b[38;5;28;01mfor\u001b[39;00m i \u001b[38;5;129;01min\u001b[39;00m predictions]\n",
      "Input \u001b[1;32mIn [23]\u001b[0m, in \u001b[0;36m<listcomp>\u001b[1;34m(.0)\u001b[0m\n\u001b[1;32m----> 1\u001b[0m predicted_notes \u001b[38;5;241m=\u001b[39m [\u001b[43mx_int_to_note\u001b[49m\u001b[43m[\u001b[49m\u001b[43mi\u001b[49m\u001b[43m]\u001b[49m \u001b[38;5;28;01mfor\u001b[39;00m i \u001b[38;5;129;01min\u001b[39;00m predictions]\n",
      "\u001b[1;31mKeyError\u001b[0m: 109"
     ]
    }
   ],
   "source": [
    "predicted_notes = [x_int_to_note[i] for i in predictions]"
   ]
  },
  {
   "cell_type": "code",
   "execution_count": null,
   "id": "d956f95d",
   "metadata": {},
   "outputs": [],
   "source": []
  },
  {
   "cell_type": "code",
   "execution_count": null,
   "id": "291039ac",
   "metadata": {},
   "outputs": [],
   "source": [
    "# notes to midi format:\n",
    "def convert_to_midi(prediction_output):\n",
    "   \n",
    "    offset = 0\n",
    "    output_notes = []\n",
    "\n",
    "    # create note and chord objects based on the values generated by the model\n",
    "    for pattern in prediction_output:\n",
    "        \n",
    "        # pattern is a chord\n",
    "        if ('.' in pattern) or pattern.isdigit():\n",
    "            notes_in_chord = pattern.split('.')\n",
    "            notes = []\n",
    "            for current_note in notes_in_chord:\n",
    "                \n",
    "                cn=int(current_note)\n",
    "                new_note = note.Note(cn)\n",
    "                new_note.storedInstrument = instrument.Piano()\n",
    "                notes.append(new_note)\n",
    "                \n",
    "            new_chord = chord.Chord(notes)\n",
    "            new_chord.offset = offset\n",
    "            output_notes.append(new_chord)\n",
    "            \n",
    "        # pattern is a note\n",
    "        else:\n",
    "            \n",
    "            new_note = note.Note(pattern)\n",
    "            new_note.offset = offset\n",
    "            new_note.storedInstrument = instrument.Piano()\n",
    "            output_notes.append(new_note)\n",
    "\n",
    "        # increase offset each iteration so that notes do not stack\n",
    "        offset += 1\n",
    "    midi_stream = stream.Stream(output_notes)\n",
    "    midi_stream.write('midi', fp='music.mid')"
   ]
  },
  {
   "cell_type": "code",
   "execution_count": null,
   "id": "9705c625",
   "metadata": {},
   "outputs": [],
   "source": [
    "midi_converted = convert_to_midi(predicted_notes)"
   ]
  },
  {
   "cell_type": "code",
   "execution_count": null,
   "id": "18ad844b",
   "metadata": {},
   "outputs": [],
   "source": [
    "from music21 import midi\n",
    "def play_midi_file(midi_file_name):\n",
    "    mf = midi.MidiFile()\n",
    "\n",
    "    mf.open(midi_file_name) # path='abc.midi'\n",
    "    mf.read()\n",
    "    mf.close()\n",
    "    s = midi.translate.midiFileToStream(mf)\n",
    "    s.show('midi')"
   ]
  },
  {
   "cell_type": "code",
   "execution_count": null,
   "id": "a6fa1dbd",
   "metadata": {
    "scrolled": false
   },
   "outputs": [],
   "source": [
    "play_midi_file(\"music.mid\")"
   ]
  },
  {
   "cell_type": "code",
   "execution_count": null,
   "id": "ad3e29ed",
   "metadata": {},
   "outputs": [],
   "source": []
  }
 ],
 "metadata": {
  "kernelspec": {
   "display_name": "Python 3 (ipykernel)",
   "language": "python",
   "name": "python3"
  },
  "language_info": {
   "codemirror_mode": {
    "name": "ipython",
    "version": 3
   },
   "file_extension": ".py",
   "mimetype": "text/x-python",
   "name": "python",
   "nbconvert_exporter": "python",
   "pygments_lexer": "ipython3",
   "version": "3.9.7"
  }
 },
 "nbformat": 4,
 "nbformat_minor": 5
}
