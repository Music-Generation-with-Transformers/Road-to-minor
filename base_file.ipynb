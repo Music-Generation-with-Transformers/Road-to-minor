{
 "cells": [
  {
   "cell_type": "code",
   "execution_count": 1,
   "metadata": {},
   "outputs": [],
   "source": [
    "import random, glob\n",
    "import numpy as np"
   ]
  },
  {
   "cell_type": "code",
   "execution_count": null,
   "metadata": {},
   "outputs": [],
   "source": []
  },
  {
   "cell_type": "code",
   "execution_count": 2,
   "metadata": {},
   "outputs": [
    {
     "name": "stdout",
     "output_type": "stream",
     "text": [
      "A random song ['dataset\\\\chopin\\\\chpn-p13.mid']\n"
     ]
    }
   ],
   "source": [
    "music_files = [a for a in glob.glob(\"dataset/*/*\")]\n",
    "print(\"A random song\", random.sample(music_files, 1))"
   ]
  },
  {
   "cell_type": "code",
   "execution_count": 3,
   "metadata": {},
   "outputs": [],
   "source": [
    "from music21 import midi\n",
    "def play_midi_file(midi_file_name):\n",
    "    mf = midi.MidiFile()\n",
    "\n",
    "    mf.open(midi_file_name) # path='abc.midi'\n",
    "    mf.read()\n",
    "    mf.close()\n",
    "    s = midi.translate.midiFileToStream(mf)\n",
    "    s.show('midi')"
   ]
  },
  {
   "cell_type": "code",
   "execution_count": 4,
   "metadata": {},
   "outputs": [
    {
     "data": {
      "text/plain": [
       "300"
      ]
     },
     "execution_count": 4,
     "metadata": {},
     "output_type": "execute_result"
    }
   ],
   "source": [
    "len(music_files)"
   ]
  },
  {
   "cell_type": "code",
   "execution_count": 5,
   "metadata": {},
   "outputs": [],
   "source": [
    "from music21 import converter,corpus, chord"
   ]
  },
  {
   "cell_type": "code",
   "execution_count": null,
   "metadata": {},
   "outputs": [],
   "source": [
    "\n"
   ]
  },
  {
   "cell_type": "code",
   "execution_count": null,
   "metadata": {},
   "outputs": [],
   "source": []
  },
  {
   "cell_type": "code",
   "execution_count": null,
   "metadata": {},
   "outputs": [],
   "source": [
    "\n"
   ]
  },
  {
   "cell_type": "code",
   "execution_count": null,
   "metadata": {},
   "outputs": [],
   "source": []
  },
  {
   "cell_type": "code",
   "execution_count": null,
   "metadata": {},
   "outputs": [],
   "source": []
  },
  {
   "cell_type": "code",
   "execution_count": 6,
   "metadata": {},
   "outputs": [
    {
     "name": "stdout",
     "output_type": "stream",
     "text": [
      "(0, 'dataset\\\\albeniz\\\\alb_esp1.mid', 'D', 'minor')\n",
      "Error at 1\n",
      "(2, 'dataset\\\\albeniz\\\\alb_esp2.mid', 'D', 'major')\n",
      "(3, 'dataset\\\\albeniz\\\\alb_esp3.mid', 'E', 'minor')\n",
      "(4, 'dataset\\\\albeniz\\\\alb_esp4.mid', 'G', 'minor')\n"
     ]
    }
   ],
   "source": [
    "tonic_mode_all = []\n",
    "for i, name in enumerate(music_files[:5]):\n",
    "    try:\n",
    "        parsed_score = converter.parse(name)\n",
    "        key_of_one = parsed_score.analyze('key')\n",
    "        tonic_mode_all.append((i, name, key_of_one.tonic.name, key_of_one.mode))\n",
    "    except:\n",
    "        print(f'Error at {i}')\n",
    "        tonic_mode_all.append((i, name, 'NAN', 'NAN'))\n",
    "        continue\n",
    "    print(f'{tonic_mode_all[i]}')"
   ]
  },
  {
   "cell_type": "code",
   "execution_count": null,
   "metadata": {
    "scrolled": true
   },
   "outputs": [],
   "source": []
  },
  {
   "cell_type": "code",
   "execution_count": null,
   "metadata": {},
   "outputs": [],
   "source": []
  },
  {
   "cell_type": "code",
   "execution_count": null,
   "metadata": {},
   "outputs": [],
   "source": []
  },
  {
   "cell_type": "code",
   "execution_count": null,
   "metadata": {},
   "outputs": [],
   "source": []
  },
  {
   "cell_type": "code",
   "execution_count": null,
   "metadata": {},
   "outputs": [],
   "source": []
  },
  {
   "cell_type": "code",
   "execution_count": null,
   "metadata": {},
   "outputs": [],
   "source": []
  },
  {
   "cell_type": "code",
   "execution_count": null,
   "metadata": {},
   "outputs": [],
   "source": []
  },
  {
   "cell_type": "code",
   "execution_count": 7,
   "metadata": {},
   "outputs": [],
   "source": [
    "def get_chords(music_files):\n",
    "    chords = []\n",
    "    for file_no, filename in enumerate(music_files):\n",
    "        try:\n",
    "            chords.append(converter.parse(filename))\n",
    "            print(f'Happening of {file_no}', \"filename = \", filename)\n",
    "            \n",
    "        except:\n",
    "            print(f'Happening of {file_no}', \"filename = \", filename)\n",
    "            print(\"file failed!!!!!\")\n",
    "            continue\n",
    "        \n",
    "    \n",
    "    return chords"
   ]
  },
  {
   "cell_type": "code",
   "execution_count": 8,
   "metadata": {},
   "outputs": [],
   "source": [
    "music_files_5 = music_files[:5]\n",
    "#get_chords(music_files[:10])"
   ]
  },
  {
   "cell_type": "code",
   "execution_count": 9,
   "metadata": {
    "scrolled": true
   },
   "outputs": [
    {
     "name": "stdout",
     "output_type": "stream",
     "text": [
      "Happening of 0 filename =  dataset\\albeniz\\alb_esp1.mid\n",
      "Happening of 1 filename =  dataset\\albeniz\\alb_esp1.song\n",
      "file failed!!!!!\n",
      "Happening of 2 filename =  dataset\\albeniz\\alb_esp2.mid\n",
      "Happening of 3 filename =  dataset\\albeniz\\alb_esp3.mid\n",
      "Happening of 4 filename =  dataset\\albeniz\\alb_esp4.mid\n"
     ]
    }
   ],
   "source": [
    "chords_of_all_music = get_chords(music_files_5)"
   ]
  },
  {
   "cell_type": "code",
   "execution_count": 10,
   "metadata": {},
   "outputs": [
    {
     "data": {
      "text/plain": [
       "[<music21.stream.Score 0x2e90c9bcb20>,\n",
       " <music21.stream.Score 0x2e90e5a3520>,\n",
       " <music21.stream.Score 0x2e90f6d8070>,\n",
       " <music21.stream.Score 0x2e9112091c0>]"
      ]
     },
     "execution_count": 10,
     "metadata": {},
     "output_type": "execute_result"
    }
   ],
   "source": [
    "#compressed chords if all music\n",
    "chords_of_all_music[:5]"
   ]
  },
  {
   "cell_type": "code",
   "execution_count": null,
   "metadata": {},
   "outputs": [],
   "source": []
  },
  {
   "cell_type": "code",
   "execution_count": null,
   "metadata": {},
   "outputs": [],
   "source": []
  },
  {
   "cell_type": "code",
   "execution_count": 11,
   "metadata": {},
   "outputs": [],
   "source": [
    "from music21 import chord, duration"
   ]
  },
  {
   "cell_type": "markdown",
   "metadata": {},
   "source": [
    "Classifying the music into different modes\n",
    "- firstly, let's code for major mode"
   ]
  },
  {
   "cell_type": "code",
   "execution_count": 12,
   "metadata": {},
   "outputs": [],
   "source": [
    "from music21 import *"
   ]
  },
  {
   "cell_type": "code",
   "execution_count": 13,
   "metadata": {},
   "outputs": [],
   "source": [
    "# for seeing output from chords and given duration:\n",
    "def get_music_midi_from_chords_and_duration(input_chords):\n",
    "    midi_stream = stream.Stream()\n",
    "\n",
    "    for note_pattern, duration_pattern in input_chords:\n",
    "        notes_in_chord = note_pattern.split('.')\n",
    "        \n",
    "        chord_notes = []\n",
    "        for current_note in notes_in_chord:\n",
    "            new_note = note.Note(current_note)\n",
    "            new_note.duration = duration.Duration(duration_pattern)\n",
    "            new_note.storedInstrument = instrument.Violoncello()\n",
    "            chord_notes.append(new_note)\n",
    "        new_chord = chord.Chord(chord_notes)\n",
    "        \n",
    "        midi_stream.append(new_chord)\n",
    "\n",
    "        new_tempo = tempo.MetronomeMark(number=50)\n",
    "            \n",
    "        midi_stream.append(new_tempo)\n",
    "\n",
    "    midi_stream = midi_stream.chordify()\n",
    "    timestr = time.strftime(\"%Y%m%d-%H%M%S\")\n",
    "    new_file = 'output-' + timestr + '.mid'\n",
    "    return midi_stream.write('midi', fp=new_file)"
   ]
  },
  {
   "cell_type": "code",
   "execution_count": null,
   "metadata": {},
   "outputs": [],
   "source": []
  },
  {
   "cell_type": "code",
   "execution_count": null,
   "metadata": {},
   "outputs": [],
   "source": []
  },
  {
   "cell_type": "code",
   "execution_count": null,
   "metadata": {},
   "outputs": [],
   "source": []
  },
  {
   "cell_type": "code",
   "execution_count": null,
   "metadata": {},
   "outputs": [],
   "source": []
  },
  {
   "cell_type": "code",
   "execution_count": 14,
   "metadata": {},
   "outputs": [],
   "source": [
    "def round_chord_durations(number):\n",
    "    if(number>1.25):\n",
    "        return 2\n",
    "    if(number>.30):\n",
    "        return 1.25\n",
    "    if(number>.10):\n",
    "        return 0.3\n",
    "    return 0.1"
   ]
  },
  {
   "cell_type": "markdown",
   "metadata": {},
   "source": [
    "For chord and duration of a single song(music file)"
   ]
  },
  {
   "cell_type": "code",
   "execution_count": null,
   "metadata": {},
   "outputs": [],
   "source": []
  },
  {
   "cell_type": "code",
   "execution_count": 15,
   "metadata": {},
   "outputs": [],
   "source": [
    "def get_chord_and_duration_data(indv_midi_chordified):\n",
    "    chord_duration_data = []\n",
    "    for element in indv_midi_chordified.flat:\n",
    "        if isinstance(element, chord.Chord):\n",
    "            chord_duration = round_chord_durations(element.duration.quarterLength)\n",
    "            chord_name = \".\".join([n.nameWithOctave for n in element.pitches])\n",
    "            chord_duration_data.append((chord_name, chord_duration))\n",
    "\n",
    "    return chord_duration_data"
   ]
  },
  {
   "cell_type": "code",
   "execution_count": null,
   "metadata": {},
   "outputs": [],
   "source": []
  },
  {
   "cell_type": "code",
   "execution_count": 16,
   "metadata": {
    "scrolled": true
   },
   "outputs": [],
   "source": [
    "chords_and_duration_data_all_music= []\n",
    "for one_music_chords in chords_of_all_music:\n",
    "   chords_and_duration_data_all_music.append((get_chord_and_duration_data(one_music_chords)))"
   ]
  },
  {
   "cell_type": "code",
   "execution_count": 17,
   "metadata": {},
   "outputs": [
    {
     "data": {
      "text/plain": [
       "float"
      ]
     },
     "execution_count": 17,
     "metadata": {},
     "output_type": "execute_result"
    }
   ],
   "source": [
    "# this is the main data:\n",
    "type(chords_and_duration_data_all_music[0][0][1])"
   ]
  },
  {
   "cell_type": "code",
   "execution_count": 18,
   "metadata": {},
   "outputs": [
    {
     "name": "stdout",
     "output_type": "stream",
     "text": [
      "Generating music from our processed chords...\n"
     ]
    },
    {
     "ename": "NameError",
     "evalue": "name 'get_music_midi_filename_from_chords' is not defined",
     "output_type": "error",
     "traceback": [
      "\u001b[1;31m---------------------------------------------------------------------------\u001b[0m",
      "\u001b[1;31mNameError\u001b[0m                                 Traceback (most recent call last)",
      "Input \u001b[1;32mIn [18]\u001b[0m, in \u001b[0;36m<cell line: 2>\u001b[1;34m()\u001b[0m\n\u001b[0;32m      1\u001b[0m \u001b[38;5;28mprint\u001b[39m(\u001b[38;5;124m\"\u001b[39m\u001b[38;5;124mGenerating music from our processed chords...\u001b[39m\u001b[38;5;124m\"\u001b[39m)\n\u001b[1;32m----> 2\u001b[0m proccessed_chords_to_midi_sample \u001b[38;5;241m=\u001b[39m \u001b[43mget_music_midi_filename_from_chords\u001b[49m(chords_and_duration_data_all_music[\u001b[38;5;241m0\u001b[39m][\u001b[38;5;241m4\u001b[39m:\u001b[38;5;241m50\u001b[39m])\n\u001b[0;32m      3\u001b[0m \u001b[38;5;28mprint\u001b[39m(proccessed_chords_to_midi_sample)\n\u001b[0;32m      4\u001b[0m play_midi_file(proccessed_chords_to_midi_sample)\n",
      "\u001b[1;31mNameError\u001b[0m: name 'get_music_midi_filename_from_chords' is not defined"
     ]
    }
   ],
   "source": [
    "print(\"Generating music from our processed chords...\")\n",
    "proccessed_chords_to_midi_sample = get_music_midi_filename_from_chords(chords_and_duration_data_all_music[0][4:50])\n",
    "print(proccessed_chords_to_midi_sample)\n",
    "play_midi_file(proccessed_chords_to_midi_sample)"
   ]
  },
  {
   "cell_type": "code",
   "execution_count": null,
   "metadata": {},
   "outputs": [],
   "source": []
  },
  {
   "cell_type": "markdown",
   "metadata": {},
   "source": [
    "from Tonic_mode_all, separating major and minor songs "
   ]
  },
  {
   "cell_type": "code",
   "execution_count": 19,
   "metadata": {},
   "outputs": [
    {
     "data": {
      "text/plain": [
       "(0, 'minor')"
      ]
     },
     "execution_count": 19,
     "metadata": {},
     "output_type": "execute_result"
    }
   ],
   "source": [
    "tonic_mode_all[0][0], tonic_mode_all[0][-1]"
   ]
  },
  {
   "cell_type": "code",
   "execution_count": null,
   "metadata": {},
   "outputs": [],
   "source": []
  },
  {
   "cell_type": "code",
   "execution_count": 20,
   "metadata": {},
   "outputs": [],
   "source": [
    "all_major_songs_chords_and_duration = []\n",
    "all_minor_songs_chords_and_duration = []\n",
    "for i in range(len(tonic_mode_all)):\n",
    "    if(tonic_mode_all[i][-1] == 'major'):\n",
    "        try:\n",
    "            all_major_songs_chords_and_duration.append(chords_and_duration_data_all_music[i])\n",
    "        except:\n",
    "            all_major_songs_chords_and_duration.append('NANNNNNN')\n",
    "    else:\n",
    "        try:\n",
    "            all_minor_songs_chords_and_duration.append(chords_and_duration_data_all_music[i])\n",
    "        except:\n",
    "             all_minor_songs_chords_and_duration.append('NANNNNNN')"
   ]
  },
  {
   "cell_type": "code",
   "execution_count": 21,
   "metadata": {},
   "outputs": [
    {
     "data": {
      "text/plain": [
       "(4,)"
      ]
     },
     "execution_count": 21,
     "metadata": {},
     "output_type": "execute_result"
    }
   ],
   "source": [
    "len(all_minor_songs_chords_and_duration), #minor_songs_chords_with_duration, len(minor_songs_chords_with_duration)"
   ]
  },
  {
   "cell_type": "code",
   "execution_count": 22,
   "metadata": {},
   "outputs": [],
   "source": [
    "major_dataset = all_major_songs_chords_and_duration \n",
    "minor_dataset = all_minor_songs_chords_and_duration"
   ]
  },
  {
   "cell_type": "code",
   "execution_count": 23,
   "metadata": {},
   "outputs": [],
   "source": [
    "#just a reference code\n",
    "#major_dataset\n",
    "#y=np.array(major_dataset)\n",
    "#unique = set(major_dataset_all)\n",
    "#unique2 = set(minor_dataset_all)"
   ]
  },
  {
   "cell_type": "code",
   "execution_count": 24,
   "metadata": {},
   "outputs": [
    {
     "data": {
      "text/plain": [
       "[[('D6.E6', 0.3),\n",
       "  ('D4.E4', 0.3),\n",
       "  ('D6.E6', 0.3),\n",
       "  ('D4.E4', 0.3),\n",
       "  ('D6.E6', 0.3),\n",
       "  ('D4.E4', 0.3),\n",
       "  ('D6.E6', 0.3),\n",
       "  ('D4.E4', 0.3),\n",
       "  ('D6.E6', 0.3),\n",
       "  ('D4.E4', 0.3),\n",
       "  ('D6.E6', 0.3),\n",
       "  ('D4.E4', 0.3),\n",
       "  ('C4.B-3', 0.3),\n",
       "  ('E6.F6', 0.3),\n",
       "  ('E4.F4', 0.3),\n",
       "  ('D6.E6', 0.3),\n",
       "  ('D4.E4', 0.3),\n",
       "  ('B-6.C7', 0.3),\n",
       "  ('B-4.C5', 0.3),\n",
       "  ('F6.G6', 0.3),\n",
       "  ('F4.G4', 0.3),\n",
       "  ('C4.B-3', 0.3),\n",
       "  ('E4.C#4', 1.25),\n",
       "  ('B-3.E4.D4', 1.25),\n",
       "  ('C#4.E4', 1.25),\n",
       "  ('B-3.E4.D4', 1.25),\n",
       "  ('B-4.E5', 2),\n",
       "  ('G#3.D4', 2),\n",
       "  ('C6.D6', 0.3),\n",
       "  ('C4.D4', 0.3),\n",
       "  ('E7.A6.A7', 2),\n",
       "  ('C#6.A4.E5', 2)],\n",
       " [('D2.D3', 2),\n",
       "  ('A4.F#4.D4', 1.25),\n",
       "  ('A1.A2', 1.25),\n",
       "  ('D2.D3', 2),\n",
       "  ('D4.F#4.A4', 1.25),\n",
       "  ('A1.A2', 1.25),\n",
       "  ('A3.D4', 1.25),\n",
       "  ('F#4.F#4', 0.3),\n",
       "  ('A3.D4.F#4.A4', 2),\n",
       "  ('F#4.D5', 0.3),\n",
       "  ('C#5.E5', 0.3),\n",
       "  ('F4.B4', 1.25),\n",
       "  ('C#4.G4', 2),\n",
       "  ('E4.G4', 0.3),\n",
       "  ('F#4.A4', 0.3),\n",
       "  ('G4.B4', 1.25),\n",
       "  ('C#5.A4', 0.3),\n",
       "  ('C#5.E5', 1.25),\n",
       "  ('B4.D5', 1.25),\n",
       "  ('B4.D5.C#5.E5', 0.3),\n",
       "  ('B4.D5', 0.3),\n",
       "  ('C#5.A4', 1.25),\n",
       "  ('C#5.E5', 0.3),\n",
       "  ('G4.B4', 0.3),\n",
       "  ('B4.D5', 1.25),\n",
       "  ('F#4.A4', 0.3),\n",
       "  ('A4.C#5', 0.3),\n",
       "  ('E4.G4', 0.3),\n",
       "  ('F4.B4', 1.25),\n",
       "  ('A4.F#4', 1.25),\n",
       "  ('D4.D5', 1.25),\n",
       "  ('B2.F#3', 1.25),\n",
       "  ('G4.D4', 1.25),\n",
       "  ('B2.F3', 1.25),\n",
       "  ('D5.D4.F#4', 2),\n",
       "  ('G#4.F#5', 1.25),\n",
       "  ('A4.F#5', 1.25),\n",
       "  ('G4.C#5', 1.25),\n",
       "  ('A4.E4', 1.25),\n",
       "  ('C#4.F#4', 1.25),\n",
       "  ('A4.D4', 1.25),\n",
       "  ('B2.F3', 1.25),\n",
       "  ('G#4.D4', 1.25),\n",
       "  ('C#4.A4', 1.25),\n",
       "  ('A3.C#4', 0.3),\n",
       "  ('A3.D4', 1.25),\n",
       "  ('F#4.F#4', 0.3),\n",
       "  ('D4.A3.F#4.A4', 2),\n",
       "  ('F#4.D5', 0.3),\n",
       "  ('C#5.E5', 0.3),\n",
       "  ('F4.B4', 1.25),\n",
       "  ('C#4.G4', 2),\n",
       "  ('E4.G4', 0.3),\n",
       "  ('F#4.B-4', 0.3),\n",
       "  ('G4.B4', 1.25),\n",
       "  ('B-4.C#5', 0.3),\n",
       "  ('E5.C#5', 1.25),\n",
       "  ('D5.G4.E4', 1.25),\n",
       "  ('E4.F#4.B-4', 1.25),\n",
       "  ('F#4.B-4', 0.3),\n",
       "  ('F#4.C#5', 1.25),\n",
       "  ('B-3.F#4', 1.25),\n",
       "  ('F4.C#5', 1.25),\n",
       "  ('F#4.D5', 1.25),\n",
       "  ('G4.B4', 2),\n",
       "  ('F#4.B4', 2),\n",
       "  ('F#3.A3', 0.3),\n",
       "  ('G4.B4', 2),\n",
       "  ('F#4.B4', 2),\n",
       "  ('F#3.A3', 0.3),\n",
       "  ('D4.F#4', 2),\n",
       "  ('F#4.C#4', 2),\n",
       "  ('C#3.F3', 0.3),\n",
       "  ('B-4.C#5', 0.3),\n",
       "  ('C#4.F4', 0.3),\n",
       "  ('C#4.F#4.B-4', 2),\n",
       "  ('E-5.F5', 0.3),\n",
       "  ('E-4.F4.E-4', 0.3),\n",
       "  ('B-4.F#4', 1.25),\n",
       "  ('C#5.F5', 0.3),\n",
       "  ('E-5.F5', 0.3),\n",
       "  ('F#4.C#4.B-4', 1.25),\n",
       "  ('D4.F#4', 1.25),\n",
       "  ('D3.C4', 1.25),\n",
       "  ('C#3.B3', 1.25),\n",
       "  ('C#4.F#4', 1.25),\n",
       "  ('F#3.B-3', 1.25),\n",
       "  ('C4.E-4', 1.25),\n",
       "  ('B2.A3', 1.25),\n",
       "  ('A2.G3', 1.25),\n",
       "  ('A3.D4', 1.25),\n",
       "  ('F#4.F#4', 0.3),\n",
       "  ('F#4.A3.D4.A4', 2),\n",
       "  ('F#4.D5', 0.3),\n",
       "  ('C#5.E5', 0.3),\n",
       "  ('B4.F4', 0.3),\n",
       "  ('C#4.G4', 2),\n",
       "  ('E4.G4', 0.3),\n",
       "  ('F#4.A4', 0.3),\n",
       "  ('G4.B4', 1.25),\n",
       "  ('A4.C#5', 0.3),\n",
       "  ('C#5.E5', 1.25),\n",
       "  ('B4.D5', 1.25),\n",
       "  ('D5.B4.C#5.E5', 0.3),\n",
       "  ('B4.D5', 0.3),\n",
       "  ('A4.C#5', 1.25),\n",
       "  ('C#5.E5', 0.3),\n",
       "  ('G4.B4', 0.3),\n",
       "  ('D5.B4', 1.25),\n",
       "  ('F#4.A4', 0.3),\n",
       "  ('A4.C#5', 0.3),\n",
       "  ('E4.G4', 0.3),\n",
       "  ('F4.B4', 1.25),\n",
       "  ('F#4.A4', 1.25),\n",
       "  ('D4.D5', 1.25),\n",
       "  ('A4.B-4.A4', 0.3),\n",
       "  ('F#4.A4', 0.3),\n",
       "  ('C4.E-4', 2),\n",
       "  ('B2.A3', 2),\n",
       "  ('D4.F#4.A4', 1.25),\n",
       "  ('D4.F#4.A4', 1.25),\n",
       "  ('F#3.A3.F#4.D4', 2),\n",
       "  ('D2.A2.D3', 2),\n",
       "  ('D6.A5.D5', 2),\n",
       "  ('D4.A4.F#5', 2)],\n",
       " [('E5.F#5', 0.3),\n",
       "  ('E4.F#4', 0.3),\n",
       "  ('E5.C5', 0.3),\n",
       "  ('E4.C4', 0.3),\n",
       "  ('E5.F#5', 0.3),\n",
       "  ('E4.F#4', 0.3),\n",
       "  ('E5.C5', 0.3),\n",
       "  ('E4.C4', 0.3),\n",
       "  ('E5.F#5', 0.3),\n",
       "  ('E5.C5', 0.3),\n",
       "  ('E5.F#5', 0.3),\n",
       "  ('E5.C5', 0.3),\n",
       "  ('G4.A4', 0.3),\n",
       "  ('E5.F#5', 0.3),\n",
       "  ('E5.C5', 0.3),\n",
       "  ('E5.F#5', 0.3),\n",
       "  ('E5.C5', 0.3),\n",
       "  ('F#4.E4', 0.3),\n",
       "  ('C4.F#4', 2),\n",
       "  ('E-6.B6.F#7', 0.3),\n",
       "  ('E-6.B6.F#7', 0.3),\n",
       "  ('E5.F#5', 0.3),\n",
       "  ('E5.C5', 0.3),\n",
       "  ('E5.F#5', 0.3),\n",
       "  ('E5.C5', 0.3),\n",
       "  ('B5.F#5', 1.25),\n",
       "  ('G#5.F5', 1.25),\n",
       "  ('A5.E5', 1.25),\n",
       "  ('F#5.E-5', 1.25),\n",
       "  ('D5.G5', 1.25),\n",
       "  ('C5.D5', 1.25),\n",
       "  ('B4.D5', 0.3),\n",
       "  ('E5.A5', 0.3),\n",
       "  ('E5.F#5', 0.3),\n",
       "  ('E5.C5', 0.3),\n",
       "  ('E5.F#5', 0.3),\n",
       "  ('E5.C5', 0.3),\n",
       "  ('G4.A4', 0.3),\n",
       "  ('E5.F#5', 0.3),\n",
       "  ('E5.C5', 0.3),\n",
       "  ('E5.F#5', 0.3),\n",
       "  ('E5.C5', 0.3),\n",
       "  ('F#4.E4', 0.3),\n",
       "  ('C4.F#4', 2),\n",
       "  ('E-6.B6.F#7', 0.3),\n",
       "  ('E-6.B6.F#7', 0.3),\n",
       "  ('E5.F#5', 0.3),\n",
       "  ('E5.C5', 0.3),\n",
       "  ('E5.F#5', 0.3),\n",
       "  ('E5.C5', 0.3),\n",
       "  ('C6.D6', 0.3),\n",
       "  ('C6.A5', 0.3),\n",
       "  ('C6.D6', 0.3),\n",
       "  ('C6.A5', 0.3),\n",
       "  ('F5.G#5', 1.25),\n",
       "  ('A5.E5', 1.25),\n",
       "  ('E-5.F#5', 1.25),\n",
       "  ('D5.G5', 1.25),\n",
       "  ('C5.D5', 1.25),\n",
       "  ('B4.D5', 0.3),\n",
       "  ('E5.A5', 0.3),\n",
       "  ('G6.A6', 0.3),\n",
       "  ('G4.A4', 0.3),\n",
       "  ('G6.F#6', 0.3),\n",
       "  ('G4.F#4', 0.3),\n",
       "  ('E-5.B5.B4', 0.3),\n",
       "  ('E-5.B5.B4', 0.3),\n",
       "  ('E-5.B5.B4', 0.3),\n",
       "  ('E5.A5.C5', 0.3),\n",
       "  ('E5.A5.C5', 0.3),\n",
       "  ('E5.A5.C5', 0.3),\n",
       "  ('E-5.B5.B4', 0.3),\n",
       "  ('B5.E-5.B4', 0.3),\n",
       "  ('B5.E-5.B4', 0.3),\n",
       "  ('A5.E5.C5', 0.3),\n",
       "  ('E5.A5.C5', 0.3),\n",
       "  ('E5.A5.C5', 0.3),\n",
       "  ('E-5.B5.B4', 0.3),\n",
       "  ('B5.E-5.B4', 0.3),\n",
       "  ('E-5.B5.B4', 0.3),\n",
       "  ('B5.E-5.B4', 0.3),\n",
       "  ('B5.E-5.B4', 0.3),\n",
       "  ('E-5.B5.B4', 0.3),\n",
       "  ('E-5.B5.B4', 0.3),\n",
       "  ('E-5.B5.B4', 0.3),\n",
       "  ('B5.E-5.B4', 0.3),\n",
       "  ('E-5.B5.B4', 0.3),\n",
       "  ('B5.E-5.B4', 0.3),\n",
       "  ('E-5.B5.B4', 0.3),\n",
       "  ('E-7.F#6.E-6', 2),\n",
       "  ('B5.F#5.B4', 2),\n",
       "  ('D5.E5', 0.3),\n",
       "  ('E5.F#5', 0.3),\n",
       "  ('E5.D5', 1.25),\n",
       "  ('F#5.G5', 0.3),\n",
       "  ('F#5.E5', 0.3),\n",
       "  ('E5.F#5', 0.3),\n",
       "  ('E5.D5', 0.3),\n",
       "  ('C5.D5', 0.3),\n",
       "  ('C5.B4', 0.3),\n",
       "  ('A4.G4', 0.3),\n",
       "  ('F#4.G4', 0.3),\n",
       "  ('F#4.E4', 0.3),\n",
       "  ('D4.C4', 0.3),\n",
       "  ('D4.E-4.E4', 0.3),\n",
       "  ('F#4.A4.G4', 0.3),\n",
       "  ('F#4.E4.E-4', 0.3),\n",
       "  ('E4.C4', 0.3),\n",
       "  ('E4.C4', 0.1),\n",
       "  ('E5.F#5', 0.3),\n",
       "  ('E4.F#4', 0.3),\n",
       "  ('E5.C5', 0.3),\n",
       "  ('E4.C4', 0.3),\n",
       "  ('E5.F#5', 0.3),\n",
       "  ('E4.F#4', 0.3),\n",
       "  ('E5.C5', 0.3),\n",
       "  ('E4.C4', 0.3),\n",
       "  ('E5.F#5', 0.3),\n",
       "  ('E5.C5', 0.3),\n",
       "  ('E5.F#5', 0.3),\n",
       "  ('E5.C5', 0.3),\n",
       "  ('G4.A4', 0.3),\n",
       "  ('E5.F#5', 0.3),\n",
       "  ('E5.C5', 0.3),\n",
       "  ('E5.F#5', 0.3),\n",
       "  ('E5.C5', 0.3),\n",
       "  ('F#4.E4', 0.3),\n",
       "  ('C4.F#4', 2),\n",
       "  ('E-6.B6.F#7', 0.3),\n",
       "  ('E-6.B6.F#7', 1.25),\n",
       "  ('E5.F#5', 0.3),\n",
       "  ('E5.C5', 0.3),\n",
       "  ('E5.F#5', 0.3),\n",
       "  ('E5.C5', 0.3),\n",
       "  ('F#5.B5', 1.25),\n",
       "  ('F5.G#5', 1.25),\n",
       "  ('E5.A5', 1.25),\n",
       "  ('E-5.F#5', 1.25),\n",
       "  ('D5.G5', 1.25),\n",
       "  ('D5.C5', 1.25),\n",
       "  ('B4.D5', 0.3),\n",
       "  ('A5.E5', 0.3),\n",
       "  ('E5.F#5', 0.3),\n",
       "  ('E5.C5', 0.3),\n",
       "  ('E5.F#5', 0.3),\n",
       "  ('E5.C5', 0.3),\n",
       "  ('G4.A4', 0.3),\n",
       "  ('E5.F#5', 0.3),\n",
       "  ('E5.C5', 0.3),\n",
       "  ('E5.F#5', 0.3),\n",
       "  ('E5.C5', 0.3),\n",
       "  ('F#4.E4', 0.3),\n",
       "  ('C4.F#4', 2),\n",
       "  ('E-6.B6.F#7', 0.3),\n",
       "  ('E-6.B6.F#7', 1.25),\n",
       "  ('E5.F#5', 0.3),\n",
       "  ('E5.C5', 0.3),\n",
       "  ('E5.F#5', 0.3),\n",
       "  ('E5.C5', 0.3),\n",
       "  ('C6.D6', 0.3),\n",
       "  ('C6.A5', 0.3),\n",
       "  ('C6.D6', 0.3),\n",
       "  ('C6.A5', 0.3),\n",
       "  ('F5.G#5', 1.25),\n",
       "  ('A5.E5', 1.25),\n",
       "  ('E-5.F#5', 1.25),\n",
       "  ('D5.G5', 1.25),\n",
       "  ('D5.C5', 1.25),\n",
       "  ('D5.B4', 0.3),\n",
       "  ('A5.E5', 0.3),\n",
       "  ('G6.A6', 0.3),\n",
       "  ('G4.A4', 0.3),\n",
       "  ('G6.F#6', 0.3),\n",
       "  ('G4.F#4', 0.3),\n",
       "  ('E-5.B5.B4', 0.3),\n",
       "  ('B5.E-5.B4', 0.3),\n",
       "  ('E-5.B5.B4', 0.3),\n",
       "  ('E5.A5.C5', 0.3),\n",
       "  ('A5.E5.C5', 0.3),\n",
       "  ('E5.A5.C5', 0.3),\n",
       "  ('B5.E-5.B4', 0.3),\n",
       "  ('E-5.B5.B4', 0.3),\n",
       "  ('E-5.B5.B4', 0.3),\n",
       "  ('A5.E5.C5', 0.3),\n",
       "  ('A5.E5.C5', 0.3),\n",
       "  ('A5.E5.C5', 0.3),\n",
       "  ('E-5.B5.B4', 0.3),\n",
       "  ('E-5.B5.B4', 0.3),\n",
       "  ('E-5.B5.B4', 0.3),\n",
       "  ('E-5.B5.B4', 0.3),\n",
       "  ('B5.E-5.B4', 0.3),\n",
       "  ('E-5.B5.B4', 0.3),\n",
       "  ('B5.E-5.B4', 0.3),\n",
       "  ('B5.E-5.B4', 0.3),\n",
       "  ('E-5.B5.B4', 0.3),\n",
       "  ('E-5.B5.B4', 0.3),\n",
       "  ('B5.E-5.B4', 0.3),\n",
       "  ('B5.E-5.B4', 0.3),\n",
       "  ('F#6.E-6.E-7', 2),\n",
       "  ('B5.F#5.B4', 2),\n",
       "  ('C3.F#3', 1.25),\n",
       "  ('C4.E4', 0.3),\n",
       "  ('E-4.B4', 1.25),\n",
       "  ('B2.F#3', 1.25),\n",
       "  ('E-6.F#5.E-5', 2),\n",
       "  ('B3.F#4.B4', 2)],\n",
       " [('G5.A5', 0.3),\n",
       "  ('G5.F#5', 0.3),\n",
       "  ('A5.D5', 0.3),\n",
       "  ('F6.G#5.D6', 0.3),\n",
       "  ('E6.G5.C6', 0.3),\n",
       "  ('F#5.E-6.C6', 0.3),\n",
       "  ('G5.D6', 0.3),\n",
       "  ('D5.A5.C6', 0.3),\n",
       "  ('G5.D5.B-5', 1.25),\n",
       "  ('B4.G#5', 1.25),\n",
       "  ('G5.E-5.B-5', 1.25),\n",
       "  ('G5.B-4.D5.B-5', 2),\n",
       "  ('B-4.D5', 1.25),\n",
       "  ('C5.A4', 0.3),\n",
       "  ('C5.E-5', 0.3),\n",
       "  ('F5.A5', 1.25),\n",
       "  ('D5.F5', 0.3),\n",
       "  ('B-4.D5', 0.3),\n",
       "  ('B-4.G4', 0.3),\n",
       "  ('G5.E-5', 0.3),\n",
       "  ('E-5.C5', 0.3),\n",
       "  ('A4.C5', 0.3),\n",
       "  ('A4.F#4', 0.3),\n",
       "  ('D5.F5', 0.3),\n",
       "  ('B-4.D5', 0.3),\n",
       "  ('G4.B-4', 0.3),\n",
       "  ('F#4.C4', 1.25),\n",
       "  ('D4.F4.G#4', 2),\n",
       "  ('C5.D5', 0.3),\n",
       "  ('G4.E-4.A3', 2),\n",
       "  ('B-4.G4', 1.25),\n",
       "  ('B-4.F#4', 2),\n",
       "  ('C#4.D4', 0.3),\n",
       "  ('G4.D5.G5', 0.3),\n",
       "  ('G2.D3.B-3', 1.25),\n",
       "  ('G4.D5.G5', 0.3),\n",
       "  ('G5.A5', 0.3),\n",
       "  ('G5.F#5', 0.3),\n",
       "  ('A5.D5', 0.3),\n",
       "  ('C4.E-4', 2),\n",
       "  ('D5.E-5', 0.3),\n",
       "  ('C4.E-4', 2),\n",
       "  ('C#4.A4.F#4', 1.25),\n",
       "  ('D4.B-4', 1.25),\n",
       "  ('B-4.F4.D5', 1.25),\n",
       "  ('B-5.C6', 0.3),\n",
       "  ('B-5.A5', 0.3),\n",
       "  ('C6.F5', 0.3),\n",
       "  ('D4.F3', 2),\n",
       "  ('D5.E-5', 0.3),\n",
       "  ('E-4.B3.F#3', 2),\n",
       "  ('G#4.B-4', 1.25),\n",
       "  ('E-4.F4', 0.3),\n",
       "  ('B-4.F#4', 2),\n",
       "  ('G#4.D4', 2),\n",
       "  ('F5.F#5', 0.3),\n",
       "  ('B-4.F#5', 0.3),\n",
       "  ('F#4.B-3', 2),\n",
       "  ('G#4.B-4', 1.25),\n",
       "  ('E-4.F4', 0.3),\n",
       "  ('F#4.B-4', 2),\n",
       "  ('D4.B-3', 2),\n",
       "  ('C5.D5', 0.3),\n",
       "  ('G4.E-4.C4', 2),\n",
       "  ('G4.B-4', 1.25),\n",
       "  ('B-4.F#4', 2),\n",
       "  ('C#4.D4', 0.3),\n",
       "  ('G4.D5.G5', 0.3),\n",
       "  ('G2.D3.B-3', 1.25),\n",
       "  ('G4.D5.G5', 0.3),\n",
       "  ('G5.A5', 0.3),\n",
       "  ('G5.F#5', 0.3),\n",
       "  ('D5.A5', 0.3),\n",
       "  ('G#5.F6.D6', 0.3),\n",
       "  ('C6.G5.E6', 0.3),\n",
       "  ('C6.F#5.E-6', 0.3),\n",
       "  ('D6.G5', 0.3),\n",
       "  ('C6.D5.A5', 0.3),\n",
       "  ('D5.B-5.G5', 1.25),\n",
       "  ('G#5.B4', 1.25),\n",
       "  ('B-5.E-5.G5', 1.25),\n",
       "  ('D5.B-4.G5.B-5', 2),\n",
       "  ('D5.B-4', 1.25),\n",
       "  ('C5.A4', 0.3),\n",
       "  ('E-5.C5', 0.3),\n",
       "  ('A5.F5', 1.25),\n",
       "  ('D5.F5', 0.3),\n",
       "  ('D5.B-4', 0.3),\n",
       "  ('G4.B-4', 0.3),\n",
       "  ('E-5.G5', 0.3),\n",
       "  ('C5.E-5', 0.3),\n",
       "  ('A4.C5', 0.3),\n",
       "  ('A4.F#4', 0.3),\n",
       "  ('F5.D5', 0.3),\n",
       "  ('D5.B-4', 1.25),\n",
       "  ('G4.B-4', 1.25),\n",
       "  ('F#4.C4', 1.25),\n",
       "  ('G2.D3', 2),\n",
       "  ('B3.D4', 1.25),\n",
       "  ('D2.D3', 1.25),\n",
       "  ('G#2.D3', 2),\n",
       "  ('B3.F4', 1.25),\n",
       "  ('D2.D3', 1.25),\n",
       "  ('A2.D3', 2),\n",
       "  ('C4.D4', 1.25),\n",
       "  ('D2.D3', 1.25),\n",
       "  ('F#2.D3', 2),\n",
       "  ('C4.D4', 1.25),\n",
       "  ('D2.D3', 1.25),\n",
       "  ('G2.D3', 2),\n",
       "  ('B3.D4', 1.25),\n",
       "  ('D2.D3', 1.25),\n",
       "  ('E4.D4', 1.25),\n",
       "  ('D4.E4.G#4', 1.25),\n",
       "  ('G2.D3', 2),\n",
       "  ('B3.D4', 1.25),\n",
       "  ('D2.D3', 1.25),\n",
       "  ('G#2.D3', 2),\n",
       "  ('B3.F4', 1.25),\n",
       "  ('D2.D3', 1.25),\n",
       "  ('A2.D3', 2),\n",
       "  ('C4.D4', 1.25),\n",
       "  ('D2.D3', 1.25),\n",
       "  ('F#2.D3', 2),\n",
       "  ('C4.D4', 1.25),\n",
       "  ('D2.D3', 1.25),\n",
       "  ('G2.D3', 2),\n",
       "  ('B3.D4', 1.25),\n",
       "  ('E4.E5', 1.25),\n",
       "  ('D4.B4', 2),\n",
       "  ('A4.C5', 2),\n",
       "  ('G#4.B4', 1.25),\n",
       "  ('B4.D5', 1.25),\n",
       "  ('A4.C5', 1.25),\n",
       "  ('G#4.B4', 1.25),\n",
       "  ('F4.G#4', 1.25),\n",
       "  ('F#4.A4', 1.25),\n",
       "  ('A4.C5', 1.25),\n",
       "  ('C5.E5', 1.25),\n",
       "  ('E5.G5', 1.25),\n",
       "  ('D5.F#5', 1.25),\n",
       "  ('A5.F#5', 1.25),\n",
       "  ('D5.F#5', 1.25),\n",
       "  ('C5.E5', 1.25),\n",
       "  ('A4.C5', 1.25),\n",
       "  ('G#4.B4', 1.25),\n",
       "  ('B4.D5', 1.25),\n",
       "  ('A4.C5', 2),\n",
       "  ('G#4.B4', 1.25),\n",
       "  ('B-4.D5', 1.25),\n",
       "  ('A4.C5', 1.25),\n",
       "  ('G4.B-4', 1.25),\n",
       "  ('F4.G#4', 1.25),\n",
       "  ('F#4.A4', 1.25),\n",
       "  ('A4.C5', 1.25),\n",
       "  ('C5.E-5', 1.25),\n",
       "  ('E-5.G5', 1.25),\n",
       "  ('D5.F#5', 1.25),\n",
       "  ('A5.F#5', 1.25),\n",
       "  ('D5.F#5', 1.25),\n",
       "  ('C5.E-5', 1.25),\n",
       "  ('G4.A4', 1.25),\n",
       "  ('F#4.D5', 1.25),\n",
       "  ('A4.C5', 1.25),\n",
       "  ('G4.B-4', 2),\n",
       "  ('C6.G5.E-5', 1.25),\n",
       "  ('E-4.G4', 1.25),\n",
       "  ('E-5.G5.G4.B-4', 2),\n",
       "  ('C6.G5.E-5', 1.25),\n",
       "  ('E-4.G4', 1.25),\n",
       "  ('B-4.D5.B-5.G5', 2),\n",
       "  ('B-4.D5', 1.25),\n",
       "  ('A4.C5', 1.25),\n",
       "  ('C5.E-5', 1.25),\n",
       "  ('F5.A5', 1.25),\n",
       "  ('D5.F5', 1.25),\n",
       "  ('B-4.D5', 1.25),\n",
       "  ('G4.B-4', 0.3),\n",
       "  ('E-5.G5', 0.3),\n",
       "  ('C5.E-5', 0.3),\n",
       "  ('A4.C5', 0.3),\n",
       "  ('F#4.A4', 0.3),\n",
       "  ('D5.F5', 0.3),\n",
       "  ('B-4.D5', 0.3),\n",
       "  ('G4.B-4', 0.3),\n",
       "  ('C4.F#4', 1.25),\n",
       "  ('D4.F4.G#4', 2),\n",
       "  ('C5.D5', 0.3),\n",
       "  ('G4.E-4.A3', 2),\n",
       "  ('G4.B-4', 1.25),\n",
       "  ('F#4.B-4', 2),\n",
       "  ('C#4.D4', 0.3),\n",
       "  ('G2.D3.B-3', 1.25),\n",
       "  ('G4.D5.G5', 0.3),\n",
       "  ('G4.D5.G5', 0.3),\n",
       "  ('G5.A5', 0.3),\n",
       "  ('G5.F#5', 0.3),\n",
       "  ('D5.A5', 0.3),\n",
       "  ('C4.E-4', 2),\n",
       "  ('D5.E-5', 0.3),\n",
       "  ('C4.E-4', 2),\n",
       "  ('C#4.A4.F#4', 1.25),\n",
       "  ('D4.B-4', 1.25),\n",
       "  ('F4.B-4.D5', 1.25),\n",
       "  ('B-5.C6', 0.3),\n",
       "  ('B-5.A5', 0.3),\n",
       "  ('F5.C6', 0.3),\n",
       "  ('D4.F3', 2),\n",
       "  ('D5.E-5', 0.3),\n",
       "  ('E-4.B3.F#3', 2),\n",
       "  ('G#4.B-4', 1.25),\n",
       "  ('E-4.F4', 0.3),\n",
       "  ('F#4.B-4', 2),\n",
       "  ('G#4.D4', 2),\n",
       "  ('B-4.F#5', 0.3),\n",
       "  ('F5.F#5', 0.3),\n",
       "  ('F#4.B-3', 2),\n",
       "  ('G#4.B-4', 1.25),\n",
       "  ('E-4.F4', 0.3),\n",
       "  ('F#4.B-4', 2),\n",
       "  ('D4.B-3', 2),\n",
       "  ('G4.E-4.C4', 2),\n",
       "  ('C5.D5', 0.3),\n",
       "  ('G4.B-4', 1.25),\n",
       "  ('F#4.B-4', 2),\n",
       "  ('C#4.D4', 0.3),\n",
       "  ('G2.D3.B-3', 1.25),\n",
       "  ('G4.D5.G5', 0.3),\n",
       "  ('G4.D5.G5', 0.3),\n",
       "  ('G5.A5', 0.3),\n",
       "  ('G5.F#5', 0.3),\n",
       "  ('D5.A5', 0.3),\n",
       "  ('G#5.F6.D6', 0.3),\n",
       "  ('E6.C6.G5', 0.3),\n",
       "  ('F#5.C6.E-6', 0.3),\n",
       "  ('D6.G5', 0.3),\n",
       "  ('C6.A5.D5', 0.3),\n",
       "  ('D5.G5.B-5', 1.25),\n",
       "  ('B4.G#5', 1.25),\n",
       "  ('B-5.G5.E-5', 1.25),\n",
       "  ('B-4.D5.B-5.G5', 2),\n",
       "  ('B-4.D5', 1.25),\n",
       "  ('A4.C5', 0.3),\n",
       "  ('C5.E-5', 0.3),\n",
       "  ('F5.A5', 1.25),\n",
       "  ('D5.F5', 0.3),\n",
       "  ('B-4.D5', 0.3),\n",
       "  ('G4.B-4', 0.3),\n",
       "  ('E-5.G5', 0.3),\n",
       "  ('C5.E-5', 0.3),\n",
       "  ('A4.C5', 0.3),\n",
       "  ('F#4.A4', 0.3),\n",
       "  ('D5.F5', 0.3),\n",
       "  ('B-4.D5', 1.25),\n",
       "  ('G4.B-4', 1.25),\n",
       "  ('C4.F#4', 1.25),\n",
       "  ('B3.D4.G4.B4', 2),\n",
       "  ('E-3.F3', 0.3),\n",
       "  ('G2.E-3', 2),\n",
       "  ('D4.G4.B4.D5', 2),\n",
       "  ('E-3.F3', 0.3),\n",
       "  ('G2.E-3', 2),\n",
       "  ('D5.G5.B5', 2),\n",
       "  ('E-3.F3', 0.3),\n",
       "  ('G4.D5.G5', 2),\n",
       "  ('D5.G5.B5', 2),\n",
       "  ('G2.D3.G3', 2),\n",
       "  ('D5.G5.B5', 2),\n",
       "  ('G6.B5.D6.B6', 2),\n",
       "  ('B3.D4.G4.B4', 2)]]"
      ]
     },
     "execution_count": 24,
     "metadata": {},
     "output_type": "execute_result"
    }
   ],
   "source": [
    "chords_and_duration_data_all_music"
   ]
  },
  {
   "cell_type": "code",
   "execution_count": 25,
   "metadata": {},
   "outputs": [],
   "source": [
    "main_dataset = chords_and_duration_data_all_music"
   ]
  },
  {
   "cell_type": "markdown",
   "metadata": {},
   "source": [
    "* Data preparation stage"
   ]
  },
  {
   "cell_type": "code",
   "execution_count": 51,
   "metadata": {},
   "outputs": [],
   "source": [
    "no_of_timesteps = 32\n",
    "x = []\n",
    "y = []\n",
    "## CD stands for chord and duration.\n",
    "\n",
    "for each_music_with_CD in main_dataset:\n",
    "    for each_CD in range(0, len(each_music_with_CD) - no_of_timesteps,  1):\n",
    "        \n",
    "        ## preparing input and output sequences:\n",
    "        input_ = each_music_with_CD[each_CD:each_CD + no_of_timesteps]\n",
    "        output = each_music_with_CD[each_CD + no_of_timesteps]\n",
    "        \n",
    "        for i in range(len(input_)):\n",
    "            input_[i]= \"@\".join(map(str,input_[i]))\n",
    "            \n",
    "        output = \"@\".join(map(str,output))\n",
    "        \n",
    "        x.append(input_)\n",
    "        y.append(output)\n",
    "        \n",
    "x=np.array(x)\n",
    "y=np.array(y)"
   ]
  },
  {
   "cell_type": "code",
   "execution_count": 52,
   "metadata": {},
   "outputs": [
    {
     "data": {
      "text/plain": [
       "array(['G4.D4@1.25', 'B2.F3@1.25', 'D5.D4.F#4@2', 'G#4.F#5@1.25',\n",
       "       'A4.F#5@1.25', 'G4.C#5@1.25', 'A4.E4@1.25', 'C#4.F#4@1.25',\n",
       "       'A4.D4@1.25', 'B2.F3@1.25', 'G#4.D4@1.25', 'C#4.A4@1.25',\n",
       "       'A3.C#4@0.3', 'A3.D4@1.25', 'F#4.F#4@0.3', 'D4.A3.F#4.A4@2',\n",
       "       'F#4.D5@0.3', 'C#5.E5@0.3', 'F4.B4@1.25', 'C#4.G4@2', 'E4.G4@0.3',\n",
       "       'F#4.B-4@0.3', 'G4.B4@1.25', 'B-4.C#5@0.3', 'E5.C#5@1.25',\n",
       "       'D5.G4.E4@1.25', 'E4.F#4.B-4@1.25', 'F#4.B-4@0.3', 'F#4.C#5@1.25',\n",
       "       'B-3.F#4@1.25', 'F4.C#5@1.25', 'F#4.D5@1.25', 'G4.B4@2',\n",
       "       'F#4.B4@2', 'F#3.A3@0.3', 'G4.B4@2', 'F#4.B4@2', 'F#3.A3@0.3',\n",
       "       'D4.F#4@2', 'F#4.C#4@2', 'C#3.F3@0.3', 'B-4.C#5@0.3', 'C#4.F4@0.3',\n",
       "       'C#4.F#4.B-4@2', 'E-5.F5@0.3', 'E-4.F4.E-4@0.3', 'B-4.F#4@1.25',\n",
       "       'C#5.F5@0.3', 'E-5.F5@0.3', 'F#4.C#4.B-4@1.25', 'D4.F#4@1.25',\n",
       "       'D3.C4@1.25', 'C#3.B3@1.25', 'C#4.F#4@1.25', 'F#3.B-3@1.25',\n",
       "       'C4.E-4@1.25', 'B2.A3@1.25', 'A2.G3@1.25', 'A3.D4@1.25',\n",
       "       'F#4.F#4@0.3', 'F#4.A3.D4.A4@2', 'F#4.D5@0.3', 'C#5.E5@0.3',\n",
       "       'B4.F4@0.3', 'C#4.G4@2', 'E4.G4@0.3', 'F#4.A4@0.3', 'G4.B4@1.25',\n",
       "       'A4.C#5@0.3', 'C#5.E5@1.25', 'B4.D5@1.25', 'D5.B4.C#5.E5@0.3',\n",
       "       'B4.D5@0.3', 'A4.C#5@1.25', 'C#5.E5@0.3', 'G4.B4@0.3',\n",
       "       'D5.B4@1.25', 'F#4.A4@0.3', 'A4.C#5@0.3', 'E4.G4@0.3',\n",
       "       'F4.B4@1.25', 'F#4.A4@1.25', 'D4.D5@1.25', 'A4.B-4.A4@0.3',\n",
       "       'F#4.A4@0.3', 'C4.E-4@2', 'B2.A3@2', 'D4.F#4.A4@1.25',\n",
       "       'D4.F#4.A4@1.25', 'F#3.A3.F#4.D4@2', 'D2.A2.D3@2', 'D6.A5.D5@2',\n",
       "       'D4.A4.F#5@2', 'E5.A5@0.3', 'E5.F#5@0.3', 'E5.C5@0.3',\n",
       "       'E5.F#5@0.3', 'E5.C5@0.3', 'G4.A4@0.3', 'E5.F#5@0.3', 'E5.C5@0.3',\n",
       "       'E5.F#5@0.3', 'E5.C5@0.3', 'F#4.E4@0.3', 'C4.F#4@2',\n",
       "       'E-6.B6.F#7@0.3', 'E-6.B6.F#7@0.3', 'E5.F#5@0.3', 'E5.C5@0.3',\n",
       "       'E5.F#5@0.3', 'E5.C5@0.3', 'C6.D6@0.3', 'C6.A5@0.3', 'C6.D6@0.3',\n",
       "       'C6.A5@0.3', 'F5.G#5@1.25', 'A5.E5@1.25', 'E-5.F#5@1.25',\n",
       "       'D5.G5@1.25', 'C5.D5@1.25', 'B4.D5@0.3', 'E5.A5@0.3', 'G6.A6@0.3',\n",
       "       'G4.A4@0.3', 'G6.F#6@0.3', 'G4.F#4@0.3', 'E-5.B5.B4@0.3',\n",
       "       'E-5.B5.B4@0.3', 'E-5.B5.B4@0.3', 'E5.A5.C5@0.3', 'E5.A5.C5@0.3',\n",
       "       'E5.A5.C5@0.3', 'E-5.B5.B4@0.3', 'B5.E-5.B4@0.3', 'B5.E-5.B4@0.3',\n",
       "       'A5.E5.C5@0.3', 'E5.A5.C5@0.3', 'E5.A5.C5@0.3', 'E-5.B5.B4@0.3',\n",
       "       'B5.E-5.B4@0.3', 'E-5.B5.B4@0.3', 'B5.E-5.B4@0.3', 'B5.E-5.B4@0.3',\n",
       "       'E-5.B5.B4@0.3', 'E-5.B5.B4@0.3', 'E-5.B5.B4@0.3', 'B5.E-5.B4@0.3',\n",
       "       'E-5.B5.B4@0.3', 'B5.E-5.B4@0.3', 'E-5.B5.B4@0.3', 'E-7.F#6.E-6@2',\n",
       "       'B5.F#5.B4@2', 'D5.E5@0.3', 'E5.F#5@0.3', 'E5.D5@1.25',\n",
       "       'F#5.G5@0.3', 'F#5.E5@0.3', 'E5.F#5@0.3', 'E5.D5@0.3', 'C5.D5@0.3',\n",
       "       'C5.B4@0.3', 'A4.G4@0.3', 'F#4.G4@0.3', 'F#4.E4@0.3', 'D4.C4@0.3',\n",
       "       'D4.E-4.E4@0.3', 'F#4.A4.G4@0.3', 'F#4.E4.E-4@0.3', 'E4.C4@0.3',\n",
       "       'E4.C4@0.1', 'E5.F#5@0.3', 'E4.F#4@0.3', 'E5.C5@0.3', 'E4.C4@0.3',\n",
       "       'E5.F#5@0.3', 'E4.F#4@0.3', 'E5.C5@0.3', 'E4.C4@0.3', 'E5.F#5@0.3',\n",
       "       'E5.C5@0.3', 'E5.F#5@0.3', 'E5.C5@0.3', 'G4.A4@0.3', 'E5.F#5@0.3',\n",
       "       'E5.C5@0.3', 'E5.F#5@0.3', 'E5.C5@0.3', 'F#4.E4@0.3', 'C4.F#4@2',\n",
       "       'E-6.B6.F#7@0.3', 'E-6.B6.F#7@1.25', 'E5.F#5@0.3', 'E5.C5@0.3',\n",
       "       'E5.F#5@0.3', 'E5.C5@0.3', 'F#5.B5@1.25', 'F5.G#5@1.25',\n",
       "       'E5.A5@1.25', 'E-5.F#5@1.25', 'D5.G5@1.25', 'D5.C5@1.25',\n",
       "       'B4.D5@0.3', 'A5.E5@0.3', 'E5.F#5@0.3', 'E5.C5@0.3', 'E5.F#5@0.3',\n",
       "       'E5.C5@0.3', 'G4.A4@0.3', 'E5.F#5@0.3', 'E5.C5@0.3', 'E5.F#5@0.3',\n",
       "       'E5.C5@0.3', 'F#4.E4@0.3', 'C4.F#4@2', 'E-6.B6.F#7@0.3',\n",
       "       'E-6.B6.F#7@1.25', 'E5.F#5@0.3', 'E5.C5@0.3', 'E5.F#5@0.3',\n",
       "       'E5.C5@0.3', 'C6.D6@0.3', 'C6.A5@0.3', 'C6.D6@0.3', 'C6.A5@0.3',\n",
       "       'F5.G#5@1.25', 'A5.E5@1.25', 'E-5.F#5@1.25', 'D5.G5@1.25',\n",
       "       'D5.C5@1.25', 'D5.B4@0.3', 'A5.E5@0.3', 'G6.A6@0.3', 'G4.A4@0.3',\n",
       "       'G6.F#6@0.3', 'G4.F#4@0.3', 'E-5.B5.B4@0.3', 'B5.E-5.B4@0.3',\n",
       "       'E-5.B5.B4@0.3', 'E5.A5.C5@0.3', 'A5.E5.C5@0.3', 'E5.A5.C5@0.3',\n",
       "       'B5.E-5.B4@0.3', 'E-5.B5.B4@0.3', 'E-5.B5.B4@0.3', 'A5.E5.C5@0.3',\n",
       "       'A5.E5.C5@0.3', 'A5.E5.C5@0.3', 'E-5.B5.B4@0.3', 'E-5.B5.B4@0.3',\n",
       "       'E-5.B5.B4@0.3', 'E-5.B5.B4@0.3', 'B5.E-5.B4@0.3', 'E-5.B5.B4@0.3',\n",
       "       'B5.E-5.B4@0.3', 'B5.E-5.B4@0.3', 'E-5.B5.B4@0.3', 'E-5.B5.B4@0.3',\n",
       "       'B5.E-5.B4@0.3', 'B5.E-5.B4@0.3', 'F#6.E-6.E-7@2', 'B5.F#5.B4@2',\n",
       "       'C3.F#3@1.25', 'C4.E4@0.3', 'E-4.B4@1.25', 'B2.F#3@1.25',\n",
       "       'E-6.F#5.E-5@2', 'B3.F#4.B4@2', 'C#4.D4@0.3', 'G4.D5.G5@0.3',\n",
       "       'G2.D3.B-3@1.25', 'G4.D5.G5@0.3', 'G5.A5@0.3', 'G5.F#5@0.3',\n",
       "       'A5.D5@0.3', 'C4.E-4@2', 'D5.E-5@0.3', 'C4.E-4@2',\n",
       "       'C#4.A4.F#4@1.25', 'D4.B-4@1.25', 'B-4.F4.D5@1.25', 'B-5.C6@0.3',\n",
       "       'B-5.A5@0.3', 'C6.F5@0.3', 'D4.F3@2', 'D5.E-5@0.3', 'E-4.B3.F#3@2',\n",
       "       'G#4.B-4@1.25', 'E-4.F4@0.3', 'B-4.F#4@2', 'G#4.D4@2',\n",
       "       'F5.F#5@0.3', 'B-4.F#5@0.3', 'F#4.B-3@2', 'G#4.B-4@1.25',\n",
       "       'E-4.F4@0.3', 'F#4.B-4@2', 'D4.B-3@2', 'C5.D5@0.3', 'G4.E-4.C4@2',\n",
       "       'G4.B-4@1.25', 'B-4.F#4@2', 'C#4.D4@0.3', 'G4.D5.G5@0.3',\n",
       "       'G2.D3.B-3@1.25', 'G4.D5.G5@0.3', 'G5.A5@0.3', 'G5.F#5@0.3',\n",
       "       'D5.A5@0.3', 'G#5.F6.D6@0.3', 'C6.G5.E6@0.3', 'C6.F#5.E-6@0.3',\n",
       "       'D6.G5@0.3', 'C6.D5.A5@0.3', 'D5.B-5.G5@1.25', 'G#5.B4@1.25',\n",
       "       'B-5.E-5.G5@1.25', 'D5.B-4.G5.B-5@2', 'D5.B-4@1.25', 'C5.A4@0.3',\n",
       "       'E-5.C5@0.3', 'A5.F5@1.25', 'D5.F5@0.3', 'D5.B-4@0.3',\n",
       "       'G4.B-4@0.3', 'E-5.G5@0.3', 'C5.E-5@0.3', 'A4.C5@0.3',\n",
       "       'A4.F#4@0.3', 'F5.D5@0.3', 'D5.B-4@1.25', 'G4.B-4@1.25',\n",
       "       'F#4.C4@1.25', 'G2.D3@2', 'B3.D4@1.25', 'D2.D3@1.25', 'G#2.D3@2',\n",
       "       'B3.F4@1.25', 'D2.D3@1.25', 'A2.D3@2', 'C4.D4@1.25', 'D2.D3@1.25',\n",
       "       'F#2.D3@2', 'C4.D4@1.25', 'D2.D3@1.25', 'G2.D3@2', 'B3.D4@1.25',\n",
       "       'D2.D3@1.25', 'E4.D4@1.25', 'D4.E4.G#4@1.25', 'G2.D3@2',\n",
       "       'B3.D4@1.25', 'D2.D3@1.25', 'G#2.D3@2', 'B3.F4@1.25', 'D2.D3@1.25',\n",
       "       'A2.D3@2', 'C4.D4@1.25', 'D2.D3@1.25', 'F#2.D3@2', 'C4.D4@1.25',\n",
       "       'D2.D3@1.25', 'G2.D3@2', 'B3.D4@1.25', 'E4.E5@1.25', 'D4.B4@2',\n",
       "       'A4.C5@2', 'G#4.B4@1.25', 'B4.D5@1.25', 'A4.C5@1.25',\n",
       "       'G#4.B4@1.25', 'F4.G#4@1.25', 'F#4.A4@1.25', 'A4.C5@1.25',\n",
       "       'C5.E5@1.25', 'E5.G5@1.25', 'D5.F#5@1.25', 'A5.F#5@1.25',\n",
       "       'D5.F#5@1.25', 'C5.E5@1.25', 'A4.C5@1.25', 'G#4.B4@1.25',\n",
       "       'B4.D5@1.25', 'A4.C5@2', 'G#4.B4@1.25', 'B-4.D5@1.25',\n",
       "       'A4.C5@1.25', 'G4.B-4@1.25', 'F4.G#4@1.25', 'F#4.A4@1.25',\n",
       "       'A4.C5@1.25', 'C5.E-5@1.25', 'E-5.G5@1.25', 'D5.F#5@1.25',\n",
       "       'A5.F#5@1.25', 'D5.F#5@1.25', 'C5.E-5@1.25', 'G4.A4@1.25',\n",
       "       'F#4.D5@1.25', 'A4.C5@1.25', 'G4.B-4@2', 'C6.G5.E-5@1.25',\n",
       "       'E-4.G4@1.25', 'E-5.G5.G4.B-4@2', 'C6.G5.E-5@1.25', 'E-4.G4@1.25',\n",
       "       'B-4.D5.B-5.G5@2', 'B-4.D5@1.25', 'A4.C5@1.25', 'C5.E-5@1.25',\n",
       "       'F5.A5@1.25', 'D5.F5@1.25', 'B-4.D5@1.25', 'G4.B-4@0.3',\n",
       "       'E-5.G5@0.3', 'C5.E-5@0.3', 'A4.C5@0.3', 'F#4.A4@0.3', 'D5.F5@0.3',\n",
       "       'B-4.D5@0.3', 'G4.B-4@0.3', 'C4.F#4@1.25', 'D4.F4.G#4@2',\n",
       "       'C5.D5@0.3', 'G4.E-4.A3@2', 'G4.B-4@1.25', 'F#4.B-4@2',\n",
       "       'C#4.D4@0.3', 'G2.D3.B-3@1.25', 'G4.D5.G5@0.3', 'G4.D5.G5@0.3',\n",
       "       'G5.A5@0.3', 'G5.F#5@0.3', 'D5.A5@0.3', 'C4.E-4@2', 'D5.E-5@0.3',\n",
       "       'C4.E-4@2', 'C#4.A4.F#4@1.25', 'D4.B-4@1.25', 'F4.B-4.D5@1.25',\n",
       "       'B-5.C6@0.3', 'B-5.A5@0.3', 'F5.C6@0.3', 'D4.F3@2', 'D5.E-5@0.3',\n",
       "       'E-4.B3.F#3@2', 'G#4.B-4@1.25', 'E-4.F4@0.3', 'F#4.B-4@2',\n",
       "       'G#4.D4@2', 'B-4.F#5@0.3', 'F5.F#5@0.3', 'F#4.B-3@2',\n",
       "       'G#4.B-4@1.25', 'E-4.F4@0.3', 'F#4.B-4@2', 'D4.B-3@2',\n",
       "       'G4.E-4.C4@2', 'C5.D5@0.3', 'G4.B-4@1.25', 'F#4.B-4@2',\n",
       "       'C#4.D4@0.3', 'G2.D3.B-3@1.25', 'G4.D5.G5@0.3', 'G4.D5.G5@0.3',\n",
       "       'G5.A5@0.3', 'G5.F#5@0.3', 'D5.A5@0.3', 'G#5.F6.D6@0.3',\n",
       "       'E6.C6.G5@0.3', 'F#5.C6.E-6@0.3', 'D6.G5@0.3', 'C6.A5.D5@0.3',\n",
       "       'D5.G5.B-5@1.25', 'B4.G#5@1.25', 'B-5.G5.E-5@1.25',\n",
       "       'B-4.D5.B-5.G5@2', 'B-4.D5@1.25', 'A4.C5@0.3', 'C5.E-5@0.3',\n",
       "       'F5.A5@1.25', 'D5.F5@0.3', 'B-4.D5@0.3', 'G4.B-4@0.3',\n",
       "       'E-5.G5@0.3', 'C5.E-5@0.3', 'A4.C5@0.3', 'F#4.A4@0.3', 'D5.F5@0.3',\n",
       "       'B-4.D5@1.25', 'G4.B-4@1.25', 'C4.F#4@1.25', 'B3.D4.G4.B4@2',\n",
       "       'E-3.F3@0.3', 'G2.E-3@2', 'D4.G4.B4.D5@2', 'E-3.F3@0.3',\n",
       "       'G2.E-3@2', 'D5.G5.B5@2', 'E-3.F3@0.3', 'G4.D5.G5@2', 'D5.G5.B5@2',\n",
       "       'G2.D3.G3@2', 'D5.G5.B5@2', 'G6.B5.D6.B6@2', 'B3.D4.G4.B4@2'],\n",
       "      dtype='<U16')"
      ]
     },
     "execution_count": 52,
     "metadata": {},
     "output_type": "execute_result"
    }
   ],
   "source": [
    "y"
   ]
  },
  {
   "cell_type": "code",
   "execution_count": null,
   "metadata": {},
   "outputs": [],
   "source": []
  },
  {
   "cell_type": "code",
   "execution_count": 28,
   "metadata": {},
   "outputs": [
    {
     "data": {
      "text/plain": [
       "{'E5.A5@0.3': 0,\n",
       " 'G#4.D4@1.25': 1,\n",
       " 'C#4.A4.F#4@1.25': 2,\n",
       " 'B-4.F4.D5@1.25': 3,\n",
       " 'A3.D4.F#4.A4@2': 4,\n",
       " 'G4.B4@1.25': 5,\n",
       " 'B-4.C#5@0.3': 6,\n",
       " 'G#4.F#5@1.25': 7,\n",
       " 'G#4.D4@2': 8,\n",
       " 'E5.C#5@1.25': 9,\n",
       " 'C5.D5@1.25': 10,\n",
       " 'C#5.A4@1.25': 11,\n",
       " 'A1.A2@1.25': 12,\n",
       " 'C#5.E5@1.25': 13,\n",
       " 'E-4.B3.F#3@2': 14,\n",
       " 'D4.A3.F#4.A4@2': 15,\n",
       " 'F#4.B-4@2': 16,\n",
       " 'C#4.G4@2': 17,\n",
       " 'F#4.F#4@0.3': 18,\n",
       " 'A3.C#4@0.3': 19,\n",
       " 'D4.B-3@2': 20,\n",
       " 'G4.D5.G5@0.3': 21,\n",
       " 'D4.F3@2': 22,\n",
       " 'G2.D3.B-3@1.25': 23,\n",
       " 'A4.F#4@1.25': 24,\n",
       " 'F#4.B-3@2': 25,\n",
       " 'G4.D4@1.25': 26,\n",
       " 'D4.B-4@1.25': 27,\n",
       " 'G4.B4@0.3': 28,\n",
       " 'B-3.F#4@1.25': 29,\n",
       " 'B4.D5@0.3': 30,\n",
       " 'B-4.F#5@0.3': 31,\n",
       " 'G4.A4@0.3': 32,\n",
       " 'D5.D4.F#4@2': 33,\n",
       " 'C#5.E5@0.3': 34,\n",
       " 'A4.E4@1.25': 35,\n",
       " 'B2.F#3@1.25': 36,\n",
       " 'G#4.B-4@1.25': 37,\n",
       " 'C#4.D4@0.3': 38,\n",
       " 'B-4.F#4@2': 39,\n",
       " 'E-6.B6.F#7@0.3': 40,\n",
       " 'A3.D4@1.25': 41,\n",
       " 'C5.D5@0.3': 42,\n",
       " 'F#4.D5@0.3': 43,\n",
       " 'C#5.A4@0.3': 44,\n",
       " 'C6.A5@0.3': 45,\n",
       " 'E-4.F4@0.3': 46,\n",
       " 'F4.B4@1.25': 47,\n",
       " 'F4.C#5@1.25': 48,\n",
       " 'C4.F#4@2': 49,\n",
       " 'B4.D5.C#5.E5@0.3': 50,\n",
       " 'D4.D5@1.25': 51,\n",
       " 'F#4.A4@0.3': 52,\n",
       " 'C4.E-4@2': 53,\n",
       " 'C6.D6@0.3': 54,\n",
       " 'A4.F#5@1.25': 55,\n",
       " 'A5.D5@0.3': 56,\n",
       " 'E4.G4@0.3': 57,\n",
       " 'C#4.A4@1.25': 58,\n",
       " 'F#4.E4@0.3': 59,\n",
       " 'E5.C5@0.3': 60,\n",
       " 'D5.E-5@0.3': 61,\n",
       " 'B-5.C6@0.3': 62,\n",
       " 'E4.F#4.B-4@1.25': 63,\n",
       " 'A4.D4@1.25': 64,\n",
       " 'G5.F#5@0.3': 65,\n",
       " 'D5.G4.E4@1.25': 66,\n",
       " 'B2.F3@1.25': 67,\n",
       " 'G4.C#5@1.25': 68,\n",
       " 'C6.F5@0.3': 69,\n",
       " 'A4.C#5@0.3': 70,\n",
       " 'E5.F#5@0.3': 71,\n",
       " 'A5.E5@1.25': 72,\n",
       " 'G5.A5@0.3': 73,\n",
       " 'D5.G5@1.25': 74,\n",
       " 'G6.A6@0.3': 75,\n",
       " 'E-5.F#5@1.25': 76,\n",
       " 'F5.F#5@0.3': 77,\n",
       " 'B-5.A5@0.3': 78,\n",
       " 'F#4.C#5@1.25': 79,\n",
       " 'D4.F#4.A4@1.25': 80,\n",
       " 'B4.D5@1.25': 81,\n",
       " 'C#4.F#4@1.25': 82,\n",
       " 'F#4.B-4@0.3': 83,\n",
       " 'F5.G#5@1.25': 84}"
      ]
     },
     "execution_count": 28,
     "metadata": {},
     "output_type": "execute_result"
    }
   ],
   "source": [
    "#assigning unique integer to every chords_and_duration\n",
    "\n",
    "unique_x_CD = list(set(x.ravel()))\n",
    "unique_x_CD_to_int = dict((chord_and_duration, number) for number, chord_and_duration in enumerate(unique_x_CD))\n",
    "unique_x_CD_to_int"
   ]
  },
  {
   "cell_type": "code",
   "execution_count": 29,
   "metadata": {},
   "outputs": [
    {
     "data": {
      "text/plain": [
       "(505, 32)"
      ]
     },
     "execution_count": 29,
     "metadata": {},
     "output_type": "execute_result"
    }
   ],
   "source": [
    "#preparing input sequences::\n",
    "\n",
    "x_seq=[]\n",
    "for each_row in x:\n",
    "    temp=[]\n",
    "    for each_piece in each_row:\n",
    "        #assigning unique integer to every note\n",
    "        temp.append(unique_x_CD_to_int[each_piece])\n",
    "    x_seq.append(temp)\n",
    "    \n",
    "x_seq = np.array(x_seq)\n",
    "x_seq.shape"
   ]
  },
  {
   "cell_type": "code",
   "execution_count": 30,
   "metadata": {
    "scrolled": true
   },
   "outputs": [
    {
     "data": {
      "text/plain": [
       "{'G6.F#6@0.3': 0, 'F#4.D5@1.25': 1, 'G4.E-4.C4@2': 2, 'A4.F#5@1.25': 3}"
      ]
     },
     "execution_count": 30,
     "metadata": {},
     "output_type": "execute_result"
    }
   ],
   "source": [
    "# preparing th output sequences as well::\n",
    "\n",
    "unique_y_CD = list(set(y))\n",
    "unique_y_CD_to_int = dict((chord_and_duration, number) for number, chord_and_duration in enumerate(unique_y_CD)) \n",
    "unique_y_CD_to_int"
   ]
  },
  {
   "cell_type": "code",
   "execution_count": 31,
   "metadata": {},
   "outputs": [
    {
     "data": {
      "text/plain": [
       "(505,)"
      ]
     },
     "execution_count": 31,
     "metadata": {},
     "output_type": "execute_result"
    }
   ],
   "source": [
    "y_seq=np.array([unique_y_CD_to_int[i] for i in y])\n",
    "y_seq.shape"
   ]
  },
  {
   "cell_type": "code",
   "execution_count": 32,
   "metadata": {},
   "outputs": [],
   "source": [
    "# preserving 80% of the data for training and the rest 20% for the evaluation:\n",
    "\n",
    "from sklearn.model_selection import train_test_split\n",
    "x_train, x_val, y_train, y_val = train_test_split(x_seq,y_seq,test_size=0.2,random_state=0)"
   ]
  },
  {
   "cell_type": "code",
   "execution_count": 33,
   "metadata": {},
   "outputs": [
    {
     "data": {
      "text/plain": [
       "101"
      ]
     },
     "execution_count": 33,
     "metadata": {},
     "output_type": "execute_result"
    }
   ],
   "source": [
    "len(x_val)"
   ]
  },
  {
   "cell_type": "code",
   "execution_count": null,
   "metadata": {},
   "outputs": [],
   "source": []
  },
  {
   "cell_type": "markdown",
   "metadata": {},
   "source": [
    "# model building phase:"
   ]
  },
  {
   "cell_type": "code",
   "execution_count": 34,
   "metadata": {},
   "outputs": [],
   "source": [
    "import tensorflow as tf\n",
    "from tensorflow import keras"
   ]
  },
  {
   "cell_type": "code",
   "execution_count": 35,
   "metadata": {},
   "outputs": [
    {
     "data": {
      "text/plain": [
       "[PhysicalDevice(name='/physical_device:CPU:0', device_type='CPU')]"
      ]
     },
     "execution_count": 35,
     "metadata": {},
     "output_type": "execute_result"
    }
   ],
   "source": [
    "tf.config.experimental.list_physical_devices()"
   ]
  },
  {
   "cell_type": "code",
   "execution_count": null,
   "metadata": {},
   "outputs": [],
   "source": []
  },
  {
   "cell_type": "code",
   "execution_count": 36,
   "metadata": {},
   "outputs": [
    {
     "name": "stdout",
     "output_type": "stream",
     "text": [
      "Model: \"sequential\"\n",
      "_________________________________________________________________\n",
      " Layer (type)                Output Shape              Param #   \n",
      "=================================================================\n",
      " embedding (Embedding)       (None, 32, 100)           8500      \n",
      "                                                                 \n",
      " conv1d (Conv1D)             (None, 32, 64)            19264     \n",
      "                                                                 \n",
      " dropout (Dropout)           (None, 32, 64)            0         \n",
      "                                                                 \n",
      " max_pooling1d (MaxPooling1D  (None, 16, 64)           0         \n",
      " )                                                               \n",
      "                                                                 \n",
      " conv1d_1 (Conv1D)           (None, 16, 128)           24704     \n",
      "                                                                 \n",
      " dropout_1 (Dropout)         (None, 16, 128)           0         \n",
      "                                                                 \n",
      " max_pooling1d_1 (MaxPooling  (None, 8, 128)           0         \n",
      " 1D)                                                             \n",
      "                                                                 \n",
      " conv1d_2 (Conv1D)           (None, 8, 256)            98560     \n",
      "                                                                 \n",
      " dropout_2 (Dropout)         (None, 8, 256)            0         \n",
      "                                                                 \n",
      " max_pooling1d_2 (MaxPooling  (None, 4, 256)           0         \n",
      " 1D)                                                             \n",
      "                                                                 \n",
      " global_max_pooling1d (Globa  (None, 256)              0         \n",
      " lMaxPooling1D)                                                  \n",
      "                                                                 \n",
      " dense (Dense)               (None, 256)               65792     \n",
      "                                                                 \n",
      " dense_1 (Dense)             (None, 4)                 1028      \n",
      "                                                                 \n",
      "=================================================================\n",
      "Total params: 217,848\n",
      "Trainable params: 217,848\n",
      "Non-trainable params: 0\n",
      "_________________________________________________________________\n"
     ]
    }
   ],
   "source": [
    "from keras.layers import *\n",
    "from keras.models import *\n",
    "from keras.callbacks import *\n",
    "import keras.backend as K\n",
    "\n",
    "K.clear_session()\n",
    "model = Sequential()\n",
    "    \n",
    "#embedding layer\n",
    "model.add(Embedding(len(unique_x_CD), 100, input_length=32,trainable=True)) \n",
    "\n",
    "model.add(Conv1D(64,3, padding='causal',activation='relu'))\n",
    "model.add(Dropout(0.2))\n",
    "model.add(MaxPool1D(2))\n",
    "    \n",
    "model.add(Conv1D(128,3,activation='relu',dilation_rate=2,padding='causal'))\n",
    "model.add(Dropout(0.2))\n",
    "model.add(MaxPool1D(2))\n",
    "\n",
    "model.add(Conv1D(256,3,activation='relu',dilation_rate=4,padding='causal'))\n",
    "model.add(Dropout(0.2))\n",
    "model.add(MaxPool1D(2))\n",
    "          \n",
    "#model.add(Conv1D(256,5,activation='relu'))    \n",
    "model.add(GlobalMaxPool1D())\n",
    "    \n",
    "model.add(Dense(256, activation='relu'))\n",
    "model.add(Dense(len(unique_y_CD), activation='softmax'))\n",
    "    \n",
    "model.compile(loss='sparse_categorical_crossentropy', optimizer='adam')\n",
    "\n",
    "model.summary()"
   ]
  },
  {
   "cell_type": "code",
   "execution_count": 46,
   "metadata": {},
   "outputs": [],
   "source": [
    "def lstm():\n",
    "    K.clear_session()\n",
    "    model = Sequential()\n",
    "    #embedding layer\n",
    "    model.add(Embedding(len(unique_x_CD), 100, input_length=32,trainable=True)) \n",
    "    model.add(LSTM(128,return_sequences=True))\n",
    "    model.add(Dropout(0.2))\n",
    "    model.add(LSTM(128))\n",
    "    model.add(Dropout(0.2))\n",
    "    model.add(Dense(256))\n",
    "    model.add(Activation('relu'))\n",
    "\n",
    "    model.add(Dense(len(unique_y_CD), activation='softmax'))\n",
    "    model.compile(loss='sparse_categorical_crossentropy', optimizer='adam')\n",
    "    return model"
   ]
  },
  {
   "cell_type": "code",
   "execution_count": 47,
   "metadata": {},
   "outputs": [
    {
     "name": "stdout",
     "output_type": "stream",
     "text": [
      "Model: \"sequential\"\n",
      "_________________________________________________________________\n",
      " Layer (type)                Output Shape              Param #   \n",
      "=================================================================\n",
      " embedding (Embedding)       (None, 32, 100)           8500      \n",
      "                                                                 \n",
      " lstm (LSTM)                 (None, 32, 128)           117248    \n",
      "                                                                 \n",
      " dropout (Dropout)           (None, 32, 128)           0         \n",
      "                                                                 \n",
      " lstm_1 (LSTM)               (None, 128)               131584    \n",
      "                                                                 \n",
      " dropout_1 (Dropout)         (None, 128)               0         \n",
      "                                                                 \n",
      " dense (Dense)               (None, 256)               33024     \n",
      "                                                                 \n",
      " activation (Activation)     (None, 256)               0         \n",
      "                                                                 \n",
      " dense_1 (Dense)             (None, 4)                 1028      \n",
      "                                                                 \n",
      "=================================================================\n",
      "Total params: 291,384\n",
      "Trainable params: 291,384\n",
      "Non-trainable params: 0\n",
      "_________________________________________________________________\n"
     ]
    }
   ],
   "source": [
    "model = lstm()\n",
    "model.summary()"
   ]
  },
  {
   "cell_type": "code",
   "execution_count": 49,
   "metadata": {},
   "outputs": [
    {
     "data": {
      "image/png": "[encoded data removed]",
      "text/plain": [
       "<IPython.core.display.Image object>"
      ]
     },
     "execution_count": 49,
     "metadata": {},
     "output_type": "execute_result"
    }
   ],
   "source": [
    "keras.utils.plot_model(model, \"my_first_model.png\", show_shapes =True, show_layer_names = True)"
   ]
  },
  {
   "cell_type": "code",
   "execution_count": null,
   "metadata": {},
   "outputs": [],
   "source": [
    "!pip install h5py"
   ]
  },
  {
   "cell_type": "code",
   "execution_count": null,
   "metadata": {},
   "outputs": [],
   "source": [
    "import h5py"
   ]
  },
  {
   "cell_type": "code",
   "execution_count": null,
   "metadata": {},
   "outputs": [],
   "source": [
    "#defining call back to save the best model during training>\n",
    "mc=ModelCheckpoint('best_model.h5', monitor='val_loss', mode='min', save_best_only=True,verbose=1)"
   ]
  },
  {
   "cell_type": "code",
   "execution_count": null,
   "metadata": {},
   "outputs": [],
   "source": [
    "#actual training\n",
    "history = model.fit(np.array(x_train),np.array(y_train),batch_size=128,epochs=10, \n",
    "                   validation_data=(np.array(x_val),np.array(y_val)),verbose=1, callbacks=[mc])"
   ]
  },
  {
   "cell_type": "code",
   "execution_count": null,
   "metadata": {},
   "outputs": [],
   "source": []
  },
  {
   "cell_type": "code",
   "execution_count": null,
   "metadata": {},
   "outputs": [],
   "source": []
  },
  {
   "cell_type": "code",
   "execution_count": null,
   "metadata": {},
   "outputs": [],
   "source": [
    "#loading best model (Previously trained modle)\n",
    "from keras.models import load_model\n",
    "model = load_model('best_model.h5')\n"
   ]
  },
  {
   "cell_type": "code",
   "execution_count": null,
   "metadata": {},
   "outputs": [],
   "source": [
    "import numpy as np\n",
    "import random\n",
    "ind = np.random.randint(0,len(x_val)-1)\n",
    "random_music = x_val[ind]\n",
    "random_music"
   ]
  },
  {
   "cell_type": "code",
   "execution_count": null,
   "metadata": {},
   "outputs": [],
   "source": []
  },
  {
   "cell_type": "code",
   "execution_count": null,
   "metadata": {},
   "outputs": [],
   "source": []
  },
  {
   "cell_type": "code",
   "execution_count": null,
   "metadata": {},
   "outputs": [],
   "source": []
  },
  {
   "cell_type": "code",
   "execution_count": null,
   "metadata": {},
   "outputs": [],
   "source": []
  },
  {
   "cell_type": "code",
   "execution_count": null,
   "metadata": {},
   "outputs": [],
   "source": [
    "predictions=[]\n",
    "for i in range(10):\n",
    "\n",
    "    random_music = random_music.reshape(1,no_of_timesteps)\n",
    "    print(\"random music = \", random_music)\n",
    "    \n",
    "\n",
    "    prob  = model.predict(random_music)[0]\n",
    "    y_pred= np.argmax(prob,axis=0)\n",
    "    predictions.append(y_pred)\n",
    "\n",
    "    random_music = np.insert(random_music[0],len(random_music[0]),y_pred)\n",
    "    random_music = random_music[1:]\n",
    "    \n",
    "print(predictions)"
   ]
  },
  {
   "cell_type": "code",
   "execution_count": null,
   "metadata": {},
   "outputs": [],
   "source": [
    "#intergers back to notes\n",
    "unique_x_int_to_CD = dict((number, note_) for number, note_ in enumerate(unique_x_CD)) \n",
    "unique_x_int_to_CD"
   ]
  },
  {
   "cell_type": "code",
   "execution_count": null,
   "metadata": {},
   "outputs": [],
   "source": [
    "predicted_CD = [unique_x_int_to_CD[i] for i in predictions]\n",
    "predicted_CD"
   ]
  },
  {
   "cell_type": "code",
   "execution_count": null,
   "metadata": {},
   "outputs": [],
   "source": [
    "predicted_CD_split = []\n",
    "for each_outcome in predicted_CD:\n",
    "    temp_list = []\n",
    "    temp_list = each_outcome.split(\"@\")\n",
    "    temp_list[1] =float(temp_list[1])\n",
    "    predicted_CD_split.append(tuple(temp_list))\n",
    "    \n",
    "\n",
    "predicted_CD_split"
   ]
  },
  {
   "cell_type": "code",
   "execution_count": null,
   "metadata": {},
   "outputs": [],
   "source": []
  },
  {
   "cell_type": "code",
   "execution_count": null,
   "metadata": {},
   "outputs": [],
   "source": [
    "print(\"Generating music from our processed chords...\")\n",
    "proccessed_chords_to_midi_sample = get_music_midi_from_chords_and_duration(predicted_CD_split)\n",
    "print(proccessed_chords_to_midi_sample)\n",
    "play_midi_file(proccessed_chords_to_midi_sample)"
   ]
  },
  {
   "cell_type": "code",
   "execution_count": null,
   "metadata": {},
   "outputs": [],
   "source": []
  },
  {
   "cell_type": "code",
   "execution_count": null,
   "metadata": {},
   "outputs": [],
   "source": []
  },
  {
   "cell_type": "code",
   "execution_count": null,
   "metadata": {},
   "outputs": [],
   "source": []
  },
  {
   "cell_type": "code",
   "execution_count": null,
   "metadata": {},
   "outputs": [],
   "source": []
  },
  {
   "cell_type": "code",
   "execution_count": null,
   "metadata": {},
   "outputs": [],
   "source": []
  },
  {
   "cell_type": "code",
   "execution_count": null,
   "metadata": {},
   "outputs": [],
   "source": []
  },
  {
   "cell_type": "code",
   "execution_count": null,
   "metadata": {},
   "outputs": [],
   "source": []
  }
 ],
 "metadata": {
  "kernelspec": {
   "display_name": "Python 3 (ipykernel)",
   "language": "python",
   "name": "python3"
  },
  "language_info": {
   "codemirror_mode": {
    "name": "ipython",
    "version": 3
   },
   "file_extension": ".py",
   "mimetype": "text/x-python",
   "name": "python",
   "nbconvert_exporter": "python",
   "pygments_lexer": "ipython3",
   "version": "3.9.7"
  },
  "vscode": {
   "interpreter": {
    "hash": "a50afa644c776f7a2a60a52e60e30bd38a1de8f1520052de409d0e9c4f2415b8"
   }
  }
 },
 "nbformat": 4,
 "nbformat_minor": 2
}
